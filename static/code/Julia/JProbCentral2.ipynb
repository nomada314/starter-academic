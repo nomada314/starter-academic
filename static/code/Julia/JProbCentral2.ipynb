{
 "cells": [
  {
   "cell_type": "code",
   "execution_count": null,
   "metadata": {},
   "outputs": [],
   "source": [
    "using InvertedIndices, SparseArrays"
   ]
  },
  {
   "cell_type": "markdown",
   "metadata": {},
   "source": [
    "#### Función para calcular la distancia euclidiana entre un punto y varios puntos en $\\mathbb{R}^p$, verificando la dimensión con la macro `@assert`"
   ]
  },
  {
   "cell_type": "code",
   "execution_count": null,
   "metadata": {},
   "outputs": [],
   "source": [
    "function distanciaEuc(x::Array, y::Array)\n",
    "    @assert size(x, 2) == size(y, 2) \"Las dimensiones no coinciden\"\n",
    "    return .√(sum((x.-y).^2, dims = 2))\n",
    "end"
   ]
  },
  {
   "cell_type": "markdown",
   "metadata": {},
   "source": [
    "#### Función para generar puntos en un círculo alrededor del origen"
   ]
  },
  {
   "cell_type": "code",
   "execution_count": null,
   "metadata": {},
   "outputs": [],
   "source": [
    "function puntosAzar(n::Int64; d = \"unif\", μ = 0.0, σ = 10.0)\n",
    "    θ = 2π*rand(n)          # \\'Angulos aleatorios\n",
    "    if d == \"unif\"\n",
    "        r = σ*rand(n) .- μ  # Radios aleatorios\n",
    "    else\n",
    "        r = μ .+ σ*randn(n)    \n",
    "    end\n",
    "    xy = hcat(r.*cos.(θ),r.*sin.(θ))\n",
    "    return xy\n",
    "end"
   ]
  },
  {
   "cell_type": "markdown",
   "metadata": {},
   "source": [
    "#### Definición del tipo `Neurona`"
   ]
  },
  {
   "cell_type": "code",
   "execution_count": null,
   "metadata": {},
   "outputs": [],
   "source": [
    "using SparseArrays\n",
    "struct Neurona\n",
    "    n::Int64                               # N\\'umero de puntos en P\n",
    "    A::SparseMatrixCSC{Bool}               # Matriz de adyacencia\n",
    "    p::Matrix{Real}                        # Posiciones\n",
    "    Neurona(n,A,p) = n < 1 ? error(\"Se necesita al menos un nodo\") : new(n, A, p)\n",
    "    Neurona(n,A,p) = size(A) != (n,n) ? error(\"Se requiere una matriz de dimension \"*string(n)*\" x \"*string(n)) : new(n,A,p)\n",
    "    Neurona(n,A,p) = size(p) != (n,2) ? error(\"Se requiere una matriz de dimension \"*string(n)*\"x 2\") : new(n,A,p)\n",
    "end"
   ]
  },
  {
   "cell_type": "code",
   "execution_count": null,
   "metadata": {},
   "outputs": [],
   "source": [
    "function crearNeurona(n::Int64; b = 0.5, d₀ = \"unif\", μ₀ = 0, σ₀ = 10)\n",
    "    p = puntosAzar(n, d = d₀, μ = μ₀, σ = σ₀)\n",
    "    r = adyacencia(p, b)\n",
    "    return r\n",
    "end"
   ]
  },
  {
   "cell_type": "code",
   "execution_count": null,
   "metadata": {},
   "outputs": [],
   "source": [
    "function crearNeurona(p::Matrix; b = 0.5)\n",
    "    r = adyacencia(p, b)\n",
    "    return r\n",
    "end"
   ]
  },
  {
   "cell_type": "code",
   "execution_count": null,
   "metadata": {},
   "outputs": [],
   "source": [
    "function adyacencia(p::Matrix, b::Float64)\n",
    "    n = size(p,1)\n",
    "    A = spzeros(n+1,n+1)\n",
    "    d0 = distanciaEuc([0 0],p)\n",
    "    dist = (1+b) .* d0\n",
    "    masCercano = findmin(dist)\n",
    "    puntoMasCercano = masCercano[2][1] \n",
    "    nodoEntrante = puntoMasCercano + 1 \n",
    "    dist[puntoMasCercano,1] = Inf\n",
    "    A[1, nodoEntrante] = 1\n",
    "    padres = [1]\n",
    "    hijos = [nodoEntrante]\n",
    "    distCamino = d0[:,1]    \n",
    "    for _ in 1:(n-1)\n",
    "        d1 = distanciaEuc(reshape(p[puntoMasCercano,:],(1,2)), p)\n",
    "        dist = hcat(dist, d1  .+  b .* ( d1 .+ distCamino[puntoMasCercano]))\n",
    "        dist[hijos .- 1, end] .= Inf \n",
    "        masCercano = findmin(dist)\n",
    "        puntoMasCercano = masCercano[2][1]\n",
    "        nodoEntrante = puntoMasCercano + 1\n",
    "        nodoPadre = masCercano[2][2] == 1 ? 1 :  hijos[masCercano[2][2]-1]\n",
    "        A[nodoPadre, nodoEntrante] = 1   \n",
    "        dist[puntoMasCercano, 1:end] .= Inf; \n",
    "        push!(hijos, nodoEntrante)\n",
    "        push!(padres, nodoPadre)       \n",
    "        if nodoPadre > 1\n",
    "            d2 = distanciaEuc(reshape(p[nodoPadre-1,:],(1,2)), reshape(p[nodoEntrante-1,:],(1,2)))\n",
    "            distCamino[puntoMasCercano] = distCamino[nodoPadre-1] + d2[1,1]\n",
    "        end\n",
    "    end\n",
    "    return Neurona(n+1, A, vcat([0 0], p))\n",
    "end"
   ]
  },
  {
   "cell_type": "code",
   "execution_count": 190,
   "metadata": {},
   "outputs": [
    {
     "data": {
      "text/plain": [
       "dibujarNeurona (generic function with 1 method)"
      ]
     },
     "execution_count": 190,
     "metadata": {},
     "output_type": "execute_result"
    }
   ],
   "source": [
    "using CairoMakie\n",
    "CairoMakie.activate!()\n",
    "function dibujarNeurona(x::Neurona)\n",
    "    fig, ax, p = scatter(x.p[:,1],x.p[:,2]; markersize=4, color = :black,\n",
    "                        figure=(; resolution=(400, 400)), \n",
    "                        axis=(; aspect=DataAspect()))\n",
    "    hidespines!(ax)\n",
    "    hidedecorations!(ax)\n",
    "    conecciones = findnz(x.A)\n",
    "    enlaces = size( conecciones[1], 1)\n",
    "    for i in 1:enlaces\n",
    "        e = [ conecciones[1][i], conecciones[2][i] ]\n",
    "        lines!(x.p[e,1],x.p[e,2]; color = :black)\n",
    "    end\n",
    "    fig\n",
    "end"
   ]
  },
  {
   "cell_type": "markdown",
   "metadata": {},
   "source": [
    "### Simulación"
   ]
  },
  {
   "cell_type": "code",
   "execution_count": 195,
   "metadata": {},
   "outputs": [
    {
     "data": {
      "text/plain": [
       "\"neuronaSim.csv\""
      ]
     },
     "execution_count": 195,
     "metadata": {},
     "output_type": "execute_result"
    }
   ],
   "source": [
    "using CSV, DataFrames\n",
    "a = puntosAzar(200; μ = 10.0, σ = 20.0)\n",
    "CSV.write(\"neuronaSim.csv\", DataFrame(a,:auto))"
   ]
  },
  {
   "cell_type": "code",
   "execution_count": null,
   "metadata": {},
   "outputs": [],
   "source": [
    "n0 = crearNeurona(200, μ₀ = -10, σ₀ = 20, b = 1.2);"
   ]
  },
  {
   "cell_type": "code",
   "execution_count": null,
   "metadata": {},
   "outputs": [],
   "source": [
    "n1 = crearNeurona(a, b = 0.0);\n",
    "dibujarNeurona(n1)"
   ]
  },
  {
   "cell_type": "code",
   "execution_count": null,
   "metadata": {},
   "outputs": [],
   "source": [
    "n2 = crearNeurona(a, b = 0.2);\n",
    "dibujarNeurona(n2)"
   ]
  },
  {
   "cell_type": "code",
   "execution_count": null,
   "metadata": {},
   "outputs": [],
   "source": [
    "n3 = crearNeurona(a);\n",
    "dibujarNeurona(n3)"
   ]
  },
  {
   "cell_type": "code",
   "execution_count": null,
   "metadata": {},
   "outputs": [],
   "source": [
    "n4 = crearNeurona(a, b = 1.2);\n",
    "dibujarNeurona(n4)"
   ]
  }
 ],
 "metadata": {
  "kernelspec": {
   "display_name": "Julia 1.6.1",
   "language": "julia",
   "name": "julia-1.6"
  },
  "language_info": {
   "file_extension": ".jl",
   "mimetype": "application/julia",
   "name": "julia",
   "version": "1.6.3"
  },
  "orig_nbformat": 4
 },
 "nbformat": 4,
 "nbformat_minor": 2
}
