{
 "cells": [
  {
   "cell_type": "code",
   "execution_count": null,
   "metadata": {},
   "outputs": [],
   "source": [
    "using Pkg\n",
    "Pkg.add(\"CSV\")\n",
    "Pkg.add(\"XLSX\")\n",
    "Pkg.add(\"HTTP\")\n",
    "Pkg.add(\"Chain\")\n",
    "Pkg.add(\"DataFrames\")\n",
    "Pkg.add(\"DataFramesMeta\")\n",
    "Pkg.add(\"CategoricalArrays\")"
   ]
  },
  {
   "cell_type": "markdown",
   "metadata": {},
   "source": [
    "### Bloque de código 3.1: Creación de un conjunto de datos manualmente"
   ]
  },
  {
   "cell_type": "code",
   "execution_count": null,
   "metadata": {},
   "outputs": [],
   "source": [
    "using DataFrames\n",
    "cdInicial = DataFrame(\n",
    "    identificador = [20120192, 20020265, 20100101],\n",
    "    ingreso = [1000, 1200, 1500],\n",
    "    edad = [26, 35, 25]\n",
    ")"
   ]
  },
  {
   "cell_type": "markdown",
   "metadata": {},
   "source": [
    "### Bloque de código 3.2: Creación de un conjunto de datos con valores aleatorios"
   ]
  },
  {
   "cell_type": "code",
   "execution_count": null,
   "metadata": {},
   "outputs": [],
   "source": [
    "cdFicticio = DataFrame(\n",
    "    :id => 1001:1050,\n",
    "    :color => rand([\"\", \"Rubio\", \"Negro\",\"Blanco\",\"Azul\"], 50),\n",
    "    :edad => rand(16:23, 50),\n",
    "    :peso => round.(60 .+  10*randn(50); digits = 1)\n",
    ")"
   ]
  },
  {
   "cell_type": "markdown",
   "metadata": {},
   "source": [
    "### Bloque de código 3.3: Creación del conjunto de datos `CCSS` usando la información en la Tabla 1.2."
   ]
  },
  {
   "cell_type": "code",
   "execution_count": null,
   "metadata": {},
   "outputs": [],
   "source": [
    "CuerposCelesteSS = [0.3300\t4879\t 5427\t 3.7;\n",
    "                    4.8700\t12104\t 5243\t 8.9;\n",
    "                    5.9700\t12756\t 5514\t 9.8;\n",
    "                    0.0730\t3475\t 3340\t 1.6;\n",
    "                    0.6420\t6792\t 3933\t 3.7;\n",
    "                 1898.0000\t142984   1326\t 23.1;\n",
    "                  568.0000\t120536   687\t 9.0;\n",
    "                   86.8000\t51118\t 1271\t 8.7;\n",
    "                  102.0000\t49528\t 1638\t 11.0;\n",
    "                    0.0146\t2370\t2095   0.7];"
   ]
  },
  {
   "cell_type": "code",
   "execution_count": null,
   "metadata": {},
   "outputs": [],
   "source": [
    "DataFrame(CuerposCelesteSS,[\"Masa\",\"Diametro\",\"Densidad\",\"Gravedad\"])\n",
    "CCSS = DataFrame(CuerposCelesteSS,:auto)"
   ]
  },
  {
   "cell_type": "markdown",
   "metadata": {},
   "source": [
    "### Bloque de código 3.4: Cambio de nombres de las variables en el conjunto de datos `CCSS`"
   ]
  },
  {
   "cell_type": "code",
   "execution_count": null,
   "metadata": {},
   "outputs": [],
   "source": [
    "rename!(CCSS, [\"MASA\",\"DIAMETRO\",\"DENSIDAD\",\"GRAVEDAD\"])\n",
    "rename!(CCSS, [:MASa,:DIAmetro,:DENsidad,:GRAvedad])\n",
    "rename!(x -> x[1:2], CCSS)\n",
    "rename!(lowercase, CCSS)"
   ]
  },
  {
   "cell_type": "markdown",
   "metadata": {},
   "source": [
    "### Bloque de código 3.5: Adición del volumen de los cuerpos celestes al conjunto de datos `CCSS`"
   ]
  },
  {
   "cell_type": "code",
   "execution_count": null,
   "metadata": {},
   "outputs": [],
   "source": [
    "CCSS.vo = 10^15*CCSS.ma./CCSS.de"
   ]
  },
  {
   "cell_type": "markdown",
   "metadata": {},
   "source": [
    "### Bloque de código 3.6: Adición del volumen de los cuerpos celestes al conjunto de datos `CCSS`"
   ]
  },
  {
   "cell_type": "code",
   "execution_count": null,
   "metadata": {},
   "outputs": [],
   "source": [
    "CCSS.no = [\"Mercurio\", \"Venus\", \"Tierra\", \"Luna\", \"Marte\", \"Jupiter\", \"Saturno\", \"Urano\",  \"Neptuno\",  \"Pluton\" ]"
   ]
  },
  {
   "cell_type": "code",
   "execution_count": null,
   "metadata": {},
   "outputs": [],
   "source": [
    "CCSS.ma"
   ]
  },
  {
   "cell_type": "markdown",
   "metadata": {},
   "source": [
    "## Sección 3.2: Lectura de datos"
   ]
  },
  {
   "cell_type": "markdown",
   "metadata": {},
   "source": [
    "### Bloque de código 3.7: Descarga del archivo con información de los partidos entre selecciones en toda la historia."
   ]
  },
  {
   "cell_type": "code",
   "execution_count": null,
   "metadata": {},
   "outputs": [],
   "source": [
    "using Downloads\n",
    "using CSV\n",
    "dir = \"https://raw.githubusercontent.com/martj42/international_results/master/results.csv\"\n",
    "elo0 = Downloads.download(dir)"
   ]
  },
  {
   "cell_type": "markdown",
   "metadata": {},
   "source": [
    "### Bloque de código 3.8: Lectura de los partidos entre selecciones en toda la historia"
   ]
  },
  {
   "cell_type": "code",
   "execution_count": null,
   "metadata": {},
   "outputs": [],
   "source": [
    "elo1 = CSV.File(elo0, missingstring = \"NA\")\n",
    "elo = DataFrame(elo1)"
   ]
  },
  {
   "cell_type": "markdown",
   "metadata": {},
   "source": [
    "### Bloque de código 3.9: Descarga y lectura de información de los partidos entre selecciones en toda la historia"
   ]
  },
  {
   "cell_type": "code",
   "execution_count": null,
   "metadata": {},
   "outputs": [],
   "source": [
    "elo = DataFrame(CSV.File(Downloads.download(dir), missingstring = \"NA\"))"
   ]
  },
  {
   "cell_type": "markdown",
   "metadata": {},
   "source": [
    "### Bloque de código 3.10: Lectura de los partidos entre selecciones en toda la historia usando `Chain.jl`"
   ]
  },
  {
   "cell_type": "code",
   "execution_count": null,
   "metadata": {},
   "outputs": [],
   "source": [
    "using Chain\n",
    "elo = @chain dir begin\n",
    "    Downloads.download\n",
    "    CSV.File(missingstring = \"NA\")\n",
    "    DataFrame\n",
    "    rename!([\"fecha\", \"local\", \"visitante\", \"goles_local\", \"goles_visitante\", \"torneo\", \"ciudad\", \"pais\", \"neutral\"])\n",
    "end;"
   ]
  },
  {
   "cell_type": "markdown",
   "metadata": {},
   "source": [
    "### Bloque de código 3.11: Estadísticas descriptivas para goles de local y visitante de los últimos 100 partidos de selecciones"
   ]
  },
  {
   "cell_type": "code",
   "execution_count": null,
   "metadata": {},
   "outputs": [],
   "source": [
    "@chain elo begin\n",
    "    last(100)\n",
    "    describe(cols = [:goles_local, :goles_visitante])\n",
    "end"
   ]
  },
  {
   "cell_type": "markdown",
   "metadata": {},
   "source": [
    "### Bloque de código 3.12: Transformación de variables con cadenas de caracteres a variables categóricas"
   ]
  },
  {
   "cell_type": "code",
   "execution_count": null,
   "metadata": {},
   "outputs": [],
   "source": [
    "using CategoricalArrays\n",
    "elo.neutral = categorical(elo.neutral)\n",
    "elo.torneo = categorical(elo.torneo)\n",
    "elo.local = categorical(elo.local)\n",
    "elo.visitante = categorical(elo.visitante)\n",
    "elo.pais = categorical(elo.pais)\n",
    "elo.ciudad = categorical(elo.ciudad);"
   ]
  },
  {
   "cell_type": "code",
   "execution_count": null,
   "metadata": {},
   "outputs": [],
   "source": [
    "show(first(elo,5),allcols=true)"
   ]
  },
  {
   "cell_type": "markdown",
   "metadata": {},
   "source": [
    "### Bloque de código 3.13: Comandos básicos para acceso a características de un conjunto de datos"
   ]
  },
  {
   "cell_type": "code",
   "execution_count": null,
   "metadata": {},
   "outputs": [],
   "source": [
    "first(elo,5)\n",
    "last(elo,5)\n",
    "names(elo)\n",
    "show(first(elo, 10), allcols = true)\n",
    "show(last(elo, 10), allcols = true)\n",
    "size(elo)\n",
    "size(elo,1)\n",
    "size(elo,2)"
   ]
  },
  {
   "cell_type": "markdown",
   "metadata": {},
   "source": [
    "### Bloque de código 3.14: Lectura de un archivo en formato MS Excel"
   ]
  },
  {
   "cell_type": "code",
   "execution_count": null,
   "metadata": {},
   "outputs": [],
   "source": [
    "using XLXS"
   ]
  },
  {
   "cell_type": "code",
   "execution_count": null,
   "metadata": {},
   "outputs": [],
   "source": [
    "codigos = DataFrame(XLSX.readtable(\"Codigos.xlsx\",\"23SemI\")...)"
   ]
  },
  {
   "cell_type": "markdown",
   "metadata": {},
   "source": [
    "### Bloque de código 3.15: Lectura de un archivo en formato MS Excel sin usar el operador *splat*"
   ]
  },
  {
   "cell_type": "code",
   "execution_count": null,
   "metadata": {},
   "outputs": [],
   "source": [
    "using XLXS\n",
    "prov = XLSX.readtable(\"Codigos.xlsx\", \"23SemI\")\n",
    "codigos = DataFrame(prov[1],prov[2])"
   ]
  },
  {
   "cell_type": "markdown",
   "metadata": {},
   "source": [
    "### Bloque de código 3.16: Cálculo del número de semestres dado el código"
   ]
  },
  {
   "cell_type": "code",
   "execution_count": null,
   "metadata": {},
   "outputs": [],
   "source": [
    "p0 = codigos.Codigo/100_000\n",
    "agno = trunc.(Int,p0)\n",
    "semestre = trunc.(p0*10) - 10agno\n",
    "nSem = 2*(2023 .-  agno) .+  (semestre .== 1)"
   ]
  },
  {
   "cell_type": "markdown",
   "metadata": {},
   "source": [
    "### Bloque de código 3.17: Cálculo del número de semestres dado el código usando secuencias de caracteres"
   ]
  },
  {
   "cell_type": "code",
   "execution_count": null,
   "metadata": {},
   "outputs": [],
   "source": [
    "codigos.Codigo = string.(codigos.Codigo)\n",
    "codigos.agno = parse.(Int32,SubString.(codigos.Codigo, 1, 4))\n",
    "codigos.semestre = parse.(Int32,SubString.(codigos.Codigo, 5, 5))\n",
    "codigos.sem = 2*(2021 .-  codigos.agno) .+  (codigos.semestre .== 1)"
   ]
  },
  {
   "cell_type": "markdown",
   "metadata": {},
   "source": [
    "### Bloque de código 3.18: Adición del volumen de los cuerpos celestes al conjunto de datos `CCSS` utilizando la función `transform()`"
   ]
  },
  {
   "cell_type": "code",
   "execution_count": null,
   "metadata": {},
   "outputs": [],
   "source": [
    "transform(CCSS, [:ma,:de] => ((a,b) -> a./b) => :vo)\n",
    "transform!(CCSS, [:ma,:de] => ((a,b) -> a./b) => :vo)\n",
    "transform!(CCSS, [:ma,:de] => ByRow((a,b) -> a/b) => :vo)"
   ]
  },
  {
   "cell_type": "markdown",
   "metadata": {},
   "source": [
    "### Bloque de código 3.19: Adición del volumen de los cuerpos celestes al conjunto de datos `CCSS` utilizando la macro `@transform`"
   ]
  },
  {
   "cell_type": "code",
   "execution_count": null,
   "metadata": {},
   "outputs": [],
   "source": [
    "using DataFramesMeta\n",
    "@transform!(CCSS, :vo = :ma./:de)"
   ]
  },
  {
   "cell_type": "markdown",
   "metadata": {},
   "source": [
    "### Bloque de código 3.20: Cálculo del número de semestres dado el código usando macros"
   ]
  },
  {
   "cell_type": "code",
   "execution_count": null,
   "metadata": {},
   "outputs": [],
   "source": [
    "@chain codigos begin\n",
    "    @transform!(:Codigo = string.(:Codigo))\n",
    "    @transform!(:agno = parse.(Int32,SubString.(:Codigo, 1, 4)))\n",
    "    @transform!(:semestre = parse.(Int32,SubString.(:Codigo, 5, 5)))\n",
    "    @transform!(:nsem = 2*(2021 .- :agno) .+  (:semestre .== 1))\n",
    "end"
   ]
  },
  {
   "cell_type": "markdown",
   "metadata": {},
   "source": [
    "### Bloque de código 3.21: Lectura del conjunto de datos pingüinos de Palmer"
   ]
  },
  {
   "cell_type": "code",
   "execution_count": null,
   "metadata": {},
   "outputs": [],
   "source": [
    "using DataFrames\n",
    "using DataFramesMeta\n",
    "using PalmerPenguins\n",
    "pinguinos = DataFrame(PalmerPenguins.load())\n",
    "names(pinguinos)\n",
    "rename!(pinguinos, \"species\" => \"especie\", \"island\" => \"isla\",\n",
    "        \"bill_length_mm\" => \"longitudPico\", \"bill_depth_mm\" => \"profundidad\",\n",
    "        \"flipper_length_mm\" => \"longitudAleta\", \"body_mass_g\" => \"masa\", \"sex\" => \"sexo\")"
   ]
  },
  {
   "cell_type": "markdown",
   "metadata": {},
   "source": [
    "### Bloque de código 3.22: Cálculo de la razón del pico para los pingüinos de Palmer"
   ]
  },
  {
   "cell_type": "code",
   "execution_count": null,
   "metadata": {},
   "outputs": [],
   "source": [
    "using DataFramesMeta, CategoricalArrays\n",
    "@rtransform!(pinguinos, :razon = :longitudPico/:profundidad)\n",
    "@transform(pinguinos, :especie = categorical(:especie), :isla = categorical(:isla),:sexo = categorical(:sexo))"
   ]
  },
  {
   "cell_type": "code",
   "execution_count": null,
   "metadata": {},
   "outputs": [],
   "source": [
    "@transform!(pinguinos, @byrow :razon = :longitudPico/:profundidad)"
   ]
  },
  {
   "cell_type": "code",
   "execution_count": null,
   "metadata": {},
   "outputs": [],
   "source": [
    "transform(pinguinos, [:longitudPico,:profundidad] => ByRow((a,b) −> a/b) => :razon)"
   ]
  },
  {
   "cell_type": "markdown",
   "metadata": {},
   "source": [
    "## Sección 3.2: Subconjuntos"
   ]
  },
  {
   "cell_type": "markdown",
   "metadata": {},
   "source": [
    "### Bloque de código 3.23: Eliminación de observaciones repetidas usando el operador de rango"
   ]
  },
  {
   "cell_type": "code",
   "execution_count": null,
   "metadata": {},
   "outputs": [],
   "source": [
    "sort!(codigos,:Codigo)\n",
    "codigos = codigos[1:2:end,:]"
   ]
  },
  {
   "cell_type": "markdown",
   "metadata": {},
   "source": [
    "### Bloque de código 3.24: Eliminación de observaciones repetidas usando la función `unique()`"
   ]
  },
  {
   "cell_type": "code",
   "execution_count": null,
   "metadata": {},
   "outputs": [],
   "source": [
    "unique!(codigos,:Codigo)"
   ]
  },
  {
   "cell_type": "markdown",
   "metadata": {},
   "source": [
    "### Bloque de código 3.25: Filtración de estudiantes con matrícula igual a $ 42700 usando la macro `@subset`"
   ]
  },
  {
   "cell_type": "code",
   "execution_count": null,
   "metadata": {},
   "outputs": [],
   "source": [
    "minMat = @subset(codigos, :valor .== 42700)"
   ]
  },
  {
   "cell_type": "markdown",
   "metadata": {},
   "source": [
    "### Bloque de código 3.26: Filtración de pingüinos de la especie *Gentoo* utilizando una regla empírica de diferentes maneras"
   ]
  },
  {
   "cell_type": "code",
   "execution_count": null,
   "metadata": {},
   "outputs": [],
   "source": [
    "@subset(pinguinos, (:bill_length_mm .> 40) .& (:bill_depth_mm .<= 16.5))\n",
    "@subset(pinguinos, :bill_length_mm .> 40, :bill_depth_mm .<= 16.5)\n",
    "@subset pinguinos begin\n",
    "    :bill_length_mm .> 40\n",
    "    :bill_depth_mm .<= 16.5\n",
    "end"
   ]
  },
  {
   "cell_type": "markdown",
   "metadata": {},
   "source": [
    "### Bloque de código 3.27: Filtración de pingüinos de la especie *Adélie* utilizando una regla empírica.\n"
   ]
  },
  {
   "cell_type": "code",
   "execution_count": null,
   "metadata": {},
   "outputs": [],
   "source": [
    "@subset(pinguinos, :profundidad + 4.7 .> 0.53*:longitud)"
   ]
  },
  {
   "cell_type": "markdown",
   "metadata": {},
   "source": [
    "### Bloque de código 3.28: Tipo de datos de la variable profundidad del pico para el conjunto de pingüinos de Palmer"
   ]
  },
  {
   "cell_type": "code",
   "execution_count": null,
   "metadata": {},
   "outputs": [],
   "source": [
    "typeof(pinguinos.profundidad)"
   ]
  },
  {
   "cell_type": "markdown",
   "metadata": {},
   "source": [
    "### Bloque de código 3.29: Listar los individuos con valores faltantes del conjunto de datos pingüinos de Palmer"
   ]
  },
  {
   "cell_type": "code",
   "execution_count": null,
   "metadata": {},
   "outputs": [],
   "source": [
    "show(@subset(pinguinos,ismissing.(:sexo)), allcols = true)"
   ]
  },
  {
   "cell_type": "markdown",
   "metadata": {},
   "source": [
    "### Bloque de código 3.30: Lectura de la ubicación de sensores AQS"
   ]
  },
  {
   "cell_type": "code",
   "execution_count": null,
   "metadata": {},
   "outputs": [],
   "source": [
    "adicionarCeros(s; l = 4) =  length(s) < l ?  \"0\"^(l-length(s))*s : s\n",
    "\n",
    "aqs = @chain \"aqs_sites.csv\" begin\n",
    "    CSV.File\n",
    "    DataFrame\n",
    "    rename!(\"State Code\" => \"Estado\", \n",
    "            \"County Code\" => \"Condado\",\n",
    "            \"Site Number\" => \"Sitio\",\n",
    "            \"Site Closed Date\" => \"final\")\n",
    "    @subset!(ismissing.(:final), :Datum .== \"NAD83\")\n",
    "    @transform!(:id = :Estado .* \"-\" .* \n",
    "                      adicionarCeros.(string.(:Condado),l = 3) .* \n",
    "                      \"-\" .* adicionarCeros.(string.(:Sitio)))\n",
    "    @select!(:id, :Latitude, :Longitude)\n",
    "end"
   ]
  },
  {
   "cell_type": "markdown",
   "metadata": {},
   "source": [
    "## Sección 3.3: Concatenación y combinación"
   ]
  },
  {
   "cell_type": "markdown",
   "metadata": {},
   "source": [
    "### Bloque de código 3.31: Lectura del archivo con información de la ubicación de los arboles en el Ejemplo de crecimiento del abeto grande"
   ]
  },
  {
   "cell_type": "code",
   "execution_count": null,
   "metadata": {},
   "outputs": [],
   "source": [
    "using DataFrames, CSV, Chain, DataFramesMeta"
   ]
  },
  {
   "cell_type": "code",
   "execution_count": null,
   "metadata": {},
   "outputs": [],
   "source": [
    "abiesUbicacion = @chain \"Datos/abetoHabitat.csv\" begin\n",
    "    CSV.File    \n",
    "    DataFrame\n",
    "    @transform!(:id = string.(:id))\n",
    "end"
   ]
  },
  {
   "cell_type": "markdown",
   "metadata": {},
   "source": [
    "### Bloque de código 3.32: Lectura de los archivos con información de la edad, DAP y altura de los 66 arboles en el Ejemplo de crecimiento del abeto grande"
   ]
  },
  {
   "cell_type": "code",
   "execution_count": null,
   "metadata": {},
   "outputs": [],
   "source": [
    "abies0 = (DataFrame(CSV.File(\"Data/fir\"*string(i)*\".csv\")) for i in 1:66)"
   ]
  },
  {
   "cell_type": "code",
   "execution_count": null,
   "metadata": {},
   "outputs": [],
   "source": [
    "abies = @chain abies0 begin\n",
    "    vcat(_...)\n",
    "    @transform!(:altura = :altura./3.28084, :dap = :dap./0.3937008)\n",
    "    @transform!(:ID = string.(:ID))\n",
    "end"
   ]
  },
  {
   "cell_type": "markdown",
   "metadata": {},
   "source": [
    "### Bloque de código 3.33: Lectura de los archivos con información de la precipitación mensual en Kew Gardens"
   ]
  },
  {
   "cell_type": "code",
   "execution_count": null,
   "metadata": {},
   "outputs": [],
   "source": [
    "using DataFrames, CSV, Chain, DataFramesMeta\n",
    "mes = (\"Ene\", \"Feb\", \"Mar\", \"Abr\", \"May\", \"Jun\", \"Jul\", \"Ago\", \"Sep\", \"Oct\", \"Nov\", \"Dic\")\n",
    "prec0 = (DataFrame(CSV.File(\"Data/precipitacion\"*i*\".csv\")) for i in mes)\n",
    "prec = @chain prec0 begin\n",
    "    innerjoin(_..., on = :year, makeunique = true)    \n",
    "    rename!(_,(j  => mes[i] for (i,j) in enumerate(names(_)[2:13]))...)\n",
    "end"
   ]
  },
  {
   "cell_type": "code",
   "execution_count": null,
   "metadata": {},
   "outputs": [],
   "source": [
    "collect(prec0[1])"
   ]
  },
  {
   "cell_type": "markdown",
   "metadata": {},
   "source": [
    "### Bloque de código 3.34: Combinación de la ubicación de los árboles y sus características en el Ejemplo de crecimiento del abeto grande"
   ]
  },
  {
   "cell_type": "code",
   "execution_count": null,
   "metadata": {},
   "outputs": [],
   "source": [
    "abiesG = innerjoin(abiesUbicacion, abies, on = :id => :ID)"
   ]
  },
  {
   "cell_type": "markdown",
   "metadata": {},
   "source": [
    "### Bloque de código 3.35: Combinación de conjuntos empleando la función `outerjoin()`"
   ]
  },
  {
   "cell_type": "code",
   "execution_count": null,
   "metadata": {},
   "outputs": [],
   "source": [
    "using DataFrames, DataFramesMeta\n",
    "A1 = DataFrame( ID = [202319876, 202319877, 202319878, 202319879, 202319880, 202319881], NotaA1 = [4.2, 3.8, 2.7, 3.2, 3, 3.9])\n",
    "A2 = DataFrame( ID = [202319876, 202319877, 202319882, 202319883, 202319884], NotaA2 = [3.2, 3.4, 3.9, 2.9, 3.9])\n",
    "A3 = DataFrame( ID = [202319878, 202319879, 202319880, 202319881, 202319883, 202319884], NotaA3 = [4,3.6,3,3.9,2.9,3.6])\n",
    "outerjoin(A1, A2, A3, on = :ID)\n",
    "function cumpleRequisito(x,y,z)\n",
    "    x = ismissing(x) ? 0 : x\n",
    "    y = ismissing(y) ? 0 : y\n",
    "    z = ismissing(z) ? 0 : z\n",
    "    return (x >=3.0) + (y >= 3.0) + (z >= 3.0) >= 2\n",
    "end\n",
    "@rtransform! A  :requisito = cumpleRequisito(:NotaA1,:NotaA2,:NotaA3)"
   ]
  },
  {
   "cell_type": "markdown",
   "metadata": {},
   "source": [
    "### Bloque de código 3.36: Combinación de conjuntos empleando la función `crossjoin()`"
   ]
  },
  {
   "cell_type": "code",
   "execution_count": null,
   "metadata": {},
   "outputs": [],
   "source": [
    "using DataFrames, CategoricalArrays\n",
    "F1 = DataFrame(nivelF1 = categorical([\"F11\", \"F12\"]))\n",
    "F2 = DataFrame(nivelF2 = categorical([\"F21\", \"F22\", \"F23\"]))\n",
    "F3 = DataFrame(nivelF3 = categorical([\"F31\", \"F32\", \"F33\", \"F34\"]))\n",
    "diseno = crossjoin(F1, F2, F3)\n",
    "diseno = diseno[sortperm(rand(2*3*4)),:]"
   ]
  },
  {
   "cell_type": "markdown",
   "metadata": {},
   "source": [
    "### Bloque de código 3.37: Inclusión de los valores de importancia de los partidos y exclusión de países no pertenecientes a la FIFA en el conjunto de datos `elo`"
   ]
  },
  {
   "cell_type": "code",
   "execution_count": null,
   "metadata": {},
   "outputs": [],
   "source": [
    "valoresK = CSV.read(\"Data/valoresK.csv\", DataFrame)\n",
    "paises = CSV.read(\"Data/Paises.txt\", DataFrame, delim=' ')\n"
   ]
  },
  {
   "cell_type": "code",
   "execution_count": null,
   "metadata": {},
   "outputs": [],
   "source": [
    "@chain elo begin\n",
    "    leftjoin!(valoresK, on = :torneo)\n",
    "    @subset!(:k .!= 0)\n",
    "    leftjoin!(paises, on = :local => :Pais)\n",
    "    @subset!(ismissing.(:Eliminar))\n",
    "    select!(Not.(:Eliminar))\n",
    "    leftjoin!(paises, on = :visitante => :Pais) \n",
    "    @subset!(ismissing.(:Eliminar))\n",
    "    select!(Not.(:Eliminar))\n",
    "end"
   ]
  },
  {
   "cell_type": "markdown",
   "metadata": {},
   "source": [
    "## Sección 3.4 Estrategia SAC"
   ]
  },
  {
   "cell_type": "markdown",
   "metadata": {},
   "source": [
    "### Bloque de código 3.38: Cálculo de la media y la desviación estándar para algunas variables del conjunto de datos `pinguinos`"
   ]
  },
  {
   "cell_type": "code",
   "execution_count": null,
   "metadata": {},
   "outputs": [],
   "source": [
    "using Statistics\n",
    "pinguinosDes = @chain pinguinos begin\n",
    "    groupby(:especie)\n",
    "    @combine begin\n",
    "        :promedio = mean(:longitudPico)\n",
    "        :minimo= minimum(:longitudPico)\n",
    "        :maximo  = maximum(:longitudPico)\n",
    "        :n = length(:longitudPico)\n",
    "    end\n",
    "end"
   ]
  },
  {
   "cell_type": "markdown",
   "metadata": {},
   "source": [
    "### Bloque de código 3.39: Cálculo de la media y la desviación estándar para algunas variables del conjunto de datos `pinguinos` utilizando la función `skipmissing()`"
   ]
  },
  {
   "cell_type": "code",
   "execution_count": null,
   "metadata": {},
   "outputs": [],
   "source": [
    "using Statistics\n",
    "pinguinosDes = @chain pinguinos begin\n",
    "    groupby(:especie)\n",
    "    @combine begin\n",
    "        :promedio = mean(skipmissing(:longitudPico))\n",
    "        :minimo = minimum(skipmissing(:longitudPico))\n",
    "        :maximo = maximum(skipmissing(:longitudPico))\n",
    "        :total = length(:longitudPico)\n",
    "    end\n",
    "end"
   ]
  },
  {
   "cell_type": "markdown",
   "metadata": {},
   "source": [
    "### Bloque de código 3.40: Cálculo de la media y la desviación estándar para algunas variables del conjunto de datos `pinguinos` utilizando la función `skipmissing()` y el argumento `$AsTable`"
   ]
  },
  {
   "cell_type": "code",
   "execution_count": null,
   "metadata": {},
   "outputs": [],
   "source": [
    "using Statistics\n",
    "pinguinosDes = @chain pinguinos begin\n",
    "    groupby(:especie)\n",
    "    @combine($AsTable= (longitud_m = mean(skipmissing(:longitudPico)),\n",
    "                      min_sleep = minimum(skipmissing(:longitudPico)),\n",
    "                      max_sleep = maximum(skipmissing(:longitudPico)),\n",
    "                      total = length(:longitudPico)))\n",
    "    end\n",
    "end"
   ]
  },
  {
   "cell_type": "markdown",
   "metadata": {},
   "source": [
    "### Bloque de código 3.41: Cálculo del número de partidos de fútbol por año y tipo de competencia"
   ]
  },
  {
   "cell_type": "code",
   "execution_count": null,
   "metadata": {},
   "outputs": [],
   "source": [
    "nPartidosAgno = @chain elo begin\n",
    "    @rtransform(:year = year(:fecha),\n",
    "                :amistoso = :torneo == \"Friendly\" ? \"Amistoso\" : \"Competencia\")\n",
    "    groupby([:year, :amistoso])\n",
    "    @combine(_, :nJuegos = length(:local))\n",
    "end"
   ]
  },
  {
   "cell_type": "markdown",
   "metadata": {},
   "source": [
    "### Bloque de código 3.42: Lectura de los valores PM$_{2.5}$ AQI  para sensores AQS y PurpleAir estudiados por Barkjohn *et al.* (2021)"
   ]
  },
  {
   "cell_type": "code",
   "execution_count": null,
   "metadata": {},
   "outputs": [],
   "source": [
    "using DataFrames, DataFramesMeta, CSV, Chain\n",
    "variablesAusar = [:Date, :region, :PM25FM, :PM25cf1, :RH]"
   ]
  },
  {
   "cell_type": "code",
   "execution_count": null,
   "metadata": {},
   "outputs": [],
   "source": [
    "aqs = @chain \"Datos/Full24hrdataset.csv\" begin\n",
    "    CSV.File(select = variablesAusar, missingstring = \"NA\")\n",
    "    DataFrame\n",
    "    dropmissing!\n",
    "    rename!(\"Date\" => \"Fecha\", \"PM25FM\" => \"PM25aqs\", \n",
    "            \"PM25cf1\" => \"PM25purple\", \"RH\" => \"HumedadRelativa\")\n",
    "    sort!(:Fecha) \n",
    "end"
   ]
  },
  {
   "cell_type": "markdown",
   "metadata": {},
   "source": [
    "### Bloque de código 3.43: Lectura de los valores PM$_{2.5}$ AQI  para sensores AQS y PurpleAir estudiados por Barkjohn *et al.* (2021)"
   ]
  },
  {
   "cell_type": "code",
   "execution_count": null,
   "metadata": {},
   "outputs": [],
   "source": [
    "using Statistics\n",
    "aqsSemanal = @chain aqs begin\n",
    "    @transform!(:semana = 52 .*(mod.(year.(:fecha),2017)) .+ week.(:fecha) )\n",
    "    groupby(:semana)\n",
    "    @combine(:promedio = mean(:PM25aqs), :f1 = first(:fecha))\n",
    "end"
   ]
  },
  {
   "cell_type": "code",
   "execution_count": null,
   "metadata": {},
   "outputs": [],
   "source": [
    "aqsMV5 = @chain aqsSemanal begin    \n",
    "    @transform!(:ma = ceil.(Int64,(:semana .- (first(semana)-1))./5))\n",
    "    groupby(:ma)\n",
    "    @combine(:promedioMA = mean(:promedio), :f2 = last(:f1))\n",
    "    @rsubset(:ma < 25)\n",
    "end"
   ]
  },
  {
   "cell_type": "markdown",
   "metadata": {},
   "source": [
    "### Bloque de código 3.44: Diagrama de dispersión de la profundidad vs longitud del pico de los pingüinos de Palmer"
   ]
  },
  {
   "cell_type": "code",
   "execution_count": null,
   "metadata": {},
   "outputs": [],
   "source": [
    "using AlgebraOfGraphics\n",
    "using CairoMakie\n",
    "pinguinosFig1  = data(pinguinos)*\n",
    "                mapping(:longitudPico, :profundidad, \n",
    "                color = :especie, marker = :especie)*\n",
    "                visual(AlgebraOfGraphics.Scatter)"
   ]
  },
  {
   "cell_type": "code",
   "execution_count": null,
   "metadata": {},
   "outputs": [],
   "source": [
    "xy = DataFrame(x = 34:50, y = -4.7 .+ 0.53(34:50))                "
   ]
  },
  {
   "cell_type": "code",
   "execution_count": null,
   "metadata": {},
   "outputs": [],
   "source": [
    "recta = data(xy)*mapping(:x,:y)*visual(Lines)"
   ]
  },
  {
   "cell_type": "code",
   "execution_count": null,
   "metadata": {},
   "outputs": [],
   "source": [
    "draw(pinguinosFig1+recta)"
   ]
  },
  {
   "cell_type": "markdown",
   "metadata": {},
   "source": [
    "### Bloque de código 3.45: Diagrama de dispersión de la profundidad vs longitud del pico de los pingüinos de Palmer con un tema preespecificado"
   ]
  },
  {
   "cell_type": "code",
   "execution_count": null,
   "metadata": {},
   "outputs": [],
   "source": [
    "using AlgebraOfGraphics, CairoMakie\n",
    "set_aog_theme!()"
   ]
  },
  {
   "cell_type": "code",
   "execution_count": null,
   "metadata": {},
   "outputs": [],
   "source": [
    "pinguinosFig2 = data(pinguinos) * \n",
    "                mapping(:longitudPico => \"Longitud del pico (mm)\",\n",
    "                :profundidad => \"Profundidad del pico (mm)\")* \n",
    "                mapping(color = :especie => \"Especies\", \n",
    "                marker = :especie => \"Especies\")\n"
   ]
  },
  {
   "cell_type": "code",
   "execution_count": null,
   "metadata": {},
   "outputs": [],
   "source": [
    "recta = data(xy) * \n",
    "        mapping(:x => \"Longitud del pico (mm)\",\n",
    "        :y => \"Profundidad del pico (mm)\")*\n",
    "        visual(Lines)"
   ]
  },
  {
   "cell_type": "code",
   "execution_count": null,
   "metadata": {},
   "outputs": [],
   "source": [
    "draw(pinguinosFig2+recta)"
   ]
  },
  {
   "cell_type": "markdown",
   "metadata": {},
   "source": [
    "### Bloque de código 3.46: Función de densidad estimada de la razón longitud  profundidad del pico por especie para los pingüinos de Palmer"
   ]
  },
  {
   "cell_type": "code",
   "execution_count": null,
   "metadata": {},
   "outputs": [],
   "source": [
    "set_aog_theme!()\n",
    "estilo = (color=[\"#881178\", \"#2D2DB5\",\"#328215\"], )"
   ]
  },
  {
   "cell_type": "code",
   "execution_count": null,
   "metadata": {},
   "outputs": [],
   "source": [
    "@chain pinguinos begin\n",
    "    dropmissing\n",
    "    data(_)*\n",
    "    mapping(:razon => \"Razón longitud/profundidad del pico\", \n",
    "            color= :especie => \"Especie\")*\n",
    "    visual(Density, alpha = 0.3)\n",
    "    draw(palettes = estilo)\n",
    "end"
   ]
  },
  {
   "cell_type": "markdown",
   "metadata": {},
   "source": [
    "### Bloque de código 3.47: Diagrama de violín para la razón longitud sobre profundidad del pico por sexo y especie para los pingüinos de Palmer"
   ]
  },
  {
   "cell_type": "code",
   "execution_count": null,
   "metadata": {},
   "outputs": [],
   "source": [
    "set_aog_theme!()\n",
    "@chain pinguinos begin\n",
    "    dropmissing\n",
    "    data(_)*\n",
    "    mapping(:sexo =>\"Sexo\", \n",
    "            :razon => \"Razón longitud/profundidad del pico\",\n",
    "            color = :especie  => \"Especie\", dodge = :especie)*\n",
    "    visual(Violin)\n",
    "    draw(palettes = estilo)\n",
    "end"
   ]
  },
  {
   "cell_type": "markdown",
   "metadata": {},
   "source": [
    "### Bloque de código 3.48: Diagrama de violín para la razón longitud sobre profundidad del pico por especie y sexo para los pingüinos de Palmer"
   ]
  },
  {
   "cell_type": "code",
   "execution_count": null,
   "metadata": {},
   "outputs": [],
   "source": [
    "set_aog_theme!()\n",
    "estilo2 = (color=[\"#881178\", \"#2D2DB5\"], )"
   ]
  },
  {
   "cell_type": "code",
   "execution_count": null,
   "metadata": {},
   "outputs": [],
   "source": [
    "@chain pinguinos begin\n",
    "    dropmissing\n",
    "    data(_)*\n",
    "    mapping(:especie =>\"Especie\", \n",
    "            :razon => \"Razón longitud/profundidad del pico\",\n",
    "            color=:sexo  => \"Sexo\", dodge=:sexo)*\n",
    "    visual(Violin)\n",
    "    draw(palettes = estilo2)\n",
    "end"
   ]
  },
  {
   "cell_type": "markdown",
   "metadata": {},
   "source": [
    "### Bloque de código 3.49: Curvas de crecimiento para 66 abetos grandes en bosques de Idaho"
   ]
  },
  {
   "cell_type": "code",
   "execution_count": null,
   "metadata": {},
   "outputs": [],
   "source": [
    "using AlgebraOfGraphics, CairoMakie\n",
    "curvasCrecimiento = data(abies)*\n",
    "        mapping(:edad => \"Edad (años)\", :altura => \"Altura (m)\",\n",
    "        marker = :ID, color=:dap => \"DAP (cm)\")*visual(Lines)\n",
    "draw(curvasCrecimiento, colorbar=(position=:top, size=15))"
   ]
  },
  {
   "cell_type": "markdown",
   "metadata": {},
   "source": [
    "### Bloque de código 3.50: Series de tiempo de partidos amistosos y competitivos desde el año 1930"
   ]
  },
  {
   "cell_type": "code",
   "execution_count": null,
   "metadata": {},
   "outputs": [],
   "source": [
    "@chain nPartidosAgno begin\n",
    "    @subset(:year .> 1929)\n",
    "    @rtransform(:Mundial = (mod(:year -2,4) == 0)&&\n",
    "                            (:year !=1946)&&(:year !=1942))\n",
    "    @aside JuegosAgnoMundial = @subset(_, :Mundial)                        \n",
    "    data(_)*mapping(:year => \"Año\", :nJuegos => \"Número de partidos\", \n",
    "                    color = :amistoso => \"Tipo de partido\",\n",
    "                    marker = :amistoso => \"Tipo de partido\")*\n",
    "    visual(ScatterLines, alpha = 0.6)\n",
    "    @aside capaAgnoMundial = data(JuegosAgnoMundial)*\n",
    "            mapping(:year => \"Año\", :nJuegos => \"Número de partidos\")*\n",
    "            visual(Scatter)\n",
    "    draw(_+capaAgnoMundial, palettes = estiloElo)\n",
    "end"
   ]
  },
  {
   "cell_type": "markdown",
   "metadata": {},
   "source": [
    "### Bloque de código 3.51: Series de tiempo para los niveles promdeio de PM$_{2.5}$ AQI semanales y cada 5 semanas"
   ]
  },
  {
   "cell_type": "code",
   "execution_count": null,
   "metadata": {},
   "outputs": [],
   "source": [
    "l1 = data(aqsSemanal)*mapping(:f1 => \"Fecha\",\n",
    "        :promedio => L\"\\mathrm{PM}_{2.5}\\,\\,\\mathrm{AQI}\")*\n",
    "    visual(ScatterLines, color = \"#328215\")"
   ]
  },
  {
   "cell_type": "code",
   "execution_count": null,
   "metadata": {},
   "outputs": [],
   "source": [
    "l2 = data(aqsMV5)*mapping(:f2 => \"Fecha\",\n",
    "        :promedioMA => L\"\\mathrm{PM}_{2.5}\\,\\,\\mathrm{AQI}\")*\n",
    "        visual(ScatterLines, color = :red)"
   ]
  },
  {
   "cell_type": "code",
   "execution_count": null,
   "metadata": {},
   "outputs": [],
   "source": [
    "draw(l1+l2)"
   ]
  },
  {
   "cell_type": "markdown",
   "metadata": {},
   "source": [
    "## Sección 3.6 Sistema de puntuación Élő"
   ]
  },
  {
   "cell_type": "markdown",
   "metadata": {},
   "source": [
    "### Bloque de código 3.52: Combinación `antijoin()` de los resultados de los partidos y el *ranking* a junio de 2018 de la FIFA"
   ]
  },
  {
   "cell_type": "code",
   "execution_count": null,
   "metadata": {},
   "outputs": [],
   "source": [
    "ranking062018 = CSV.read(\"Datos/Ranking062018.csv\", DataFrame)"
   ]
  },
  {
   "cell_type": "code",
   "execution_count": null,
   "metadata": {},
   "outputs": [],
   "source": [
    "@transform!(ranking062018, :Pais = categorical(String63.(:Pais)))"
   ]
  },
  {
   "cell_type": "code",
   "execution_count": null,
   "metadata": {},
   "outputs": [],
   "source": [
    "cambiarNombre = antijoin(ranking062018, elo, on =  :Pais => :local)"
   ]
  },
  {
   "cell_type": "code",
   "execution_count": null,
   "metadata": {},
   "outputs": [],
   "source": [
    "nombres = [\"United States\",\"Iran\",\"DR Congo\", \"South Korea\",\n",
    "          \"Cape Verde\", \"Ivory Coast\",\"North Macedonia\",\"Curaçao\",\n",
    "          \"Kyrgyzstan\", \"North Korea\",\"Taiwan\", \"Eswatini\", \n",
    "          \"Saint Kitts and Nevis\", \"Saint Lucia\", \n",
    "          \"Saint Vincent and the Grenadines\",\n",
    "          \"São Tomé and Príncipe\",\"Brunei\",\n",
    "          \"United States Virgin Islands\"]"
   ]
  },
  {
   "cell_type": "code",
   "execution_count": null,
   "metadata": {},
   "outputs": [],
   "source": [
    "for (i,j) in enumerate(cambiarNombre.Pais)\n",
    "    ranking062018[findfirst(isequal(j), ranking062018.Pais),:Pais] = nombres[i]\n",
    "end"
   ]
  },
  {
   "cell_type": "markdown",
   "metadata": {},
   "source": [
    "### Bloque de código 3.53: Preparación del conjunto de datos para hacer el cálculo del puntaje Élő"
   ]
  },
  {
   "cell_type": "code",
   "execution_count": null,
   "metadata": {},
   "outputs": [],
   "source": [
    "using CSV, Chain, Dates, Downloads, DataFrames, DataFramesMeta, CategoricalArrays\n",
    "resultadosDir = \"https://raw.githubusercontent.com/martj42/international_results/master/results.csv\";\n",
    "penaltisDir = \"https://raw.githubusercontent.com/martj42/international_results/master/shootouts.csv\";\n",
    "penaltis = @chain penaltisDir begin\n",
    "    Downloads.download\n",
    "    CSV.File(missingstring = \"NA\")\n",
    "    DataFrame\n",
    "    rename!([\"fecha\", \"local\", \"visitante\", \"ganador\"])\n",
    "    @transform!(:local = categorical(:local), :visitante = categorical(:visitante))\n",
    "    @transform!(:ganador = categorical(:ganador))\n",
    "end;\n",
    "elo = @chain resultadosDir begin\n",
    "    Downloads.download\n",
    "    CSV.File(missingstring = \"NA\")\n",
    "    DataFrame\n",
    "    rename!([\"fecha\", \"local\", \"visitante\", \"goles_local\", \"goles_visitante\", \"torneo\", \"ciudad\", \"pais\", \"neutral\"])\n",
    "    @transform!(:neutral = categorical(:neutral), :torneo = categorical(:torneo))\n",
    "    @transform!(:local = categorical(:local), :visitante = categorical(:visitante))\n",
    "    @transform!(:pais = categorical(:pais), :ciudad = categorical(:ciudad))\n",
    "    leftjoin!(penaltis, on = [:fecha, :local, :visitante])\n",
    "    leftjoin!(valoresK, on = :torneo)\n",
    "    @subset!(:k .!= 0)\n",
    "end;\n",
    "ranking062018 = CSV.read(\"Datos/Ranking062018.csv\", DataFrame)\n",
    "@transform!(ranking062018, :Pais = categorical(String63.(:Pais)))\n",
    "cambiarNombre = antijoin(ranking062018, elo, on =  :Pais => :local)\n",
    "nombres = [\"United States\",\"Iran\",\"DR Congo\", \"South Korea\",\n",
    "          \"Cape Verde\", \"Ivory Coast\",\"North Macedonia\",\"Curaçao\",\n",
    "          \"Kyrgyzstan\", \"North Korea\",\"Taiwan\", \"Eswatini\", \n",
    "          \"Saint Kitts and Nevis\", \"Saint Lucia\", \n",
    "          \"Saint Vincent and the Grenadines\",\n",
    "          \"São Tomé and Príncipe\",\"Brunei\",\n",
    "          \"United States Virgin Islands\"]\n",
    "for (i,j) in enumerate(cambiarNombre.Pais)\n",
    "    ranking062018[findfirst(isequal(j), ranking062018.Pais),:Pais] = nombres[i]\n",
    "end;\n",
    "elo = @chain elo begin\n",
    "    rightjoin(ranking062018[:,[:Pais]], on = :local => :Pais)\n",
    "    rightjoin(ranking062018[:,[:Pais]], on = :visitante => :Pais)\n",
    "end"
   ]
  },
  {
   "cell_type": "markdown",
   "metadata": {},
   "source": [
    "### Bloque de código 3.54: Función para el cálculo del puntaje Élő"
   ]
  },
  {
   "cell_type": "code",
   "execution_count": null,
   "metadata": {},
   "outputs": [],
   "source": [
    "function puntajeElo(Elocal, Evisitante, Rₗ, Rᵥ, gₗ::Int, gᵥ::Int, k::Int, neutral, penaltis)\n",
    "    gd = abs(gₗ - gᵥ)\n",
    "    gᵟ = 1 + 0.5*(gd == 2) + (0.75 + .125*(gd - 3))*(gd > 2)\n",
    "    gₗ > gᵥ ? W= [1.0,0.0] : ( gₗ < gᵥ ? W = [0.0,1.0] : W = [0.5,0.5]) \n",
    "    if !ismissing(penaltis)\n",
    "        if gₗ == gᵥ\n",
    "            if Elocal == penaltis\n",
    "                W[1] = 0.75\n",
    "            else  \n",
    "                W[2] = 0.75\n",
    "            end\n",
    "        end\n",
    "    end\n",
    "    e = (Rₗ-Rᵥ+100*(!neutral))/400\n",
    "    Rₗ += k*gᵟ*(W[1] - 1/(1+10^(-e)))\n",
    "    Rᵥ += k*gᵟ*(W[2] - 1/(1+10^e))\n",
    "    return((L = Rₗ, V = Rᵥ))\n",
    "end"
   ]
  },
  {
   "cell_type": "markdown",
   "metadata": {},
   "source": [
    "### Bloque de código 3.55: Cálculo del puntaje Élő hasta junio de 2018"
   ]
  },
  {
   "cell_type": "code",
   "execution_count": null,
   "metadata": {},
   "outputs": [],
   "source": [
    "puntajes = DataFrame(Pais = ranking062018.Pais, puntaje = 1200)\n",
    "puntajes = Dict(Pair.(puntajes.Pais, puntajes.puntaje));"
   ]
  },
  {
   "cell_type": "code",
   "execution_count": null,
   "metadata": {},
   "outputs": [],
   "source": [
    "n1 = findfirst(isequal(Date(2018,06,07)), elo.fecha )-1"
   ]
  },
  {
   "cell_type": "code",
   "execution_count": null,
   "metadata": {},
   "outputs": [],
   "source": [
    "for i in 1:n1\n",
    "    nuevos = puntajeElo(elo.local[i],elo.visitante[i],\n",
    "                        puntajes[elo.local[i]], \n",
    "                        puntajes[elo.visitante[i]],\n",
    "                        elo.goles_local[i], elo.goles_visitante[i],\n",
    "                        elo.k[i], elo.neutral[i],elo.penaltis[i])\n",
    "    puntajes[elo.local[i]] = nuevos.L\n",
    "    puntajes[elo.visitante[i]] = nuevos.V\n",
    "end"
   ]
  },
  {
   "cell_type": "code",
   "execution_count": null,
   "metadata": {},
   "outputs": [],
   "source": [
    "elo062018 = DataFrame(Pais = collect(keys(puntajes)), Puntaje = collect(values(puntajes)))"
   ]
  },
  {
   "cell_type": "code",
   "execution_count": null,
   "metadata": {},
   "outputs": [],
   "source": [
    "comp062018 = innerjoin(ranking062018,elo062018, on = :Pais, makeunique=true)"
   ]
  },
  {
   "cell_type": "markdown",
   "metadata": {},
   "source": [
    "### Bloque de código 3.56: Diagrama de dispersión para el puntaje Élő y el antiguo puntaje FIFA hasta el 6 de junio de 2018"
   ]
  },
  {
   "cell_type": "code",
   "execution_count": null,
   "metadata": {},
   "outputs": [],
   "source": [
    "using CairoMakie\n",
    "CairoMakie.activate!()\n",
    "fig, ax, p = scatter(comp062018.Puntaje, comp062018.Puntaje_1;\n",
    "                                axis = (; xlabel = \"Puntaje FIFA\", \n",
    "                                ylabel = \"Puntaje Élő\"),\n",
    "                                figure = (; resolution=(600, 600)))\n",
    "text!(\"Brazil\", position = (1431, 1540.08+40), \n",
    "      align = (:center, :center), color=:darkred, textsize = 13)\n",
    "text!(\"Alemania\", position = (1558, 1481.08-40), \n",
    "      align = (:right, :center),  color=:darkred, textsize = 13)\n",
    "text!(\"Colombia\", position = (986-40, 1351.46+40),\n",
    "      align = (:center, :center), color=:darkred, textsize = 13)\n",
    "fig"
   ]
  },
  {
   "cell_type": "markdown",
   "metadata": {},
   "source": [
    "### Bloque de código 3.57: Cálculo del puntaje Élő hasta mayo de 2022"
   ]
  },
  {
   "cell_type": "code",
   "execution_count": null,
   "metadata": {},
   "outputs": [],
   "source": [
    "puntajes = DataFrame(Pais = ranking062018.Pais, puntaje = 1600 .- 4 .*(ranking062018.Posicion .-1))\n",
    "puntajes = Dict(Pair.(puntajes.Pais, puntajes.puntaje));"
   ]
  },
  {
   "cell_type": "code",
   "execution_count": null,
   "metadata": {},
   "outputs": [],
   "source": [
    "n2 = findlast(isequal(Date(2022,03,30)), elo.fecha)"
   ]
  },
  {
   "cell_type": "code",
   "execution_count": null,
   "metadata": {},
   "outputs": [],
   "source": [
    "for i in (n1+1):n2\n",
    "    nuevos = puntajeElo(elo.local[i],elo.visitante[i],\n",
    "                        puntajes[elo.local[i]], \n",
    "                        puntajes[elo.visitante[i]],\n",
    "                        elo.goles_local[i], elo.goles_visitante[i],\n",
    "                        elo.k[i], elo.neutral[i],elo.penaltis[i])\n",
    "    puntajes[elo.local[i]] = nuevos.L\n",
    "    puntajes[elo.visitante[i]] = nuevos.V\n",
    "end"
   ]
  },
  {
   "cell_type": "code",
   "execution_count": null,
   "metadata": {},
   "outputs": [],
   "source": [
    "elo032022 = DataFrame( Pais = collect(keys(puntajes)), Puntaje = collect(values(puntajes)))"
   ]
  },
  {
   "cell_type": "markdown",
   "metadata": {},
   "source": [
    "### Bloque de código 3.58: Comparación del  puntaje Élő obtenido con el puntaje oficial de la FIFA a 31 de marzo de 2022"
   ]
  },
  {
   "cell_type": "code",
   "execution_count": null,
   "metadata": {},
   "outputs": [],
   "source": [
    "using DataFrames\n",
    "using DataFramesMeta\n",
    "ranking032022 = CSV.read(\"Datos/Ranking032022.csv\", DataFrame)"
   ]
  },
  {
   "cell_type": "code",
   "execution_count": null,
   "metadata": {},
   "outputs": [],
   "source": [
    "@transform!(ranking032022, :Pais = categorical(String63.(:Pais)))"
   ]
  },
  {
   "cell_type": "code",
   "execution_count": null,
   "metadata": {},
   "outputs": [],
   "source": [
    "cambiarNombre = antijoin(ranking032022, ranking062018, on =  :Pais)"
   ]
  },
  {
   "cell_type": "code",
   "execution_count": null,
   "metadata": {},
   "outputs": [],
   "source": [
    "nombres = [\"United States\",\"Iran\",\"South Korea\", \"Ivory Coast\",\n",
    "           \"DR Congo\", \"Cape Verde\",\"Kyrgyzstan\",\"North Korea\",\n",
    "           \"Saint Kitts and Nevis\", \"Taiwan\",\n",
    "           \"Saint Vincent and the Grenadines\",\n",
    "           \"Saint Lucia\", \"Brunei\", \"Tonga\", \"Bahamas\",\n",
    "           \"Somalia\", \"Eritrea\", \"Turks and Caicos Islands\",\n",
    "           \"United States Virgin Islands\", \"Anguilla\"]"
   ]
  },
  {
   "cell_type": "code",
   "execution_count": null,
   "metadata": {},
   "outputs": [],
   "source": [
    "for (i,j) in enumerate(cambiarNombre.Pais)\n",
    "    ranking032022[findfirst(isequal(j), ranking032022.Pais),:Pais] = nombres[i]\n",
    "end"
   ]
  },
  {
   "cell_type": "code",
   "execution_count": null,
   "metadata": {},
   "outputs": [],
   "source": [
    "comp032022 = leftjoin(elo032022, ranking032022, on = :Pais, makeunique=true)"
   ]
  },
  {
   "cell_type": "markdown",
   "metadata": {},
   "source": [
    "### Bloque de código 3.59: Diagrama de dispersión para el puntaje Élő y el puntaje SUM FIFA al 30 de marzo de 2022"
   ]
  },
  {
   "cell_type": "code",
   "execution_count": null,
   "metadata": {},
   "outputs": [],
   "source": [
    "CairoMakie.activate!()\n",
    "x = 700:20:1900\n",
    "fig, ax, p = scatter(comp032022.Puntaje, comp032022.Puntaje_1;\n",
    "                                axis = (; xlabel = \"Puntaje SUM\", \n",
    "                                ylabel = \"Puntaje Élő\"),\n",
    "                                figure = (; resolution=(600, 600)))\n",
    "text!(\"Brazil\", position = (1920, 1816.67+40), \n",
    "      align = (:right, :center), color=:darkred, textsize = 13)\n",
    "text!(\"Alemania\", position = (1658.5, 1650.53-40), \n",
    "      align = (:left, :center), color=:darkred, textsize = 13)\n",
    "text!(\"Colombia\", position = (1595, 1600.52-20), \n",
    "      align = (:left, :center), color=:darkred, textsize = 13)\n",
    "lines!(x, x, color =:darkred)\n",
    "fig"
   ]
  },
  {
   "cell_type": "markdown",
   "metadata": {},
   "source": [
    "### Bloque de código 3.60: Regresión lineal utilizando el *software* `R`"
   ]
  },
  {
   "cell_type": "code",
   "execution_count": null,
   "metadata": {},
   "outputs": [],
   "source": [
    "using RCall\n",
    "R\"lm(PM25purple ~ PM25aqs + humedad, data = $aqs)\"\n",
    "R\"modelo = lm(PM25purple ~ PM25aqs + humedad, data = $aqs)\n",
    "coef = modelo$coefficients\n",
    "print(c(-coef[1]/coef[2], 1/coef[2],-coef[3]/coef[2]))\n",
    "\"\n"
   ]
  }
 ],
 "metadata": {
  "kernelspec": {
   "display_name": "Julia 1.7.2",
   "language": "julia",
   "name": "julia-1.7"
  },
  "language_info": {
   "file_extension": ".jl",
   "mimetype": "application/julia",
   "name": "julia",
   "version": "1.7.2"
  },
  "orig_nbformat": 4
 },
 "nbformat": 4,
 "nbformat_minor": 2
}
