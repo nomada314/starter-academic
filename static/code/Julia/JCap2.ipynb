{
 "cells": [
  {
   "cell_type": "markdown",
   "metadata": {},
   "source": [
    "### Bloque de código 2.2: Función para calcular la distancia euclidiana en $\\mathbb{R}^n$."
   ]
  },
  {
   "cell_type": "code",
   "execution_count": null,
   "metadata": {},
   "outputs": [],
   "source": [
    "function distanciaEuc(x,y)\n",
    "  return sqrt(sum((x-y).^2)) \n",
    "end"
   ]
  },
  {
   "cell_type": "code",
   "execution_count": null,
   "metadata": {},
   "outputs": [],
   "source": [
    "distanciaEuc(3, 4)"
   ]
  },
  {
   "cell_type": "code",
   "execution_count": null,
   "metadata": {},
   "outputs": [],
   "source": [
    "distanciaEuc([2 4], [3 5])"
   ]
  },
  {
   "cell_type": "code",
   "execution_count": null,
   "metadata": {},
   "outputs": [],
   "source": [
    "distanciaEuc([2; 3; 4; 5], [3; 4; 5; 6])"
   ]
  },
  {
   "cell_type": "markdown",
   "metadata": {},
   "source": [
    "### Bloque de código 2.3: Función para calcular la distancia euclidiana en $\\mathbb{R}^n$ definida en línea"
   ]
  },
  {
   "cell_type": "code",
   "execution_count": null,
   "metadata": {},
   "outputs": [],
   "source": [
    "distanciaEuc(x,y) = sqrt(sum((x-y).^2))"
   ]
  },
  {
   "cell_type": "markdown",
   "metadata": {},
   "source": [
    "### Bloque de código 2.4: Función para calcular la distancia euclidiana en $\\mathbb{R}^n$ definida en línea con el símbolo de raíz cuadrada"
   ]
  },
  {
   "cell_type": "code",
   "execution_count": null,
   "metadata": {},
   "outputs": [],
   "source": [
    "distanciaEuc(x,y) =  √(sum((x-y).^2))"
   ]
  },
  {
   "cell_type": "markdown",
   "metadata": {},
   "source": [
    "### Bloque de código 2.5: Función para calcular la distancia euclidiana en $\\mathbb{R}^n$ definida en línea con el símbolo de sumatoria:∑"
   ]
  },
  {
   "cell_type": "code",
   "execution_count": null,
   "metadata": {},
   "outputs": [],
   "source": [
    "∑ = sum\n",
    "distanciaEuc(x,y) =  √(∑((x-y).^2))"
   ]
  },
  {
   "cell_type": "markdown",
   "metadata": {},
   "source": [
    "### Bloque de código 2.6: Función para calcular la distancia euclidiana entre un punto y varios puntos $\\mathbb{R}^n$"
   ]
  },
  {
   "cell_type": "code",
   "execution_count": null,
   "metadata": {},
   "outputs": [],
   "source": [
    "distanciaEuc(x::Array,y::Array) =  .√(sum((x.-y).^2,dims=2))"
   ]
  },
  {
   "cell_type": "markdown",
   "metadata": {},
   "source": [
    "### Bloque de código 2.7: Función para calcular la distancia euclidiana entre dos variables de tipo `MezclaPoisson`"
   ]
  },
  {
   "cell_type": "code",
   "execution_count": null,
   "metadata": {},
   "outputs": [],
   "source": [
    "mutable struct MezclaPoisson\n",
    "    λ::Real\n",
    "    μ::Real\n",
    "    p::Real\n",
    "end"
   ]
  },
  {
   "cell_type": "code",
   "execution_count": null,
   "metadata": {},
   "outputs": [],
   "source": [
    "vec(x::MezclaPoisson) = [x.p  x.λ  x.μ]\n",
    "distanciaEuc(x::MezclaPoisson,y::MezclaPoisson) =  distanciaEuc(vec(x),vec(y))[1,1]"
   ]
  },
  {
   "cell_type": "code",
   "execution_count": null,
   "metadata": {},
   "outputs": [],
   "source": [
    "# Ejemplo\n",
    "sec1 = MezclaPoisson(3, 5, .4)\n",
    "sec2 = MezclaPoisson(4, 6, .3)\n",
    "distanciaEuc(sec1, sec2)"
   ]
  },
  {
   "cell_type": "markdown",
   "metadata": {},
   "source": [
    "### Bloque de código 2.8: Función para el cálculo de la presión de entrada de una solución salina usando la ley de Poiseuille."
   ]
  },
  {
   "cell_type": "code",
   "execution_count": null,
   "metadata": {},
   "outputs": [],
   "source": [
    "presionEntrada(p1, Q) = 2672Q*10^5/(675π) + p1\n",
    "presionEntrada(1066, 0.12)"
   ]
  },
  {
   "cell_type": "markdown",
   "metadata": {},
   "source": [
    "### Bloque de código 2.9: Función para el cálculo de la presión de entrada de una solución salina usando la ley de Poiseuille y tomando la razón $Q = 0.12 \\text{ cm}^3/\\text{s}$."
   ]
  },
  {
   "cell_type": "code",
   "execution_count": null,
   "metadata": {},
   "outputs": [],
   "source": [
    "presionEntrada(p1; Q = 0.12) = 2672Q*10^5/(675π) + p1"
   ]
  },
  {
   "cell_type": "code",
   "execution_count": null,
   "metadata": {},
   "outputs": [],
   "source": [
    "presionEntrada(1066)"
   ]
  },
  {
   "cell_type": "code",
   "execution_count": null,
   "metadata": {},
   "outputs": [],
   "source": [
    "presionEntrada(1066, Q = 0.06)"
   ]
  },
  {
   "cell_type": "markdown",
   "metadata": {},
   "source": [
    "### Bloque de código 2.10: Función para el cálculo de la presión de entrada de una solución salina usando la ley de Poiseuille usando unidades físicas"
   ]
  },
  {
   "cell_type": "code",
   "execution_count": null,
   "metadata": {},
   "outputs": [],
   "source": [
    "using Pkg\n",
    "Pkg.add(\"Unitful\")"
   ]
  },
  {
   "cell_type": "code",
   "execution_count": null,
   "metadata": {},
   "outputs": [],
   "source": [
    "using Unitful\n",
    "function presionEntrada(p1::Unitful.Pressure, Q::Unitful.VolumeFlow = 0.12u\"cm^3/s\")\n",
    "  p2 = 8*1.002u\"mPa*s\"*2.5u\"cm\"*Q/(π*(0.150u\"mm\")^4) + p1\n",
    "  return uconvert(u\"Pa\",p2)\n",
    "end"
   ]
  },
  {
   "cell_type": "code",
   "execution_count": null,
   "metadata": {},
   "outputs": [],
   "source": [
    "presionEntrada(1066u\"N/m^2\")"
   ]
  },
  {
   "cell_type": "code",
   "execution_count": null,
   "metadata": {},
   "outputs": [],
   "source": [
    "presionEntrada(1066u\"Pa\")"
   ]
  },
  {
   "cell_type": "code",
   "execution_count": null,
   "metadata": {},
   "outputs": [],
   "source": [
    "presionEntrada(0.01066u\"bar\")"
   ]
  },
  {
   "cell_type": "code",
   "execution_count": null,
   "metadata": {},
   "outputs": [],
   "source": [
    "presionEntrada(1066u\"atm\"/101325)"
   ]
  },
  {
   "cell_type": "markdown",
   "metadata": {},
   "source": [
    "### Bloque de código 2.11: Estimación de la probabilidad en el Ejemplo Agujas de Buffon."
   ]
  },
  {
   "cell_type": "code",
   "execution_count": null,
   "metadata": {},
   "outputs": [],
   "source": [
    "function Buffon(n; d = 1, l = 0.8)\n",
    "    theta = (π/2)*rand(n)\n",
    "    x = d*rand(n)/2\n",
    "    p = sum(2x .<  l*cos.(theta))/n\n",
    "    return(p)\n",
    "end  "
   ]
  },
  {
   "cell_type": "code",
   "execution_count": null,
   "metadata": {},
   "outputs": [],
   "source": [
    "Buffon(100000)"
   ]
  },
  {
   "cell_type": "code",
   "execution_count": null,
   "metadata": {},
   "outputs": [],
   "source": [
    "Buffon(d = 2, 100000)"
   ]
  },
  {
   "cell_type": "code",
   "execution_count": null,
   "metadata": {},
   "outputs": [],
   "source": [
    "Buffon(100000, l = 1, d = 2)"
   ]
  },
  {
   "cell_type": "markdown",
   "metadata": {},
   "source": [
    "### Bloque de código 2.12: Cálculo de días entre dos fechas usando el método ordinario."
   ]
  },
  {
   "cell_type": "code",
   "execution_count": null,
   "metadata": {},
   "outputs": [],
   "source": [
    "using Dates\n",
    "\"\"\"\n",
    "C\\'alculo del n\\'umero de d\\'ias entre dos fechas f1 y f2,\n",
    "usando el m\\'etodo ordinario. Asume que la fecha f2 es\n",
    "posterior a f1.\n",
    "Argumentos:\n",
    "    f1: objeto de tipo `Date`\n",
    "    f2: objeto de tipo `Date`\n",
    "Ejemplos:\n",
    "    nDiasIntOrd(Date(2023,3,1),Date(2024,2,28))\n",
    "    nDiasIntOrd(Date(2022,2,25),Date(2022,3,5))\n",
    "\"\"\"\n",
    "function nDiasIntOrd(f1::Date,f2::Date)\n",
    "  M = 12(Dates.year(f2)-Dates.year(f1)) +\n",
    "      (Dates.month(f2)-Dates.month(f1)) - 1\n",
    "  delta = 30M + (30-Dates.day(f1)) + Dates.day(f2)\n",
    "  return delta\n",
    "end"
   ]
  },
  {
   "cell_type": "code",
   "execution_count": null,
   "metadata": {},
   "outputs": [],
   "source": [
    "nDiasIntOrd(Date(2022,2,25),Date(2022,3,5))"
   ]
  },
  {
   "cell_type": "code",
   "execution_count": null,
   "metadata": {},
   "outputs": [],
   "source": [
    "nDiasIntOrd(Date(2024,2,25),Date(2024,3,5))"
   ]
  },
  {
   "cell_type": "code",
   "execution_count": null,
   "metadata": {},
   "outputs": [],
   "source": [
    "nDiasIntOrd(Date(2022,1,15),Date(2024,6,26))"
   ]
  },
  {
   "cell_type": "markdown",
   "metadata": {},
   "source": [
    "### Bloque de código 2.13: Cálculo de días entre dos fechas del tipo DateTime usando el método ordinario."
   ]
  },
  {
   "cell_type": "code",
   "execution_count": null,
   "metadata": {},
   "outputs": [],
   "source": [
    "function nDiasIntOrd(f1::DateTime,f2::DateTime)\n",
    "    M = 12(Dates.year(f2)-Dates.year(f1)) +\n",
    "        (Dates.month(f2)-Dates.month(f1)) - 1\n",
    "    delta = 30M + (30-Dates.day(f1)) + Dates.day(f2)\n",
    "    return delta\n",
    "end\n",
    "  \n",
    "  "
   ]
  },
  {
   "cell_type": "code",
   "execution_count": null,
   "metadata": {},
   "outputs": [],
   "source": [
    "nDiasIntOrd(DateTime(2022,2,25),DateTime(2022,3,5))"
   ]
  },
  {
   "cell_type": "markdown",
   "metadata": {},
   "source": [
    "### Bloque de código 2.14: Diferencia finita central."
   ]
  },
  {
   "cell_type": "code",
   "execution_count": null,
   "metadata": {},
   "outputs": [],
   "source": [
    "diferenciaCentral(f, x; h = 1e-5) = (f(x+h/2)-f(x-h/2))/h"
   ]
  },
  {
   "cell_type": "code",
   "execution_count": null,
   "metadata": {},
   "outputs": [],
   "source": [
    "f1(x) = 1/(x^3 - x^2)\n",
    "diferenciaCentral(f1, 0.3)"
   ]
  },
  {
   "cell_type": "code",
   "execution_count": null,
   "metadata": {},
   "outputs": [],
   "source": [
    "diferenciaCentral( x -> 1/(x^3 - x^2), 0.3)"
   ]
  },
  {
   "cell_type": "code",
   "execution_count": null,
   "metadata": {},
   "outputs": [],
   "source": [
    "diferenciaCentral( x -> 1/(x^3 - x^2), 0.3, 1e-10)"
   ]
  },
  {
   "cell_type": "code",
   "execution_count": null,
   "metadata": {},
   "outputs": [],
   "source": [
    "diferenciaCentral(h = 1e-10, x -> 1/(x^3 - x^2), 0.3)"
   ]
  },
  {
   "cell_type": "code",
   "execution_count": null,
   "metadata": {},
   "outputs": [],
   "source": [
    "diferenciaCentral(x -> 1/(x^3 - x^2), h = 1e-12, 0.3)"
   ]
  },
  {
   "cell_type": "code",
   "execution_count": null,
   "metadata": {},
   "outputs": [],
   "source": [
    "diferenciaCentral( x -> 1/(x^3 - x^2), 0.3, h = 1e-17)"
   ]
  },
  {
   "cell_type": "markdown",
   "metadata": {},
   "source": [
    "### Bloque de código 2.15: Estimación primera derivada usando un paso complejo."
   ]
  },
  {
   "cell_type": "code",
   "execution_count": null,
   "metadata": {},
   "outputs": [],
   "source": [
    "difPasoComplejo(f, x; h = 1e-5) = imag(f(x+h*im))/h\n",
    "difPasoComplejo( x -> 1/(x^3 - x^2), 0.3, h = 1e-17)"
   ]
  },
  {
   "cell_type": "code",
   "execution_count": null,
   "metadata": {},
   "outputs": [],
   "source": [
    "difPasoComplejo(f1, 0.3, h = 1e-9)"
   ]
  },
  {
   "cell_type": "markdown",
   "metadata": {},
   "source": [
    "### Bloque de código 2.16: Definición de la suma en $\\mathbb{Z}_5$"
   ]
  },
  {
   "cell_type": "code",
   "execution_count": null,
   "metadata": {},
   "outputs": [],
   "source": [
    "sumaZ5(x::Int64, y::Int64) = (x+y)%5\n",
    "sumaZ5(2,4)"
   ]
  },
  {
   "cell_type": "code",
   "execution_count": null,
   "metadata": {},
   "outputs": [],
   "source": [
    "sumaZ5(x::Float64, y::Float64) = convert(Int64, round(x+y))%5"
   ]
  },
  {
   "cell_type": "markdown",
   "metadata": {},
   "source": [
    "### Bloque de código 2.17: Definición de las funciones para calcular el valor esperado y varianza de variables de tipo `Binom`"
   ]
  },
  {
   "cell_type": "code",
   "execution_count": null,
   "metadata": {},
   "outputs": [],
   "source": [
    "struct Binomial\n",
    "    n::Int\n",
    "    p::Real\n",
    "    Binomial(n,p) = (p > 1.0)|(p < 0) ? error(\"Probabilidad ∉ (0,1)\") : new(n,p)\n",
    "end"
   ]
  },
  {
   "cell_type": "code",
   "execution_count": null,
   "metadata": {},
   "outputs": [],
   "source": [
    "valorEsperado(x::Binom) = x.n*x.p"
   ]
  },
  {
   "cell_type": "code",
   "execution_count": null,
   "metadata": {},
   "outputs": [],
   "source": [
    "varianza(x::Binom) = x.n*x.p*(1-x.p)"
   ]
  },
  {
   "cell_type": "markdown",
   "metadata": {},
   "source": [
    "### Definición de la función para calcular el valor esperado de $g(X)$ para variables del tipo `Binom`"
   ]
  },
  {
   "cell_type": "code",
   "execution_count": null,
   "metadata": {},
   "outputs": [],
   "source": [
    "using Distributions\n",
    "function valorEsperado(x::Binomial, g)\n",
    "  xs = 0:x.n\n",
    "  xbinom = binomial.(x.n,xs).*(x.p.^xs).*((1-x.p).^(x.n.-xs))\n",
    "  return sum(g.(xs).*xbinom)\n",
    "end"
   ]
  },
  {
   "cell_type": "code",
   "execution_count": null,
   "metadata": {},
   "outputs": [],
   "source": [
    "valorEsperado(b₁,x -> (x-2.4)^2)"
   ]
  },
  {
   "cell_type": "code",
   "execution_count": null,
   "metadata": {},
   "outputs": [],
   "source": [
    "valorEsperado(b₁,x -> abs(x-2.4))"
   ]
  },
  {
   "cell_type": "code",
   "execution_count": null,
   "metadata": {},
   "outputs": [],
   "source": [
    "valorEsperado(b₁,x -> x^3)"
   ]
  },
  {
   "cell_type": "markdown",
   "metadata": {},
   "source": [
    "### Bloque de código 2.19: Mapeo de funciones"
   ]
  },
  {
   "cell_type": "code",
   "execution_count": null,
   "metadata": {},
   "outputs": [],
   "source": [
    "nombreUsuario = (\"Andrea\", \"Boris\",\"Carla\",\"Dana\", \"Ernesto\")\n",
    "apellidoUsuario = (\"Alvarado\", \"Baron\",\"Castillo\",\"Diaz\", \"Estrada\")\n",
    "usuario = lowercase.(nombreUsuario).*\".\".*lowercase.(apellidoUsuario)\n",
    "correos = usuario.*\"@\".*\"univ.edu.co\""
   ]
  },
  {
   "cell_type": "code",
   "execution_count": null,
   "metadata": {},
   "outputs": [],
   "source": [
    "usuarios2 = map(x -> x[1:findfirst(\"@\", x)[1]-1] , correos)"
   ]
  },
  {
   "cell_type": "markdown",
   "metadata": {},
   "source": [
    "### Bloque de código 2.20: Definición del logaritmo y el recíproco para números de tipo `Dual`"
   ]
  },
  {
   "cell_type": "code",
   "execution_count": null,
   "metadata": {},
   "outputs": [],
   "source": [
    "# Definición estructura Dual\n",
    "struct Dual <: Number\n",
    "    a::Real\n",
    "    a0::Real\n",
    "end  \n",
    "Base.:+(x::Dual,y::Dual) = Dual(x.a + y.a, x.a0 + y.a0)\n",
    "Base.:*(x::Dual,y::Dual) = Dual(x.a*y.a, x.a*y.a0 + x.a0*y.a)\n",
    "Base.:promote_rule(::Type{Dual}, ::Type{<:Real}) = Dual\n",
    "Base.:convert(::Type{Dual}, x::Real) = Dual(x, zero(x))\n",
    "Base.:show(io::IO, x::Dual) = print(io,x.a,\" + \", x.a0, \"⋅ϵ\")\n",
    "Base.:-(x::Dual,y::Dual) = Dual(x.a - y.a, x.a0 - y.a0)\n",
    "Base.:/(x::Dual,y::Dual) = Dual(x.a/y.a, (y.a*x.a0 - x.a*y.a0)/y.a^2)\n",
    "ϵ = Dual(0,1);"
   ]
  },
  {
   "cell_type": "code",
   "execution_count": null,
   "metadata": {},
   "outputs": [],
   "source": [
    "Base.log(x::Dual) = Dual(log(x.a), x.a0/x.a)\n",
    "Reciproco(x::Dual) = Dual(1/x.a, -x.a0/x.a^2)"
   ]
  },
  {
   "cell_type": "markdown",
   "metadata": {},
   "source": [
    "### Bloque de código 2.21: Cálculo de la derivada por diferenciación automática de la función representada en la Figura 2.3."
   ]
  },
  {
   "cell_type": "code",
   "execution_count": null,
   "metadata": {},
   "outputs": [],
   "source": [
    "x₀ = 1/4; y₀ = 2\n",
    "# Derivada con respecto a x\n",
    "x = Dual(x₀,1)\n",
    "y = Dual(y₀,0)\n",
    "println(x^3*log(x*y^2-Reciproco(y)))\n",
    "# Derivada con respecto a y\n",
    "x = Dual(x₀,0)\n",
    "y = Dual(y₀,1)\n",
    "print(x^3*log(x*y^2-Reciproco(y)))"
   ]
  },
  {
   "cell_type": "markdown",
   "metadata": {},
   "source": [
    "### Bloque de código 2.22: Cálculo de la derivada por diferenciación automática de la función representada en la Figura 2.3 usando el paquete `ForwardDiff.jl`"
   ]
  },
  {
   "cell_type": "code",
   "execution_count": null,
   "metadata": {},
   "outputs": [],
   "source": [
    "using ForwardDiff\n",
    "x = ForwardDiff.Dual(x₀,1)\n",
    "y = ForwardDiff.Dual(y₀,0)\n",
    "println(x^3*log(x*y^2- 1/y))"
   ]
  },
  {
   "cell_type": "code",
   "execution_count": null,
   "metadata": {},
   "outputs": [],
   "source": [
    "x = ForwardDiff.Dual(x₀,0)\n",
    "y = ForwardDiff.Dual(y₀,1)\n",
    "x^3*log(x*y^2- 1/y)"
   ]
  },
  {
   "cell_type": "markdown",
   "metadata": {},
   "source": [
    "### Bloque de código 2.24: Opción de compra europea"
   ]
  },
  {
   "cell_type": "code",
   "execution_count": null,
   "metadata": {},
   "outputs": [],
   "source": [
    "function gananciaOpcionEuropea(st, s, x)\n",
    "    if st > s\n",
    "        out = st - s - x\n",
    "    else\n",
    "        out = -x\n",
    "    end\n",
    "    return out\n",
    "end  "
   ]
  },
  {
   "cell_type": "markdown",
   "metadata": {},
   "source": [
    "### Bloque de código 2.25: Código para obtener la Figura 2.5"
   ]
  },
  {
   "cell_type": "code",
   "execution_count": null,
   "metadata": {},
   "outputs": [],
   "source": [
    "using Plots\n",
    "using LaTeXStrings\n",
    "St = 100:122\n",
    "plot(St,gananciaOpcionEuropea.(St,110,6), label = \"\", legend =:top)\n",
    "xlabel!(L\"S_T\")\n",
    "ylabel!(\"Ganancia\")\n",
    "hline!([0], c = :red, linestyle = :dot, label = \"\")"
   ]
  },
  {
   "cell_type": "markdown",
   "metadata": {},
   "source": [
    "### Bloque de código 2.26: Función de densidad de probabilidad triangular"
   ]
  },
  {
   "cell_type": "code",
   "execution_count": null,
   "metadata": {},
   "outputs": [],
   "source": [
    "function pdfTriangular(x)\n",
    "  if x < 0\n",
    "    out = 0\n",
    "  elseif x < 1\n",
    "    out = x\n",
    "  elseif x < 2\n",
    "    out = 2 - x\n",
    "  else\n",
    "    out = 0\n",
    "  end\n",
    "  return out\n",
    "end\n"
   ]
  },
  {
   "cell_type": "markdown",
   "metadata": {},
   "source": [
    "### Bloque de código 2.27: Función de densidad de probabilidad triangular usando múltiples comparaciones"
   ]
  },
  {
   "cell_type": "code",
   "execution_count": null,
   "metadata": {},
   "outputs": [],
   "source": [
    "function pdfTriangular(x)\n",
    "    if 0 < x ≤ 1\n",
    "      out = x\n",
    "    elseif 1 < x < 2\n",
    "      out = 2 -x\n",
    "    else\n",
    "      out = 0\n",
    "    end\n",
    "    return out\n",
    "end  "
   ]
  },
  {
   "cell_type": "markdown",
   "metadata": {},
   "source": [
    "### Bloque de código 2.28: Función para calcular la distancia euclidiana entre un punto y varios puntos en $\\mathbb{R}^p$ verificando la dimensión"
   ]
  },
  {
   "cell_type": "code",
   "execution_count": null,
   "metadata": {},
   "outputs": [],
   "source": [
    "function distanciaEuc(x::Array,y::Array)\n",
    "    if size(x)[2] == size(y)[2]\n",
    "      return(.√(sum((x.-y).^2,dims=2)))\n",
    "    else\n",
    "      error(\"Las dimensiones no son iguales\")\n",
    "    end\n",
    "end  "
   ]
  },
  {
   "cell_type": "markdown",
   "metadata": {},
   "source": [
    "### Bloque de código 2.29: Opción de compra europea usando la declaración `?-:`"
   ]
  },
  {
   "cell_type": "code",
   "execution_count": null,
   "metadata": {},
   "outputs": [],
   "source": [
    "function gananciaOpcionEuropea(st, s, x)\n",
    "    return st > s ? st - s - x : -x\n",
    "end  "
   ]
  },
  {
   "cell_type": "markdown",
   "metadata": {},
   "source": [
    "### Bloque de código 2.30: Redefinición del método para mostrar en pantalla un número de tipo `Dual`"
   ]
  },
  {
   "cell_type": "code",
   "execution_count": null,
   "metadata": {},
   "outputs": [],
   "source": []
  },
  {
   "cell_type": "code",
   "execution_count": null,
   "metadata": {},
   "outputs": [],
   "source": [
    "struct Dual <: Number\n",
    "    a::Real\n",
    "    a0::Real\n",
    "end\n",
    "Base.:+(x::Dual,y::Dual) = Dual(x.a + y.a, x.a0 + y.a0)\n",
    "Base.:*(x::Dual,y::Dual) = Dual(x.a*y.a, x.a*y.a0 + x.a0*y.a)\n",
    "Base.:promote_rule(::Type{Dual}, ::Type{<:Real}) = Dual\n",
    "Base.:convert(::Type{Dual}, x::Real) = Dual(x, zero(x))\n",
    "Base.:-(x::Dual,y::Dual) = Dual(x.a - y.a, x.a0 - y.a0)\n",
    "Base.:/(x::Dual,y::Dual) = Dual(x.a/y.a, (y.a*x.a0 - x.a*y.a0)/y.a^2)\n",
    "ϵ = Dual(0,1)\n",
    "Base.:show(io::IO, x::Dual) = print(io,x.a,\" + \", x.a0, \"ϵ\")"
   ]
  },
  {
   "cell_type": "code",
   "execution_count": null,
   "metadata": {},
   "outputs": [],
   "source": [
    "1+ϵ"
   ]
  },
  {
   "cell_type": "code",
   "execution_count": null,
   "metadata": {},
   "outputs": [],
   "source": [
    "1-ϵ"
   ]
  },
  {
   "cell_type": "code",
   "execution_count": null,
   "metadata": {},
   "outputs": [],
   "source": [
    "Base.:show(io::IO, x::Dual) = print(io, x.a, x.a0 >= 0 ? \" + \" : \" - \", abs(x.a0) == 1 ? \"\" : abs(x.a0), \"ϵ\")"
   ]
  },
  {
   "cell_type": "code",
   "execution_count": null,
   "metadata": {},
   "outputs": [],
   "source": [
    "1+ϵ"
   ]
  },
  {
   "cell_type": "code",
   "execution_count": null,
   "metadata": {},
   "outputs": [],
   "source": [
    "1-ϵ"
   ]
  },
  {
   "cell_type": "code",
   "execution_count": null,
   "metadata": {},
   "outputs": [],
   "source": [
    "1+0ϵ"
   ]
  },
  {
   "cell_type": "markdown",
   "metadata": {},
   "source": [
    "### Bloque de código 2.31: Definición estructura binom verificando que `p` es mayor que 0 y menor que 1.\n"
   ]
  },
  {
   "cell_type": "code",
   "execution_count": null,
   "metadata": {},
   "outputs": [],
   "source": [
    "struct Binomial\n",
    "    n::Int\n",
    "    p::Real\n",
    "    Binomial(n,p) = (p > 1.0)||(p < 0) ? error(\"Probabilidad ∉ (0,1)\") : new(n,p)\n",
    "end  "
   ]
  },
  {
   "cell_type": "markdown",
   "metadata": {},
   "source": [
    "### Bloque de código 2.34: Función para estimar la integral definida usando la regla trapezoidal."
   ]
  },
  {
   "cell_type": "code",
   "execution_count": null,
   "metadata": {},
   "outputs": [],
   "source": [
    "function trapezoildal(f, a, b; n = 100)\n",
    "   Δ  = (b-a)/(n-1)\n",
    "   particion = a:Δ:b\n",
    "   resultado = f(a)/2\n",
    "   for i ∈ 2:(n-1)\n",
    "     resultado += f(particion[i])\n",
    "   end\n",
    "   resultado += f(b)/2\n",
    "   return Δ*resultado\n",
    " end"
   ]
  },
  {
   "cell_type": "code",
   "execution_count": null,
   "metadata": {},
   "outputs": [],
   "source": [
    "trapezoildal(x -> x^2 + x - 2, 0,1)"
   ]
  },
  {
   "cell_type": "markdown",
   "metadata": {},
   "source": [
    "### Bloque de código 2.35: Generación de todas las muestras de tamaño 4 sin reemplazamiento para una población de tamaño 10 y cálculo de la distribución muestral de la media."
   ]
  },
  {
   "cell_type": "code",
   "execution_count": null,
   "metadata": {},
   "outputs": [],
   "source": [
    "alturas = [ 156 158 160 161 163 165 166 167 169 170]\n",
    "muestras = fill(0,(210,4))\n",
    "m = 1\n",
    "for i in 1:7\n",
    "  for j ∈ (i+1):8\n",
    "    for k ∈ (j+1):9\n",
    "      for l ∈ (k+1):10\n",
    "        muestras[m,:] .= alturas[[i,j,k,l]]\n",
    "        m += 1\n",
    "      end\n",
    "    end\n",
    "  end\n",
    "end"
   ]
  },
  {
   "cell_type": "code",
   "execution_count": null,
   "metadata": {},
   "outputs": [],
   "source": [
    "mediasMuestrales = sum(muestras, dims = 2)/4"
   ]
  },
  {
   "cell_type": "code",
   "execution_count": null,
   "metadata": {},
   "outputs": [],
   "source": [
    "using Plots\n",
    "using LaTeXStrings\n",
    "histogram(mediasMuestrales, nbins=20, c =:red, fillalpha = .2, legend = false, xlab = L\"\\overline{x}\", ylab = \"Conteos\")"
   ]
  },
  {
   "cell_type": "markdown",
   "metadata": {},
   "source": [
    "### Bloque de código 2.36: Generación de todas las muestras de tamaño 4 sin reemplazamiento para una población de tamaño 10."
   ]
  },
  {
   "cell_type": "code",
   "execution_count": null,
   "metadata": {},
   "outputs": [],
   "source": [
    "m = 1\n",
    "for i ∈ 1:7, j ∈ (i+1):8, k ∈ (j+1):9, l ∈ (k+1):10\n",
    "  muestras[m,:] .= alturas[[i,j,k,l]]\n",
    "  m += 1\n",
    "end"
   ]
  },
  {
   "cell_type": "markdown",
   "metadata": {},
   "source": [
    "### Bloque de código 2.37: Generación de todas las muestras de tamaño 𝑛 sin reemplazamiento para una población de tamaño $N$"
   ]
  },
  {
   "cell_type": "code",
   "execution_count": null,
   "metadata": {},
   "outputs": [],
   "source": [
    "function MuestrasSR(N, n)\n",
    "    nMuestras = binomial(N,n)\n",
    "    muestras =  fill(0,(nMuestras,n))\n",
    "    for i in 1:n\n",
    "        fila, valor =  0, i\n",
    "        for j in 1:nMuestras\n",
    "            fila += 1\n",
    "            borde = binomial(N-t, n-i)\n",
    "            if fila > borde\n",
    "                fila = 1\n",
    "                valor +=  1\n",
    "            end\n",
    "            if valor > N - n + i\n",
    "                valor = muestras[j, i - 1] + 1\n",
    "            end\n",
    "            muestras[j, i] = valor\n",
    "      end\n",
    "    end\n",
    "    return muestras\n",
    "end  "
   ]
  },
  {
   "cell_type": "code",
   "execution_count": null,
   "metadata": {},
   "outputs": [],
   "source": [
    "# Muestras utilizando el paquete Combinatorics.jl\n",
    "using Combinatorics\n",
    "collect(combinations(1:5,3))"
   ]
  },
  {
   "cell_type": "markdown",
   "metadata": {},
   "source": [
    "### Bloque de código 2.38: Simulación de una cadena de Markov continua"
   ]
  },
  {
   "cell_type": "code",
   "execution_count": null,
   "metadata": {},
   "outputs": [],
   "source": [
    "using Random\n",
    "using LinearAlgebra\n",
    "using InvertedIndices\n",
    "using CairoMakie\n",
    "using LaTeXStrings\n",
    "function simulacionCMC(Q::Array; estadoInicial = NaN, n = 15, graficar=false)\n",
    "    estados = zeros(Int8, n+1)\n",
    "    tiempos = zeros(n+1)\n",
    "    numeroEstados = size(Q,1)\n",
    "    isnan(estadoInicial) ? estados[1] = rand(1:numeroEstados) : estados[1] = estadoInicial\n",
    "    estadoActual = estados[1]\n",
    "    for i in 1:n\n",
    "        tasa = Q[estadoActual, :]\n",
    "        tasaCero = (tasa .<= 0)\n",
    "        Ts = randexp(numeroEstados-sum(tasaCero))./tasa[Not(tasaCero)]\n",
    "        tiempos[i+1] = tiempos[i] + minimum(Ts)\n",
    "        estadoActual = ((1:numeroEstados).*(1 .- tasaCero))[Not(tasaCero)][argmin(Ts)]\n",
    "        estados[i+1] = estadoActual\n",
    "    end\n",
    "    if graficar\n",
    "        figura = Figure()\n",
    "        ax1 = Axis(figura[1, 1], xlabel = L\"t\", ylabel = \"Estado\")\n",
    "        stairs!(figura[1, 1], tiempos , estados .- 1; step=:post,linestyle=:dot)\n",
    "        scatter!(figura[1, 1], tiempos, estados .- 1)\n",
    "        hidespines!(ax1)\n",
    "        display(figura)\n",
    "    end\n",
    "    return (tiempos, estados)\n",
    "end"
   ]
  },
  {
   "cell_type": "markdown",
   "metadata": {},
   "source": [
    "### Bloque de código 2.39: Simulación del tamaño de la cola en la oficina de registro"
   ]
  },
  {
   "cell_type": "code",
   "execution_count": null,
   "metadata": {},
   "outputs": [],
   "source": [
    "using LinearAlgebra\n",
    "a = Tridiagonal(fill(1/5,4),.-[1/4,9/20,9/20,9/20,1/5],fill(1/4,4))\n",
    "xt = simulacionCMC(Array(a), estadoInicial = 1, graficar = true, n = 50)"
   ]
  },
  {
   "cell_type": "markdown",
   "metadata": {},
   "source": [
    "### Bloque de código 2.40: Estimación de los parámetros en el modelo 1.3 para los datos en la Tabla 1.4 usando un ciclo `for`"
   ]
  },
  {
   "cell_type": "code",
   "execution_count": null,
   "metadata": {},
   "outputs": [],
   "source": [
    "function estimacionMezclaPoisson0(frec, θ::MezclaPoisson; mEstrella = 10)\n",
    "    n = size(frec, 2)\n",
    "    for i in 1:mEstrella\n",
    "      p = θ.p; λ = θ.λ; μ = θ.μ\n",
    "      λ₁ = (p*exp(-λ)).*(λ.^frec)\n",
    "      μ₁ = ((1-p)*exp(-μ)).*(μ.^frec)\n",
    "      z  = λ₁./(λ₁ .+ μ₁)\n",
    "      p = sum(z)/n\n",
    "      λ = sum(z.*frec)/sum(z)\n",
    "      μ = sum((1 .-z).*frec)/sum(1 .-z)\n",
    "      θ.p = p; θ.λ = λ; θ.μ = μ\n",
    "    end\n",
    "    return θ\n",
    "  end  "
   ]
  },
  {
   "cell_type": "markdown",
   "metadata": {},
   "source": [
    "### Bloque de código 2.41: Estimación de los parámetros en el modelo 1.3 para los datos en la Tabla 1.4 utilizando un ciclo `while`"
   ]
  },
  {
   "cell_type": "code",
   "execution_count": null,
   "metadata": {},
   "outputs": [],
   "source": [
    "function estimacionMezclaPoisson(frec, θ::MezclaPoisson; tol = 0.001)\n",
    "    Δ = 10\n",
    "    n = size(frec, 2)\n",
    "    while(Δ > tol)\n",
    "      p = θ.p; λ = θ.λ; μ = θ.μ\n",
    "      λ₁ = (p*exp(-λ)).*(λ.^frec)\n",
    "      μ₁ = ((1-p)*exp(-μ)).*(μ.^frec)\n",
    "      z  = λ₁./(λ₁ .+ μ₁)\n",
    "      p = sum(z)/n\n",
    "      λ = sum(z.*frec)/sum(z)\n",
    "      μ = sum((1 .-z).*frec)/sum(1 .-z)\n",
    "      Δ = distanciaEuc(MezclaPoisson(λ, μ, p), θ)\n",
    "      θ.p = p; θ.λ = λ; θ.μ = μ\n",
    "    end\n",
    "    return θ\n",
    "end"
   ]
  },
  {
   "cell_type": "markdown",
   "metadata": {},
   "source": [
    "### Bloque de código 2.42: Búsqueda aleatoria de un mínimo local de una función"
   ]
  },
  {
   "cell_type": "code",
   "execution_count": null,
   "metadata": {},
   "outputs": [],
   "source": [
    "using Distributions\n",
    "function busquedaAleatoria(f, xb, n; tol = 1e-8, vtol = 1e-4, maxiter = 1000, σ²₀ = 1.0, η = 0.9)\n",
    "  # Inicializaci\\'on del n\\'umero de iteraciones y asignaci\\'on de las\n",
    "  # variables que controlan el algoritmo\n",
    "  iteraciones, sinMejoras = 0, 0\n",
    "  σ² = σ²₀              \n",
    "  fb, xnuevo = Inf, xb    # fb se inicializa con un valor infinito\n",
    "                          # para garantizar que el ciclo inicie\n",
    "  fnuevo = f(xnuevo)\n",
    "  while (iteraciones ≤ maxiter && (fb - fnuevo > tol || σ² > vtol))\n",
    "  # Mientras que no se llegue al n\\'umero m\\'aximo de iteraciones y no\n",
    "  # cambie el valor de la funci\\'on en una valor superior a tol o la\n",
    "  # varianza sea menor a vtol se ejecutan los siguientes comandos\n",
    "    fb = fnuevo\n",
    "    x = rand(MvNormal(xb, σ²),n)\n",
    "    valoresF = mapslices(f, x, dims = [1])\n",
    "    (fnuevo, i) = findmin(valoresF)\n",
    "    if(fnuevo > fb)\n",
    "      sinMejoras += 1\n",
    "      fnuevo = fb\n",
    "    else\n",
    "      xb = x[:,i[2]]\n",
    "      sinMejoras = 0\n",
    "    end\n",
    "    if (sinMejoras > 9)\n",
    "      σ² *= η\n",
    "    end\n",
    "    iteraciones += 1\n",
    "  end\n",
    "  return(minimo = xb, fminimo = fb, iteraciones)\n",
    "end"
   ]
  },
  {
   "cell_type": "markdown",
   "metadata": {},
   "source": [
    "### Bloque de código 2.43: Búsqueda aleatoria de mínimos locales y máximo local de la función de Himmelblau"
   ]
  },
  {
   "cell_type": "code",
   "execution_count": null,
   "metadata": {},
   "outputs": [],
   "source": [
    "Himmelblau(x) = (x[1]^2 + x[2] - 11)^2 + (x[1]+x[2]^2-7)^2\n",
    "busquedaAleatoria(Himmelblau,[0,3.0], 200, σ²₀ = 2.0)"
   ]
  },
  {
   "cell_type": "code",
   "execution_count": null,
   "metadata": {},
   "outputs": [],
   "source": [
    "busquedaAleatoria(x -> -Himmelblau(x),[0,0], 200, σ²₀ = 0.2)"
   ]
  },
  {
   "cell_type": "markdown",
   "metadata": {},
   "source": [
    "### Bloque de código 2.44: Función de Himmelblau con contornos"
   ]
  },
  {
   "cell_type": "code",
   "execution_count": null,
   "metadata": {},
   "outputs": [],
   "source": [
    "using GLMakie\n",
    "GLMakie.activate!()\n",
    "xs = -5:.1:5\n",
    "ys = -5:.1:5\n",
    "zs = [himmelblau([x,y]) for x in xs, y in ys]\n",
    "fig = Figure(resolution=(1200, 800), fontsize=26)\n",
    "ax1 =  Axis3(fig[1, 1]; aspect=(1, 1, 1), elevation = pi/8,\n",
    "        xzpanelcolor=:grey25, perspectiveness = 0.5,\n",
    "        yzpanelcolor = :black, zgridcolor = :grey70,\n",
    "        ygridcolor = :grey70, xgridcolor = :grey70)\n",
    "ax2 = Axis(fig[1, 3]; aspect = DataAspect())\n",
    "surface!(ax1, xs, ys, zs; colormap=(:Spectral_11,0.75), shading=false)\n",
    "contour3d!(ax1, xs, ys, zs; colormap=:Spectral_11, levels=20, linewidth=2)\n",
    "contour!(ax1, xs, ys, zs; colormap=:Spectral_11, levels=50, transformation=(:xy, -50))\n",
    "s = contourf!(ax2, xs, ys, zs; colormap=:Spectral_11, levels=50)\n",
    "Colorbar(fig[1, 2], s, width=15, ticksize=15, tickalign=1, height=Relative(0.66))\n",
    "fig\n"
   ]
  },
  {
   "cell_type": "markdown",
   "metadata": {},
   "source": [
    "### Bloque de código 2.45: Cálculo del gradiente usando diferenciación automática"
   ]
  },
  {
   "cell_type": "code",
   "execution_count": null,
   "metadata": {},
   "outputs": [],
   "source": [
    "using LinearAlgebra\n",
    "function gradianteDual(f,x)\n",
    "  p = size(x,1)\n",
    "  a = Dual.(x, I(p))\n",
    "  val = mapslices(f, a, dims = 1)\n",
    "  return vec([i.a0 for i in val])\n",
    "end  "
   ]
  },
  {
   "cell_type": "markdown",
   "metadata": {},
   "source": [
    "### Bloque de código 2.46: Gradiente descendente utilizando diferenciación automática"
   ]
  },
  {
   "cell_type": "code",
   "execution_count": null,
   "metadata": {},
   "outputs": [],
   "source": [
    "using LinearAlgebra\n",
    "function gradienteDescendente(f, xb; η = 1, tol = 1e-8, xtol = 1e-4, gtol = 1e-6, maxiter = 1000)\n",
    "  iteraciones, sinMejoras,mejoro = 0, 0, 0\n",
    "  cambioX, cambioF = Inf, Inf\n",
    "  nG = norm(gradianteDual(f,xb))\n",
    "  fb = f(xb)\n",
    "  while (iteraciones ≤ maxiter && (cambioF > tol || cambioX > xtol || nG > gtol))\n",
    "    g = gradianteDual(f,xb)\n",
    "    xnuevo = xb - η*g\n",
    "    fnuevo = f(xnuevo)\n",
    "    if (fnuevo ≥ fb)\n",
    "      η /= 2\n",
    "      mejoro = 0     \n",
    "      sinMejoras += 1\n",
    "      if (sinMejoras > 9)\n",
    "        break\n",
    "      end\n",
    "    else\n",
    "      sinMejoras = 0\n",
    "      mejoro += 1\n",
    "      if (mejoro > 4)\n",
    "        η *= 2\n",
    "        mejoro = 0\n",
    "      end\n",
    "      cambioX = norm(xnuevo - xb)\n",
    "      cambioF = abs(fnuevo - fb)\n",
    "      xb = xnuevo\n",
    "      fb = fnuevo\n",
    "    end\n",
    "    iteraciones += 1\n",
    "  end\n",
    "  return(minimo = xb, fminimo = fb, iteraciones)\n",
    "end"
   ]
  },
  {
   "cell_type": "markdown",
   "metadata": {},
   "source": [
    "### Bloque de código 2.47: Evaluación de la expresión a = h*b/2"
   ]
  },
  {
   "cell_type": "code",
   "execution_count": null,
   "metadata": {},
   "outputs": [],
   "source": [
    "expresion = :(a = (b * h) / 2)"
   ]
  },
  {
   "cell_type": "code",
   "execution_count": null,
   "metadata": {},
   "outputs": [],
   "source": [
    "b, h = 2, 3\n",
    "eval(expresion)"
   ]
  },
  {
   "cell_type": "markdown",
   "metadata": {},
   "source": [
    "### Bloque de código 2.49: Macro para nombrar una función"
   ]
  },
  {
   "cell_type": "code",
   "execution_count": null,
   "metadata": {},
   "outputs": [],
   "source": [
    "macro nombrarOper(nombref, exponente)\n",
    "    :(\n",
    "      function $nombref(a, b)\n",
    "        a + b^$exponente\n",
    "      end     \n",
    "    )\n",
    "  end  "
   ]
  },
  {
   "cell_type": "code",
   "execution_count": null,
   "metadata": {},
   "outputs": [],
   "source": [
    "@nombrarOper s3 3"
   ]
  },
  {
   "cell_type": "code",
   "execution_count": null,
   "metadata": {},
   "outputs": [],
   "source": [
    "@nombrarOper spi π"
   ]
  },
  {
   "cell_type": "markdown",
   "metadata": {},
   "source": [
    "### Bloque de código 2.50: Macro para nombrar una función usando `quote`"
   ]
  },
  {
   "cell_type": "code",
   "execution_count": null,
   "metadata": {},
   "outputs": [],
   "source": [
    "macro nombrarOper(nombref, exponente)\n",
    "    quote\n",
    "      function $(esc(nombref))(a, b)\n",
    "        a + b^$(esc(exponente))\n",
    "      end     \n",
    "    end\n",
    "  end  "
   ]
  },
  {
   "cell_type": "markdown",
   "metadata": {},
   "source": [
    "### Bloque de código 2.51: Mutable vs. no mutable"
   ]
  },
  {
   "cell_type": "code",
   "execution_count": null,
   "metadata": {},
   "outputs": [],
   "source": [
    "tupla =  [(rand(), rand()) for _ in 1:1000]\n",
    "arreglo = [[rand(), rand()] for _ in 1:1000]\n",
    "function producto(x)\n",
    "    [i .- j for i in x, j in x]\n",
    "end\n"
   ]
  },
  {
   "cell_type": "code",
   "execution_count": null,
   "metadata": {},
   "outputs": [],
   "source": [
    "print(\"Operación con tupla\")\n",
    "@time producto(tupla)"
   ]
  },
  {
   "cell_type": "code",
   "execution_count": null,
   "metadata": {},
   "outputs": [],
   "source": [
    "print(\"Operación con arreglo\")\n",
    "@time producto(arreglo)"
   ]
  },
  {
   "cell_type": "markdown",
   "metadata": {},
   "source": [
    "### Bloque de código 2.52: Función para calcular la distancia euclidiana entre un punto y varios puntos en $\\mathbb{R}^p$ verificando la dimensión con la macro `@assert`"
   ]
  },
  {
   "cell_type": "code",
   "execution_count": null,
   "metadata": {},
   "outputs": [],
   "source": [
    "function distanciaEuc(x::Array,y::Array)\n",
    "    @assert size(x,2) == size(y,2) \"Las dimensiones no coinciden\"\n",
    "    return .√(sum((x.-y).^2,dims=2))\n",
    "end  "
   ]
  },
  {
   "cell_type": "markdown",
   "metadata": {},
   "source": [
    "### Bloque de código 2.53: Simulación de una cadena de Markov continua usando `@assert`"
   ]
  },
  {
   "cell_type": "code",
   "execution_count": null,
   "metadata": {},
   "outputs": [],
   "source": [
    "using InvertedIndices\n",
    "function obtenerParametros(qi::Vector)\n",
    "    numeroEstados = size(qi,1)\n",
    "    tasaCero = (qi .<= 0)\n",
    "    qij = qi[Not(tasaCero)]\n",
    "    estadoT = ((1:numeroEstados).*(1 .- tasaCero))[Not(tasaCero)]\n",
    "    return qij, estadoT, size(qij,1)\n",
    "end"
   ]
  },
  {
   "cell_type": "markdown",
   "metadata": {},
   "source": [
    "### Bloque de código 2.54: Encontrar los parámetros de una cadena de Markov continua"
   ]
  },
  {
   "cell_type": "code",
   "execution_count": null,
   "metadata": {},
   "outputs": [],
   "source": [
    "using Random\n",
    "using LinearAlgebra\n",
    "using InvertedIndices\n",
    "using CairoMakie\n",
    "using LaTeXStrings\n",
    "\n",
    "function simulacionCMC(Q::Array; estadoInicial = NaN, T = 60, graficar=false)\n",
    "    numeroEstados = size(Q,2)\n",
    "    cond1 = sum(Q, dims = 2) == zeros(numeroEstados,1)\n",
    "    cond2 = -2 .*diag(Q) == reshape(sum(abs.(Q), dims = 2),(numeroEstados,))\n",
    "    cond3 = sum(diag(Q) .< 0) == numeroEstados\n",
    "    @assert cond1 & cond2 & cond3 \"La matriz dada no es una matriz generadora\"\n",
    "    isnan(estadoInicial) ? estados = [rand(1:numeroEstados)] : estados = [estadoInicial]\n",
    "    estadoActual = estadoInicial\n",
    "    @show parametros = mapslices(obtenerParametros, Q, dims = 2)\n",
    "    TiempoTotal = 0.0\n",
    "    tiempos = [TiempoTotal]\n",
    "    while TiempoTotal < T\n",
    "        Ts = randexp( parametros[estadoActual][3] )./parametros[estadoActual][1]\n",
    "        TiempoTotal += minimum(Ts)\n",
    "        estadoActual = parametros[estadoActual][2][argmin(Ts)]\n",
    "        push!(estados,estadoActual)\n",
    "        push!(tiempos,TiempoTotal)\n",
    "    end\n",
    "    if graficar\n",
    "        figura = Figure()\n",
    "        ax1 = Axis(figura[1, 1], xlabel = L\"t\", ylabel = \"Estado\")\n",
    "        stairs!(figura[1, 1], tiempos , estados .- 1; step=:post,linestyle=:dot)\n",
    "        scatter!(figura[1, 1], tiempos, estados .- 1)\n",
    "        hidespines!(ax1)\n",
    "        display(figura)\n",
    "    end\n",
    "    return (tiempos, estados)\n",
    "end"
   ]
  },
  {
   "cell_type": "markdown",
   "metadata": {},
   "source": [
    "### Bloque de código 2.55: Uso básico de la función `Animation()` y `frame()`"
   ]
  },
  {
   "cell_type": "code",
   "execution_count": null,
   "metadata": {},
   "outputs": [],
   "source": [
    "using Plots, Images\n",
    "using LaTeXStrings\n",
    "n = 49\n",
    "β₀, β₁, β₂ = 1.2, -2.1, 0.8\n",
    "xi = 7 .*rand(n)\n",
    "primeraAnimacion = Plots.Animation()\n",
    "for i in 1:5\n",
    "    yi = β₀ .+ β₁ .*xi .+  (β₂ .* xi .^2) .+  2 .*randn(n)\n",
    "    scatter(xi, yi, color = RGB(i/5,1 - i/5, 1/5), legend = :none, ylims = (-7,25))\n",
    "    xlabel!(L\"x\")\n",
    "    ylabel!(L\"y\")\n",
    "    savefig(\"FFF\"*string(i)*\".pdf\")\n",
    "    frame(primeraAnimacion)\n",
    "end\n",
    "gif(primeraAnimacion, \"regresionLineal.gif\", fps = 2)"
   ]
  },
  {
   "cell_type": "markdown",
   "metadata": {},
   "source": [
    "### Bloque de código 2.56: Uso de la función `Animation()` y `frame()`"
   ]
  },
  {
   "cell_type": "code",
   "execution_count": null,
   "metadata": {},
   "outputs": [],
   "source": [
    "using LaTeXStrings\n",
    "using Plots\n",
    "x = -1.2:0.01:1.2\n",
    "animacion = Plots.Animation()\n",
    "plot(x, x -> exp(-x^2), color = RGB(1,.5,.5), legend = :none)\n",
    "annotate!(0, .9, text(L\"e^{-x^2}\", :hcenter, :vcenter, 10))\n",
    "xlabel!(L\"x\")\n",
    "ylabel!(L\"f(x)\")\n",
    "aproximacion = x.^0\n",
    "texto = \"1\"\n",
    "for i in 1:10\n",
    "    texto0 = \"\\\\frac{x^{\"*string(2i)*\"}}{\"*string(i)*\"!}\"\n",
    "    texto *= iseven(i) ? \"-\"*texto0 : \"+\"*texto0\n",
    "    textoF = \"\\$\"*texto*\"\\$\"\n",
    "    aproximacion .+= ((-1)^i).*(x.^(2i))./factorial(i)\n",
    "    plot!(x, aproximacion, color = RGB(1-i/10,.5,.5+i/20))\n",
    "    annotate!(0, .9 - i/8, text(textoF, 6))\n",
    "    frame(animacion)\n",
    "end\n",
    "gif(animacion, \"expx2Taylor.gif\", fps = 1)"
   ]
  },
  {
   "cell_type": "markdown",
   "metadata": {},
   "source": [
    "### Bloque de código 2.57: Animación de la búsqueda aleatoria de un mínimo local de una función en dos dimensiones"
   ]
  },
  {
   "cell_type": "code",
   "execution_count": null,
   "metadata": {},
   "outputs": [],
   "source": [
    "using Plots\n",
    "using Distributions\n",
    "function animacionBusquedaAleatoria(f, xb, n; tol = 1e-8, vtol = 1e-4, maxiter = 1000, σ²₀ = 1.0, η = 0.9, rangoX =[xb[1]-3*sqrt(σ²₀),xb[1]+3*sqrt(σ²₀)], rangoY = [xb[2]-3*sqrt(σ²₀),xb[2]+3*sqrt(σ²₀)])\n",
    "  @assert size(xb,1)==2 \"Solamente funciona para dos dimensiones\"\n",
    "  iteraciones, sinMejoras = 0, 0\n",
    "  σ² = σ²₀\n",
    "  fb, xnuevo = Inf, xb\n",
    "  fnuevo = f(xnuevo)\n",
    "  xs = range(rangoX[1],rangoX[2], length=101)\n",
    "  ys = range(rangoY[1],rangoY[2], length=101)\n",
    "  fig0 = Plots.contour(xs,ys,(xs,ys) -> log(f([xs,ys])))\n",
    "  animacion = Plots.Animation()\n",
    "  while (iteraciones ≤ maxiter && (fb - fnuevo > tol || σ² > vtol))\n",
    "    fb = fnuevo\n",
    "    x = rand(MvNormal(xb, σ²),n)\n",
    "    fig = deepcopy(fig0)\n",
    "    Plots.scatter!(fig, x[1,:], x[2,:], markercolor=:black, markeralpha=0.3, legend=false,xlims=rangoX, ylims=rangoY)\n",
    "    valoresF = mapslices(f, x, dims = [1])\n",
    "    (fnuevo, i) = findmin(valoresF)\n",
    "    if(fnuevo > fb)\n",
    "      sinMejoras += 1\n",
    "      fnuevo = fb\n",
    "    else\n",
    "      xb = x[:,i[2]]\n",
    "      sinMejoras = 0\n",
    "      Plots.scatter!(fig, [xb[1]], [xb[2]], markercolor=:red, markeralpha=0.9, legend=false)\n",
    "    end\n",
    "    if (sinMejoras > 9)\n",
    "      σ² *= η\n",
    "    end\n",
    "    iteraciones += 1\n",
    "    Plots.frame(animacion)\n",
    "  end\n",
    "  return(minimo = xb, fminimo = fb, iteraciones, animacion,fig0)  \n",
    "end"
   ]
  },
  {
   "cell_type": "code",
   "execution_count": null,
   "metadata": {},
   "outputs": [],
   "source": [
    "animacionHimmelblau = animacionBusquedaAleatoria(Himmelblau,[0,2], 200, σ²₀ = 5)\n",
    "gif(animacionHimmelblau[4], \"busquedaAleatoriaHimmelblau.gif\", fps=5)"
   ]
  },
  {
   "cell_type": "markdown",
   "metadata": {},
   "source": [
    "## Problema central: modelo de ramificación de una neurona"
   ]
  },
  {
   "cell_type": "code",
   "execution_count": null,
   "metadata": {},
   "outputs": [],
   "source": [
    "using SparseArrays\n",
    "using InvertedIndices\n",
    "using CairoMakie\n",
    "CairoMakie.activate!()"
   ]
  },
  {
   "cell_type": "code",
   "execution_count": null,
   "metadata": {},
   "outputs": [],
   "source": [
    "function distanciaEuc(x::Array,y::Array)\n",
    "    @assert size(x,2) == size(y,2) \"Las dimensiones no coinciden\"\n",
    "    return .√(sum((x.-y).^2,dims=2))\n",
    "end"
   ]
  },
  {
   "cell_type": "markdown",
   "metadata": {},
   "source": [
    "### Bloque de código 2.58: Definición del tipo `Neurona`"
   ]
  },
  {
   "cell_type": "code",
   "execution_count": null,
   "metadata": {},
   "outputs": [],
   "source": [
    "using SparseArrays\n",
    "struct Neurona\n",
    "    n::Int64                               # N\\'umero de puntos en P\n",
    "    A::SparseMatrixCSC{Bool}               # Matriz de adyacencia\n",
    "    p::Matrix{Real}                        # Posiciones\n",
    "    Neurona(n,A,p) = n < 1 ? error(\"Se necesita al menos un nodo\") : new(n, A, p)\n",
    "    Neurona(n,A,p) = size(A) != (n,n) ? error(\"Se requiere una matriz de dimension \"*string(n)*\" x \"*string(n)) : new(n,A,p)\n",
    "    Neurona(n,A,p) = size(p) != (n,2) ? error(\"Se requiere una matriz de dimension \"*string(n)*\"x 2\") : new(n,A,p)\n",
    "end"
   ]
  },
  {
   "cell_type": "markdown",
   "metadata": {},
   "source": [
    "### Bloque de código 2.59: Método de la función `crearNeurona()` para un conjunto de puntos dados"
   ]
  },
  {
   "cell_type": "code",
   "execution_count": null,
   "metadata": {},
   "outputs": [],
   "source": [
    "function crearNeurona(p::Matrix; b = 0.5)\n",
    "    r = adyacencia(p, b)\n",
    "    return r\n",
    "end"
   ]
  },
  {
   "cell_type": "markdown",
   "metadata": {},
   "source": [
    "### Bloque de código 2.60: Método de la función `crearNeurona()` generando 𝑛 puntos al azar"
   ]
  },
  {
   "cell_type": "code",
   "execution_count": null,
   "metadata": {},
   "outputs": [],
   "source": [
    "function crearNeurona(n::Int64; b = 0.5, d₀ = \"unif\", μ₀ = 0, σ₀ = 10)\n",
    "    p = puntosAzar(n, d = d₀, μ = μ₀, σ = σ₀)\n",
    "    r = adyacencia(p, b)\n",
    "    return r\n",
    "end"
   ]
  },
  {
   "cell_type": "markdown",
   "metadata": {},
   "source": [
    "### Bloque de código 2.61: Función para crear 𝑛 puntos aleatorios en $\\mathbb{R}^2$"
   ]
  },
  {
   "cell_type": "code",
   "execution_count": null,
   "metadata": {},
   "outputs": [],
   "source": [
    "function puntosAzar(n::Int64; d = \"unif\", μ = 0.0, σ = 10.0)\n",
    "    θ = 2π*rand(n)          # \\'Angulos aleatorios\n",
    "    if d == \"unif\"\n",
    "        r = σ*rand(n) .- μ  # Radios aleatorios\n",
    "    else\n",
    "        r = μ .+ σ*randn(n)    \n",
    "    end\n",
    "    xy = hcat(r.*cos.(θ),r.*sin.(θ))\n",
    "    return xy\n",
    "end"
   ]
  },
  {
   "cell_type": "markdown",
   "metadata": {},
   "source": [
    "### Bloque de código 2.62: Cálculo de la matriz de adyacencia en el modelo de ramificación propuesto por Cuntz et al. (2007)"
   ]
  },
  {
   "cell_type": "code",
   "execution_count": null,
   "metadata": {},
   "outputs": [],
   "source": [
    "function adyacencia(p::Matrix, b::Float64)\n",
    "    n = size(p,1)\n",
    "    A = spzeros(n+1,n+1)\n",
    "    d0 = distanciaEuc([0 0],p)\n",
    "    dist = (1+b) .* d0\n",
    "    masCercano = findmin(dist)\n",
    "    puntoMasCercano = masCercano[2][1] \n",
    "    nodoEntrante = puntoMasCercano + 1 \n",
    "    dist[puntoMasCercano,1] = Inf\n",
    "    A[1, nodoEntrante] = 1\n",
    "    padres = [1]\n",
    "    hijos = [nodoEntrante]\n",
    "    distCamino = d0[:,1]    \n",
    "    for _ in 1:(n-1)\n",
    "        d1 = distanciaEuc(reshape(p[puntoMasCercano,:],(1,2)), p)\n",
    "        dist = hcat(dist, d1  .+  b .* ( d1 .+ distCamino[puntoMasCercano]))\n",
    "        dist[hijos .- 1, end] .= Inf \n",
    "        masCercano = findmin(dist)\n",
    "        puntoMasCercano = masCercano[2][1]\n",
    "        nodoEntrante = puntoMasCercano + 1\n",
    "        nodoPadre = masCercano[2][2] == 1 ? 1 :  hijos[masCercano[2][2]-1]\n",
    "        A[nodoPadre, nodoEntrante] = 1   \n",
    "        dist[puntoMasCercano, 1:end] .= Inf; \n",
    "        push!(hijos, nodoEntrante)\n",
    "        push!(padres, nodoPadre)       \n",
    "        if nodoPadre > 1\n",
    "            d2 = distanciaEuc(reshape(p[nodoPadre-1,:],(1,2)), reshape(p[nodoEntrante-1,:],(1,2)))\n",
    "            distCamino[puntoMasCercano] = distCamino[nodoPadre-1] + d2[1,1]\n",
    "        end\n",
    "    end\n",
    "    return Neurona(n+1, A, vcat([0 0], p))\n",
    "end"
   ]
  },
  {
   "cell_type": "markdown",
   "metadata": {},
   "source": [
    "### Bloque de código 2.63: Función para gráficar la ramificación de una variable tipo `Neurona`"
   ]
  },
  {
   "cell_type": "code",
   "execution_count": null,
   "metadata": {},
   "outputs": [],
   "source": [
    "using CairoMakie\n",
    "CairoMakie.activate!()\n",
    "function dibujarNeurona(x::neurona)\n",
    "    fig, ax, p = scatter(x.p[:,1],x.p[:,2]; markersize=4, \n",
    "                        color = :black,\n",
    "                        figure=(; resolution=(400, 400)),\n",
    "                        axis=(; aspect=DataAspect()))\n",
    "    hidespines!(ax)\n",
    "    hidedecorations!(ax)\n",
    "    conecciones = findnz(x.A)\n",
    "    enlaces = size( conecciones[1], 1)\n",
    "    for i in 1:enlaces\n",
    "        e = [ conecciones[1][i], conecciones[2][i] ]\n",
    "        lines!(x.p[e,1],x.p[e,2]; color = :black)\n",
    "    end\n",
    "    fig\n",
    "end"
   ]
  },
  {
   "cell_type": "code",
   "execution_count": null,
   "metadata": {},
   "outputs": [],
   "source": [
    "n0 = crearNeurona(200, μ₀ = -10, σ₀ = 20, b = 1.2);"
   ]
  },
  {
   "cell_type": "code",
   "execution_count": null,
   "metadata": {},
   "outputs": [],
   "source": [
    "dibujarNeurona(n1)"
   ]
  }
 ],
 "metadata": {
  "kernelspec": {
   "display_name": "Julia 1.7.2",
   "language": "julia",
   "name": "julia-1.7"
  },
  "language_info": {
   "file_extension": ".jl",
   "mimetype": "application/julia",
   "name": "julia",
   "version": "1.7.2"
  },
  "orig_nbformat": 4
 },
 "nbformat": 4,
 "nbformat_minor": 2
}
