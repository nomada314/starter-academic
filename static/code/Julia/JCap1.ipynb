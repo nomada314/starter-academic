{
 "cells": [
  {
   "cell_type": "markdown",
   "metadata": {},
   "source": [
    "### Bloque de código 1.1: Variables booleanas"
   ]
  },
  {
   "cell_type": "code",
   "execution_count": null,
   "metadata": {},
   "outputs": [],
   "source": [
    "x = true\n",
    "z = pi > 22/3"
   ]
  },
  {
   "cell_type": "markdown",
   "metadata": {},
   "source": [
    "### Bloque de código 1.2: Uso del `;` para evitar la impresión en pantalla del resultado de un comando"
   ]
  },
  {
   "cell_type": "code",
   "execution_count": 2,
   "metadata": {},
   "outputs": [],
   "source": [
    "x = true;\n",
    "z = pi > 22/3;"
   ]
  },
  {
   "cell_type": "markdown",
   "metadata": {},
   "source": [
    "### Bloque de código 1.3: Desbordamiento de tipo `Int32`"
   ]
  },
  {
   "cell_type": "code",
   "execution_count": null,
   "metadata": {},
   "outputs": [],
   "source": [
    "Int32(-2_147_483_648) - Int64(1)"
   ]
  },
  {
   "cell_type": "code",
   "execution_count": null,
   "metadata": {},
   "outputs": [],
   "source": [
    "Int32(-2_147_483_648) - Int32(1)"
   ]
  },
  {
   "cell_type": "markdown",
   "metadata": {},
   "source": [
    "### Bloque de código 1.4: Operaciones con los dedos"
   ]
  },
  {
   "cell_type": "code",
   "execution_count": null,
   "metadata": {},
   "outputs": [],
   "source": [
    "✌ = 2;\n",
    "✌ - ✌\n",
    "✌ + ✌\n",
    "✌/✌\n",
    "✌^✌"
   ]
  },
  {
   "cell_type": "markdown",
   "metadata": {},
   "source": [
    "### Bloque de código 1.5: Relación entre el número aúreo y su reciproco"
   ]
  },
  {
   "cell_type": "code",
   "execution_count": null,
   "metadata": {},
   "outputs": [],
   "source": [
    "ϕ = (1 + √5)/2;\n",
    "Φ =  ϕ^-1;\n",
    "println(Φ == ϕ - 1)\n",
    "println(ϕ - Φ == 1)"
   ]
  },
  {
   "cell_type": "markdown",
   "metadata": {},
   "source": [
    "### Bloque de código 1.6: Épsilon de máquina."
   ]
  },
  {
   "cell_type": "code",
   "execution_count": null,
   "metadata": {},
   "outputs": [],
   "source": [
    "ϕ - 1 - eps(ϕ - 1)\n",
    "ϕ - 1 + eps(ϕ - 1)"
   ]
  },
  {
   "cell_type": "markdown",
   "metadata": {},
   "source": [
    "### Bloque de código 1.7: Secuencias de caracteres"
   ]
  },
  {
   "cell_type": "code",
   "execution_count": null,
   "metadata": {},
   "outputs": [],
   "source": [
    "pagina = \"https://www.doi.org/\";\n",
    "Euler  = \"La constante de Euler es \\\\gamma\";\n",
    "nombreConBP = \"Introduccion_al_lenguaje_de_programacion\";"
   ]
  },
  {
   "cell_type": "markdown",
   "metadata": {},
   "source": [
    "### Bloque de código 1.8: Manipulación de la secuencia de caracteres `Euler`"
   ]
  },
  {
   "cell_type": "code",
   "execution_count": null,
   "metadata": {},
   "outputs": [],
   "source": [
    "Euler2 = replace(Euler, \"\\\\gamma\" => join((Char(0x03B3),\" = \", MathConstants.γ + 0, \"...\")))"
   ]
  },
  {
   "cell_type": "markdown",
   "metadata": {},
   "source": [
    "### Bloque de código 1.9: Manipulación de una secuencia de caracteres usando expresiones regulares"
   ]
  },
  {
   "cell_type": "code",
   "execution_count": null,
   "metadata": {},
   "outputs": [],
   "source": [
    "secOriginal = \"Queremos  5  modificar  434 4  este   \n",
    "me45ns6aje de tal  00     0    manera que no   \n",
    "haya 98 espacios 2 extra    y que todos los \n",
    "554 2 98 digitos          \n",
    "que se digiten sean eliminados ...\""
   ]
  },
  {
   "cell_type": "code",
   "execution_count": null,
   "metadata": {},
   "outputs": [],
   "source": [
    "secSinNumeros = replace(secOriginal,r\"[0-9]\" => \"\")"
   ]
  },
  {
   "cell_type": "code",
   "execution_count": null,
   "metadata": {},
   "outputs": [],
   "source": [
    "secSinMultiplesEspacios = replace(secSinNumeros, r\" +\" => \" \")"
   ]
  },
  {
   "cell_type": "code",
   "execution_count": null,
   "metadata": {},
   "outputs": [],
   "source": [
    "secSinEspacioFinal= replace(secSinMultiplesEspacios, r\" \\n\" => \"\\n\")"
   ]
  },
  {
   "cell_type": "code",
   "execution_count": null,
   "metadata": {},
   "outputs": [],
   "source": [
    "secFinal= replace(secSinEspacioFinal, r\"\\n\\s\" => \"\\n\")\n",
    "print(secFinal)"
   ]
  },
  {
   "cell_type": "markdown",
   "metadata": {},
   "source": [
    "### Bloque de código 1.10: Operadores aritméticos"
   ]
  },
  {
   "cell_type": "code",
   "execution_count": null,
   "metadata": {},
   "outputs": [],
   "source": [
    "x = 4; y = 3; z = 5"
   ]
  },
  {
   "cell_type": "code",
   "execution_count": null,
   "metadata": {},
   "outputs": [],
   "source": [
    "3x*y*z"
   ]
  },
  {
   "cell_type": "code",
   "execution_count": null,
   "metadata": {},
   "outputs": [],
   "source": [
    "3(x+1)y^2-z"
   ]
  },
  {
   "cell_type": "markdown",
   "metadata": {},
   "source": [
    "### Bloque de código 1.11: Operadores de comparación y actualización"
   ]
  },
  {
   "cell_type": "code",
   "execution_count": null,
   "metadata": {},
   "outputs": [],
   "source": [
    "(x += 4, y -= 3, z *= 2)"
   ]
  },
  {
   "cell_type": "code",
   "execution_count": null,
   "metadata": {},
   "outputs": [],
   "source": [
    "1.25x == z"
   ]
  },
  {
   "cell_type": "code",
   "execution_count": null,
   "metadata": {},
   "outputs": [],
   "source": [
    "z != y"
   ]
  },
  {
   "cell_type": "markdown",
   "metadata": {},
   "source": [
    "### Bloque de código 1.12: Definición de arreglos"
   ]
  },
  {
   "cell_type": "code",
   "execution_count": null,
   "metadata": {},
   "outputs": [],
   "source": [
    "mAny = Array{Any}(undef,(2,2))"
   ]
  },
  {
   "cell_type": "code",
   "execution_count": null,
   "metadata": {},
   "outputs": [],
   "source": [
    "mInt = Array{Int64}(undef,(3,4,2))"
   ]
  },
  {
   "cell_type": "code",
   "execution_count": null,
   "metadata": {},
   "outputs": [],
   "source": [
    "mAny[1,1] = 2; mAny[1,2] = .4; mAny[2,1] = \"t\"; mAny[2,2] = 'a'"
   ]
  },
  {
   "cell_type": "code",
   "execution_count": null,
   "metadata": {},
   "outputs": [],
   "source": [
    "mInt[1,1,1] = 3"
   ]
  },
  {
   "cell_type": "code",
   "execution_count": null,
   "metadata": {},
   "outputs": [],
   "source": [
    "vFlo = Vector{Float64}(undef,4)"
   ]
  },
  {
   "cell_type": "code",
   "execution_count": null,
   "metadata": {},
   "outputs": [],
   "source": [
    "mFlo = Matrix{Float64}(undef,3,3)"
   ]
  },
  {
   "cell_type": "markdown",
   "metadata": {},
   "source": [
    "### Bloque de código 1.13: Arreglos digitados manualmente"
   ]
  },
  {
   "cell_type": "code",
   "execution_count": null,
   "metadata": {},
   "outputs": [],
   "source": [
    "vec1 = [10, 15, 18]"
   ]
  },
  {
   "cell_type": "code",
   "execution_count": null,
   "metadata": {},
   "outputs": [],
   "source": [
    "vec2 = [10; 15; 18]"
   ]
  },
  {
   "cell_type": "code",
   "execution_count": null,
   "metadata": {},
   "outputs": [],
   "source": [
    "vec3 = Int8[10, 15, 18]"
   ]
  },
  {
   "cell_type": "code",
   "execution_count": null,
   "metadata": {},
   "outputs": [],
   "source": [
    "mat1 = [10 15 18]"
   ]
  },
  {
   "cell_type": "code",
   "execution_count": null,
   "metadata": {},
   "outputs": [],
   "source": [
    "mat2 = [1 1 1; 1 3 9; 1 5 25]"
   ]
  },
  {
   "cell_type": "code",
   "execution_count": null,
   "metadata": {},
   "outputs": [],
   "source": [
    "mat3 = [[1 1 1]; [1 3 9]; [1 5 25]]"
   ]
  },
  {
   "cell_type": "code",
   "execution_count": null,
   "metadata": {},
   "outputs": [],
   "source": [
    "mat4 = Int16[[1, 1, 1] [1, 3, 9] [1, 5, 25]]"
   ]
  },
  {
   "cell_type": "markdown",
   "metadata": {},
   "source": [
    "### Bloque de código 1.14: Cálculo del Laplaciano del grafo en la Figura 1.9"
   ]
  },
  {
   "cell_type": "code",
   "execution_count": null,
   "metadata": {},
   "outputs": [],
   "source": [
    "Adj = [0 1 1 0 0 0;\n",
    "       1 0 1 0 0 0;\n",
    "       1 1 0 1 0 1;\n",
    "       0 0 1 0 0 0;\n",
    "       0 0 0 0 0 0;\n",
    "       0 0 1 0 0 0]"
   ]
  },
  {
   "cell_type": "code",
   "execution_count": null,
   "metadata": {},
   "outputs": [],
   "source": [
    "Grados = sum(Adj, dims = 2)"
   ]
  },
  {
   "cell_type": "code",
   "execution_count": null,
   "metadata": {},
   "outputs": [],
   "source": [
    "using LinearAlgebra\n",
    "L = Diagonal(vec(Grados)) - Adj"
   ]
  },
  {
   "cell_type": "markdown",
   "metadata": {},
   "source": [
    "### Bloque de código 1.15: Matrices con números aleatorios"
   ]
  },
  {
   "cell_type": "code",
   "execution_count": null,
   "metadata": {},
   "outputs": [],
   "source": [
    "mAleat1 = rand(Float64,(3,6))"
   ]
  },
  {
   "cell_type": "code",
   "execution_count": null,
   "metadata": {},
   "outputs": [],
   "source": [
    "mAleat1 = rand(3,6)"
   ]
  },
  {
   "cell_type": "code",
   "execution_count": null,
   "metadata": {},
   "outputs": [],
   "source": [
    "mAleat2 = 20mAleat1 - fill(10, (3,6))"
   ]
  },
  {
   "cell_type": "code",
   "execution_count": null,
   "metadata": {},
   "outputs": [],
   "source": [
    "mAleat3 = copy(mAleat2)"
   ]
  },
  {
   "cell_type": "code",
   "execution_count": null,
   "metadata": {},
   "outputs": [],
   "source": [
    "mAleat3[2,:] = zeros((1,6))"
   ]
  },
  {
   "cell_type": "markdown",
   "metadata": {},
   "source": [
    "### Bloque de código 1.16: Instalación de los paquetes `Images`, `ImageMagick`, `ImageIO` y `FileIO`."
   ]
  },
  {
   "cell_type": "code",
   "execution_count": null,
   "metadata": {},
   "outputs": [],
   "source": [
    "import Pkg\n",
    "Pkg.add(\"Images\")\n",
    "Pkg.add([\"ImageMagick\", \"ImageIO\",\"FileIO\"])"
   ]
  },
  {
   "cell_type": "markdown",
   "metadata": {},
   "source": [
    "### Bloque de código 1.17: Lectura de una imagen"
   ]
  },
  {
   "cell_type": "code",
   "execution_count": null,
   "metadata": {},
   "outputs": [],
   "source": [
    "using Images, FileIO\n",
    "conejo = load(\"../figs/panda0.jpg\");"
   ]
  },
  {
   "cell_type": "code",
   "execution_count": null,
   "metadata": {},
   "outputs": [],
   "source": [
    "# También se puede descargar directamente de internet:\n",
    "conejo = load(\"https://alexrojas.netlify.com/media/Julia/panda0.jpg\");"
   ]
  },
  {
   "cell_type": "code",
   "execution_count": null,
   "metadata": {},
   "outputs": [],
   "source": [
    "conejo"
   ]
  },
  {
   "cell_type": "markdown",
   "metadata": {},
   "source": [
    "### Bloque de código 1.18: Manipulación de la imagen en la Figura 1.10"
   ]
  },
  {
   "cell_type": "code",
   "execution_count": null,
   "metadata": {},
   "outputs": [],
   "source": [
    "size(conejo)"
   ]
  },
  {
   "cell_type": "code",
   "execution_count": null,
   "metadata": {},
   "outputs": [],
   "source": [
    "conejoCara = conejo[50:1700, 200:1300]"
   ]
  },
  {
   "cell_type": "code",
   "execution_count": null,
   "metadata": {},
   "outputs": [],
   "source": [
    "conejoPequeno = conejo[1:8:end, end:-8:1]"
   ]
  },
  {
   "cell_type": "markdown",
   "metadata": {},
   "source": [
    "### Bloque de código 1.19: Manipulación de la imagen en la Figura 1.11 (B)"
   ]
  },
  {
   "cell_type": "code",
   "execution_count": null,
   "metadata": {},
   "outputs": [],
   "source": [
    "conejoCaleidoscopio = [conejoPequeno conejoPequeno[:,end:-1:1];\n",
    "                       conejoPequeno[end:-1:1,:]\n",
    "                       conejoPequeno[end:-1:1,end:-1:1]];\n",
    "save( \"./figs/conejoCaleidoscopio.pdf\",conejoCaleidoscopio)"
   ]
  },
  {
   "cell_type": "code",
   "execution_count": null,
   "metadata": {},
   "outputs": [],
   "source": [
    "conejoCaleidoscopio"
   ]
  },
  {
   "cell_type": "markdown",
   "metadata": {},
   "source": [
    "### Bloque de código 1.20: Operaciones *broadcasting*"
   ]
  },
  {
   "cell_type": "code",
   "execution_count": null,
   "metadata": {},
   "outputs": [],
   "source": [
    "a = reshape(1:12, (3,4,1))"
   ]
  },
  {
   "cell_type": "code",
   "execution_count": null,
   "metadata": {},
   "outputs": [],
   "source": [
    "c = fill(10,(4,)) .* reshape(1:5, (1,5))"
   ]
  },
  {
   "cell_type": "code",
   "execution_count": null,
   "metadata": {},
   "outputs": [],
   "source": [
    "b = reshape(c, (1,4,5))\n"
   ]
  },
  {
   "cell_type": "code",
   "execution_count": null,
   "metadata": {},
   "outputs": [],
   "source": [
    "resultado = a .+ b"
   ]
  },
  {
   "cell_type": "markdown",
   "metadata": {},
   "source": [
    "### Bloque de código 1.21: Definición de la matriz de transición para el Ejemplo 1.6"
   ]
  },
  {
   "cell_type": "code",
   "execution_count": null,
   "metadata": {},
   "outputs": [],
   "source": [
    "using LinearAlgebra\n",
    "N = 5\n",
    "p = 0.4\n",
    "d = zeros(N+1)\n",
    "d[[1,N+1]] .= 1\n",
    "d2 = fill(p, N)\n",
    "d2[1] = 0\n",
    "d1 = fill(1-p, N)\n",
    "d1[N] = 0\n",
    "P = Tridiagonal(d1,d,d2)"
   ]
  },
  {
   "cell_type": "markdown",
   "metadata": {},
   "source": [
    "### Bloque de código 1.22: Cálculo del volumen de los cuerpos celestes en la Tabla 1.2"
   ]
  },
  {
   "cell_type": "code",
   "execution_count": null,
   "metadata": {},
   "outputs": [],
   "source": [
    "CuerposCelesteSS = [0.3300\t4879\t 5427\t 3.7;\n",
    "                    4.8700\t12104\t 5243\t 8.9;\n",
    "                    5.9700\t12756\t 5514\t 9.8;\n",
    "                    0.0730\t3475\t 3340\t 1.6;\n",
    "                    0.6420\t6792\t 3933\t 3.7;\n",
    "                 1898.0000\t142984   1326\t 23.1;\n",
    "                  568.0000\t120536   687\t 9.0;\n",
    "                   86.8000\t51118\t 1271\t 8.7;\n",
    "                  102.0000\t49528\t 1638\t 11.0;\n",
    "                    0.0146\t2370\t2095   0.7]\n",
    "VolumenCCSS = 10^15*CuerposCelesteSS[:,1]./CuerposCelesteSS[:,3]"
   ]
  },
  {
   "cell_type": "code",
   "execution_count": null,
   "metadata": {},
   "outputs": [],
   "source": [
    "ValoresRel = CuerposCelesteSS./transpose(CuerposCelesteSS[3,:])"
   ]
  },
  {
   "cell_type": "markdown",
   "metadata": {},
   "source": [
    "### Bloque de código 1.23: Manipulación de la imagen en la Figura 1.11 (B)"
   ]
  },
  {
   "cell_type": "code",
   "execution_count": null,
   "metadata": {},
   "outputs": [],
   "source": [
    "conejoEnmascarar = copy(conejoPequeno)\n",
    "conejoEnmascarar[1:10:end,1:10:end] .= conejoPequeno[1,1];"
   ]
  },
  {
   "cell_type": "code",
   "execution_count": null,
   "metadata": {},
   "outputs": [],
   "source": [
    "conejoEnmascarar"
   ]
  },
  {
   "cell_type": "markdown",
   "metadata": {},
   "source": [
    "### Bloque de código 1.24: Estimación de la probabilidad en el Ejemplo Agujas de Buffon"
   ]
  },
  {
   "cell_type": "code",
   "execution_count": null,
   "metadata": {},
   "outputs": [],
   "source": [
    "n, l, d = 10000, 10, 20\n",
    "theta = (π/2)*rand(n);\n",
    "puntoMedio = d*rand(n)/2;\n",
    "cruce = 2puntoMedio .<  l*cos.(theta);\n",
    "p = sum(cruce)/n;\n",
    "println(\"Valor estimado de la probabilidad: \", p)"
   ]
  },
  {
   "cell_type": "code",
   "execution_count": null,
   "metadata": {},
   "outputs": [],
   "source": [
    "using Statistics\n",
    "p = mean(cruce);"
   ]
  },
  {
   "cell_type": "markdown",
   "metadata": {},
   "source": [
    "### Bloque de código 1.25: Generación de una imagen usando colores aleatorios"
   ]
  },
  {
   "cell_type": "code",
   "execution_count": null,
   "metadata": {},
   "outputs": [],
   "source": [
    "using Images"
   ]
  },
  {
   "cell_type": "code",
   "execution_count": null,
   "metadata": {},
   "outputs": [],
   "source": [
    "RGB.(mAleat1)"
   ]
  },
  {
   "cell_type": "code",
   "execution_count": null,
   "metadata": {},
   "outputs": [],
   "source": [
    "RGB.(mAleat1[1,:],mAleat1[2,:],mAleat1[3,:])"
   ]
  },
  {
   "cell_type": "markdown",
   "metadata": {},
   "source": [
    "### Bloque de código 1.26: Uso de *broadcasting* para concatenear dos tuplas de cadenas de caracteres"
   ]
  },
  {
   "cell_type": "code",
   "execution_count": null,
   "metadata": {},
   "outputs": [],
   "source": [
    "nombreUsuario = (\"Andrea\", \"Boris\",\"Carla\",\"Dana\", \"Ernesto\")\n",
    "apellidoUsuario = (\"Alvarado\", \"Bernal\",\"Castillo\",\"Diaz\", \"Estrada\")\n",
    "usuario = lowercase.(nombreUsuario).*\".\".*lowercase.(apellidoUsuario)\n",
    "correos = usuario.*\"@\".*\"univ.edu.co\""
   ]
  },
  {
   "cell_type": "markdown",
   "metadata": {},
   "source": [
    "### Bloque de código 1.27: Instalación del paquete `Plots` y `Makie`"
   ]
  },
  {
   "cell_type": "code",
   "execution_count": null,
   "metadata": {},
   "outputs": [],
   "source": [
    "Pkg.add(\"Plots\")\n",
    "Pkg.add(\"Makie\")\n",
    "Pkg.add(\"CairoMakie\")\n",
    "Pkg.add(\"GLMakie\")\n",
    "Pkg.add(\"WGLMakie\")"
   ]
  },
  {
   "cell_type": "markdown",
   "metadata": {},
   "source": [
    "### Bloque de código 1.28: Diagrama de líneas donde los puntos representan el punto medio de la aguja en el Ejemplo 1.9"
   ]
  },
  {
   "cell_type": "code",
   "execution_count": null,
   "metadata": {},
   "outputs": [],
   "source": [
    "using Plots\n",
    "n = 10000\n",
    "CordYmedio = rand([-1 1],n).*puntoMedio;\n",
    "CordYmedio[1:5000] = CordYmedio[1:5000] .+ d;\n",
    "CordXmedio = 60*rand(n) .- 30;\n",
    "plot(CordXmedio[1:100], CordYmedio[1:100])"
   ]
  },
  {
   "cell_type": "markdown",
   "metadata": {},
   "source": [
    "### Bloque de código 1.29: Diagrama de dispersión donde los puntos representan el punto medio de la aguja en el Ejemplo 1.9"
   ]
  },
  {
   "cell_type": "code",
   "execution_count": null,
   "metadata": {},
   "outputs": [],
   "source": [
    "plot(CordXmedio[1:100], CordYmedio[1:100], seriestype = :scatter, marker = :square, color = :darkred, legend=:top, label=\"Punto medio\")\n"
   ]
  },
  {
   "cell_type": "markdown",
   "metadata": {},
   "source": [
    "### Bloque de código 1.30: Diagrama de dispersión mejorado donde los puntos representan el punto medio de la aguja en el Ejemplo 1.9"
   ]
  },
  {
   "cell_type": "code",
   "execution_count": null,
   "metadata": {},
   "outputs": [],
   "source": [
    "using LaTeXStrings\n",
    "plot(CordXmedio[1:100], CordYmedio[1:100], seriestype = :scatter, marker = :square, color = :darkred, legend=:top, label=\"Punto medio\")\n",
    "xlabel!(L\"x\")\n",
    "ylabel!(L\"y\")\n",
    "ylims!(5,32)\n",
    "hline!([-10,10,30], label = \"L\\'ineas horizontales\")\n",
    "framestyle!(:none)"
   ]
  },
  {
   "cell_type": "markdown",
   "metadata": {},
   "source": [
    "### Bloque de código 1.31: Gráfico de contornos de una distribución normal bivariada"
   ]
  },
  {
   "cell_type": "code",
   "execution_count": null,
   "metadata": {},
   "outputs": [],
   "source": [
    "x = -2.5:.1:2.5\n",
    "n = length(x)\n",
    "X = repeat(x, 1, n)\n",
    "X1 = reshape(X,  1, n*n)\n",
    "X2 = reshape(X', 1, n*n)\n",
    "Z = pdf(MvNormal([0; 0],[1 -.5; -.5 1]), [X1;X2])\n",
    "Plots.contour(x, x, Z, xlabel = L\"x_1\", ylabel = L\"x_2\")\n",
    "annotate!(0, 0, Plots.text(L\"\\mu\", :hcenter, :vcenter, 10))\n",
    "annotate!(2.2, 2.2, Plots.text(L\"f_{X,Y}(x,y)\", :hcenter, :vcenter, 10))\n"
   ]
  },
  {
   "cell_type": "markdown",
   "metadata": {},
   "source": [
    "### Bloque de código 1.32: Gráfico con múltiple líneas usando `CairoMalkie`"
   ]
  },
  {
   "cell_type": "code",
   "execution_count": null,
   "metadata": {},
   "outputs": [],
   "source": [
    "using CairoMakie\n",
    "CairoMakie.activate!()\n",
    "using LaTeXStrings\n",
    "x = -1.5:0.05:1.5\n",
    "fig, ax, p = lines(x, exp.(-x.^2); label = L\"e^{-x^2}\",\n",
    "                                axis = (; xlabel = L\"x\", \n",
    "                                          ylabel = L\"y\"),\n",
    "                                figure = (; resolution=(800, 600)))\n",
    "lines!(x, 1 .- x.^2; label = L\"1-x^2\")\n",
    "lines!(x, 1 .- x.^2 .+ x.^4 ./2; label = L\"1-x^2+\\frac{x^4}{2!}\")\n",
    "lines!(x, 1 .- x.^2 .+ x.^4 ./2 .- x.^6 ./factorial(3); \n",
    "                    label = L\"1-x^2+\\frac{x^4}{2!}-\\frac{x^6}{3!}\")\n",
    "limits!(-1.5, 1.5, -1.25, 1.2)\n",
    "axislegend(L\"f(x)\",position = :cb)\n",
    "fig"
   ]
  },
  {
   "cell_type": "markdown",
   "metadata": {},
   "source": [
    "### Bloque de código 1.34: Definición estructura `Binom`"
   ]
  },
  {
   "cell_type": "code",
   "execution_count": null,
   "metadata": {},
   "outputs": [],
   "source": [
    "struct Binom\n",
    "    n::UInt\n",
    "    p::Real\n",
    "  end  "
   ]
  },
  {
   "cell_type": "markdown",
   "metadata": {},
   "source": [
    "### Bloque de código 1.35: Definición dos variables de tipo `Binom`"
   ]
  },
  {
   "cell_type": "code",
   "execution_count": null,
   "metadata": {},
   "outputs": [],
   "source": [
    "b₁ = Binom(6,.4)\n",
    "b₂ = Binom(10,.4)\n",
    "typeof(b₁)\n",
    "b₂.p"
   ]
  },
  {
   "cell_type": "markdown",
   "metadata": {},
   "source": [
    "### Bloque de código 1.36: Definición del método `+()` para dos variables de tipo `Binom`"
   ]
  },
  {
   "cell_type": "code",
   "execution_count": null,
   "metadata": {},
   "outputs": [],
   "source": [
    "Base.:+(x::Binom,y::Binom) = Binom(x.n + y.n, x.p)\n",
    "b₁ + b₂"
   ]
  },
  {
   "cell_type": "markdown",
   "metadata": {},
   "source": [
    "### Bloque de código 1.37: Definición estructura `MezclaPoisson`"
   ]
  },
  {
   "cell_type": "code",
   "execution_count": 7,
   "metadata": {},
   "outputs": [],
   "source": [
    "mutable struct MezclaPoisson\n",
    "    λ::Real\n",
    "    μ::Real\n",
    "    p::Real\n",
    "  end"
   ]
  },
  {
   "cell_type": "code",
   "execution_count": null,
   "metadata": {},
   "outputs": [],
   "source": [
    "sec1 = MezclaPoisson(3, 13, 0.4)\n",
    "  "
   ]
  },
  {
   "cell_type": "code",
   "execution_count": null,
   "metadata": {},
   "outputs": [],
   "source": [
    "sec1.p = 0.3"
   ]
  },
  {
   "cell_type": "markdown",
   "metadata": {},
   "source": [
    "### Bloque de código 1.38: Gráfica de la función de masa de probabilidad de una mezcla Poisson"
   ]
  },
  {
   "cell_type": "code",
   "execution_count": null,
   "metadata": {},
   "outputs": [],
   "source": [
    "using Distributions\n",
    "x = 0:25\n",
    "mezcla = sec1.p * pdf(Poisson(sec1.λ),x) + (1 - sec1.p)*pdf(Poisson(sec1.μ),x)\n",
    "plot(x,mezcla, st = :sticks, m = 3, c= :green, xlabel = L\"x\", ylabel = \"Densidad\", label = L\"\\Pr(X=x|\\lambda = 3, \\mu = 13, p = 0.3)\")"
   ]
  },
  {
   "cell_type": "markdown",
   "metadata": {},
   "source": [
    "### Bloque de código 1.39: Definición estructura `Dual`"
   ]
  },
  {
   "cell_type": "code",
   "execution_count": null,
   "metadata": {},
   "outputs": [],
   "source": [
    "struct Dual <: Number\n",
    "    a::Real\n",
    "    a0::Real\n",
    "end  "
   ]
  },
  {
   "cell_type": "markdown",
   "metadata": {},
   "source": [
    "### Bloque de código 1.40: Definición de variables del tipo `Dual`"
   ]
  },
  {
   "cell_type": "code",
   "execution_count": null,
   "metadata": {},
   "outputs": [],
   "source": [
    "d1 = Dual(1, 1)\n",
    "d2 = Dual(1.2, π)"
   ]
  },
  {
   "cell_type": "markdown",
   "metadata": {},
   "source": [
    "### Bloque de código 1.41: Operaciones con números de tipo `Dual`"
   ]
  },
  {
   "cell_type": "code",
   "execution_count": null,
   "metadata": {},
   "outputs": [],
   "source": [
    "Dual(d1.a + d2.a, d1.a0 + d2.a0)"
   ]
  },
  {
   "cell_type": "code",
   "execution_count": null,
   "metadata": {},
   "outputs": [],
   "source": [
    "Dual(d1.a*d2.a, d1.a*d2.a0 + d1.a0*d2.a)"
   ]
  },
  {
   "cell_type": "markdown",
   "metadata": {},
   "source": [
    "### Bloque de código 1.42: Definición de la suma y el producto de números de tipo `Dual`"
   ]
  },
  {
   "cell_type": "code",
   "execution_count": null,
   "metadata": {},
   "outputs": [],
   "source": [
    "Base.:+(x::Dual,y::Dual) = Dual(x.a + y.a, x.a0 + y.a0)\n",
    "Base.:*(x::Dual,y::Dual) = Dual(x.a*y.a, x.a*y.a0 + x.a0*y.a)"
   ]
  },
  {
   "cell_type": "code",
   "execution_count": null,
   "metadata": {},
   "outputs": [],
   "source": [
    "println(d1 + d2)\n",
    "println(d1*d2)"
   ]
  },
  {
   "cell_type": "markdown",
   "metadata": {},
   "source": [
    "### Bloque de código 1.43: Creación del método para convertir un número de tipo `Real` a un número de tipo `Dual`"
   ]
  },
  {
   "cell_type": "code",
   "execution_count": null,
   "metadata": {},
   "outputs": [],
   "source": [
    "Base.:promote_rule(::Type{Dual}, ::Type{<:Real}) = Dual\n",
    "Base.:convert(::Type{Dual}, x::Real) = Dual(x, zero(x))"
   ]
  },
  {
   "cell_type": "markdown",
   "metadata": {},
   "source": [
    "### Bloque de código 1.44: Creación del método para mostrar en pantalla un número de tipo `Dual`"
   ]
  },
  {
   "cell_type": "code",
   "execution_count": null,
   "metadata": {},
   "outputs": [],
   "source": [
    "Base.:show(io::IO, x::Dual) = print(io,x.a,\" + \", x.a0, \"⋅ϵ\")"
   ]
  },
  {
   "cell_type": "markdown",
   "metadata": {},
   "source": [
    "### Bloque de código 1.45: Definición de la resta y la división de números de tipo `Dual`"
   ]
  },
  {
   "cell_type": "code",
   "execution_count": null,
   "metadata": {},
   "outputs": [],
   "source": [
    "Base.:-(x::Dual,y::Dual) = Dual(x.a - y.a, x.a0 - y.a0)\n",
    "Base.:/(x::Dual,y::Dual) = Dual(x.a/y.a, (y.a*x.a0 - x.a*y.a0)/y.a^2)"
   ]
  },
  {
   "cell_type": "code",
   "execution_count": null,
   "metadata": {},
   "outputs": [],
   "source": [
    "ϵ = Dual(0,1)"
   ]
  },
  {
   "cell_type": "code",
   "execution_count": null,
   "metadata": {},
   "outputs": [],
   "source": [
    "2 + 3ϵ"
   ]
  },
  {
   "cell_type": "code",
   "execution_count": null,
   "metadata": {},
   "outputs": [],
   "source": [
    "print(ϵ/(1-ϵ))\n",
    "println( ϵ * ϵ)"
   ]
  }
 ],
 "metadata": {
  "kernelspec": {
   "display_name": "Julia 1.7.2",
   "language": "julia",
   "name": "julia-1.7"
  },
  "language_info": {
   "file_extension": ".jl",
   "mimetype": "application/julia",
   "name": "julia",
   "version": "1.7.2"
  },
  "orig_nbformat": 4
 },
 "nbformat": 4,
 "nbformat_minor": 2
}
