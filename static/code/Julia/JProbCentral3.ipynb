{
 "cells": [
  {
   "cell_type": "code",
   "execution_count": 1,
   "metadata": {},
   "outputs": [],
   "source": [
    "using CSV\n",
    "using Chain\n",
    "using Dates\n",
    "using Downloads\n",
    "using CairoMakie\n",
    "using DataFrames\n",
    "using DataFramesMeta\n",
    "using InvertedIndices\n",
    "using CategoricalArrays\n",
    "using AlgebraOfGraphics\n",
    "resultadosDir = \"https://raw.githubusercontent.com/martj42/international_results/master/results.csv\";\n",
    "penaltiesDir = \"https://raw.githubusercontent.com/martj42/international_results/master/shootouts.csv\";"
   ]
  },
  {
   "cell_type": "code",
   "execution_count": 2,
   "metadata": {},
   "outputs": [],
   "source": [
    "cd(\"/Users/ar/Documents/Books/Julia/\")"
   ]
  },
  {
   "cell_type": "code",
   "execution_count": 3,
   "metadata": {},
   "outputs": [],
   "source": [
    "valoresK = CSV.read(\"Data/valoresK.csv\", DataFrame)\n",
    "penalties = @chain penaltiesDir begin\n",
    "    Downloads.download\n",
    "    CSV.File(missingstring = \"NA\")\n",
    "    DataFrame\n",
    "    rename!([\"fecha\", \"local\", \"visitante\", \"penaltis\"])\n",
    "    @transform!(:local = categorical(:local), :visitante = categorical(:visitante))\n",
    "    @transform!(:penaltis = categorical(:penaltis))\n",
    "end;\n"
   ]
  },
  {
   "cell_type": "code",
   "execution_count": 4,
   "metadata": {},
   "outputs": [],
   "source": [
    "elo = @chain resultadosDir begin\n",
    "    Downloads.download\n",
    "    CSV.File(missingstring = \"NA\")\n",
    "    DataFrame\n",
    "    rename!([\"fecha\", \"local\", \"visitante\", \"goles_local\", \"goles_visitante\", \"torneo\", \"ciudad\", \"pais\", \"neutral\"])\n",
    "    @transform!(:torneo = categorical(:torneo))\n",
    "    @transform!(:local = categorical(:local), :visitante = categorical(:visitante))\n",
    "    @transform!(:pais = categorical(:pais), :ciudad = categorical(:ciudad))\n",
    "    leftjoin!(penalties, on = [:fecha, :local, :visitante])\n",
    "    leftjoin!(valoresK, on = :torneo)\n",
    "    @subset!(:k .!= 0)\n",
    "end;"
   ]
  },
  {
   "cell_type": "code",
   "execution_count": 11,
   "metadata": {},
   "outputs": [
    {
     "data": {
      "text/plain": [
       "(42269, 11)"
      ]
     },
     "execution_count": 11,
     "metadata": {},
     "output_type": "execute_result"
    }
   ],
   "source": [
    "size(elo)"
   ]
  },
  {
   "cell_type": "code",
   "execution_count": 16,
   "metadata": {},
   "outputs": [],
   "source": [
    "ranking062018 = CSV.read(\"Data/Ranking062018.csv\", DataFrame)\n",
    "@transform!(ranking062018, :Pais = categorical(String63.(:Pais)))\n",
    "cambiarNombre = antijoin(ranking062018, elo, on =  :Pais => :local)\n",
    "nombres = [\"United States\",\"Iran\",\"DR Congo\", \"South Korea\",\n",
    "          \"Cape Verde\", \"Ivory Coast\",\"North Macedonia\",\"Curaçao\",\n",
    "          \"Kyrgyzstan\", \"North Korea\",\"Taiwan\", \"Eswatini\", \n",
    "          \"Saint Kitts and Nevis\", \"Saint Lucia\", \n",
    "          \"Saint Vincent and the Grenadines\",\n",
    "          \"São Tomé and Príncipe\",\"Brunei\",\n",
    "          \"United States Virgin Islands\"]\n",
    "for (i,j) in enumerate(cambiarNombre.Pais)\n",
    "    ranking062018[findfirst(isequal(j), ranking062018.Pais),:Pais] = nombres[i]\n",
    "end"
   ]
  },
  {
   "cell_type": "code",
   "execution_count": 17,
   "metadata": {},
   "outputs": [
    {
     "data": {
      "text/html": [
       "<div class=\"data-frame\"><p>18 rows × 5 columns</p><table class=\"data-frame\"><thead><tr><th></th><th>Posicion</th><th>Pais</th><th>Puntaje</th><th>PuntajeAnt</th><th>Diferencia</th></tr><tr><th></th><th title=\"Int64\">Int64</th><th title=\"CategoricalValue{String63, UInt32}\">Cat…</th><th title=\"Int64\">Int64</th><th title=\"Int64\">Int64</th><th title=\"Float64\">Float64</th></tr></thead><tbody><tr><th>1</th><td>25</td><td>USA</td><td>873</td><td>880</td><td>-7.0</td></tr><tr><th>2</th><td>37</td><td>IR Iran</td><td>708</td><td>727</td><td>-19.0</td></tr><tr><th>3</th><td>38</td><td>Congo DR</td><td>706</td><td>711</td><td>-5.0</td></tr><tr><th>4</th><td>57</td><td>Korea Republic</td><td>544</td><td>520</td><td>24.0</td></tr><tr><th>5</th><td>65</td><td>Cape Verde Islands</td><td>478</td><td>545</td><td>-67.0</td></tr><tr><th>6</th><td>68</td><td>Côte d&apos;Ivoire</td><td>463</td><td>458</td><td>5.0</td></tr><tr><th>7</th><td>71</td><td>FYR Macedonia</td><td>451</td><td>422</td><td>29.0</td></tr><tr><th>8</th><td>81</td><td>Curacao</td><td>408</td><td>439</td><td>-31.0</td></tr><tr><th>9</th><td>92</td><td>Kyrgyz Republic</td><td>363</td><td>424</td><td>-61.0</td></tr><tr><th>10</th><td>108</td><td>Korea DPR</td><td>303</td><td>297</td><td>6.0</td></tr><tr><th>11</th><td>123</td><td>Chinese Taipei</td><td>247</td><td>263</td><td>-16.0</td></tr><tr><th>12</th><td>134</td><td>Swaziland</td><td>222</td><td>240</td><td>-18.0</td></tr><tr><th>13</th><td>135</td><td>St. Kitts and Nevis</td><td>218</td><td>241</td><td>-23.0</td></tr><tr><th>14</th><td>170</td><td>St. Lucia</td><td>95</td><td>95</td><td>0.0</td></tr><tr><th>15</th><td>173</td><td>St. Vincent / Grenadines</td><td>89</td><td>91</td><td>-2.0</td></tr><tr><th>16</th><td>186</td><td>Sao Tome e Principe</td><td>51</td><td>59</td><td>-8.0</td></tr><tr><th>17</th><td>195</td><td>Brunei Darussalam</td><td>34</td><td>36</td><td>-2.0</td></tr><tr><th>18</th><td>199</td><td>US Virgin Islands</td><td>18</td><td>18</td><td>0.0</td></tr></tbody></table></div>"
      ],
      "text/latex": [
       "\\begin{tabular}{r|ccccc}\n",
       "\t& Posicion & Pais & Puntaje & PuntajeAnt & Diferencia\\\\\n",
       "\t\\hline\n",
       "\t& Int64 & Cat… & Int64 & Int64 & Float64\\\\\n",
       "\t\\hline\n",
       "\t1 & 25 & USA & 873 & 880 & -7.0 \\\\\n",
       "\t2 & 37 & IR Iran & 708 & 727 & -19.0 \\\\\n",
       "\t3 & 38 & Congo DR & 706 & 711 & -5.0 \\\\\n",
       "\t4 & 57 & Korea Republic & 544 & 520 & 24.0 \\\\\n",
       "\t5 & 65 & Cape Verde Islands & 478 & 545 & -67.0 \\\\\n",
       "\t6 & 68 & Côte d'Ivoire & 463 & 458 & 5.0 \\\\\n",
       "\t7 & 71 & FYR Macedonia & 451 & 422 & 29.0 \\\\\n",
       "\t8 & 81 & Curacao & 408 & 439 & -31.0 \\\\\n",
       "\t9 & 92 & Kyrgyz Republic & 363 & 424 & -61.0 \\\\\n",
       "\t10 & 108 & Korea DPR & 303 & 297 & 6.0 \\\\\n",
       "\t11 & 123 & Chinese Taipei & 247 & 263 & -16.0 \\\\\n",
       "\t12 & 134 & Swaziland & 222 & 240 & -18.0 \\\\\n",
       "\t13 & 135 & St. Kitts and Nevis & 218 & 241 & -23.0 \\\\\n",
       "\t14 & 170 & St. Lucia & 95 & 95 & 0.0 \\\\\n",
       "\t15 & 173 & St. Vincent / Grenadines & 89 & 91 & -2.0 \\\\\n",
       "\t16 & 186 & Sao Tome e Principe & 51 & 59 & -8.0 \\\\\n",
       "\t17 & 195 & Brunei Darussalam & 34 & 36 & -2.0 \\\\\n",
       "\t18 & 199 & US Virgin Islands & 18 & 18 & 0.0 \\\\\n",
       "\\end{tabular}\n"
      ],
      "text/plain": [
       "\u001b[1m18×5 DataFrame\u001b[0m\n",
       "\u001b[1m Row \u001b[0m│\u001b[1m Posicion \u001b[0m\u001b[1m Pais                     \u001b[0m\u001b[1m Puntaje \u001b[0m\u001b[1m PuntajeAnt \u001b[0m\u001b[1m Diferencia \u001b[0m\n",
       "\u001b[1m     \u001b[0m│\u001b[90m Int64    \u001b[0m\u001b[90m Cat…                     \u001b[0m\u001b[90m Int64   \u001b[0m\u001b[90m Int64      \u001b[0m\u001b[90m Float64    \u001b[0m\n",
       "─────┼─────────────────────────────────────────────────────────────────────\n",
       "   1 │       25  USA                           873         880        -7.0\n",
       "   2 │       37  IR Iran                       708         727       -19.0\n",
       "   3 │       38  Congo DR                      706         711        -5.0\n",
       "   4 │       57  Korea Republic                544         520        24.0\n",
       "   5 │       65  Cape Verde Islands            478         545       -67.0\n",
       "   6 │       68  Côte d'Ivoire                 463         458         5.0\n",
       "   7 │       71  FYR Macedonia                 451         422        29.0\n",
       "   8 │       81  Curacao                       408         439       -31.0\n",
       "   9 │       92  Kyrgyz Republic               363         424       -61.0\n",
       "  10 │      108  Korea DPR                     303         297         6.0\n",
       "  11 │      123  Chinese Taipei                247         263       -16.0\n",
       "  12 │      134  Swaziland                     222         240       -18.0\n",
       "  13 │      135  St. Kitts and Nevis           218         241       -23.0\n",
       "  14 │      170  St. Lucia                      95          95         0.0\n",
       "  15 │      173  St. Vincent / Grenadines       89          91        -2.0\n",
       "  16 │      186  Sao Tome e Principe            51          59        -8.0\n",
       "  17 │      195  Brunei Darussalam              34          36        -2.0\n",
       "  18 │      199  US Virgin Islands              18          18         0.0"
      ]
     },
     "execution_count": 17,
     "metadata": {},
     "output_type": "execute_result"
    }
   ],
   "source": [
    "cambiarNombre"
   ]
  },
  {
   "cell_type": "code",
   "execution_count": 18,
   "metadata": {},
   "outputs": [],
   "source": [
    "elo = @chain elo begin\n",
    "    rightjoin(ranking062018[:,[:Pais]], on = :local => :Pais)\n",
    "    rightjoin(ranking062018[:,[:Pais]], on = :visitante => :Pais)\n",
    "end;\n"
   ]
  },
  {
   "cell_type": "code",
   "execution_count": 19,
   "metadata": {},
   "outputs": [
    {
     "data": {
      "text/plain": [
       "(39188, 11)"
      ]
     },
     "execution_count": 19,
     "metadata": {},
     "output_type": "execute_result"
    }
   ],
   "source": [
    "size(elo)"
   ]
  },
  {
   "cell_type": "code",
   "execution_count": 20,
   "metadata": {},
   "outputs": [
    {
     "name": "stdout",
     "output_type": "stream",
     "text": [
      "\u001b[1mDataFrameRow\u001b[0m\n",
      "\u001b[1m Row \u001b[0m│\u001b[1m fecha      \u001b[0m\u001b[1m local    \u001b[0m\u001b[1m visitante \u001b[0m\u001b[1m goles_local \u001b[0m\u001b[1m goles_visitante \u001b[0m\u001b[1m torneo   \u001b[0m\u001b[1m ciudad  \u001b[0m\u001b[1m pais     \u001b[0m\u001b[1m neutral \u001b[0m\u001b[1m penaltis \u001b[0m\u001b[1m k      \u001b[0m\n",
      "\u001b[1m     \u001b[0m│\u001b[90m Date?      \u001b[0m\u001b[90m Cat…?    \u001b[0m\u001b[90m Cat…      \u001b[0m\u001b[90m Int64?      \u001b[0m\u001b[90m Int64?          \u001b[0m\u001b[90m Cat…?    \u001b[0m\u001b[90m Cat…?   \u001b[0m\u001b[90m Cat…?    \u001b[0m\u001b[90m Bool?   \u001b[0m\u001b[90m Cat…?    \u001b[0m\u001b[90m Int64? \u001b[0m\n",
      "─────┼───────────────────────────────────────────────────────────────────────────────────────────────────────────────────────\n",
      "   1 │ 1872-11-30  Scotland  England              0                0  Friendly  Glasgow  Scotland    false \u001b[90m missing  \u001b[0m     20"
     ]
    }
   ],
   "source": [
    "show(first(elo),allcols=true)"
   ]
  },
  {
   "cell_type": "code",
   "execution_count": 21,
   "metadata": {},
   "outputs": [
    {
     "data": {
      "text/plain": [
       "puntajeElo (generic function with 1 method)"
      ]
     },
     "execution_count": 21,
     "metadata": {},
     "output_type": "execute_result"
    }
   ],
   "source": [
    "function puntajeElo(Elocal, Evisitante, Rₗ, Rᵥ, gₗ::Int, gᵥ::Int, k::Int, neutral, penaltis)\n",
    "    gd = abs(gₗ - gᵥ)\n",
    "    gᵟ = 1 + 0.5*(gd == 2) + (0.75 + .125*(gd - 3))*(gd > 2)\n",
    "    gₗ > gᵥ ? W= [1.0,0.0] : ( gₗ < gᵥ ? W = [0.0,1.0] : W = [0.5,0.5]) \n",
    "    if !ismissing(penaltis)\n",
    "        if gₗ == gᵥ\n",
    "            if Elocal == penaltis\n",
    "                W[1] = 0.75\n",
    "            else  \n",
    "                W[2] = 0.75\n",
    "            end\n",
    "        end\n",
    "    end\n",
    "    e = (Rₗ-Rᵥ+100*(!neutral))/400\n",
    "    Rₗ += k*gᵟ*(W[1] - 1/(1+10^(-e)))\n",
    "    Rᵥ += k*gᵟ*(W[2] - 1/(1+10^e))\n",
    "    return((L = Rₗ, V = Rᵥ))\n",
    "end\n"
   ]
  },
  {
   "cell_type": "code",
   "execution_count": 22,
   "metadata": {},
   "outputs": [
    {
     "data": {
      "text/plain": [
       "(L = 1497.1987000039423, V = 1502.8012999960577)"
      ]
     },
     "execution_count": 22,
     "metadata": {},
     "output_type": "execute_result"
    }
   ],
   "source": [
    "puntajeElo(elo.local[1],elo.visitante[1],1500,1500,0,0,20,false,missing)"
   ]
  },
  {
   "cell_type": "code",
   "execution_count": 23,
   "metadata": {},
   "outputs": [
    {
     "data": {
      "text/plain": [
       "(L = 1513.3774691357255, V = 1486.6225308642745)"
      ]
     },
     "execution_count": 23,
     "metadata": {},
     "output_type": "execute_result"
    }
   ],
   "source": [
    "puntajeElo(elo.local[2],elo.visitante[2],1502.8012999960577,1497.1987000039423,4,2,20,false,missing)"
   ]
  },
  {
   "cell_type": "code",
   "execution_count": 24,
   "metadata": {},
   "outputs": [
    {
     "data": {
      "text/plain": [
       "(L = 1602.1909872255414, V = 1333.8090127744586)"
      ]
     },
     "execution_count": 24,
     "metadata": {},
     "output_type": "execute_result"
    }
   ],
   "source": [
    "puntajeElo(\"Germany\",\"Saudi Arabia\",1600,1336,2,1,20,false, missing)"
   ]
  },
  {
   "cell_type": "code",
   "execution_count": 62,
   "metadata": {},
   "outputs": [],
   "source": [
    "puntajes = DataFrame(Pais = ranking062018.Pais, puntaje = 850.0)\n",
    "puntajes = Dict(Pair.(puntajes.Pais, puntajes.puntaje));"
   ]
  },
  {
   "cell_type": "code",
   "execution_count": 57,
   "metadata": {},
   "outputs": [
    {
     "data": {
      "text/plain": [
       "Dict{CategoricalValue{String63, UInt32}, Float64} with 205 entries:\n",
       "  \"Finland\"            => 850.0\n",
       "  \"Sweden\"             => 850.0\n",
       "  \"Cambodia\"           => 850.0\n",
       "  \"Lesotho\"            => 850.0\n",
       "  \"Peru\"               => 850.0\n",
       "  \"Japan\"              => 850.0\n",
       "  \"Indonesia\"          => 850.0\n",
       "  \"Gabon\"              => 850.0\n",
       "  \"Togo\"               => 850.0\n",
       "  \"Canada\"             => 850.0\n",
       "  \"North Macedonia\"    => 850.0\n",
       "  \"Sri Lanka\"          => 850.0\n",
       "  \"Bangladesh\"         => 850.0\n",
       "  \"Senegal\"            => 850.0\n",
       "  \"Kosovo\"             => 850.0\n",
       "  \"Tajikistan\"         => 850.0\n",
       "  \"Curaçao\"            => 850.0\n",
       "  \"Ethiopia\"           => 850.0\n",
       "  \"Dominican Republic\" => 850.0\n",
       "  \"Vietnam\"            => 850.0\n",
       "  \"South Sudan\"        => 850.0\n",
       "  \"Taiwan\"             => 850.0\n",
       "  \"Timor-Leste\"        => 850.0\n",
       "  \"Morocco\"            => 850.0\n",
       "  \"Libya\"              => 850.0\n",
       "  ⋮                    => ⋮"
      ]
     },
     "execution_count": 57,
     "metadata": {},
     "output_type": "execute_result"
    }
   ],
   "source": [
    "puntajes"
   ]
  },
  {
   "cell_type": "code",
   "execution_count": 55,
   "metadata": {},
   "outputs": [
    {
     "data": {
      "text/plain": [
       "205-element CategoricalArray{String63,1,UInt32}:\n",
       " \"Finland\"\n",
       " \"Sweden\"\n",
       " \"Cambodia\"\n",
       " \"Lesotho\"\n",
       " \"Peru\"\n",
       " \"Japan\"\n",
       " \"Indonesia\"\n",
       " \"Gabon\"\n",
       " \"Togo\"\n",
       " \"Canada\"\n",
       " \"North Macedonia\"\n",
       " \"Sri Lanka\"\n",
       " \"Bangladesh\"\n",
       " ⋮\n",
       " \"Cape Verde\"\n",
       " \"Gambia\"\n",
       " \"Pakistan\"\n",
       " \"Portugal\"\n",
       " \"Tahiti\"\n",
       " \"DR Congo\"\n",
       " \"Qatar\"\n",
       " \"Oman\"\n",
       " \"Nicaragua\"\n",
       " \"Singapore\"\n",
       " \"Cayman Islands\"\n",
       " \"Iraq\""
      ]
     },
     "execution_count": 55,
     "metadata": {},
     "output_type": "execute_result"
    }
   ],
   "source": [
    "collect(keys(puntajes))"
   ]
  },
  {
   "cell_type": "code",
   "execution_count": 35,
   "metadata": {},
   "outputs": [
    {
     "data": {
      "text/plain": [
       "36020"
      ]
     },
     "execution_count": 35,
     "metadata": {},
     "output_type": "execute_result"
    }
   ],
   "source": [
    "n1 = findfirst(isequal(Date(2018,06,07)), elo.fecha )-1"
   ]
  },
  {
   "cell_type": "code",
   "execution_count": 63,
   "metadata": {},
   "outputs": [],
   "source": [
    "for i in 1:n1\n",
    "    nuevos = puntajeElo(elo.local[i],elo.visitante[i],\n",
    "                        puntajes[elo.local[i]], puntajes[elo.visitante[i]],\n",
    "                        elo.goles_local[i], elo.goles_visitante[i],\n",
    "                        elo.k[i], elo.neutral[i],elo.penaltis[i])\n",
    "    puntajes[elo.local[i]] = nuevos.L\n",
    "    puntajes[elo.visitante[i]] = nuevos.V\n",
    "end"
   ]
  },
  {
   "cell_type": "code",
   "execution_count": 64,
   "metadata": {},
   "outputs": [
    {
     "data": {
      "text/html": [
       "<div class=\"data-frame\"><p>205 rows × 6 columns</p><table class=\"data-frame\"><thead><tr><th></th><th>Posicion</th><th>Pais</th><th>Puntaje</th><th>PuntajeAnt</th><th>Diferencia</th><th>Puntaje_1</th></tr><tr><th></th><th title=\"Int64\">Int64</th><th title=\"CategoricalValue{String63, UInt32}\">Cat…</th><th title=\"Int64\">Int64</th><th title=\"Int64\">Int64</th><th title=\"Float64\">Float64</th><th title=\"Float64\">Float64</th></tr></thead><tbody><tr><th>1</th><td>63</td><td>Finland</td><td>486</td><td>507</td><td>-21.0</td><td>985.441</td></tr><tr><th>2</th><td>24</td><td>Sweden</td><td>880</td><td>889</td><td>-9.0</td><td>1181.99</td></tr><tr><th>3</th><td>166</td><td>Cambodia</td><td>103</td><td>105</td><td>-2.0</td><td>401.981</td></tr><tr><th>4</th><td>147</td><td>Lesotho</td><td>175</td><td>172</td><td>3.0</td><td>738.656</td></tr><tr><th>5</th><td>11</td><td>Peru</td><td>1125</td><td>1106</td><td>19.0</td><td>1362.8</td></tr><tr><th>6</th><td>61</td><td>Japan</td><td>521</td><td>528</td><td>-7.0</td><td>1126.54</td></tr><tr><th>7</th><td>164</td><td>Indonesia</td><td>111</td><td>111</td><td>0.0</td><td>726.41</td></tr><tr><th>8</th><td>85</td><td>Gabon</td><td>390</td><td>374</td><td>16.0</td><td>850.722</td></tr><tr><th>9</th><td>125</td><td>Togo</td><td>241</td><td>242</td><td>-1.0</td><td>824.803</td></tr><tr><th>10</th><td>79</td><td>Canada</td><td>411</td><td>407</td><td>4.0</td><td>963.493</td></tr><tr><th>11</th><td>71</td><td>North Macedonia</td><td>451</td><td>422</td><td>29.0</td><td>904.672</td></tr><tr><th>12</th><td>200</td><td>Sri Lanka</td><td>17</td><td>17</td><td>0.0</td><td>296.629</td></tr><tr><th>13</th><td>194</td><td>Bangladesh</td><td>35</td><td>33</td><td>2.0</td><td>367.611</td></tr><tr><th>14</th><td>27</td><td>Senegal</td><td>838</td><td>825</td><td>13.0</td><td>1196.78</td></tr><tr><th>15</th><td>141</td><td>Kosovo</td><td>197</td><td>164</td><td>33.0</td><td>866.141</td></tr><tr><th>16</th><td>119</td><td>Tajikistan</td><td>264</td><td>266</td><td>-2.0</td><td>728.737</td></tr><tr><th>17</th><td>81</td><td>Curaçao</td><td>408</td><td>439</td><td>-31.0</td><td>719.504</td></tr><tr><th>18</th><td>151</td><td>Ethiopia</td><td>166</td><td>188</td><td>-22.0</td><td>767.773</td></tr><tr><th>19</th><td>152</td><td>Dominican Republic</td><td>162</td><td>175</td><td>-13.0</td><td>733.032</td></tr><tr><th>20</th><td>102</td><td>Vietnam</td><td>334</td><td>334</td><td>0.0</td><td>797.527</td></tr><tr><th>21</th><td>156</td><td>South Sudan</td><td>132</td><td>130</td><td>2.0</td><td>610.322</td></tr><tr><th>22</th><td>123</td><td>Taiwan</td><td>247</td><td>263</td><td>-16.0</td><td>579.505</td></tr><tr><th>23</th><td>190</td><td>Timor-Leste</td><td>45</td><td>44</td><td>1.0</td><td>212.741</td></tr><tr><th>24</th><td>41</td><td>Morocco</td><td>686</td><td>681</td><td>5.0</td><td>1242.36</td></tr><tr><th>25</th><td>101</td><td>Libya</td><td>336</td><td>341</td><td>-5.0</td><td>949.715</td></tr><tr><th>26</th><td>120</td><td>New Zealand</td><td>256</td><td>229</td><td>27.0</td><td>1014.37</td></tr><tr><th>27</th><td>170</td><td>Saint Lucia</td><td>95</td><td>95</td><td>0.0</td><td>601.959</td></tr><tr><th>28</th><td>49</td><td>Bulgaria</td><td>614</td><td>583</td><td>31.0</td><td>998.305</td></tr><tr><th>29</th><td>72</td><td>El Salvador</td><td>442</td><td>392</td><td>50.0</td><td>918.127</td></tr><tr><th>30</th><td>95</td><td>Uzbekistan</td><td>354</td><td>381</td><td>-27.0</td><td>1063.46</td></tr><tr><th>&vellip;</th><td>&vellip;</td><td>&vellip;</td><td>&vellip;</td><td>&vellip;</td><td>&vellip;</td><td>&vellip;</td></tr></tbody></table></div>"
      ],
      "text/latex": [
       "\\begin{tabular}{r|cccccc}\n",
       "\t& Posicion & Pais & Puntaje & PuntajeAnt & Diferencia & Puntaje\\_1\\\\\n",
       "\t\\hline\n",
       "\t& Int64 & Cat… & Int64 & Int64 & Float64 & Float64\\\\\n",
       "\t\\hline\n",
       "\t1 & 63 & Finland & 486 & 507 & -21.0 & 985.441 \\\\\n",
       "\t2 & 24 & Sweden & 880 & 889 & -9.0 & 1181.99 \\\\\n",
       "\t3 & 166 & Cambodia & 103 & 105 & -2.0 & 401.981 \\\\\n",
       "\t4 & 147 & Lesotho & 175 & 172 & 3.0 & 738.656 \\\\\n",
       "\t5 & 11 & Peru & 1125 & 1106 & 19.0 & 1362.8 \\\\\n",
       "\t6 & 61 & Japan & 521 & 528 & -7.0 & 1126.54 \\\\\n",
       "\t7 & 164 & Indonesia & 111 & 111 & 0.0 & 726.41 \\\\\n",
       "\t8 & 85 & Gabon & 390 & 374 & 16.0 & 850.722 \\\\\n",
       "\t9 & 125 & Togo & 241 & 242 & -1.0 & 824.803 \\\\\n",
       "\t10 & 79 & Canada & 411 & 407 & 4.0 & 963.493 \\\\\n",
       "\t11 & 71 & North Macedonia & 451 & 422 & 29.0 & 904.672 \\\\\n",
       "\t12 & 200 & Sri Lanka & 17 & 17 & 0.0 & 296.629 \\\\\n",
       "\t13 & 194 & Bangladesh & 35 & 33 & 2.0 & 367.611 \\\\\n",
       "\t14 & 27 & Senegal & 838 & 825 & 13.0 & 1196.78 \\\\\n",
       "\t15 & 141 & Kosovo & 197 & 164 & 33.0 & 866.141 \\\\\n",
       "\t16 & 119 & Tajikistan & 264 & 266 & -2.0 & 728.737 \\\\\n",
       "\t17 & 81 & Curaçao & 408 & 439 & -31.0 & 719.504 \\\\\n",
       "\t18 & 151 & Ethiopia & 166 & 188 & -22.0 & 767.773 \\\\\n",
       "\t19 & 152 & Dominican Republic & 162 & 175 & -13.0 & 733.032 \\\\\n",
       "\t20 & 102 & Vietnam & 334 & 334 & 0.0 & 797.527 \\\\\n",
       "\t21 & 156 & South Sudan & 132 & 130 & 2.0 & 610.322 \\\\\n",
       "\t22 & 123 & Taiwan & 247 & 263 & -16.0 & 579.505 \\\\\n",
       "\t23 & 190 & Timor-Leste & 45 & 44 & 1.0 & 212.741 \\\\\n",
       "\t24 & 41 & Morocco & 686 & 681 & 5.0 & 1242.36 \\\\\n",
       "\t25 & 101 & Libya & 336 & 341 & -5.0 & 949.715 \\\\\n",
       "\t26 & 120 & New Zealand & 256 & 229 & 27.0 & 1014.37 \\\\\n",
       "\t27 & 170 & Saint Lucia & 95 & 95 & 0.0 & 601.959 \\\\\n",
       "\t28 & 49 & Bulgaria & 614 & 583 & 31.0 & 998.305 \\\\\n",
       "\t29 & 72 & El Salvador & 442 & 392 & 50.0 & 918.127 \\\\\n",
       "\t30 & 95 & Uzbekistan & 354 & 381 & -27.0 & 1063.46 \\\\\n",
       "\t$\\dots$ & $\\dots$ & $\\dots$ & $\\dots$ & $\\dots$ & $\\dots$ & $\\dots$ \\\\\n",
       "\\end{tabular}\n"
      ],
      "text/plain": [
       "\u001b[1m205×6 DataFrame\u001b[0m\n",
       "\u001b[1m Row \u001b[0m│\u001b[1m Posicion \u001b[0m\u001b[1m Pais            \u001b[0m\u001b[1m Puntaje \u001b[0m\u001b[1m PuntajeAnt \u001b[0m\u001b[1m Diferencia \u001b[0m\u001b[1m Puntaje_1 \u001b[0m\n",
       "\u001b[1m     \u001b[0m│\u001b[90m Int64    \u001b[0m\u001b[90m Cat…            \u001b[0m\u001b[90m Int64   \u001b[0m\u001b[90m Int64      \u001b[0m\u001b[90m Float64    \u001b[0m\u001b[90m Float64   \u001b[0m\n",
       "─────┼───────────────────────────────────────────────────────────────────────\n",
       "   1 │       63  Finland              486         507       -21.0    985.441\n",
       "   2 │       24  Sweden               880         889        -9.0   1181.99\n",
       "   3 │      166  Cambodia             103         105        -2.0    401.981\n",
       "   4 │      147  Lesotho              175         172         3.0    738.656\n",
       "   5 │       11  Peru                1125        1106        19.0   1362.8\n",
       "   6 │       61  Japan                521         528        -7.0   1126.54\n",
       "   7 │      164  Indonesia            111         111         0.0    726.41\n",
       "   8 │       85  Gabon                390         374        16.0    850.722\n",
       "   9 │      125  Togo                 241         242        -1.0    824.803\n",
       "  10 │       79  Canada               411         407         4.0    963.493\n",
       "  11 │       71  North Macedonia      451         422        29.0    904.672\n",
       "  ⋮  │    ⋮             ⋮            ⋮         ⋮           ⋮           ⋮\n",
       " 196 │      201  Pakistan              10          10         0.0    489.994\n",
       " 197 │        4  Portugal            1274        1306       -32.0   1374.72\n",
       " 198 │      157  Tahiti               130         117        13.0    910.287\n",
       " 199 │       38  DR Congo             706         711        -5.0   1055.17\n",
       " 200 │       98  Qatar                348         339         9.0    935.495\n",
       " 201 │       84  Oman                 391         383         8.0   1001.64\n",
       " 202 │      132  Nicaragua            228         224         4.0    670.668\n",
       " 203 │      169  Singapore             99         102        -3.0    568.633\n",
       " 204 │      202  Cayman Islands         9           9         0.0    485.537\n",
       " 205 │       89  Iraq                 377         372         5.0   1046.53\n",
       "\u001b[36m                                                             184 rows omitted\u001b[0m"
      ]
     },
     "execution_count": 64,
     "metadata": {},
     "output_type": "execute_result"
    }
   ],
   "source": [
    "elo062018 = DataFrame( Pais = collect(keys(puntajes)), Puntaje = collect(values(puntajes)))\n",
    "comp062018 = innerjoin(ranking062018,elo062018, on = :Pais, makeunique=true)"
   ]
  },
  {
   "cell_type": "code",
   "execution_count": null,
   "metadata": {},
   "outputs": [],
   "source": [
    "set_aog_theme!()\n",
    "update_theme!(fontsize=20,markersize=13)\n",
    "draw(data(j)*mapping(:Puntaje => \"Puntaje FIFA\",:Puntaje_1 => \"Puntaje Élő\")*visual(Scatter, color = :darkred))\n",
    "using AlgebraOfGraphics, CairoMakie\n",
    "set_aog_theme!()\n",
    "j = data(comp062018)*\n",
    "    mapping(:Puntaje => \"Puntaje FIFA\",:Puntaje_1 => \"Puntaje Élő\")*\n",
    "    visual(Scatter, color = :darkred)\n",
    "    text!(\"center\", position = (1000, 1000), align = (:center, :center))\n",
    "draw(j)\n"
   ]
  },
  {
   "cell_type": "code",
   "execution_count": 95,
   "metadata": {},
   "outputs": [
    {
     "data": {
      "image/png": "[encoded data removed]",
      "text/plain": [
       "Figure()"
      ]
     },
     "execution_count": 95,
     "metadata": {},
     "output_type": "execute_result"
    }
   ],
   "source": [
    "CairoMakie.activate!()\n",
    "fig, ax, p = scatter(comp062018.Puntaje, comp062018.Puntaje_1;\n",
    "                                axis = (; xlabel = \"Puntaje FIFA\", \n",
    "                                ylabel = \"Puntaje Élő\"),\n",
    "                                figure = (; resolution=(600, 600)))\n",
    "text!(\"Brazil\", position = (1431, 1540.08+40), align = (:center, :center), \n",
    "      color=:darkred, textsize = 13)\n",
    "text!(\"Alemania\", position = (1558, 1481.08-40), align = (:right, :center), \n",
    "      color=:darkred, textsize = 13)\n",
    "text!(\"Colombia\", position = (986-40, 1351.46+40), align = (:center, :center), \n",
    "      color=:darkred, textsize = 13)\n",
    "fig"
   ]
  },
  {
   "cell_type": "code",
   "execution_count": 88,
   "metadata": {},
   "outputs": [
    {
     "data": {
      "text/html": [
       "<div class=\"data-frame\"><p>1 rows × 6 columns</p><table class=\"data-frame\"><thead><tr><th></th><th>Posicion</th><th>Pais</th><th>Puntaje</th><th>PuntajeAnt</th><th>Diferencia</th><th>Puntaje_1</th></tr><tr><th></th><th title=\"Int64\">Int64</th><th title=\"CategoricalValue{String63, UInt32}\">Cat…</th><th title=\"Int64\">Int64</th><th title=\"Int64\">Int64</th><th title=\"Float64\">Float64</th><th title=\"Float64\">Float64</th></tr></thead><tbody><tr><th>1</th><td>16</td><td>Colombia</td><td>986</td><td>989</td><td>-3.0</td><td>1351.46</td></tr></tbody></table></div>"
      ],
      "text/latex": [
       "\\begin{tabular}{r|cccccc}\n",
       "\t& Posicion & Pais & Puntaje & PuntajeAnt & Diferencia & Puntaje\\_1\\\\\n",
       "\t\\hline\n",
       "\t& Int64 & Cat… & Int64 & Int64 & Float64 & Float64\\\\\n",
       "\t\\hline\n",
       "\t1 & 16 & Colombia & 986 & 989 & -3.0 & 1351.46 \\\\\n",
       "\\end{tabular}\n"
      ],
      "text/plain": [
       "\u001b[1m1×6 DataFrame\u001b[0m\n",
       "\u001b[1m Row \u001b[0m│\u001b[1m Posicion \u001b[0m\u001b[1m Pais     \u001b[0m\u001b[1m Puntaje \u001b[0m\u001b[1m PuntajeAnt \u001b[0m\u001b[1m Diferencia \u001b[0m\u001b[1m Puntaje_1 \u001b[0m\n",
       "\u001b[1m     \u001b[0m│\u001b[90m Int64    \u001b[0m\u001b[90m Cat…     \u001b[0m\u001b[90m Int64   \u001b[0m\u001b[90m Int64      \u001b[0m\u001b[90m Float64    \u001b[0m\u001b[90m Float64   \u001b[0m\n",
       "─────┼────────────────────────────────────────────────────────────────\n",
       "   1 │       16  Colombia      986         989        -3.0    1351.46"
      ]
     },
     "execution_count": 88,
     "metadata": {},
     "output_type": "execute_result"
    }
   ],
   "source": [
    "@subset(comp062018, :Pais .== \"Colombia\")"
   ]
  },
  {
   "cell_type": "code",
   "execution_count": 91,
   "metadata": {},
   "outputs": [
    {
     "data": {
      "text/plain": [
       "205-element Vector{Float64}:\n",
       "  205.12650710813705\n",
       "  212.74082670055893\n",
       "  256.6653634739992\n",
       "  287.0339982098342\n",
       "  290.11104037999564\n",
       "  296.6293843740826\n",
       "  316.8376059042874\n",
       "  337.43766635510707\n",
       "  345.3081019066336\n",
       "  367.61060176698726\n",
       "  368.6416979572198\n",
       "  373.95201111003735\n",
       "  383.7131250166419\n",
       "    ⋮\n",
       " 1300.3819209740805\n",
       " 1301.6721513844257\n",
       " 1326.091874724044\n",
       " 1331.991589455932\n",
       " 1351.4609077774392\n",
       " 1362.8005944228787\n",
       " 1374.724528574274\n",
       " 1387.9976485209966\n",
       " 1400.0447936460005\n",
       " 1440.2289564306604\n",
       " 1481.7669278889837\n",
       " 1540.0813160137707"
      ]
     },
     "execution_count": 91,
     "metadata": {},
     "output_type": "execute_result"
    }
   ],
   "source": [
    "sort(comp062018.Puntaje_1)"
   ]
  },
  {
   "cell_type": "code",
   "execution_count": 96,
   "metadata": {},
   "outputs": [],
   "source": [
    "puntajes = DataFrame(Pais = ranking062018.Pais, puntaje = 1600.0 .- 4 .*(ranking062018.Posicion .-1))\n",
    "puntajes = Dict(Pair.(puntajes.Pais, puntajes.puntaje));"
   ]
  },
  {
   "cell_type": "code",
   "execution_count": 97,
   "metadata": {},
   "outputs": [
    {
     "data": {
      "text/plain": [
       "39188"
      ]
     },
     "execution_count": 97,
     "metadata": {},
     "output_type": "execute_result"
    }
   ],
   "source": [
    "n2 = findlast(isequal(Date(2022,03,30)), elo.fecha)"
   ]
  },
  {
   "cell_type": "code",
   "execution_count": 256,
   "metadata": {},
   "outputs": [
    {
     "data": {
      "text/html": [
       "<p>DataFrameRow (11 columns)</p><div class=\"data-frame\"><table class=\"data-frame\"><thead><tr><th></th><th>fecha</th><th>local</th><th>visitante</th><th>goles_local</th><th>goles_visitante</th><th>torneo</th></tr><tr><th></th><th title=\"Union{Missing, Date}\">Date?</th><th title=\"Union{Missing, CategoricalValue{String63, UInt32}}\">Cat…?</th><th title=\"CategoricalValue{String63, UInt32}\">Cat…</th><th title=\"Union{Missing, Int64}\">Int64?</th><th title=\"Union{Missing, Int64}\">Int64?</th><th title=\"Union{Missing, CategoricalValue{String63, UInt32}}\">Cat…?</th></tr></thead><tbody><tr><th>39188</th><td>2022-03-30</td><td>Solomon Islands</td><td>New Zealand</td><td>0</td><td>5</td><td>FIFA World Cup qualification</td></tr></tbody></table></div>"
      ],
      "text/latex": [
       "\\begin{tabular}{r|ccccccc}\n",
       "\t& fecha & local & visitante & goles\\_local & goles\\_visitante & torneo & \\\\\n",
       "\t\\hline\n",
       "\t& Date? & Cat…? & Cat… & Int64? & Int64? & Cat…? & \\\\\n",
       "\t\\hline\n",
       "\t39188 & 2022-03-30 & Solomon Islands & New Zealand & 0 & 5 & FIFA World Cup qualification & $\\dots$ \\\\\n",
       "\\end{tabular}\n"
      ],
      "text/plain": [
       "\u001b[1mDataFrameRow\u001b[0m\n",
       "\u001b[1m   Row \u001b[0m│\u001b[1m fecha      \u001b[0m\u001b[1m local           \u001b[0m\u001b[1m visitante   \u001b[0m\u001b[1m goles_local \u001b[0m\u001b[1m goles_visitant\u001b[0m ⋯\n",
       "\u001b[1m       \u001b[0m│\u001b[90m Date?      \u001b[0m\u001b[90m Cat…?           \u001b[0m\u001b[90m Cat…        \u001b[0m\u001b[90m Int64?      \u001b[0m\u001b[90m Int64?        \u001b[0m ⋯\n",
       "───────┼────────────────────────────────────────────────────────────────────────\n",
       " 39188 │ 2022-03-30  Solomon Islands  New Zealand            0                 ⋯\n",
       "\u001b[36m                                                               7 columns omitted\u001b[0m"
      ]
     },
     "execution_count": 256,
     "metadata": {},
     "output_type": "execute_result"
    }
   ],
   "source": [
    "last(elo)"
   ]
  },
  {
   "cell_type": "code",
   "execution_count": 98,
   "metadata": {},
   "outputs": [],
   "source": [
    "for i in (n1+1):n2\n",
    "    nuevos = puntajeElo(elo.local[i],elo.visitante[i],\n",
    "                        puntajes[elo.local[i]], puntajes[elo.visitante[i]],\n",
    "                        elo.goles_local[i], elo.goles_visitante[i],\n",
    "                        elo.k[i], elo.neutral[i],elo.penaltis[i])\n",
    "    puntajes[elo.local[i]] = nuevos.L\n",
    "    puntajes[elo.visitante[i]] = nuevos.V\n",
    "end"
   ]
  },
  {
   "cell_type": "code",
   "execution_count": 99,
   "metadata": {},
   "outputs": [
    {
     "data": {
      "text/html": [
       "<div class=\"data-frame\"><p>205 rows × 2 columns</p><table class=\"data-frame\"><thead><tr><th></th><th>Pais</th><th>Puntaje</th></tr><tr><th></th><th title=\"CategoricalValue{String63, UInt32}\">Cat…</th><th title=\"Float64\">Float64</th></tr></thead><tbody><tr><th>1</th><td>Finland</td><td>1433.87</td></tr><tr><th>2</th><td>Sweden</td><td>1515.25</td></tr><tr><th>3</th><td>Cambodia</td><td>884.025</td></tr><tr><th>4</th><td>Lesotho</td><td>1016.09</td></tr><tr><th>5</th><td>Peru</td><td>1543.5</td></tr><tr><th>6</th><td>Japan</td><td>1549.59</td></tr><tr><th>7</th><td>Indonesia</td><td>975.798</td></tr><tr><th>8</th><td>Gabon</td><td>1272.76</td></tr><tr><th>9</th><td>Togo</td><td>1174.35</td></tr><tr><th>10</th><td>Canada</td><td>1528.61</td></tr><tr><th>11</th><td>North Macedonia</td><td>1403.21</td></tr><tr><th>12</th><td>Sri Lanka</td><td>754.226</td></tr><tr><th>13</th><td>Bangladesh</td><td>864.68</td></tr><tr><th>14</th><td>Senegal</td><td>1517.72</td></tr><tr><th>15</th><td>Kosovo</td><td>1229.18</td></tr><tr><th>16</th><td>Tajikistan</td><td>1137.65</td></tr><tr><th>17</th><td>Curaçao</td><td>1240.85</td></tr><tr><th>18</th><td>Ethiopia</td><td>1110.31</td></tr><tr><th>19</th><td>Dominican Republic</td><td>944.239</td></tr><tr><th>20</th><td>Vietnam</td><td>1208.01</td></tr><tr><th>21</th><td>South Sudan</td><td>919.217</td></tr><tr><th>22</th><td>Taiwan</td><td>850.322</td></tr><tr><th>23</th><td>Timor-Leste</td><td>781.561</td></tr><tr><th>24</th><td>Morocco</td><td>1489.53</td></tr><tr><th>25</th><td>Libya</td><td>1147.61</td></tr><tr><th>26</th><td>New Zealand</td><td>1244.52</td></tr><tr><th>27</th><td>Saint Lucia</td><td>904.431</td></tr><tr><th>28</th><td>Bulgaria</td><td>1263.64</td></tr><tr><th>29</th><td>El Salvador</td><td>1265.18</td></tr><tr><th>30</th><td>Uzbekistan</td><td>1268.7</td></tr><tr><th>&vellip;</th><td>&vellip;</td><td>&vellip;</td></tr></tbody></table></div>"
      ],
      "text/latex": [
       "\\begin{tabular}{r|cc}\n",
       "\t& Pais & Puntaje\\\\\n",
       "\t\\hline\n",
       "\t& Cat… & Float64\\\\\n",
       "\t\\hline\n",
       "\t1 & Finland & 1433.87 \\\\\n",
       "\t2 & Sweden & 1515.25 \\\\\n",
       "\t3 & Cambodia & 884.025 \\\\\n",
       "\t4 & Lesotho & 1016.09 \\\\\n",
       "\t5 & Peru & 1543.5 \\\\\n",
       "\t6 & Japan & 1549.59 \\\\\n",
       "\t7 & Indonesia & 975.798 \\\\\n",
       "\t8 & Gabon & 1272.76 \\\\\n",
       "\t9 & Togo & 1174.35 \\\\\n",
       "\t10 & Canada & 1528.61 \\\\\n",
       "\t11 & North Macedonia & 1403.21 \\\\\n",
       "\t12 & Sri Lanka & 754.226 \\\\\n",
       "\t13 & Bangladesh & 864.68 \\\\\n",
       "\t14 & Senegal & 1517.72 \\\\\n",
       "\t15 & Kosovo & 1229.18 \\\\\n",
       "\t16 & Tajikistan & 1137.65 \\\\\n",
       "\t17 & Curaçao & 1240.85 \\\\\n",
       "\t18 & Ethiopia & 1110.31 \\\\\n",
       "\t19 & Dominican Republic & 944.239 \\\\\n",
       "\t20 & Vietnam & 1208.01 \\\\\n",
       "\t21 & South Sudan & 919.217 \\\\\n",
       "\t22 & Taiwan & 850.322 \\\\\n",
       "\t23 & Timor-Leste & 781.561 \\\\\n",
       "\t24 & Morocco & 1489.53 \\\\\n",
       "\t25 & Libya & 1147.61 \\\\\n",
       "\t26 & New Zealand & 1244.52 \\\\\n",
       "\t27 & Saint Lucia & 904.431 \\\\\n",
       "\t28 & Bulgaria & 1263.64 \\\\\n",
       "\t29 & El Salvador & 1265.18 \\\\\n",
       "\t30 & Uzbekistan & 1268.7 \\\\\n",
       "\t$\\dots$ & $\\dots$ & $\\dots$ \\\\\n",
       "\\end{tabular}\n"
      ],
      "text/plain": [
       "\u001b[1m205×2 DataFrame\u001b[0m\n",
       "\u001b[1m Row \u001b[0m│\u001b[1m Pais            \u001b[0m\u001b[1m Puntaje  \u001b[0m\n",
       "\u001b[1m     \u001b[0m│\u001b[90m Cat…            \u001b[0m\u001b[90m Float64  \u001b[0m\n",
       "─────┼───────────────────────────\n",
       "   1 │ Finland          1433.87\n",
       "   2 │ Sweden           1515.25\n",
       "   3 │ Cambodia          884.025\n",
       "   4 │ Lesotho          1016.09\n",
       "   5 │ Peru             1543.5\n",
       "   6 │ Japan            1549.59\n",
       "   7 │ Indonesia         975.798\n",
       "   8 │ Gabon            1272.76\n",
       "   9 │ Togo             1174.35\n",
       "  10 │ Canada           1528.61\n",
       "  11 │ North Macedonia  1403.21\n",
       "  ⋮  │        ⋮            ⋮\n",
       " 196 │ Pakistan          803.067\n",
       " 197 │ Portugal         1687.78\n",
       " 198 │ Tahiti            882.419\n",
       " 199 │ DR Congo         1319.24\n",
       " 200 │ Qatar            1397.14\n",
       " 201 │ Oman             1318.3\n",
       " 202 │ Nicaragua         978.618\n",
       " 203 │ Singapore         987.551\n",
       " 204 │ Cayman Islands    794.45\n",
       " 205 │ Iraq             1342.59\n",
       "\u001b[36m                 184 rows omitted\u001b[0m"
      ]
     },
     "execution_count": 99,
     "metadata": {},
     "output_type": "execute_result"
    }
   ],
   "source": [
    "elo032022 = DataFrame( Pais = collect(keys(puntajes)), Puntaje = collect(values(puntajes)))\n"
   ]
  },
  {
   "cell_type": "code",
   "execution_count": 100,
   "metadata": {},
   "outputs": [
    {
     "data": {
      "text/html": [
       "<div class=\"data-frame\"><p>211 rows × 5 columns</p><table class=\"data-frame\"><thead><tr><th></th><th>Posicion</th><th>Pais</th><th>Puntaje</th><th>PuntajeAnt</th><th>Diferencia</th></tr><tr><th></th><th title=\"Int64\">Int64</th><th title=\"CategoricalValue{String63, UInt32}\">Cat…</th><th title=\"Float64\">Float64</th><th title=\"Float64\">Float64</th><th title=\"Float64\">Float64</th></tr></thead><tbody><tr><th>1</th><td>1</td><td>Brazil</td><td>1832.69</td><td>1823.42</td><td>9.27</td></tr><tr><th>2</th><td>2</td><td>Belgium</td><td>1827.0</td><td>1828.45</td><td>-1.45</td></tr><tr><th>3</th><td>3</td><td>France</td><td>1789.85</td><td>1786.15</td><td>3.7</td></tr><tr><th>4</th><td>4</td><td>Argentina</td><td>1765.13</td><td>1766.99</td><td>-1.86</td></tr><tr><th>5</th><td>5</td><td>England</td><td>1761.71</td><td>1755.52</td><td>6.19</td></tr><tr><th>6</th><td>6</td><td>Italy</td><td>1723.31</td><td>1740.77</td><td>-17.46</td></tr><tr><th>7</th><td>7</td><td>Spain</td><td>1709.19</td><td>1704.75</td><td>4.44</td></tr><tr><th>8</th><td>8</td><td>Portugal</td><td>1674.78</td><td>1660.25</td><td>14.53</td></tr><tr><th>9</th><td>9</td><td>Mexico</td><td>1658.82</td><td>1647.9</td><td>10.92</td></tr><tr><th>10</th><td>10</td><td>Netherlands</td><td>1658.66</td><td>1653.73</td><td>4.93</td></tr><tr><th>11</th><td>11</td><td>Denmark</td><td>1653.6</td><td>1654.54</td><td>-0.94</td></tr><tr><th>12</th><td>12</td><td>Germany</td><td>1650.53</td><td>1648.33</td><td>2.2</td></tr><tr><th>13</th><td>13</td><td>Uruguay</td><td>1635.73</td><td>1614.05</td><td>21.68</td></tr><tr><th>14</th><td>14</td><td>Switzerland</td><td>1635.32</td><td>1642.83</td><td>-7.51</td></tr><tr><th>15</th><td>15</td><td>USA</td><td>1633.72</td><td>1643.34</td><td>-9.62</td></tr><tr><th>16</th><td>16</td><td>Croatia</td><td>1621.11</td><td>1620.74</td><td>0.37</td></tr><tr><th>17</th><td>17</td><td>Colombia</td><td>1600.52</td><td>1585.89</td><td>14.63</td></tr><tr><th>18</th><td>18</td><td>Wales</td><td>1588.08</td><td>1578.01</td><td>10.07</td></tr><tr><th>19</th><td>19</td><td>Sweden</td><td>1584.77</td><td>1588.26</td><td>-3.49</td></tr><tr><th>20</th><td>20</td><td>Senegal</td><td>1584.16</td><td>1587.78</td><td>-3.62</td></tr><tr><th>21</th><td>21</td><td>IR Iran</td><td>1564.49</td><td>1572.89</td><td>-8.4</td></tr><tr><th>22</th><td>22</td><td>Peru</td><td>1562.32</td><td>1563.45</td><td>-1.13</td></tr><tr><th>23</th><td>23</td><td>Japan</td><td>1553.44</td><td>1549.82</td><td>3.62</td></tr><tr><th>24</th><td>24</td><td>Morocco</td><td>1551.88</td><td>1547.42</td><td>4.46</td></tr><tr><th>25</th><td>25</td><td>Serbia</td><td>1547.53</td><td>1547.38</td><td>0.15</td></tr><tr><th>26</th><td>26</td><td>Poland</td><td>1544.2</td><td>1530.62</td><td>13.58</td></tr><tr><th>27</th><td>27</td><td>Ukraine</td><td>1535.08</td><td>1535.08</td><td>0.0</td></tr><tr><th>28</th><td>28</td><td>Chile</td><td>1526.4</td><td>1543.16</td><td>-16.76</td></tr><tr><th>29</th><td>29</td><td>Korea Republic</td><td>1519.54</td><td>1522.85</td><td>-3.31</td></tr><tr><th>30</th><td>30</td><td>Nigeria</td><td>1504.01</td><td>1509.91</td><td>-5.9</td></tr><tr><th>&vellip;</th><td>&vellip;</td><td>&vellip;</td><td>&vellip;</td><td>&vellip;</td><td>&vellip;</td></tr></tbody></table></div>"
      ],
      "text/latex": [
       "\\begin{tabular}{r|ccccc}\n",
       "\t& Posicion & Pais & Puntaje & PuntajeAnt & Diferencia\\\\\n",
       "\t\\hline\n",
       "\t& Int64 & Cat… & Float64 & Float64 & Float64\\\\\n",
       "\t\\hline\n",
       "\t1 & 1 & Brazil & 1832.69 & 1823.42 & 9.27 \\\\\n",
       "\t2 & 2 & Belgium & 1827.0 & 1828.45 & -1.45 \\\\\n",
       "\t3 & 3 & France & 1789.85 & 1786.15 & 3.7 \\\\\n",
       "\t4 & 4 & Argentina & 1765.13 & 1766.99 & -1.86 \\\\\n",
       "\t5 & 5 & England & 1761.71 & 1755.52 & 6.19 \\\\\n",
       "\t6 & 6 & Italy & 1723.31 & 1740.77 & -17.46 \\\\\n",
       "\t7 & 7 & Spain & 1709.19 & 1704.75 & 4.44 \\\\\n",
       "\t8 & 8 & Portugal & 1674.78 & 1660.25 & 14.53 \\\\\n",
       "\t9 & 9 & Mexico & 1658.82 & 1647.9 & 10.92 \\\\\n",
       "\t10 & 10 & Netherlands & 1658.66 & 1653.73 & 4.93 \\\\\n",
       "\t11 & 11 & Denmark & 1653.6 & 1654.54 & -0.94 \\\\\n",
       "\t12 & 12 & Germany & 1650.53 & 1648.33 & 2.2 \\\\\n",
       "\t13 & 13 & Uruguay & 1635.73 & 1614.05 & 21.68 \\\\\n",
       "\t14 & 14 & Switzerland & 1635.32 & 1642.83 & -7.51 \\\\\n",
       "\t15 & 15 & USA & 1633.72 & 1643.34 & -9.62 \\\\\n",
       "\t16 & 16 & Croatia & 1621.11 & 1620.74 & 0.37 \\\\\n",
       "\t17 & 17 & Colombia & 1600.52 & 1585.89 & 14.63 \\\\\n",
       "\t18 & 18 & Wales & 1588.08 & 1578.01 & 10.07 \\\\\n",
       "\t19 & 19 & Sweden & 1584.77 & 1588.26 & -3.49 \\\\\n",
       "\t20 & 20 & Senegal & 1584.16 & 1587.78 & -3.62 \\\\\n",
       "\t21 & 21 & IR Iran & 1564.49 & 1572.89 & -8.4 \\\\\n",
       "\t22 & 22 & Peru & 1562.32 & 1563.45 & -1.13 \\\\\n",
       "\t23 & 23 & Japan & 1553.44 & 1549.82 & 3.62 \\\\\n",
       "\t24 & 24 & Morocco & 1551.88 & 1547.42 & 4.46 \\\\\n",
       "\t25 & 25 & Serbia & 1547.53 & 1547.38 & 0.15 \\\\\n",
       "\t26 & 26 & Poland & 1544.2 & 1530.62 & 13.58 \\\\\n",
       "\t27 & 27 & Ukraine & 1535.08 & 1535.08 & 0.0 \\\\\n",
       "\t28 & 28 & Chile & 1526.4 & 1543.16 & -16.76 \\\\\n",
       "\t29 & 29 & Korea Republic & 1519.54 & 1522.85 & -3.31 \\\\\n",
       "\t30 & 30 & Nigeria & 1504.01 & 1509.91 & -5.9 \\\\\n",
       "\t$\\dots$ & $\\dots$ & $\\dots$ & $\\dots$ & $\\dots$ & $\\dots$ \\\\\n",
       "\\end{tabular}\n"
      ],
      "text/plain": [
       "\u001b[1m211×5 DataFrame\u001b[0m\n",
       "\u001b[1m Row \u001b[0m│\u001b[1m Posicion \u001b[0m\u001b[1m Pais                     \u001b[0m\u001b[1m Puntaje \u001b[0m\u001b[1m PuntajeAnt \u001b[0m\u001b[1m Diferencia \u001b[0m\n",
       "\u001b[1m     \u001b[0m│\u001b[90m Int64    \u001b[0m\u001b[90m Cat…                     \u001b[0m\u001b[90m Float64 \u001b[0m\u001b[90m Float64    \u001b[0m\u001b[90m Float64    \u001b[0m\n",
       "─────┼─────────────────────────────────────────────────────────────────────\n",
       "   1 │        1  Brazil                    1832.69     1823.42        9.27\n",
       "   2 │        2  Belgium                   1827.0      1828.45       -1.45\n",
       "   3 │        3  France                    1789.85     1786.15        3.7\n",
       "   4 │        4  Argentina                 1765.13     1766.99       -1.86\n",
       "   5 │        5  England                   1761.71     1755.52        6.19\n",
       "   6 │        6  Italy                     1723.31     1740.77      -17.46\n",
       "   7 │        7  Spain                     1709.19     1704.75        4.44\n",
       "   8 │        8  Portugal                  1674.78     1660.25       14.53\n",
       "   9 │        9  Mexico                    1658.82     1647.9        10.92\n",
       "  10 │       10  Netherlands               1658.66     1653.73        4.93\n",
       "  11 │       11  Denmark                   1653.6      1654.54       -0.94\n",
       "  ⋮  │    ⋮                 ⋮                 ⋮         ⋮           ⋮\n",
       " 202 │      202  Somalia                    857.39      873.71      -16.32\n",
       " 203 │      203  Gibraltar                  857.2       853.6         3.6\n",
       " 204 │      204  Eritrea                    855.56      855.56        0.0\n",
       " 205 │      205  Sri Lanka                  842.93      842.93        0.0\n",
       " 206 │      206  Turks and Caicos Islands   839.84      839.84        0.0\n",
       " 207 │      207  Guam                       838.33      838.33        0.0\n",
       " 208 │      208  US Virgin Islands          816.13      816.13        0.0\n",
       " 209 │      209  British Virgin Islands     812.94      812.94        0.0\n",
       " 210 │      210  Anguilla                   792.34      792.34        0.0\n",
       " 211 │      211  San Marino                 776.97      780.33       -3.36\n",
       "\u001b[36m                                                           190 rows omitted\u001b[0m"
      ]
     },
     "execution_count": 100,
     "metadata": {},
     "output_type": "execute_result"
    }
   ],
   "source": [
    "ranking032022 = CSV.read(\"Data/Ranking032022.csv\", DataFrame)\n",
    "@transform!(ranking032022, :Pais = categorical(String63.(:Pais)))\n"
   ]
  },
  {
   "cell_type": "code",
   "execution_count": null,
   "metadata": {},
   "outputs": [],
   "source": []
  },
  {
   "cell_type": "code",
   "execution_count": 101,
   "metadata": {},
   "outputs": [],
   "source": [
    "cambiarNombre = antijoin(ranking032022, ranking062018, on =  :Pais)\n",
    "nombres = [\"United States\",\"Iran\",\"South Korea\", \"Ivory Coast\",\n",
    "\"DR Congo\", \"Cape Verde\",\"Kyrgyzstan\",\"North Korea\",\n",
    "\"Saint Kitts and Nevis\", \"Taiwan\",\"Saint Vincent and the Grenadines\",\n",
    "\"Saint Lucia\", \"Brunei\", \"Tonga\", \"Bahamas\", \"Somalia\", \"Eritrea\",\n",
    "\"Turks and Caicos Islands\", \"United States Virgin Islands\", \"Anguilla\"]\n",
    "for (i,j) in enumerate(cambiarNombre.Pais)\n",
    "    ranking032022[findfirst(isequal(j), ranking032022.Pais),:Pais] = nombres[i]\n",
    "end"
   ]
  },
  {
   "cell_type": "code",
   "execution_count": 267,
   "metadata": {},
   "outputs": [
    {
     "data": {
      "text/html": [
       "<div class=\"data-frame\"><p>6 rows × 5 columns</p><table class=\"data-frame\"><thead><tr><th></th><th>Posicion</th><th>Pais</th><th>Puntaje</th><th>PuntajeAnt</th><th>Diferencia</th></tr><tr><th></th><th title=\"Int64\">Int64</th><th title=\"CategoricalValue{String63, UInt32}\">Cat…</th><th title=\"Float64\">Float64</th><th title=\"Float64\">Float64</th><th title=\"Float64\">Float64</th></tr></thead><tbody><tr><th>1</th><td>199</td><td>Tonga</td><td>861.81</td><td>861.81</td><td>0.0</td></tr><tr><th>2</th><td>201</td><td>Bahamas</td><td>858.5</td><td>858.5</td><td>0.0</td></tr><tr><th>3</th><td>202</td><td>Somalia</td><td>857.39</td><td>873.71</td><td>-16.32</td></tr><tr><th>4</th><td>204</td><td>Eritrea</td><td>855.56</td><td>855.56</td><td>0.0</td></tr><tr><th>5</th><td>206</td><td>Turks and Caicos Islands</td><td>839.84</td><td>839.84</td><td>0.0</td></tr><tr><th>6</th><td>210</td><td>Anguilla</td><td>792.34</td><td>792.34</td><td>0.0</td></tr></tbody></table></div>"
      ],
      "text/latex": [
       "\\begin{tabular}{r|ccccc}\n",
       "\t& Posicion & Pais & Puntaje & PuntajeAnt & Diferencia\\\\\n",
       "\t\\hline\n",
       "\t& Int64 & Cat… & Float64 & Float64 & Float64\\\\\n",
       "\t\\hline\n",
       "\t1 & 199 & Tonga & 861.81 & 861.81 & 0.0 \\\\\n",
       "\t2 & 201 & Bahamas & 858.5 & 858.5 & 0.0 \\\\\n",
       "\t3 & 202 & Somalia & 857.39 & 873.71 & -16.32 \\\\\n",
       "\t4 & 204 & Eritrea & 855.56 & 855.56 & 0.0 \\\\\n",
       "\t5 & 206 & Turks and Caicos Islands & 839.84 & 839.84 & 0.0 \\\\\n",
       "\t6 & 210 & Anguilla & 792.34 & 792.34 & 0.0 \\\\\n",
       "\\end{tabular}\n"
      ],
      "text/plain": [
       "\u001b[1m6×5 DataFrame\u001b[0m\n",
       "\u001b[1m Row \u001b[0m│\u001b[1m Posicion \u001b[0m\u001b[1m Pais                     \u001b[0m\u001b[1m Puntaje \u001b[0m\u001b[1m PuntajeAnt \u001b[0m\u001b[1m Diferencia \u001b[0m\n",
       "\u001b[1m     \u001b[0m│\u001b[90m Int64    \u001b[0m\u001b[90m Cat…                     \u001b[0m\u001b[90m Float64 \u001b[0m\u001b[90m Float64    \u001b[0m\u001b[90m Float64    \u001b[0m\n",
       "─────┼─────────────────────────────────────────────────────────────────────\n",
       "   1 │      199  Tonga                      861.81      861.81        0.0\n",
       "   2 │      201  Bahamas                    858.5       858.5         0.0\n",
       "   3 │      202  Somalia                    857.39      873.71      -16.32\n",
       "   4 │      204  Eritrea                    855.56      855.56        0.0\n",
       "   5 │      206  Turks and Caicos Islands   839.84      839.84        0.0\n",
       "   6 │      210  Anguilla                   792.34      792.34        0.0"
      ]
     },
     "execution_count": 267,
     "metadata": {},
     "output_type": "execute_result"
    }
   ],
   "source": []
  },
  {
   "cell_type": "code",
   "execution_count": 103,
   "metadata": {},
   "outputs": [
    {
     "data": {
      "text/html": [
       "<div class=\"data-frame\"><p>205 rows × 6 columns</p><table class=\"data-frame\"><thead><tr><th></th><th>Pais</th><th>Puntaje</th><th>Posicion</th><th>Puntaje_1</th><th>PuntajeAnt</th><th>Diferencia</th></tr><tr><th></th><th title=\"CategoricalValue{String63, UInt32}\">Cat…</th><th title=\"Float64\">Float64</th><th title=\"Union{Missing, Int64}\">Int64?</th><th title=\"Union{Missing, Float64}\">Float64?</th><th title=\"Union{Missing, Float64}\">Float64?</th><th title=\"Union{Missing, Float64}\">Float64?</th></tr></thead><tbody><tr><th>1</th><td>Brazil</td><td>1816.67</td><td>1</td><td>1832.69</td><td>1823.42</td><td>9.27</td></tr><tr><th>2</th><td>Belgium</td><td>1780.08</td><td>2</td><td>1827.0</td><td>1828.45</td><td>-1.45</td></tr><tr><th>3</th><td>France</td><td>1809.41</td><td>3</td><td>1789.85</td><td>1786.15</td><td>3.7</td></tr><tr><th>4</th><td>Argentina</td><td>1779.73</td><td>4</td><td>1765.13</td><td>1766.99</td><td>-1.86</td></tr><tr><th>5</th><td>England</td><td>1754.51</td><td>5</td><td>1761.71</td><td>1755.52</td><td>6.19</td></tr><tr><th>6</th><td>Italy</td><td>1724.3</td><td>6</td><td>1723.31</td><td>1740.77</td><td>-17.46</td></tr><tr><th>7</th><td>Spain</td><td>1735.8</td><td>7</td><td>1709.19</td><td>1704.75</td><td>4.44</td></tr><tr><th>8</th><td>Portugal</td><td>1687.78</td><td>8</td><td>1674.78</td><td>1660.25</td><td>14.53</td></tr><tr><th>9</th><td>Mexico</td><td>1577.55</td><td>9</td><td>1658.82</td><td>1647.9</td><td>10.92</td></tr><tr><th>10</th><td>Netherlands</td><td>1638.25</td><td>10</td><td>1658.66</td><td>1653.73</td><td>4.93</td></tr><tr><th>11</th><td>Denmark</td><td>1663.22</td><td>11</td><td>1653.6</td><td>1654.54</td><td>-0.94</td></tr><tr><th>12</th><td>Germany</td><td>1658.5</td><td>12</td><td>1650.53</td><td>1648.33</td><td>2.2</td></tr><tr><th>13</th><td>Uruguay</td><td>1600.12</td><td>13</td><td>1635.73</td><td>1614.05</td><td>21.68</td></tr><tr><th>14</th><td>Switzerland</td><td>1654.93</td><td>14</td><td>1635.32</td><td>1642.83</td><td>-7.51</td></tr><tr><th>15</th><td>United States</td><td>1557.54</td><td>15</td><td>1633.72</td><td>1643.34</td><td>-9.62</td></tr><tr><th>16</th><td>Croatia</td><td>1557.33</td><td>16</td><td>1621.11</td><td>1620.74</td><td>0.37</td></tr><tr><th>17</th><td>Colombia</td><td>1577.13</td><td>17</td><td>1600.52</td><td>1585.89</td><td>14.63</td></tr><tr><th>18</th><td>Wales</td><td>1574.31</td><td>18</td><td>1588.08</td><td>1578.01</td><td>10.07</td></tr><tr><th>19</th><td>Sweden</td><td>1515.25</td><td>19</td><td>1584.77</td><td>1588.26</td><td>-3.49</td></tr><tr><th>20</th><td>Senegal</td><td>1517.72</td><td>20</td><td>1584.16</td><td>1587.78</td><td>-3.62</td></tr><tr><th>21</th><td>Iran</td><td>1548.58</td><td>21</td><td>1564.49</td><td>1572.89</td><td>-8.4</td></tr><tr><th>22</th><td>Peru</td><td>1543.5</td><td>22</td><td>1562.32</td><td>1563.45</td><td>-1.13</td></tr><tr><th>23</th><td>Japan</td><td>1549.59</td><td>23</td><td>1553.44</td><td>1549.82</td><td>3.62</td></tr><tr><th>24</th><td>Morocco</td><td>1489.53</td><td>24</td><td>1551.88</td><td>1547.42</td><td>4.46</td></tr><tr><th>25</th><td>Serbia</td><td>1584.11</td><td>25</td><td>1547.53</td><td>1547.38</td><td>0.15</td></tr><tr><th>26</th><td>Poland</td><td>1517.7</td><td>26</td><td>1544.2</td><td>1530.62</td><td>13.58</td></tr><tr><th>27</th><td>Ukraine</td><td>1512.15</td><td>27</td><td>1535.08</td><td>1535.08</td><td>0.0</td></tr><tr><th>28</th><td>Chile</td><td>1454.23</td><td>28</td><td>1526.4</td><td>1543.16</td><td>-16.76</td></tr><tr><th>29</th><td>South Korea</td><td>1532.83</td><td>29</td><td>1519.54</td><td>1522.85</td><td>-3.31</td></tr><tr><th>30</th><td>Nigeria</td><td>1415.28</td><td>30</td><td>1504.01</td><td>1509.91</td><td>-5.9</td></tr><tr><th>&vellip;</th><td>&vellip;</td><td>&vellip;</td><td>&vellip;</td><td>&vellip;</td><td>&vellip;</td><td>&vellip;</td></tr></tbody></table></div>"
      ],
      "text/latex": [
       "\\begin{tabular}{r|cccccc}\n",
       "\t& Pais & Puntaje & Posicion & Puntaje\\_1 & PuntajeAnt & Diferencia\\\\\n",
       "\t\\hline\n",
       "\t& Cat… & Float64 & Int64? & Float64? & Float64? & Float64?\\\\\n",
       "\t\\hline\n",
       "\t1 & Brazil & 1816.67 & 1 & 1832.69 & 1823.42 & 9.27 \\\\\n",
       "\t2 & Belgium & 1780.08 & 2 & 1827.0 & 1828.45 & -1.45 \\\\\n",
       "\t3 & France & 1809.41 & 3 & 1789.85 & 1786.15 & 3.7 \\\\\n",
       "\t4 & Argentina & 1779.73 & 4 & 1765.13 & 1766.99 & -1.86 \\\\\n",
       "\t5 & England & 1754.51 & 5 & 1761.71 & 1755.52 & 6.19 \\\\\n",
       "\t6 & Italy & 1724.3 & 6 & 1723.31 & 1740.77 & -17.46 \\\\\n",
       "\t7 & Spain & 1735.8 & 7 & 1709.19 & 1704.75 & 4.44 \\\\\n",
       "\t8 & Portugal & 1687.78 & 8 & 1674.78 & 1660.25 & 14.53 \\\\\n",
       "\t9 & Mexico & 1577.55 & 9 & 1658.82 & 1647.9 & 10.92 \\\\\n",
       "\t10 & Netherlands & 1638.25 & 10 & 1658.66 & 1653.73 & 4.93 \\\\\n",
       "\t11 & Denmark & 1663.22 & 11 & 1653.6 & 1654.54 & -0.94 \\\\\n",
       "\t12 & Germany & 1658.5 & 12 & 1650.53 & 1648.33 & 2.2 \\\\\n",
       "\t13 & Uruguay & 1600.12 & 13 & 1635.73 & 1614.05 & 21.68 \\\\\n",
       "\t14 & Switzerland & 1654.93 & 14 & 1635.32 & 1642.83 & -7.51 \\\\\n",
       "\t15 & United States & 1557.54 & 15 & 1633.72 & 1643.34 & -9.62 \\\\\n",
       "\t16 & Croatia & 1557.33 & 16 & 1621.11 & 1620.74 & 0.37 \\\\\n",
       "\t17 & Colombia & 1577.13 & 17 & 1600.52 & 1585.89 & 14.63 \\\\\n",
       "\t18 & Wales & 1574.31 & 18 & 1588.08 & 1578.01 & 10.07 \\\\\n",
       "\t19 & Sweden & 1515.25 & 19 & 1584.77 & 1588.26 & -3.49 \\\\\n",
       "\t20 & Senegal & 1517.72 & 20 & 1584.16 & 1587.78 & -3.62 \\\\\n",
       "\t21 & Iran & 1548.58 & 21 & 1564.49 & 1572.89 & -8.4 \\\\\n",
       "\t22 & Peru & 1543.5 & 22 & 1562.32 & 1563.45 & -1.13 \\\\\n",
       "\t23 & Japan & 1549.59 & 23 & 1553.44 & 1549.82 & 3.62 \\\\\n",
       "\t24 & Morocco & 1489.53 & 24 & 1551.88 & 1547.42 & 4.46 \\\\\n",
       "\t25 & Serbia & 1584.11 & 25 & 1547.53 & 1547.38 & 0.15 \\\\\n",
       "\t26 & Poland & 1517.7 & 26 & 1544.2 & 1530.62 & 13.58 \\\\\n",
       "\t27 & Ukraine & 1512.15 & 27 & 1535.08 & 1535.08 & 0.0 \\\\\n",
       "\t28 & Chile & 1454.23 & 28 & 1526.4 & 1543.16 & -16.76 \\\\\n",
       "\t29 & South Korea & 1532.83 & 29 & 1519.54 & 1522.85 & -3.31 \\\\\n",
       "\t30 & Nigeria & 1415.28 & 30 & 1504.01 & 1509.91 & -5.9 \\\\\n",
       "\t$\\dots$ & $\\dots$ & $\\dots$ & $\\dots$ & $\\dots$ & $\\dots$ & $\\dots$ \\\\\n",
       "\\end{tabular}\n"
      ],
      "text/plain": [
       "\u001b[1m205×6 DataFrame\u001b[0m\n",
       "\u001b[1m Row \u001b[0m│\u001b[1m Pais                         \u001b[0m\u001b[1m Puntaje  \u001b[0m\u001b[1m Posicion \u001b[0m\u001b[1m Puntaje_1 \u001b[0m\u001b[1m PuntajeAnt\u001b[0m ⋯\n",
       "\u001b[1m     \u001b[0m│\u001b[90m Cat…                         \u001b[0m\u001b[90m Float64  \u001b[0m\u001b[90m Int64?   \u001b[0m\u001b[90m Float64?  \u001b[0m\u001b[90m Float64?  \u001b[0m ⋯\n",
       "─────┼──────────────────────────────────────────────────────────────────────────\n",
       "   1 │ Brazil                        1816.67          1    1832.69     1823.42 ⋯\n",
       "   2 │ Belgium                       1780.08          2    1827.0      1828.45\n",
       "   3 │ France                        1809.41          3    1789.85     1786.15\n",
       "   4 │ Argentina                     1779.73          4    1765.13     1766.99\n",
       "   5 │ England                       1754.51          5    1761.71     1755.52 ⋯\n",
       "   6 │ Italy                         1724.3           6    1723.31     1740.77\n",
       "   7 │ Spain                         1735.8           7    1709.19     1704.75\n",
       "   8 │ Portugal                      1687.78          8    1674.78     1660.25\n",
       "   9 │ Mexico                        1577.55          9    1658.82     1647.9  ⋯\n",
       "  10 │ Netherlands                   1638.25         10    1658.66     1653.73\n",
       "  11 │ Denmark                       1663.22         11    1653.6      1654.54\n",
       "  ⋮  │              ⋮                   ⋮         ⋮          ⋮          ⋮      ⋱\n",
       " 196 │ Seychelles                     747.944       196     866.94      870.63\n",
       " 197 │ Pakistan                       803.067       197     866.81      866.81 ⋯\n",
       " 198 │ Timor-Leste                    781.561       198     865.47      865.47\n",
       " 199 │ Aruba                          780.229       200     859.97      859.97\n",
       " 200 │ Gibraltar                      807.626       203     857.2       853.6\n",
       " 201 │ Sri Lanka                      754.226       205     842.93      842.93 ⋯\n",
       " 202 │ Guam                           731.837       207     838.33      838.33\n",
       " 203 │ United States Virgin Islands   648.313       208     816.13      816.13\n",
       " 204 │ British Virgin Islands         727.199       209     812.94      812.94\n",
       " 205 │ San Marino                     643.346       211     776.97      780.33 ⋯\n",
       "\u001b[36m                                                   1 column and 184 rows omitted\u001b[0m"
      ]
     },
     "execution_count": 103,
     "metadata": {},
     "output_type": "execute_result"
    }
   ],
   "source": [
    "\n",
    "comp032022= leftjoin(elo032022,ranking032022, on = :Pais, makeunique=true)"
   ]
  },
  {
   "cell_type": "code",
   "execution_count": 147,
   "metadata": {},
   "outputs": [
    {
     "data": {
      "image/png": "[encoded data removed]",
      "text/plain": [
       "Figure()"
      ]
     },
     "execution_count": 147,
     "metadata": {},
     "output_type": "execute_result"
    }
   ],
   "source": [
    "CairoMakie.activate!()\n",
    "x = 700:20:1900\n",
    "fig, ax, p = scatter(comp032022.Puntaje, comp032022.Puntaje_1;\n",
    "                                axis = (; xlabel = \"Puntaje Élő\", \n",
    "                                ylabel = \"Puntaje SUM\"),\n",
    "                                figure = (; resolution=(600, 600)))\n",
    "                                \n",
    "text!(\"Brazil\", position = (1816.67+20, 1832.69), align = (:left, :center), \n",
    "      color=:darkred, textsize = 13)\n",
    "text!(\"Alemania\", position = (1658.5, 1650.53-40), align = (:left, :center), \n",
    "      color=:darkred, textsize = 13)\n",
    "text!(\"Colombia\", position = (1577.13+20, 1600.52-20), align = (:left, :center), \n",
    "      color=:darkred, textsize = 13)\n",
    "text!(\"Francia\", position = (1810+20, 1790), align = (:left, :center), \n",
    "      color=:darkred, textsize = 13)\n",
    "text!(\"Bélgica\", position = (1780.08-20, 1827.0), align = (:right, :center), \n",
    "      color=:darkred, textsize = 13)\n",
    "\n",
    "lines!(x, x, color =:darkred)\n",
    "fig"
   ]
  },
  {
   "cell_type": "code",
   "execution_count": null,
   "metadata": {},
   "outputs": [],
   "source": [
    "using FreqTables\n",
    "freqtable(unique(vcat(elo.local, elo.visitante)))"
   ]
  }
 ],
 "metadata": {
  "kernelspec": {
   "display_name": "Julia 1.6.1",
   "language": "julia",
   "name": "julia-1.6"
  },
  "language_info": {
   "file_extension": ".jl",
   "mimetype": "application/julia",
   "name": "julia",
   "version": "1.6.3"
  },
  "orig_nbformat": 4
 },
 "nbformat": 4,
 "nbformat_minor": 2
}
