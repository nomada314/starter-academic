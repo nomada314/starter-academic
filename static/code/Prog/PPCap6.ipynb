{
  "cells": [
    {
      "cell_type": "markdown",
      "source": [
        "# Computación científica"
      ],
      "metadata": {
        "nteract": {
          "transient": {
            "deleting": false
          }
        }
      }
    },
    {
      "cell_type": "code",
      "source": [
        "import numpy as np\n",
        "import pandas as pd\n",
        "paginaD = 'https://alexrojas.netlify.com/Data/Prog/'\n"
      ],
      "outputs": [],
      "execution_count": null,
      "metadata": {
        "collapsed": true,
        "jupyter": {
          "source_hidden": false,
          "outputs_hidden": false
        },
        "nteract": {
          "transient": {
            "deleting": false
          }
        }
      }
    },
    {
      "cell_type": "code",
      "source": [
        "from scipy.special import gamma\n",
        "gamma(6) - 5*gamma(5)\n",
        "gamma(0.5) - np.sqrt(np.pi)\n"
      ],
      "outputs": [],
      "execution_count": null,
      "metadata": {
        "collapsed": true,
        "jupyter": {
          "source_hidden": false,
          "outputs_hidden": false
        },
        "nteract": {
          "transient": {
            "deleting": false
          }
        }
      }
    },
    {
      "cell_type": "markdown",
      "source": [
        "## Interpolación"
      ],
      "metadata": {
        "nteract": {
          "transient": {
            "deleting": false
          }
        }
      }
    },
    {
      "cell_type": "code",
      "source": [
        "BWexp = pd.DataFrame({'Ei':range(0,201,25),\n",
        "                      'fobs':[10.6, 16.0, 45.0, 83.5, 52.8, 19.9,\n",
        "                             10.8, 8.25, 4.7],\n",
        "                     'Error':[ 9.34, 17.9, 41.5, 85.5, 51.5, 21.5,\n",
        "                               10.8, 6.29, 4.14]})\n",
        "\n",
        "x = BWexp.values[:,0]\n",
        "y = BWexp.values[:,1]\n",
        "PhiX1 = np.vander(x,increasing=True)\n",
        "c = nl.solve(PhiX1,y)\n",
        "BWinter1 = Pol(c)"
      ],
      "outputs": [],
      "execution_count": null,
      "metadata": {
        "collapsed": true,
        "jupyter": {
          "source_hidden": false,
          "outputs_hidden": false
        },
        "nteract": {
          "transient": {
            "deleting": false
          }
        }
      }
    },
    {
      "cell_type": "code",
      "source": [
        "BWinter2 = Pol.fit(x, y, 8) "
      ],
      "outputs": [],
      "execution_count": null,
      "metadata": {
        "collapsed": true,
        "jupyter": {
          "source_hidden": false,
          "outputs_hidden": false
        },
        "nteract": {
          "transient": {
            "deleting": false
          }
        }
      }
    },
    {
      "cell_type": "code",
      "source": [
        "PCheb = np.polynomial.Chebyshev\n",
        "BWinter2 = PCheb.fit(x, y, 8)"
      ],
      "outputs": [],
      "execution_count": null,
      "metadata": {
        "collapsed": true,
        "jupyter": {
          "source_hidden": false,
          "outputs_hidden": false
        },
        "nteract": {
          "transient": {
            "deleting": false
          }
        }
      }
    },
    {
      "cell_type": "markdown",
      "source": [
        "## Interpolación usando *splines*"
      ],
      "metadata": {
        "nteract": {
          "transient": {
            "deleting": false
          }
        }
      }
    },
    {
      "cell_type": "code",
      "source": [
        "unos = np.ones(7)\n",
        "H = 100*np.eye(7) + 25*np.diag(np.ones(6),k=-1)+\n",
        "    25*np.diag(np.ones(6),k=1)\n",
        "b = y[:-2] -2*y[1:-1]+y[2:]\n",
        "c = np.zeros(9)\n",
        "c[1:8] = nl.solve(H,b)"
      ],
      "outputs": [],
      "execution_count": null,
      "metadata": {
        "collapsed": true,
        "jupyter": {
          "source_hidden": false,
          "outputs_hidden": false
        },
        "nteract": {
          "transient": {
            "deleting": false
          }
        }
      }
    },
    {
      "cell_type": "code",
      "source": [
        "from scipy.interpolate import interp1d\n",
        "BWinterS3 = interp1d(x,y,kind='cubic')"
      ],
      "outputs": [],
      "execution_count": null,
      "metadata": {
        "collapsed": true,
        "jupyter": {
          "source_hidden": false,
          "outputs_hidden": false
        },
        "nteract": {
          "transient": {
            "deleting": false
          }
        }
      }
    },
    {
      "cell_type": "markdown",
      "source": [
        "## Interpolación en dos dimensiones"
      ],
      "metadata": {
        "nteract": {
          "transient": {
            "deleting": false
          }
        }
      }
    },
    {
      "cell_type": "code",
      "source": [
        "from skimage import io\n",
        "paginaI = 'https://alexrojas.netlify.com/media/Prog/'\n",
        "archivo = 'CircConc.jpg'\n",
        "Circulos = io.imread(paginaI+archivo, as_gray=True)\n"
      ],
      "outputs": [],
      "execution_count": null,
      "metadata": {
        "collapsed": true,
        "jupyter": {
          "source_hidden": false,
          "outputs_hidden": false
        },
        "nteract": {
          "transient": {
            "deleting": false
          }
        }
      }
    },
    {
      "cell_type": "code",
      "source": [
        "x = np.array(range(0,604,3))\n",
        "y = np.array(range(0,324,3))\n",
        "xx, yy = np.meshgrid(y,x)\n",
        "Circulos9  = Circulos[xx,yy]"
      ],
      "outputs": [],
      "execution_count": null,
      "metadata": {
        "collapsed": true,
        "jupyter": {
          "source_hidden": false,
          "outputs_hidden": false
        },
        "nteract": {
          "transient": {
            "deleting": false
          }
        }
      }
    },
    {
      "cell_type": "code",
      "source": [
        "from scipy.interpolate import interp2d\n",
        "x1 = np.arange(604)\n",
        "y1 = np.arange(324)\n",
        "f = interp2d(x, y, Circulos9.T, kind='cubic')\n",
        "Z2 = f(x1, y1)"
      ],
      "outputs": [],
      "execution_count": null,
      "metadata": {
        "collapsed": true,
        "jupyter": {
          "source_hidden": false,
          "outputs_hidden": false
        },
        "nteract": {
          "transient": {
            "deleting": false
          }
        }
      }
    },
    {
      "cell_type": "code",
      "source": [
        "x = range(607)\n",
        "y = range(324)\n",
        "px, py = np.random.choice(x, 10000), np.random.choice(y, 10000)\n",
        "CirculosAleat = Circulos[py,px]"
      ],
      "outputs": [],
      "execution_count": null,
      "metadata": {
        "collapsed": true,
        "jupyter": {
          "source_hidden": false,
          "outputs_hidden": false
        },
        "nteract": {
          "transient": {
            "deleting": false
          }
        }
      }
    },
    {
      "cell_type": "code",
      "source": [
        "from scipy.interpolate import griddata\n",
        "X, Y = np.meshgrid(x,y)\n",
        "CirculosRec = griddata((px, py), CirculosAleat, (X, Y),\n",
        "                     method='cubic')"
      ],
      "outputs": [],
      "execution_count": null,
      "metadata": {
        "collapsed": true,
        "jupyter": {
          "source_hidden": false,
          "outputs_hidden": false
        },
        "nteract": {
          "transient": {
            "deleting": false
          }
        }
      }
    },
    {
      "cell_type": "markdown",
      "source": [
        "## Mínimos cuadrados"
      ],
      "metadata": {
        "nteract": {
          "transient": {
            "deleting": false
          }
        }
      }
    },
    {
      "cell_type": "code",
      "source": [
        "from scipy import stats\n",
        "audaz_m1 = stats.linregress(AudazM['sperm number (10^6)'],\n",
        "                            AudazM['Audacia'])\n",
        "print(f'b_0 = {audaz_m1.intercept}')\n",
        "print(f'b_1 = {audaz_m1.slope}')"
      ],
      "outputs": [],
      "execution_count": null,
      "metadata": {
        "collapsed": true,
        "jupyter": {
          "source_hidden": false,
          "outputs_hidden": false
        },
        "nteract": {
          "transient": {
            "deleting": false
          }
        }
      }
    },
    {
      "cell_type": "code",
      "source": [
        "from scipy.optimize import leastsq\n",
        "def residualesP2(betas, x, y):\n",
        "    Xbeta = np.vander(x,3)@np.array(betas)\n",
        "    return y - Xbeta"
      ],
      "outputs": [],
      "execution_count": null,
      "metadata": {
        "collapsed": true,
        "jupyter": {
          "source_hidden": false,
          "outputs_hidden": false
        },
        "nteract": {
          "transient": {
            "deleting": false
          }
        }
      }
    },
    {
      "cell_type": "code",
      "source": [
        "audaz_m2 = leastsq(residualesP2, [50,5,1],\\\n",
        "                   args=(AudazM['conteo'],\\\n",
        "                         AudazM['Audacia']))"
      ],
      "outputs": [],
      "execution_count": null,
      "metadata": {
        "collapsed": true,
        "jupyter": {
          "source_hidden": false,
          "outputs_hidden": false
        },
        "nteract": {
          "transient": {
            "deleting": false
          }
        }
      }
    },
    {
      "cell_type": "code",
      "source": [
        "def BreitWignerV2(e, Er,gamma,fr):\n",
        "    return fr/((e-Er)**2+gamma**2/4)\n"
      ],
      "outputs": [],
      "execution_count": null,
      "metadata": {
        "collapsed": true,
        "jupyter": {
          "source_hidden": false,
          "outputs_hidden": false
        },
        "nteract": {
          "transient": {
            "deleting": false
          }
        }
      }
    },
    {
      "cell_type": "code",
      "source": [
        "def residualesBW(p, e, y, error):\n",
        "    return (y - BreitWignerV2(e,p[0],p[1],p[2]))/error"
      ],
      "outputs": [],
      "execution_count": null,
      "metadata": {
        "collapsed": true,
        "jupyter": {
          "source_hidden": false,
          "outputs_hidden": false
        },
        "nteract": {
          "transient": {
            "deleting": false
          }
        }
      }
    },
    {
      "cell_type": "code",
      "source": [
        "BW_m1 = leastsq(residualesBW, [75,100,10],\\\n",
        "                   args=(BWexp['Ei'],BWexp['fobs'],1))\n"
      ],
      "outputs": [],
      "execution_count": null,
      "metadata": {
        "collapsed": true,
        "jupyter": {
          "source_hidden": false,
          "outputs_hidden": false
        },
        "nteract": {
          "transient": {
            "deleting": false
          }
        }
      }
    },
    {
      "cell_type": "code",
      "source": [
        "BW_m2 = leastsq(residualesBW, [75,100,10],\\\n",
        "                   args=(BWexp['Ei'],\\\n",
        "                         BWexp['fobs'],\\\n",
        "                         BWexp['Error']))"
      ],
      "outputs": [],
      "execution_count": null,
      "metadata": {
        "collapsed": true,
        "jupyter": {
          "source_hidden": false,
          "outputs_hidden": false
        },
        "nteract": {
          "transient": {
            "deleting": false
          }
        }
      }
    },
    {
      "cell_type": "code",
      "source": [
        "def MMv(s, v, k):\n",
        "    return v*s/(k+s)"
      ],
      "outputs": [],
      "execution_count": null,
      "metadata": {
        "collapsed": true,
        "jupyter": {
          "source_hidden": false,
          "outputs_hidden": false
        },
        "nteract": {
          "transient": {
            "deleting": false
          }
        }
      }
    },
    {
      "cell_type": "code",
      "source": [
        "vmkmki = pd.read_csv(paginaD+'vmkmki.csv')\n",
        "# solo usamos valores de S mayores que 0\n",
        "vmkmki = vmkmki.iloc[vmkmki['S']>0,:]\n",
        "MMV_res = curve_fit(MMv, vmkmki['S'], vmkmki['v'], p0=[10,10])"
      ],
      "outputs": [],
      "execution_count": null,
      "metadata": {
        "collapsed": true,
        "jupyter": {
          "source_hidden": false,
          "outputs_hidden": false
        },
        "nteract": {
          "transient": {
            "deleting": false
          }
        }
      }
    },
    {
      "cell_type": "code",
      "source": [
        "def MMv2(SI, b1, b2, b3):\n",
        "    s = SI.iloc[:,0]\n",
        "    i = SI.iloc[:,1]\n",
        "    return b1*s/(s + b2*(1+i/b3))"
      ],
      "outputs": [],
      "execution_count": null,
      "metadata": {
        "collapsed": true,
        "jupyter": {
          "source_hidden": false,
          "outputs_hidden": false
        },
        "nteract": {
          "transient": {
            "deleting": false
          }
        }
      }
    },
    {
      "cell_type": "code",
      "source": [
        "MMV2_res = curve_fit(MMv2, vmkmki[['S','I']], vmkmki['v'],\\\n",
        "                     p0=[10,10,10])"
      ],
      "outputs": [],
      "execution_count": null,
      "metadata": {
        "collapsed": true,
        "jupyter": {
          "source_hidden": false,
          "outputs_hidden": false
        },
        "nteract": {
          "transient": {
            "deleting": false
          }
        }
      }
    },
    {
      "cell_type": "code",
      "source": [
        "from mpl_toolkits.mplot3d import Axes3D\n",
        "def MMv2_fig(S,I, b1, b2, b3):\n",
        "    return b1*S/(S + b2*(1+I/b3))"
      ],
      "outputs": [],
      "execution_count": null,
      "metadata": {
        "collapsed": true,
        "jupyter": {
          "source_hidden": false,
          "outputs_hidden": false
        },
        "nteract": {
          "transient": {
            "deleting": false
          }
        }
      }
    },
    {
      "cell_type": "code",
      "source": [
        "ii = np.linspace(0, 100, 51)\n",
        "ss = np.linspace(0, 200, 101)\n",
        "I,S = np.meshgrid(ii,ss)\n",
        "Z = MMv2_fig(S,I,18.05582006, 15.21480513, 22.2823522)"
      ],
      "outputs": [],
      "execution_count": null,
      "metadata": {
        "collapsed": true,
        "jupyter": {
          "source_hidden": false,
          "outputs_hidden": false
        },
        "nteract": {
          "transient": {
            "deleting": false
          }
        }
      }
    },
    {
      "cell_type": "code",
      "source": [
        "fig = plt.figure()\n",
        "ax = fig.add_subplot(111, projection='3d')\n",
        "ax.contour3D(I, S, Z, 100, cmap='binary')\n",
        "ax.scatter(vmkmki['I'], vmkmki['S'], vmkmki['v'], s=30)\n",
        "ax.view_init(elev=10., azim=30)\n",
        "ax.set_xlabel(r'$I$')\n",
        "ax.set_ylabel(r'$S$')\n",
        "ax.set_zlabel(r'$V_t$');"
      ],
      "outputs": [],
      "execution_count": null,
      "metadata": {
        "collapsed": true,
        "jupyter": {
          "source_hidden": false,
          "outputs_hidden": false
        },
        "nteract": {
          "transient": {
            "deleting": false
          }
        }
      }
    },
    {
      "cell_type": "markdown",
      "source": [
        "## Integración"
      ],
      "metadata": {
        "nteract": {
          "transient": {
            "deleting": false
          }
        }
      }
    },
    {
      "cell_type": "code",
      "source": [
        "lx = np.array([1, 0.8335, 0.7313, 0.5881, 0.4334, 0.2928,\\\n",
        "               0.1813, 0.1029, 0.0535, 0.0255])\n",
        "mx = np.array([0, 0.6504, 2.3939, 2.9727, 2.4662, 1.7043,\\\n",
        "               1.0815, 0.6683, 0.4286, 0.3000])\n",
        "def Etopillo(r, l=lx, m=mx):\n",
        "    return np.sum(l*m*np.exp(-r*np.arange(l.shape[0]))) -1"
      ],
      "outputs": [],
      "execution_count": null,
      "metadata": {
        "collapsed": true,
        "jupyter": {
          "source_hidden": false,
          "outputs_hidden": false
        },
        "nteract": {
          "transient": {
            "deleting": false
          }
        }
      }
    },
    {
      "cell_type": "code",
      "source": [
        "def dEtopillo(r, l=lx, m=mx):\n",
        "    x = np.arange(l.shape[0])\n",
        "    return -np.sum(x*l*m*np.exp(-r*x))\n"
      ],
      "outputs": [],
      "execution_count": null,
      "metadata": {
        "collapsed": true,
        "jupyter": {
          "source_hidden": false,
          "outputs_hidden": false
        },
        "nteract": {
          "transient": {
            "deleting": false
          }
        }
      }
    },
    {
      "cell_type": "code",
      "source": [
        "metodoNewton(Etopillo, dEtopillo, .5)"
      ],
      "outputs": [],
      "execution_count": null,
      "metadata": {
        "collapsed": true,
        "jupyter": {
          "source_hidden": false,
          "outputs_hidden": false
        },
        "nteract": {
          "transient": {
            "deleting": false
          }
        }
      }
    },
    {
      "cell_type": "code",
      "source": [
        "from scipy.optimize import newton\n",
        "newton(Etopillo, .5, dEtopillo)"
      ],
      "outputs": [],
      "execution_count": null,
      "metadata": {
        "collapsed": true,
        "jupyter": {
          "source_hidden": false,
          "outputs_hidden": false
        },
        "nteract": {
          "transient": {
            "deleting": false
          }
        }
      }
    },
    {
      "cell_type": "code",
      "source": [
        "def EtopilloTrap(r, l=lx, m=mx):\n",
        "    i = l*m*np.exp(-r*np.arange(l.shape[0]))\n",
        "    return np.sum(i[1:-1])+(i[0]+i[-1])/2 - 1"
      ],
      "outputs": [],
      "execution_count": null,
      "metadata": {
        "collapsed": true,
        "jupyter": {
          "source_hidden": false,
          "outputs_hidden": false
        },
        "nteract": {
          "transient": {
            "deleting": false
          }
        }
      }
    },
    {
      "cell_type": "code",
      "source": [
        "def dEtopilloTrap(r, l=lx, m=mx):\n",
        "    x = np.arange(l.shape[0])\n",
        "    d = x*l*m*np.exp(-r*x)\n",
        "    return -(np.sum(d[1:-1])+(d[0]+d[-1])/2)"
      ],
      "outputs": [],
      "execution_count": null,
      "metadata": {
        "collapsed": true,
        "jupyter": {
          "source_hidden": false,
          "outputs_hidden": false
        },
        "nteract": {
          "transient": {
            "deleting": false
          }
        }
      }
    },
    {
      "cell_type": "code",
      "source": [
        "newton(EtopilloTrap, .5, dEtopilloTrap)"
      ],
      "outputs": [],
      "execution_count": null,
      "metadata": {
        "collapsed": true,
        "jupyter": {
          "source_hidden": false,
          "outputs_hidden": false
        },
        "nteract": {
          "transient": {
            "deleting": false
          }
        }
      }
    },
    {
      "cell_type": "code",
      "source": [
        "def EtopilloSimp(r, l=lx, m=mx):\n",
        "    from scipy.integrate import simps\n",
        "    return simps(lx*mx*np.exp(r*np.arange(lx.shape[0]))) -1"
      ],
      "outputs": [],
      "execution_count": null,
      "metadata": {
        "collapsed": true,
        "jupyter": {
          "source_hidden": false,
          "outputs_hidden": false
        },
        "nteract": {
          "transient": {
            "deleting": false
          }
        }
      }
    },
    {
      "cell_type": "code",
      "source": [
        "r= np.array([0, 800, 1200, 1400, 2000, 3000, 3400, 3600, 4000,\\\n",
        "             5000, 5500, 6370])*1000           # Radio en metros\n",
        "rho=np.array([13, 12.9, 12.7, 12, 11.65, 10.6, 9.9, 5.5, 5.3,\\\n",
        "              4.75, 4.5, 3.3])*1000\n",
        "simps(4*np.pi*rho*r**2,r)"
      ],
      "outputs": [],
      "execution_count": null,
      "metadata": {
        "collapsed": true,
        "jupyter": {
          "source_hidden": false,
          "outputs_hidden": false
        },
        "nteract": {
          "transient": {
            "deleting": false
          }
        }
      }
    },
    {
      "cell_type": "code",
      "source": [
        "import scipy.integrate.quadrature as quad\n",
        "def Debye_int(x):\n",
        "    return (x**4)*np.exp(x)/(np.exp(x)-1)**2\n",
        "def Debye_g(u):\n",
        "    I = quad(Debye_int, 0, 1/u)[0]\n",
        "    return 3*I*u**3"
      ],
      "outputs": [],
      "execution_count": null,
      "metadata": {
        "collapsed": true,
        "jupyter": {
          "source_hidden": false,
          "outputs_hidden": false
        },
        "nteract": {
          "transient": {
            "deleting": false
          }
        }
      }
    },
    {
      "cell_type": "code",
      "source": [
        "xs = np.linspace(0,15,101)\n",
        "us = np.linspace(0.01,1.5,100)\n",
        "fig, ax= plt.subplots(1,2,figsize=(12,6))\n",
        "ax[0].plot(xs, Debye_int(xs),'k')\n",
        "ax[0].set_xlabel(r'$x$')\n",
        "ax[0].set_ylabel(r'$x^4e^x(e^x-1)^{-2}$')\n",
        "ax[1].plot(us, [3*Debye_g(u) for u in us], 'k')\n",
        "ax[1].set_xlabel(r'$T/Td$')\n",
        "ax[1].set_ylabel(r'$C_v/(3Nk)$')\n",
        "fig.tight_layout()"
      ],
      "outputs": [],
      "execution_count": null,
      "metadata": {
        "collapsed": true,
        "jupyter": {
          "source_hidden": false,
          "outputs_hidden": false
        },
        "nteract": {
          "transient": {
            "deleting": false
          }
        }
      }
    },
    {
      "cell_type": "code",
      "source": [
        "def dt(x,nu):\n",
        "    from scipy.special import gamma\n",
        "    num = gamma((nu+1)/2)*(1+(x**2)/nu)**(-(nu+1)/2)\n",
        "    return num/(np.sqrt(nu*np.pi)*gamma(nu/2))"
      ],
      "outputs": [],
      "execution_count": null,
      "metadata": {
        "collapsed": true,
        "jupyter": {
          "source_hidden": false,
          "outputs_hidden": false
        },
        "nteract": {
          "transient": {
            "deleting": false
          }
        }
      }
    },
    {
      "cell_type": "code",
      "source": [
        "from scipy import integrate\n",
        "def g_v0(c, param):\n",
        "    \"\"\"\n",
        "    param es una lista con los valores de nu y q\n",
        "    \"\"\"\n",
        "    return integrate.quad(dt,-np.inf, c, args=(param[0]))[0]\\\n",
        "           - param[1]\n"
      ],
      "outputs": [],
      "execution_count": null,
      "metadata": {
        "collapsed": true,
        "jupyter": {
          "source_hidden": false,
          "outputs_hidden": false
        },
        "nteract": {
          "transient": {
            "deleting": false
          }
        }
      }
    },
    {
      "cell_type": "code",
      "source": [
        "def BusquedaRaizV2(f,l,u,param,h=0.1):\n",
        "    r = l\n",
        "    fr = f(r,param)\n",
        "    s = r+h\n",
        "    fs = f(s,param)\n",
        "    while signo(fr) == signo(fs):\n",
        "        if r > u:\n",
        "            return None\n",
        "        r = s\n",
        "        fr = fs\n",
        "        s = r + h\n",
        "        fs = f(s,param)\n",
        "    else:\n",
        "        return r,s"
      ],
      "outputs": [],
      "execution_count": null,
      "metadata": {
        "collapsed": true,
        "jupyter": {
          "source_hidden": false,
          "outputs_hidden": false
        },
        "nteract": {
          "transient": {
            "deleting": false
          }
        }
      }
    },
    {
      "cell_type": "code",
      "source": [
        "def qt(q,nu, l= -10, u=10):\n",
        "    from scipy.optimize import bisect\n",
        "    lu = BusquedaRaizV2(g_v0, l, u, [nu,q])\n",
        "    return bisect(g_v0,lu[0],lu[1],args=([nu,q]))"
      ],
      "outputs": [],
      "execution_count": null,
      "metadata": {
        "collapsed": true,
        "jupyter": {
          "source_hidden": false,
          "outputs_hidden": false
        },
        "nteract": {
          "transient": {
            "deleting": false
          }
        }
      }
    },
    {
      "cell_type": "code",
      "source": [
        "qt(.95, 5)"
      ],
      "outputs": [],
      "execution_count": null,
      "metadata": {
        "collapsed": true,
        "jupyter": {
          "source_hidden": false,
          "outputs_hidden": false
        },
        "nteract": {
          "transient": {
            "deleting": false
          }
        }
      }
    },
    {
      "cell_type": "markdown",
      "source": [
        "## Ecuaciones diferenciales"
      ],
      "metadata": {
        "nteract": {
          "transient": {
            "deleting": false
          }
        }
      }
    },
    {
      "cell_type": "code",
      "source": [
        "def LV(xy, t, r, beta, gamma, delta):\n",
        "    x, y = xy\n",
        "    return [r*x - beta*x*y, gamma*x*y - delta*y]"
      ],
      "outputs": [],
      "execution_count": null,
      "metadata": {
        "collapsed": true,
        "jupyter": {
          "source_hidden": false,
          "outputs_hidden": false
        },
        "nteract": {
          "transient": {
            "deleting": false
          }
        }
      }
    },
    {
      "cell_type": "code",
      "source": [
        "from scipy.integrate import odeint\n",
        "NP_0 = [700,300]\n",
        "t = np.linspace(0, 100, 251)\n",
        "NP_t = odeint(LV, NP_0, t, args=(0.302, 0.00409, 0.00196, 0.65))"
      ],
      "outputs": [],
      "execution_count": null,
      "metadata": {
        "collapsed": true,
        "jupyter": {
          "source_hidden": false,
          "outputs_hidden": false
        },
        "nteract": {
          "transient": {
            "deleting": false
          }
        }
      }
    },
    {
      "cell_type": "code",
      "source": [
        "pag0 = 'https://raw.githubusercontent.com/' +\\\n",
        "       'CSSEGISandData/COVID-19/master/' + \\\n",
        "       'csse_covid_19_data/csse_covid_19_time_series/'+\\\n",
        "       'time_series_covid19_'\n",
        "pag1 = ['confirmed', 'deaths', 'recovered']\n",
        "pags = [pag0+x+'_global.csv' for x in pag1]\n",
        "CDR  = [pd.read_csv(x, index_col=1) for x in pags]"
      ],
      "outputs": [],
      "execution_count": null,
      "metadata": {
        "collapsed": true,
        "jupyter": {
          "source_hidden": false,
          "outputs_hidden": false
        },
        "nteract": {
          "transient": {
            "deleting": false
          }
        }
      }
    },
    {
      "cell_type": "code",
      "source": [
        "def seleccionarPais(pais='Colombia',fecha='3/6/20'):\n",
        "    d = [x.loc[pais,fecha:].astype(int) for x in CDR]\n",
        "    d  = pd.DataFrame({'C':d[0], 'M':d[1], 'R':d[2]})\n",
        "    d.index=pd.date_range(fecha, periods=d.shape[0], freq='D')\n",
        "    return d"
      ],
      "outputs": [],
      "execution_count": null,
      "metadata": {
        "collapsed": true,
        "jupyter": {
          "source_hidden": false,
          "outputs_hidden": false
        },
        "nteract": {
          "transient": {
            "deleting": false
          }
        }
      }
    },
    {
      "cell_type": "code",
      "source": [
        "def SIR(inic, t, lamb, gamma):\n",
        "    S, I, R = inic\n",
        "    return [-lamb*S*I, lamb*S*I-gamma*I, gamma*I]"
      ],
      "outputs": [],
      "execution_count": null,
      "metadata": {
        "collapsed": true,
        "jupyter": {
          "source_hidden": false,
          "outputs_hidden": false
        },
        "nteract": {
          "transient": {
            "deleting": false
          }
        }
      }
    },
    {
      "cell_type": "code",
      "source": [
        "inic = [40000,54,0]\n",
        "t = np.linspace(1,71,71)\n",
        "SIR_t = odeint(SIR, inic, t, args=(0.001,0.001))"
      ],
      "outputs": [],
      "execution_count": null,
      "metadata": {
        "collapsed": true,
        "jupyter": {
          "source_hidden": false,
          "outputs_hidden": false
        },
        "nteract": {
          "transient": {
            "deleting": false
          }
        }
      }
    },
    {
      "cell_type": "code",
      "source": [
        "def SIR0(lb, Obs):\n",
        "    l, b = lb\n",
        "    SIR_t0 = [40000, 102, 0]\n",
        "    t0 = Obs.shape[0]\n",
        "    t = np.linspace(1,t0,t0)\n",
        "    SIR_t = odeint(SIR, SIR_t0, t, args=(l,b))\n",
        "    ErrorC = np.sqrt(np.mean((SIR_t[:,1] - Obs['C'])**2))\n",
        "    ErrorR = np.sqrt(np.mean((SIR_t[:,2] - Obs['R'])**2))\n",
        "    return 0.05*ErrorC + 0.95*ErrorR"
      ],
      "outputs": [],
      "execution_count": null,
      "metadata": {
        "collapsed": true,
        "jupyter": {
          "source_hidden": false,
          "outputs_hidden": false
        },
        "nteract": {
          "transient": {
            "deleting": false
          }
        }
      }
    },
    {
      "cell_type": "code",
      "source": [
        "from scipy.optimize import minimize\n",
        "Col = seleccionarPais()\n",
        "lg_est = minimize(SIR0, [0.0001, 0.01],\n",
        "                   args=(Col), method='L-BFGS-B',\n",
        "                   bounds=[(0.0000000001, 0.2),\n",
        "                           (0.0000000001, 0.2)])"
      ],
      "outputs": [],
      "execution_count": null,
      "metadata": {
        "collapsed": true,
        "jupyter": {
          "source_hidden": false,
          "outputs_hidden": false
        },
        "nteract": {
          "transient": {
            "deleting": false
          }
        }
      }
    },
    {
      "cell_type": "code",
      "source": [
        "fecha = '3/6/20'\n",
        "Modelo = odeint(SIR, [40000,102,0], np.linspace(1,200,200),\\\n",
        "                args=(2.35146309e-06, 1.32411426e-02))\n",
        "Modelo = pd.DataFrame(Modelo,columns=['S','I','R'],\\\n",
        "                      index = pd.date_range(fecha,\\\n",
        "                      periods=Modelo.shape[0], freq='D'))"
      ],
      "outputs": [],
      "execution_count": null,
      "metadata": {
        "collapsed": true,
        "jupyter": {
          "source_hidden": false,
          "outputs_hidden": false
        },
        "nteract": {
          "transient": {
            "deleting": false
          }
        }
      }
    },
    {
      "cell_type": "code",
      "source": [
        "plt.figure(figsize=(10,10))\n",
        "fig = sns.lineplot(Modelo.index,'I',data=Modelo,label=r'$I(t)$')\n",
        "fig = sns.lineplot(Modelo.index,'R',data=Modelo,label=r'$R(t)$')\n",
        "fig = sns.lineplot(Col.index, 'R', data=Col, label='Recuperados')\n",
        "fig = sns.lineplot(Col.index, 'C', data=Col, label ='Infectados')\n",
        "fig.set(xlabel='Fecha', ylabel='Número')\n",
        "plt.xticks(rotation=30, horizontalalignment='left',\\\n",
        "           fontweight='light')"
      ],
      "outputs": [],
      "execution_count": null,
      "metadata": {
        "collapsed": true,
        "jupyter": {
          "source_hidden": false,
          "outputs_hidden": false
        },
        "nteract": {
          "transient": {
            "deleting": false
          }
        }
      }
    }
  ],
  "metadata": {
    "kernel_info": {
      "name": "python3"
    },
    "language_info": {
      "name": "python3"
    },
    "kernelspec": {
      "argv": [
        "/opt/anaconda3/bin/python3",
        "-m",
        "ipykernel_launcher",
        "-f",
        "{connection_file}"
      ],
      "display_name": "Python 3",
      "language": "python",
      "name": "python3"
    },
    "nteract": {
      "version": "0.28.0"
    }
  },
  "nbformat": 4,
  "nbformat_minor": 0
}