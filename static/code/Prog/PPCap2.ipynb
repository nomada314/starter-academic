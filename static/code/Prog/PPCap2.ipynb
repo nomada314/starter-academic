{
  "cells": [
    {
      "cell_type": "markdown",
      "source": [
        "## Declaraciones `if-else`"
      ],
      "metadata": {
        "nteract": {
          "transient": {
            "deleting": false
          }
        }
      }
    },
    {
      "cell_type": "code",
      "source": [
        "z = (3.2,0.2)\n",
        "if Norma(z[0],z[1]) <= 4:\n",
        "    print(\"Dentro del círculo\")"
      ],
      "outputs": [],
      "execution_count": null,
      "metadata": {
        "collapsed": true,
        "jupyter": {
          "source_hidden": false,
          "outputs_hidden": false
        },
        "nteract": {
          "transient": {
            "deleting": false
          }
        }
      }
    },
    {
      "cell_type": "code",
      "source": [
        "z = (4.2, 0.2)\n",
        "if Norma(z[0],z[1]) <= 4:\n",
        "    print(\"Dentro del círculo\")\n",
        "    print(\"Norma de z = \", Norma(z))"
      ],
      "outputs": [],
      "execution_count": null,
      "metadata": {
        "collapsed": true,
        "jupyter": {
          "source_hidden": false,
          "outputs_hidden": false
        },
        "nteract": {
          "transient": {
            "deleting": false
          }
        }
      }
    },
    {
      "cell_type": "code",
      "source": [
        "z = (4.2,0.2)\n",
        "if Norma(z[0],z[1]) <= 4:\n",
        "    print(\"Dentro del círculo\")\n",
        "print(\"Norma de z = \", Norma(z[0],z[1]))"
      ],
      "outputs": [],
      "execution_count": null,
      "metadata": {
        "collapsed": true,
        "jupyter": {
          "source_hidden": false,
          "outputs_hidden": false
        },
        "nteract": {
          "transient": {
            "deleting": false
          }
        }
      }
    },
    {
      "cell_type": "code",
      "source": [
        "z = (4.2, 0.2)\n",
        "if Norma(z[0],z[1]) <= 4:\n",
        "    print(\"Dentro del círculo\")\n",
        "else:\n",
        "    print(\"Fuera del círculo\")"
      ],
      "outputs": [],
      "execution_count": null,
      "metadata": {
        "collapsed": true,
        "jupyter": {
          "source_hidden": false,
          "outputs_hidden": false
        },
        "nteract": {
          "transient": {
            "deleting": false
          }
        }
      }
    },
    {
      "cell_type": "code",
      "source": [
        "z = (4.2, 0.2)\n",
        "if Norma(z[0],z[1]) <= 4:\n",
        "    print(\"Dentro del círculo\")\n",
        "else:\n",
        "    print(\"Fuera del círculo\")\n",
        "    print(\"A una distancia de\", Norma(z[0],z[1])-4)"
      ],
      "outputs": [],
      "execution_count": null,
      "metadata": {
        "collapsed": true,
        "jupyter": {
          "source_hidden": false,
          "outputs_hidden": false
        },
        "nteract": {
          "transient": {
            "deleting": false
          }
        }
      }
    },
    {
      "cell_type": "code",
      "source": [
        "def DentroCirculo(z, r = 4):\n",
        "    if len(z)==2:\n",
        "        if Norma(z[0], z[1]) <= r:\n",
        "            print(\"Dentro del círculo\")\n",
        "        else:\n",
        "            print(\"Fuera del círculo, a una distancia de\",\n",
        "            Norma(z[0],z[1])-r,\"unidades\")\n",
        "    else:\n",
        "        print(\"La longitud de\",z,\"no es dos\")\n",
        "    return None"
      ],
      "outputs": [],
      "execution_count": null,
      "metadata": {
        "collapsed": true,
        "jupyter": {
          "source_hidden": false,
          "outputs_hidden": false
        },
        "nteract": {
          "transient": {
            "deleting": false
          }
        }
      }
    },
    {
      "cell_type": "code",
      "source": [
        "z = (3.2,0.2)\n",
        "if Norma(z[0],z[1]) <= 4:\n",
        "    if Norma(z[0],z[1]) >= 2:\n",
        "        print(\"Dentro del anillo\")\n",
        "    else:\n",
        "        print(\"Fuera del anillo\")\n",
        "else:\n",
        "    print(\"Fuera del anillo\")"
      ],
      "outputs": [],
      "execution_count": null,
      "metadata": {
        "collapsed": true,
        "jupyter": {
          "source_hidden": false,
          "outputs_hidden": false
        },
        "nteract": {
          "transient": {
            "deleting": false
          }
        }
      }
    },
    {
      "cell_type": "code",
      "source": [
        "if Norma(z[0],z[1]) >= 2 and Norma(z[0],z[1]) <= 4:\n",
        "    print(\"Dentro del anillo\")\n",
        "else:\n",
        "    print(\"Fuera del anillo\")"
      ],
      "outputs": [],
      "execution_count": null,
      "metadata": {
        "collapsed": true,
        "jupyter": {
          "source_hidden": false,
          "outputs_hidden": false
        },
        "nteract": {
          "transient": {
            "deleting": false
          }
        }
      }
    },
    {
      "cell_type": "code",
      "source": [
        "if  2 <= Norma(z[0],z[1]) <= 4:\n",
        "    print(\"Dentro del anillo\")\n",
        "else:\n",
        "    print(\"Fuera del anillo\")"
      ],
      "outputs": [],
      "execution_count": null,
      "metadata": {
        "collapsed": true,
        "jupyter": {
          "source_hidden": false,
          "outputs_hidden": false
        },
        "nteract": {
          "transient": {
            "deleting": false
          }
        }
      }
    },
    {
      "cell_type": "code",
      "source": [
        "def DentroAnillo(z, r2 = 4,r1 = 2):\n",
        "    if len(z)==2:\n",
        "        if  r1 <= Norma(z[0],z[1]) <= r2:\n",
        "            print(\"Dentro del anillo\")\n",
        "        else:\n",
        "            print(\"Fuera del anillo\")\n",
        "    else:\n",
        "        print(\"La longitud de\",z,\"no es dos\")\n",
        "    return None"
      ],
      "outputs": [],
      "execution_count": null,
      "metadata": {
        "collapsed": true,
        "jupyter": {
          "source_hidden": false,
          "outputs_hidden": false
        },
        "nteract": {
          "transient": {
            "deleting": false
          }
        }
      }
    },
    {
      "cell_type": "code",
      "source": [
        "z = (1.4,.5)\n",
        "if z[0]**2-3 < z[1] <  abs(z[0]):\n",
        "    print(\"Capturado\")\n",
        "else:\n",
        "    print(\"Libre\")"
      ],
      "outputs": [],
      "execution_count": null,
      "metadata": {
        "collapsed": true,
        "jupyter": {
          "source_hidden": false,
          "outputs_hidden": false
        },
        "nteract": {
          "transient": {
            "deleting": false
          }
        }
      }
    },
    {
      "cell_type": "code",
      "source": [
        "def EntreDosCurvas(z, f, g):\n",
        "    if len(z)==2:\n",
        "        if g(z[0]) < z[1] < f(z[0]):\n",
        "            print(\"Capturado\")\n",
        "        else:\n",
        "            print(\"Libre\")\n",
        "    else:\n",
        "            print(\"La longitud de\",z,\"no es dos\")\n",
        "    return None"
      ],
      "outputs": [],
      "execution_count": null,
      "metadata": {
        "collapsed": true,
        "jupyter": {
          "source_hidden": false,
          "outputs_hidden": false
        },
        "nteract": {
          "transient": {
            "deleting": false
          }
        }
      }
    },
    {
      "cell_type": "code",
      "source": [
        "if abs(z[0])< 4 and abs(z[0])< 4:    #¿z está dentro del tablero?\n",
        "    if z[1] > 0:                      #¿z está por encima del eje x?\n",
        "        if z[0] > 0:                #¿z está a la derecha del eje y?\n",
        "            print(\"Blanco\")\n",
        "        else:\n",
        "            print(\"Negro\")\n",
        "    else:\n",
        "        if z[0] > 0:\n",
        "            print(\"Negro\")\n",
        "        else:\n",
        "            print(\"Blanco\")\n",
        "else:\n",
        "    print(\"Fuera del tablero\")\n"
      ],
      "outputs": [],
      "execution_count": null,
      "metadata": {
        "collapsed": true,
        "jupyter": {
          "source_hidden": false,
          "outputs_hidden": false
        },
        "nteract": {
          "transient": {
            "deleting": false
          }
        }
      }
    },
    {
      "cell_type": "code",
      "source": [
        "def Ajedrez22(z):\n",
        "    if len(z)==2:\n",
        "        if abs(z[0])< 4 and abs(z[1])< 4:\n",
        "            if z[1]*z[0] > 0:\n",
        "                print(\"Blanco\")\n",
        "            else:\n",
        "                print(\"Negro\")\n",
        "        else:\n",
        "            print(\"Fuera del tablero\")\n",
        "    else:\n",
        "            print(\"La longitud de\",z,\"no es dos\")\n",
        "    return None"
      ],
      "outputs": [],
      "execution_count": null,
      "metadata": {
        "collapsed": true,
        "jupyter": {
          "source_hidden": false,
          "outputs_hidden": false
        },
        "nteract": {
          "transient": {
            "deleting": false
          }
        }
      }
    },
    {
      "cell_type": "code",
      "source": [
        "def signo(x):\n",
        "    return x and (1-2*(x<0))"
      ],
      "outputs": [],
      "execution_count": null,
      "metadata": {
        "collapsed": true,
        "jupyter": {
          "source_hidden": false,
          "outputs_hidden": false
        },
        "nteract": {
          "transient": {
            "deleting": false
          }
        }
      }
    },
    {
      "cell_type": "code",
      "source": [
        "def Ajedrez44(z):\n",
        "    if len(z)==2:\n",
        "        x, y = z\n",
        "        if abs(x)< 4 and abs(y)< 4:\n",
        "            x -= 2*signo(x)\n",
        "            y -= 2*signo(y)\n",
        "            Ajedrez22((2*x,2*y))\n",
        "        else:\n",
        "            print(\"Fuera del tablero\")\n",
        "    else:\n",
        "        print(\"La longitud de\",z,\"no es dos\")\n",
        "    return None"
      ],
      "outputs": [],
      "execution_count": null,
      "metadata": {
        "collapsed": true,
        "jupyter": {
          "source_hidden": false,
          "outputs_hidden": false
        },
        "nteract": {
          "transient": {
            "deleting": false
          }
        }
      }
    },
    {
      "cell_type": "code",
      "source": [
        "def Ajedrez88(z):\n",
        "    if len(z)==2:\n",
        "        x, y = z\n",
        "        if abs(x)< 4 and abs(y)< 4:\n",
        "            x -= 2*signo(x)\n",
        "            y -= 2*signo(y)\n",
        "            Ajedrez44((2*x,2*y))\n",
        "        else:\n",
        "            print(\"Fuera del tablero\")\n",
        "    else:\n",
        "        print(\"La longitud de\",z,\"no es dos\")\n",
        "    return None"
      ],
      "outputs": [],
      "execution_count": null,
      "metadata": {
        "collapsed": true,
        "jupyter": {
          "source_hidden": false,
          "outputs_hidden": false
        },
        "nteract": {
          "transient": {
            "deleting": false
          }
        }
      }
    },
    {
      "cell_type": "code",
      "source": [
        "def Ajedrez(z, tam=8):\n",
        "    if len(z)==2:\n",
        "        tam /= 2\n",
        "        if abs(z[0])< tam and abs(z[1])< tam:\n",
        "            if (int(z[0]+tam)+int(z[1]+tam))%2 == 0:\n",
        "                print(\"Blanco\")\n",
        "            else:\n",
        "                print(\"Negro\")\n",
        "        else:\n",
        "            print(\"Fuera del tablero\")\n",
        "    else:\n",
        "        print(\"La longitud de\",z,\"no es dos\")\n",
        "    return None"
      ],
      "outputs": [],
      "execution_count": null,
      "metadata": {
        "collapsed": true,
        "jupyter": {
          "source_hidden": false,
          "outputs_hidden": false
        },
        "nteract": {
          "transient": {
            "deleting": false
          }
        }
      }
    },
    {
      "cell_type": "code",
      "source": [
        "Ajedrez((3.2/4,1.2/4),2) # Produce el mismo resultado que \n",
        "                         # Ajedrez22((3.2,-1.2))"
      ],
      "outputs": [],
      "execution_count": null,
      "metadata": {
        "collapsed": true,
        "jupyter": {
          "source_hidden": false,
          "outputs_hidden": false
        },
        "nteract": {
          "transient": {
            "deleting": false
          }
        }
      }
    },
    {
      "cell_type": "code",
      "source": [
        "Ajedrez((3.2/2,-1.2/2),4) # Produce el mismo resultado que\n",
        "                          # Ajedrez44((3.2,-1.2))"
      ],
      "outputs": [],
      "execution_count": null,
      "metadata": {
        "collapsed": true,
        "jupyter": {
          "source_hidden": false,
          "outputs_hidden": false
        },
        "nteract": {
          "transient": {
            "deleting": false
          }
        }
      }
    },
    {
      "cell_type": "code",
      "source": [
        "\"Dentro del anillo\" if 2<= Norma(1.42,-1.42) <= 4 else \"Fuera del anillo\""
      ],
      "outputs": [],
      "execution_count": null,
      "metadata": {
        "collapsed": true,
        "jupyter": {
          "source_hidden": false,
          "outputs_hidden": false
        },
        "nteract": {
          "transient": {
            "deleting": false
          }
        }
      }
    },
    {
      "cell_type": "markdown",
      "source": [
        "## Declaraciones `if-elif-else`"
      ],
      "metadata": {
        "nteract": {
          "transient": {
            "deleting": false
          }
        }
      }
    },
    {
      "cell_type": "code",
      "source": [
        "def h(x):\n",
        "    if 0 <= x < 1:      # primera condición\n",
        "        return x        # bloque para la primera condición\n",
        "    elif 1 <= x < 2:    # segunda condición\n",
        "        return 2 - x    # bloque para la segunda condición\n",
        "    else:\n",
        "        return 0.0      # bloque para cuando no se cumplen ni\n",
        "                        # la primera ni la segunda condición"
      ],
      "outputs": [],
      "execution_count": null,
      "metadata": {
        "collapsed": true,
        "jupyter": {
          "source_hidden": false,
          "outputs_hidden": false
        },
        "nteract": {
          "transient": {
            "deleting": false
          }
        }
      }
    },
    {
      "cell_type": "code",
      "source": [
        "def h(x):\n",
        "    if x < 0:            # primera condición\n",
        "        return 0.0       # bloque para la primera condición\n",
        "    elif 0 <= x < 1:     # segunda condición\n",
        "        return x         # bloque para la segunda condición\n",
        "    elif 1 <= x < 2:     # tercera condición\n",
        "        return 2-x       # bloque para la tercera condición\n",
        "    else:\n",
        "        return 0.0       # bloque para cuando no se cumplen las\n",
        "                         # tres condiciones anteriores"
      ],
      "outputs": [],
      "execution_count": null,
      "metadata": {
        "collapsed": true,
        "jupyter": {
          "source_hidden": false,
          "outputs_hidden": false
        },
        "nteract": {
          "transient": {
            "deleting": false
          }
        }
      }
    },
    {
      "cell_type": "markdown",
      "source": [
        "## Excepciones"
      ],
      "metadata": {
        "nteract": {
          "transient": {
            "deleting": false
          }
        }
      }
    },
    {
      "cell_type": "code",
      "source": [
        "def inv(x):\n",
        "    try:\n",
        "        return 1/x\n",
        "    except:\n",
        "        print(\"La función 1/x no está definida para 0\")"
      ],
      "outputs": [],
      "execution_count": null,
      "metadata": {
        "collapsed": true,
        "jupyter": {
          "source_hidden": false,
          "outputs_hidden": false
        },
        "nteract": {
          "transient": {
            "deleting": false
          }
        }
      }
    },
    {
      "cell_type": "code",
      "source": [
        "def inv(x):\n",
        "    if x==0:\n",
        "        print(\"La función 1/x no está definida para 0\")\n",
        "    else:\n",
        "        return 1/x"
      ],
      "outputs": [],
      "execution_count": null,
      "metadata": {
        "collapsed": true,
        "jupyter": {
          "source_hidden": false,
          "outputs_hidden": false
        },
        "nteract": {
          "transient": {
            "deleting": false
          }
        }
      }
    },
    {
      "cell_type": "code",
      "source": [
        "import os\n",
        "try:\n",
        "    archivo = open('/Data/Prog/prueba.txt')\n",
        "    a = archivo.read()\n",
        "    print(a)\n",
        "    archivo.close()\n",
        "except:\n",
        "    print('No se pudo leer el archivo')"
      ],
      "outputs": [],
      "execution_count": null,
      "metadata": {
        "collapsed": true,
        "jupyter": {
          "source_hidden": false,
          "outputs_hidden": false
        },
        "nteract": {
          "transient": {
            "deleting": false
          }
        }
      }
    },
    {
      "cell_type": "code",
      "source": [
        "with open('/Data/Prog/prueba.txt') as archivo:\n",
        "    a = archivo.read()\n",
        "    print(a)\n"
      ],
      "outputs": [],
      "execution_count": null,
      "metadata": {
        "collapsed": true,
        "jupyter": {
          "source_hidden": false,
          "outputs_hidden": false
        },
        "nteract": {
          "transient": {
            "deleting": false
          }
        }
      }
    },
    {
      "cell_type": "code",
      "source": [
        "import urllib\n",
        "archivo = 'LCT.txt'\n",
        "paginaD = 'Datos/'\n",
        "with urllib.request.urlopen(paginaD+archivo) as respuestaURL:\n",
        "   pagina = respuestaURL.read()"
      ],
      "outputs": [],
      "execution_count": null,
      "metadata": {
        "collapsed": true,
        "jupyter": {
          "source_hidden": false,
          "outputs_hidden": false
        },
        "nteract": {
          "transient": {
            "deleting": false
          }
        }
      }
    }
  ],
  "metadata": {
    "kernel_info": {
      "name": "python3"
    },
    "language_info": {
      "name": "python3"
    },
    "kernelspec": {
      "argv": [
        "/opt/anaconda3/bin/python3",
        "-m",
        "ipykernel_launcher",
        "-f",
        "{connection_file}"
      ],
      "display_name": "Python 3",
      "language": "python",
      "name": "python3"
    },
    "nteract": {
      "version": "0.28.0"
    }
  },
  "nbformat": 4,
  "nbformat_minor": 0
}