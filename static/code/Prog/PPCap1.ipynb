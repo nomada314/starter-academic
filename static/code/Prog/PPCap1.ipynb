{
  "cells": [
    {
      "cell_type": "markdown",
      "source": [
        "## Introducción"
      ],
      "metadata": {
        "nteract": {
          "transient": {
            "deleting": false
          }
        }
      }
    },
    {
      "cell_type": "code",
      "source": [
        "import math\n",
        "math.sin(math.pi/8)"
      ],
      "outputs": [],
      "execution_count": null,
      "metadata": {
        "collapsed": true,
        "jupyter": {
          "source_hidden": false,
          "outputs_hidden": false
        },
        "nteract": {
          "transient": {
            "deleting": false
          }
        }
      }
    },
    {
      "cell_type": "code",
      "source": [
        "from math import pi,sin\n",
        "sin(pi/8)"
      ],
      "outputs": [],
      "execution_count": null,
      "metadata": {
        "collapsed": true,
        "jupyter": {
          "source_hidden": false,
          "outputs_hidden": false
        },
        "nteract": {
          "transient": {
            "deleting": false
          }
        }
      }
    },
    {
      "cell_type": "code",
      "source": [
        "import random as rnd\n",
        "rnd.randint(0,10)"
      ],
      "outputs": [],
      "execution_count": null,
      "metadata": {
        "collapsed": true,
        "jupyter": {
          "source_hidden": false,
          "outputs_hidden": false
        },
        "nteract": {
          "transient": {
            "deleting": false
          }
        }
      }
    },
    {
      "cell_type": "code",
      "source": [
        "from random import gauss as n, expovariate as exp\n",
        "n(0,1) + exp(1)"
      ],
      "outputs": [],
      "execution_count": null,
      "metadata": {
        "collapsed": true,
        "jupyter": {
          "source_hidden": false,
          "outputs_hidden": false
        },
        "nteract": {
          "transient": {
            "deleting": false
          }
        }
      }
    },
    {
      "cell_type": "markdown",
      "source": [
        "##  Asignaciones y variables\n"
      ],
      "metadata": {
        "nteract": {
          "transient": {
            "deleting": false
          }
        }
      }
    },
    {
      "cell_type": "code",
      "source": [
        "x = 9.80665\n",
        "GravedadEstandar  = 9.80665"
      ],
      "outputs": [],
      "execution_count": null,
      "metadata": {
        "collapsed": true,
        "jupyter": {
          "source_hidden": false,
          "outputs_hidden": false
        },
        "nteract": {
          "transient": {
            "deleting": false
          }
        }
      }
    },
    {
      "cell_type": "code",
      "source": [
        "NumComplejo = 2.5 + 1.2j\n",
        "Alfabeto = 'alfabeto'\n",
        "Aprobacion = True\n",
        "Pele = 10\n",
        "Messi = 10 + 0j\n",
        "James = 10.0"
      ],
      "outputs": [],
      "execution_count": null,
      "metadata": {
        "collapsed": true,
        "jupyter": {
          "source_hidden": false,
          "outputs_hidden": false
        },
        "nteract": {
          "transient": {
            "deleting": false
          }
        }
      }
    },
    {
      "cell_type": "code",
      "source": [
        "type(Alfabeto)\n",
        "type(NumComplejo)"
      ],
      "outputs": [],
      "execution_count": null,
      "metadata": {
        "collapsed": true,
        "jupyter": {
          "source_hidden": false,
          "outputs_hidden": false
        },
        "nteract": {
          "transient": {
            "deleting": false
          }
        }
      }
    },
    {
      "cell_type": "code",
      "source": [
        "print(Pele + Messi)\n",
        "print(complex(Pele) + Messi)"
      ],
      "outputs": [],
      "execution_count": null,
      "metadata": {
        "collapsed": true,
        "jupyter": {
          "source_hidden": false,
          "outputs_hidden": false
        },
        "nteract": {
          "transient": {
            "deleting": false
          }
        }
      }
    },
    {
      "cell_type": "code",
      "source": [
        "tasa = 0.05\n",
        "print(1 + tasa)\n",
        "tasa = 0.02\n",
        "print(1 + tasa)"
      ],
      "outputs": [],
      "execution_count": null,
      "metadata": {
        "collapsed": true,
        "jupyter": {
          "source_hidden": false,
          "outputs_hidden": false
        },
        "nteract": {
          "transient": {
            "deleting": false
          }
        }
      }
    },
    {
      "cell_type": "code",
      "source": [
        "tasa = 0.01\n",
        "tasa = tasa + 0.005\n",
        "tasa = tasa + 0.003\n",
        "print(tasa)"
      ],
      "outputs": [],
      "execution_count": null,
      "metadata": {
        "collapsed": true,
        "jupyter": {
          "source_hidden": false,
          "outputs_hidden": false
        },
        "nteract": {
          "transient": {
            "deleting": false
          }
        }
      }
    },
    {
      "cell_type": "code",
      "source": [
        "f\"Tres elevado a la 2 es {3**2}\"\n",
        "f\"La tasa de interés es {tasa}, pero esta aumentará 10%, es decir, la nueva tasa es {tasa*1.1}\"\n"
      ],
      "outputs": [],
      "execution_count": null,
      "metadata": {
        "collapsed": true,
        "jupyter": {
          "source_hidden": false,
          "outputs_hidden": false
        },
        "nteract": {
          "transient": {
            "deleting": false
          }
        }
      }
    },
    {
      "cell_type": "markdown",
      "source": [
        "## Cálculos básicos"
      ],
      "metadata": {
        "nteract": {
          "transient": {
            "deleting": false
          }
        }
      }
    },
    {
      "cell_type": "code",
      "source": [
        "850500*((1+0.02)**2)*45/100\n"
      ],
      "outputs": [],
      "execution_count": null,
      "metadata": {
        "collapsed": true,
        "jupyter": {
          "source_hidden": false,
          "outputs_hidden": false
        },
        "nteract": {
          "transient": {
            "deleting": false
          }
        }
      }
    },
    {
      "cell_type": "code",
      "source": [
        "17/3"
      ],
      "outputs": [],
      "execution_count": null,
      "metadata": {
        "collapsed": true,
        "jupyter": {
          "source_hidden": false,
          "outputs_hidden": false
        },
        "nteract": {
          "transient": {
            "deleting": false
          }
        }
      }
    },
    {
      "cell_type": "code",
      "source": [
        "-17/3"
      ],
      "outputs": [],
      "execution_count": null,
      "metadata": {
        "collapsed": true,
        "jupyter": {
          "source_hidden": false,
          "outputs_hidden": false
        },
        "nteract": {
          "transient": {
            "deleting": false
          }
        }
      }
    },
    {
      "cell_type": "code",
      "source": [
        "17//3"
      ],
      "outputs": [],
      "execution_count": null,
      "metadata": {
        "collapsed": true,
        "jupyter": {
          "source_hidden": false,
          "outputs_hidden": false
        },
        "nteract": {
          "transient": {
            "deleting": false
          }
        }
      }
    },
    {
      "cell_type": "code",
      "source": [
        "-17//3"
      ],
      "outputs": [],
      "execution_count": null,
      "metadata": {
        "collapsed": true,
        "jupyter": {
          "source_hidden": false,
          "outputs_hidden": false
        },
        "nteract": {
          "transient": {
            "deleting": false
          }
        }
      }
    },
    {
      "cell_type": "code",
      "source": [
        "direccion = 'https://wiki.python.org/moin/'\n",
        "inicio = 'FrontPage'"
      ],
      "outputs": [],
      "execution_count": null,
      "metadata": {
        "collapsed": true,
        "jupyter": {
          "source_hidden": false,
          "outputs_hidden": false
        },
        "nteract": {
          "transient": {
            "deleting": false
          }
        }
      }
    },
    {
      "cell_type": "code",
      "source": [
        "'A' + 'C' + 'G' + 'T'"
      ],
      "outputs": [],
      "execution_count": null,
      "metadata": {
        "collapsed": true,
        "jupyter": {
          "source_hidden": false,
          "outputs_hidden": false
        },
        "nteract": {
          "transient": {
            "deleting": false
          }
        }
      }
    },
    {
      "cell_type": "code",
      "source": [
        "print(direccion + inicio)"
      ],
      "outputs": [],
      "execution_count": null,
      "metadata": {
        "collapsed": true,
        "jupyter": {
          "source_hidden": false,
          "outputs_hidden": false
        },
        "nteract": {
          "transient": {
            "deleting": false
          }
        }
      }
    },
    {
      "cell_type": "code",
      "source": [
        "'etc., ' * 3"
      ],
      "outputs": [],
      "execution_count": null,
      "metadata": {
        "collapsed": true,
        "jupyter": {
          "source_hidden": false,
          "outputs_hidden": false
        },
        "nteract": {
          "transient": {
            "deleting": false
          }
        }
      }
    },
    {
      "cell_type": "code",
      "source": [
        "x = 3"
      ],
      "outputs": [],
      "execution_count": null,
      "metadata": {
        "collapsed": true,
        "jupyter": {
          "source_hidden": false,
          "outputs_hidden": false
        },
        "nteract": {
          "transient": {
            "deleting": false
          }
        }
      }
    },
    {
      "cell_type": "code",
      "source": [
        "(5 > x) and (x>4)"
      ],
      "outputs": [],
      "execution_count": null,
      "metadata": {
        "collapsed": true,
        "jupyter": {
          "source_hidden": false,
          "outputs_hidden": false
        },
        "nteract": {
          "transient": {
            "deleting": false
          }
        }
      }
    },
    {
      "cell_type": "code",
      "source": [
        "(5 > x) or (x>4)\n"
      ],
      "outputs": [],
      "execution_count": null,
      "metadata": {
        "collapsed": true,
        "jupyter": {
          "source_hidden": false,
          "outputs_hidden": false
        },
        "nteract": {
          "transient": {
            "deleting": false
          }
        }
      }
    },
    {
      "cell_type": "code",
      "source": [
        "not (x==3)"
      ],
      "outputs": [],
      "execution_count": null,
      "metadata": {
        "collapsed": true,
        "jupyter": {
          "source_hidden": false,
          "outputs_hidden": false
        },
        "nteract": {
          "transient": {
            "deleting": false
          }
        }
      }
    },
    {
      "cell_type": "markdown",
      "source": [
        "## Cálculos simbólicos"
      ],
      "metadata": {
        "nteract": {
          "transient": {
            "deleting": false
          }
        }
      }
    },
    {
      "cell_type": "code",
      "source": [
        "from sympy import *\n",
        "V, R, T, a, b = symbols('V R T a b')\n",
        "p = (R*T)/(V-b) - a/V**2\n",
        "dpdV  = diff(p,V)\n",
        "dpdV2 = diff(p,V,2)"
      ],
      "outputs": [],
      "execution_count": null,
      "metadata": {
        "collapsed": true,
        "jupyter": {
          "source_hidden": false,
          "outputs_hidden": false
        },
        "nteract": {
          "transient": {
            "deleting": false
          }
        }
      }
    },
    {
      "cell_type": "code",
      "source": [
        "solve(dpdV,T)\n",
        "solve(dpdV2,T)\n",
        "solve(solve(dpdV,T)[0]-solve(dpdV2,T)[0],V)[1]"
      ],
      "outputs": [],
      "execution_count": null,
      "metadata": {
        "collapsed": true,
        "jupyter": {
          "source_hidden": false,
          "outputs_hidden": false
        },
        "nteract": {
          "transient": {
            "deleting": false
          }
        }
      }
    },
    {
      "cell_type": "code",
      "source": [
        "limit((a**2 - b**2)/(a-b), a, b) # Calcula límites\n",
        "integrate(sin(b), b)             # Integra sen(b)\n",
        "simplify((a**2 - b**2)/(a+b))    # Simplifica la  expresión"
      ],
      "outputs": [],
      "execution_count": null,
      "metadata": {
        "collapsed": true,
        "jupyter": {
          "source_hidden": false,
          "outputs_hidden": false
        },
        "nteract": {
          "transient": {
            "deleting": false
          }
        }
      }
    },
    {
      "cell_type": "code",
      "source": [
        "exp_f = a*exp(-a)\n",
        "f = lambdify([a], exp_f)\n",
        "f(-1)"
      ],
      "outputs": [],
      "execution_count": null,
      "metadata": {
        "collapsed": true,
        "jupyter": {
          "source_hidden": false,
          "outputs_hidden": false
        },
        "nteract": {
          "transient": {
            "deleting": false
          }
        }
      }
    },
    {
      "cell_type": "markdown",
      "source": [
        "## Contenedores básicos"
      ],
      "metadata": {
        "nteract": {
          "transient": {
            "deleting": false
          }
        }
      }
    },
    {
      "cell_type": "markdown",
      "source": [
        "### Listas"
      ],
      "metadata": {
        "nteract": {
          "transient": {
            "deleting": false
          }
        }
      }
    },
    {
      "cell_type": "code",
      "source": [
        "Fechas = ['Oct 01, 2014', 'Oct 24, 1980', 'Feb 11, 2002']\n",
        "Codigos = [201701092,201801875,201901902,202001802,202100002]\n",
        "Constantes = [math.pi, math.e, 0.5]\n",
        "DeTodoUnPoco = ['Casino', 65, 1.3, 2+3j]\n",
        "SoloNumeros = [[1,2,3], [3.4, 4.5, 5.6], [2+8j,3+27j,4+64j]]\n",
        "Aprobaron = [True,False,True,True,True,False]"
      ],
      "outputs": [],
      "execution_count": null,
      "metadata": {
        "collapsed": true,
        "jupyter": {
          "source_hidden": false,
          "outputs_hidden": false
        },
        "nteract": {
          "transient": {
            "deleting": false
          }
        }
      }
    },
    {
      "cell_type": "code",
      "source": [
        "Fechas[0]"
      ],
      "outputs": [],
      "execution_count": null,
      "metadata": {
        "collapsed": true,
        "jupyter": {
          "source_hidden": false,
          "outputs_hidden": false
        },
        "nteract": {
          "transient": {
            "deleting": false
          }
        }
      }
    },
    {
      "cell_type": "code",
      "source": [
        "SoloNumeros[2][1]\n"
      ],
      "outputs": [],
      "execution_count": null,
      "metadata": {
        "collapsed": true,
        "jupyter": {
          "source_hidden": false,
          "outputs_hidden": false
        },
        "nteract": {
          "transient": {
            "deleting": false
          }
        }
      }
    },
    {
      "cell_type": "code",
      "source": [
        "DeTodoUnPoco[-1]"
      ],
      "outputs": [],
      "execution_count": null,
      "metadata": {
        "collapsed": true,
        "jupyter": {
          "source_hidden": false,
          "outputs_hidden": false
        },
        "nteract": {
          "transient": {
            "deleting": false
          }
        }
      }
    },
    {
      "cell_type": "code",
      "source": [
        "# Primeros cuatro elementos\n",
        "Codigos[0:4]\n",
        "Codigos[:4]\n"
      ],
      "outputs": [],
      "execution_count": null,
      "metadata": {
        "collapsed": true,
        "jupyter": {
          "source_hidden": false,
          "outputs_hidden": false
        },
        "nteract": {
          "transient": {
            "deleting": false
          }
        }
      }
    },
    {
      "cell_type": "code",
      "source": [
        "# Dos últimos elementos\n",
        "Codigos[3:5]\n",
        "Codigos[3:]\n",
        "Codigos[-2:5]\n",
        "Codigos[-2:]"
      ],
      "outputs": [],
      "execution_count": null,
      "metadata": {
        "collapsed": true,
        "jupyter": {
          "source_hidden": false,
          "outputs_hidden": false
        },
        "nteract": {
          "transient": {
            "deleting": false
          }
        }
      }
    },
    {
      "cell_type": "code",
      "source": [
        "# Tercer y cuarto elemento\n",
        "Codigos[2:4]\n",
        "Codigos[-3:-1]"
      ],
      "outputs": [],
      "execution_count": null,
      "metadata": {
        "collapsed": true,
        "jupyter": {
          "source_hidden": false,
          "outputs_hidden": false
        },
        "nteract": {
          "transient": {
            "deleting": false
          }
        }
      }
    },
    {
      "cell_type": "code",
      "source": [
        "Constantes[2]=0"
      ],
      "outputs": [],
      "execution_count": null,
      "metadata": {
        "collapsed": true,
        "jupyter": {
          "source_hidden": false,
          "outputs_hidden": false
        },
        "nteract": {
          "transient": {
            "deleting": false
          }
        }
      }
    },
    {
      "cell_type": "code",
      "source": [
        "# Insertar el número aúreo en la segunda posición de la lista:\n",
        "Constantes.insert(1,(1+math.sqrt(5))/2)"
      ],
      "outputs": [],
      "execution_count": null,
      "metadata": {
        "collapsed": true,
        "jupyter": {
          "source_hidden": false,
          "outputs_hidden": false
        },
        "nteract": {
          "transient": {
            "deleting": false
          }
        }
      }
    },
    {
      "cell_type": "code",
      "source": [
        "# Adicionar la raíz cuadradda de 2 al final de la lista\n",
        "# `Constantes`:\n",
        "Constantes.append(math.sqrt(2))"
      ],
      "outputs": [],
      "execution_count": null,
      "metadata": {
        "collapsed": true,
        "jupyter": {
          "source_hidden": false,
          "outputs_hidden": false
        },
        "nteract": {
          "transient": {
            "deleting": false
          }
        }
      }
    },
    {
      "cell_type": "code",
      "source": [
        "# Ordenar la lista\n",
        "Constantes.sort()"
      ],
      "outputs": [],
      "execution_count": null,
      "metadata": {
        "collapsed": true,
        "jupyter": {
          "source_hidden": false,
          "outputs_hidden": false
        },
        "nteract": {
          "transient": {
            "deleting": false
          }
        }
      }
    },
    {
      "cell_type": "code",
      "source": [
        "# Revertir el orden de la lista\n",
        "Constantes.reverse()"
      ],
      "outputs": [],
      "execution_count": null,
      "metadata": {
        "collapsed": true,
        "jupyter": {
          "source_hidden": false,
          "outputs_hidden": false
        },
        "nteract": {
          "transient": {
            "deleting": false
          }
        }
      }
    },
    {
      "cell_type": "code",
      "source": [
        "Constantes.__len__()"
      ],
      "outputs": [],
      "execution_count": null,
      "metadata": {
        "collapsed": true,
        "jupyter": {
          "source_hidden": false,
          "outputs_hidden": false
        },
        "nteract": {
          "transient": {
            "deleting": false
          }
        }
      }
    },
    {
      "cell_type": "code",
      "source": [
        "0 in Constantes"
      ],
      "outputs": [],
      "execution_count": null,
      "metadata": {
        "collapsed": true,
        "jupyter": {
          "source_hidden": false,
          "outputs_hidden": false
        },
        "nteract": {
          "transient": {
            "deleting": false
          }
        }
      }
    },
    {
      "cell_type": "code",
      "source": [
        "del Constantes[3]"
      ],
      "outputs": [],
      "execution_count": null,
      "metadata": {
        "collapsed": true,
        "jupyter": {
          "source_hidden": false,
          "outputs_hidden": false
        },
        "nteract": {
          "transient": {
            "deleting": false
          }
        }
      }
    },
    {
      "cell_type": "code",
      "source": [
        "Constantes + [1, 10, 100]"
      ],
      "outputs": [],
      "execution_count": null,
      "metadata": {
        "collapsed": true,
        "jupyter": {
          "source_hidden": false,
          "outputs_hidden": false
        },
        "nteract": {
          "transient": {
            "deleting": false
          }
        }
      }
    },
    {
      "cell_type": "code",
      "source": [
        "secuencia = 'PpRrOoGgRrAaMmCcIiOoNn'\n",
        "secuencia[::2]"
      ],
      "outputs": [],
      "execution_count": null,
      "metadata": {
        "collapsed": true,
        "jupyter": {
          "source_hidden": false,
          "outputs_hidden": false
        },
        "nteract": {
          "transient": {
            "deleting": false
          }
        }
      }
    },
    {
      "cell_type": "code",
      "source": [
        "a = [1,2]\n",
        "b = a\n",
        "print(a)\n",
        "print(b)\n",
        "a[1] = 4\n",
        "print(a)\n",
        "print(b)"
      ],
      "outputs": [],
      "execution_count": null,
      "metadata": {
        "collapsed": true,
        "jupyter": {
          "source_hidden": false,
          "outputs_hidden": false
        },
        "nteract": {
          "transient": {
            "deleting": false
          }
        }
      }
    },
    {
      "cell_type": "markdown",
      "source": [
        "### Tuplas"
      ],
      "metadata": {
        "nteract": {
          "transient": {
            "deleting": false
          }
        }
      }
    },
    {
      "cell_type": "code",
      "source": [
        "NucleotidosADN = ('A', 'C', 'G', 'T')\n",
        "# Número de unidades de valor tributario (UVT) exentas para\n",
        "# pago de renta según el sistema de rentas cedulares:\n",
        "UVTexemptas = (1090, 1700, 600, 600)"
      ],
      "outputs": [],
      "execution_count": null,
      "metadata": {
        "collapsed": true,
        "jupyter": {
          "source_hidden": false,
          "outputs_hidden": false
        },
        "nteract": {
          "transient": {
            "deleting": false
          }
        }
      }
    },
    {
      "cell_type": "code",
      "source": [
        "# Lista de números en el plano cartesiano\n",
        "z = [(2,3),(1,1), (4,7), (1.5,3.4), (1.34,3.41), (2.2,3.2), (0.2, -0.5)]\n",
        "\n",
        "# Cálculo de |x| + |y| para el último elemento de z\n",
        "abs(z[-1][0])+abs(z[-1][1])"
      ],
      "outputs": [],
      "execution_count": null,
      "metadata": {
        "collapsed": true,
        "jupyter": {
          "source_hidden": false,
          "outputs_hidden": false
        },
        "nteract": {
          "transient": {
            "deleting": false
          }
        }
      }
    },
    {
      "cell_type": "markdown",
      "source": [
        "### Conjuntos"
      ],
      "metadata": {
        "nteract": {
          "transient": {
            "deleting": false
          }
        }
      }
    },
    {
      "cell_type": "code",
      "source": [
        "M = set(\"Marie Curie\")\n",
        "C = set(\"Carl Gauss\")\n",
        "print(M&C)\n",
        "print(M|C)\n",
        "print(M^C)"
      ],
      "outputs": [],
      "execution_count": null,
      "metadata": {
        "collapsed": true,
        "jupyter": {
          "source_hidden": false,
          "outputs_hidden": false
        },
        "nteract": {
          "transient": {
            "deleting": false
          }
        }
      }
    },
    {
      "cell_type": "markdown",
      "source": [
        "### Diccionarios"
      ],
      "metadata": {
        "nteract": {
          "transient": {
            "deleting": false
          }
        }
      }
    },
    {
      "cell_type": "code",
      "source": [
        "codigoGenetico={'ATT':'I',   'ATC':'I',  'ATA':'I',  'CTT':'L',\n",
        "'CTC':'L',  'CTA':'L',  'CTG':'L',  'TTA':'L',  'TTG':'L',\n",
        "'GTT':'V',  'GTC':'V',  'GTA':'V',  'GTG':'V',  'TTT':'F',\n",
        "'TTC':'F',  'ATG':'M',  'TGT':'C',  'TGC':'C',  'GCT':'A',\n",
        "'GCC':'A',  'GCA':'A',  'GCG':'A',  'GGT':'G',  'GGC':'G',\n",
        "'GGA':'G',  'GGG':'G',  'CCT':'P',  'CCC':'P',  'CCA':'P',\n",
        "'CCG':'P',  'ACT':'T',  'ACC':'T',  'ACA':'T',  'ACG':'T',\n",
        "'TCT':'S',  'TCC':'S',  'TCA':'S',  'TCG':'S',  'AGT':'S',\n",
        "'AGC':'S',  'TAT':'Y',  'TAC':'Y',  'TGG':'W',  'CAA':'Q',\n",
        "'CAG':'Q',  'AAT':'N',  'AAC':'N',  'CAT':'H',  'CAC':'H',\n",
        "'GAA':'E',  'GAG':'E',  'GAT':'D',  'GAC':'D',  'AAA':'K',\n",
        "'AAG':'K',  'CGT':'R',  'CGC':'R',  'CGA':'R',  'CGG':'R',\n",
        "'AGA':'R',  'AGG':'R',  'TAA':'X',  'TAG':'X',  'TGA':'X'}"
      ],
      "outputs": [],
      "execution_count": null,
      "metadata": {
        "collapsed": true,
        "jupyter": {
          "source_hidden": false,
          "outputs_hidden": false
        },
        "nteract": {
          "transient": {
            "deleting": false
          }
        }
      }
    },
    {
      "cell_type": "code",
      "source": [
        "list(codigoGenetico.values()).count('L')"
      ],
      "outputs": [],
      "execution_count": null,
      "metadata": {
        "collapsed": true,
        "jupyter": {
          "source_hidden": false,
          "outputs_hidden": false
        },
        "nteract": {
          "transient": {
            "deleting": false
          }
        }
      }
    },
    {
      "cell_type": "code",
      "source": [
        "codigoGenetico['AAA']"
      ],
      "outputs": [],
      "execution_count": null,
      "metadata": {
        "collapsed": true,
        "jupyter": {
          "source_hidden": false,
          "outputs_hidden": false
        },
        "nteract": {
          "transient": {
            "deleting": false
          }
        }
      }
    },
    {
      "cell_type": "code",
      "source": [
        "nucleotidosADN = 'ACGT'\n",
        "codon = 'CAT'\n",
        "print(codigoGenetico[codon[0]+nucleotidosADN[0]+codon[2]])\n",
        "print(codigoGenetico[codon[0]+nucleotidosADN[1]+codon[2]])\n",
        "print(codigoGenetico[codon[0]+nucleotidosADN[2]+codon[2]])\n",
        "print(codigoGenetico[codon[0]+nucleotidosADN[3]+codon[2]])"
      ],
      "outputs": [],
      "execution_count": null,
      "metadata": {
        "collapsed": true,
        "jupyter": {
          "source_hidden": false,
          "outputs_hidden": false
        },
        "nteract": {
          "transient": {
            "deleting": false
          }
        }
      }
    },
    {
      "cell_type": "code",
      "source": [
        "p1 = {6:4, 2:34, 0:-6}\n"
      ],
      "outputs": [],
      "execution_count": null,
      "metadata": {
        "collapsed": true,
        "jupyter": {
          "source_hidden": false,
          "outputs_hidden": false
        },
        "nteract": {
          "transient": {
            "deleting": false
          }
        }
      }
    },
    {
      "cell_type": "markdown",
      "source": [
        "## Funciones"
      ],
      "metadata": {
        "nteract": {
          "transient": {
            "deleting": false
          }
        }
      }
    },
    {
      "cell_type": "code",
      "source": [
        "def g(z):\n",
        "    return abs(z[0]) + abs(z[1])\n",
        "\n",
        "a = g((1,-1))\n",
        "b = g([0,-1])"
      ],
      "outputs": [],
      "execution_count": null,
      "metadata": {
        "collapsed": true,
        "jupyter": {
          "source_hidden": false,
          "outputs_hidden": false
        },
        "nteract": {
          "transient": {
            "deleting": false
          }
        }
      }
    },
    {
      "cell_type": "code",
      "source": [
        "def hmsdec(h,m,s):\n",
        "    return 15*(h + m/60 + s/3600)\n",
        "\n",
        "def gmsdec(g,m,s,P):\n",
        "    return P*(abs(g) + m/60 + s/3600)\n",
        "\n",
        "gmsdec(-5,31,12,-1)"
      ],
      "outputs": [],
      "execution_count": null,
      "metadata": {
        "collapsed": true,
        "jupyter": {
          "source_hidden": false,
          "outputs_hidden": false
        },
        "nteract": {
          "transient": {
            "deleting": false
          }
        }
      }
    },
    {
      "cell_type": "code",
      "source": [
        "def Vsm(m):\n",
        "    return 1001.38-4.86*m+34.69*m**2\n",
        "\n",
        "def Vcs(n):\n",
        "    return 1003.0+16.4*n+2.1*n**(3/2)+0.003*n**(5/2)\n",
        "\n",
        "def Vsp(m):\n",
        "    return 17.963-0.1094*m**(3/2)-0.0002*m**2\n",
        "\n",
        "Vsp(0.10)"
      ],
      "outputs": [],
      "execution_count": null,
      "metadata": {
        "collapsed": true,
        "jupyter": {
          "source_hidden": false,
          "outputs_hidden": false
        },
        "nteract": {
          "transient": {
            "deleting": false
          }
        }
      }
    },
    {
      "cell_type": "code",
      "source": [
        "x, x0, gamma= symbols('x x0 gamma')\n",
        "f = gamma/(pi*(gamma**2+(x-x0)**2))\n",
        "dfdx = diff(f,x)\n",
        "dfdx2 = diff(f,x,2)"
      ],
      "outputs": [],
      "execution_count": null,
      "metadata": {
        "collapsed": true,
        "jupyter": {
          "source_hidden": false,
          "outputs_hidden": false
        },
        "nteract": {
          "transient": {
            "deleting": false
          }
        }
      }
    },
    {
      "cell_type": "code",
      "source": [
        "solve(dfdx,x)"
      ],
      "outputs": [],
      "execution_count": null,
      "metadata": {
        "collapsed": true,
        "jupyter": {
          "source_hidden": false,
          "outputs_hidden": false
        },
        "nteract": {
          "transient": {
            "deleting": false
          }
        }
      }
    },
    {
      "cell_type": "code",
      "source": [
        "solve(f-(1/(2*pi*gamma)),x)"
      ],
      "outputs": [],
      "execution_count": null,
      "metadata": {
        "collapsed": true,
        "jupyter": {
          "source_hidden": false,
          "outputs_hidden": false
        },
        "nteract": {
          "transient": {
            "deleting": false
          }
        }
      }
    },
    {
      "cell_type": "code",
      "source": [
        "import numpy as np\n",
        "import matplotlib.pyplot as plt\n",
        "\n",
        "def Cauchy(x,x0,gamma):\n",
        "    return gamma/(np.pi*(gamma**2+(x-x0)**2))\n",
        "\n",
        "j = Cauchy(75,75,50)/2\n",
        "\n",
        "xs = np.linspace(-75,225,200)\n",
        "plt.plot(xs,Cauchy(xs,75,50),c='k')\n",
        "plt.plot([25,74],[j,j],'k--')\n",
        "plt.plot([76,125],[j,j],'k--')\n",
        "plt.plot([25,25],[0,Cauchy(25,75,50)],'k:')\n",
        "plt.plot([125,125],[0,Cauchy(125,75,50)],'k:')\n",
        "plt.plot([75,75],[0,Cauchy(75,75,50)],'k:')\n",
        "plt.ylim(0,0.0065)\n",
        "plt.xlabel(r'$x$')\n",
        "plt.ylabel(r'$f_X(x|50,75)$')\n",
        "plt.text(65,j+.00005,r'$\\Gamma$')\n",
        "plt.text(62,.0001,r'$x_0$')\n",
        "plt.text(12,.0001,r'$x_1$')\n",
        "plt.text(112,.0001,r'$x_2$')\n"
      ],
      "outputs": [],
      "execution_count": null,
      "metadata": {
        "collapsed": true,
        "jupyter": {
          "source_hidden": false,
          "outputs_hidden": false
        },
        "nteract": {
          "transient": {
            "deleting": false
          }
        }
      }
    },
    {
      "cell_type": "code",
      "source": [
        "def BreitWigner(e,Er,Gamma):\n",
        "    return (Gamma/(2*math.pi))/((e-Er)**2+Gamma**2/4)\n"
      ],
      "outputs": [],
      "execution_count": null,
      "metadata": {
        "collapsed": true,
        "jupyter": {
          "source_hidden": false,
          "outputs_hidden": false
        },
        "nteract": {
          "transient": {
            "deleting": false
          }
        }
      }
    },
    {
      "cell_type": "code",
      "source": [
        "def InterpolLinLagrange(x, xObs, yObs):\n",
        "    \"\"\"\n",
        "    Interpolación lineal usando el método de Lagrange en\n",
        "    el punto x.\n",
        "\n",
        "    xObs: valores de los puntos en x\n",
        "    yObs: valores de los puntos en y\n",
        "\n",
        "    Ejemplo:\n",
        "    >>> InterpolLinLagrange(0.5, (-1,1), (-1,1) )\n",
        "    >>> InterpolLinLagrange(20, [18,25], [7,6] )\n",
        "    \"\"\"\n",
        "\n",
        "    l0 = (x-xObs[1])/(xObs[0]-xObs[1])\n",
        "    l1 = (x-xObs[0])/(xObs[1]-xObs[0])\n",
        "    return yObs[0]*l0 + yObs[1]*l1"
      ],
      "outputs": [],
      "execution_count": null,
      "metadata": {
        "collapsed": true,
        "jupyter": {
          "source_hidden": false,
          "outputs_hidden": false
        },
        "nteract": {
          "transient": {
            "deleting": false
          }
        }
      }
    },
    {
      "cell_type": "code",
      "source": [
        "def derivadas(f,x,h=0.0001):\n",
        "    df  = (f(x+h) - f(x-h))/(2.0*h)\n",
        "    ddf = (f(x+h) - 2.0*f(x) + f(x-h))/h**2\n",
        "    return df,ddf"
      ],
      "outputs": [],
      "execution_count": null,
      "metadata": {
        "collapsed": true,
        "jupyter": {
          "source_hidden": false,
          "outputs_hidden": false
        },
        "nteract": {
          "transient": {
            "deleting": false
          }
        }
      }
    },
    {
      "cell_type": "code",
      "source": [
        "DAtan = derivadas(math.atan, 0.6)\n",
        "DAtan1,DAtan2 = derivadas(math.atan, 0.6, 0.000001)"
      ],
      "outputs": [],
      "execution_count": null,
      "metadata": {
        "collapsed": true,
        "jupyter": {
          "source_hidden": false,
          "outputs_hidden": false
        },
        "nteract": {
          "transient": {
            "deleting": false
          }
        }
      }
    },
    {
      "cell_type": "code",
      "source": [
        "def f1(x):\n",
        "    return 1/(x**3 - 2*x**2)\n",
        "Df1 = derivadas(f1 ,0.4)"
      ],
      "outputs": [],
      "execution_count": null,
      "metadata": {
        "collapsed": true,
        "jupyter": {
          "source_hidden": false,
          "outputs_hidden": false
        },
        "nteract": {
          "transient": {
            "deleting": false
          }
        }
      }
    },
    {
      "cell_type": "code",
      "source": [
        "Df1 = derivadas(lambda x: 1/(x**3 - 2*x**2) ,0.4)\n",
        "Df2 = derivadas(lambda x: 1/(3*x**3 - 4*x**2) ,0.4)"
      ],
      "outputs": [],
      "execution_count": null,
      "metadata": {
        "collapsed": true,
        "jupyter": {
          "source_hidden": false,
          "outputs_hidden": false
        },
        "nteract": {
          "transient": {
            "deleting": false
          }
        }
      }
    },
    {
      "cell_type": "code",
      "source": [
        "Norma = lambda x , y: math.sqrt(x**2 + y**2)\n",
        "Norma(4,3)"
      ],
      "outputs": [],
      "execution_count": null,
      "metadata": {
        "collapsed": true,
        "jupyter": {
          "source_hidden": false,
          "outputs_hidden": false
        },
        "nteract": {
          "transient": {
            "deleting": false
          }
        }
      }
    },
    {
      "cell_type": "code",
      "source": [
        "def ValorFuturo(V0, t=1, r=0.05):\n",
        "  FactorCrecimiento = pow(1+r,t)\n",
        "  return V0*FactorCrecimiento"
      ],
      "outputs": [],
      "execution_count": null,
      "metadata": {
        "collapsed": true,
        "jupyter": {
          "source_hidden": false,
          "outputs_hidden": false
        },
        "nteract": {
          "transient": {
            "deleting": false
          }
        }
      }
    },
    {
      "cell_type": "code",
      "source": [
        "r0, t0 = 0.05, 2\n",
        "vf1 = ValorFuturo(100, t0, r0)"
      ],
      "outputs": [],
      "execution_count": null,
      "metadata": {
        "collapsed": true,
        "jupyter": {
          "source_hidden": false,
          "outputs_hidden": false
        },
        "nteract": {
          "transient": {
            "deleting": false
          }
        }
      }
    },
    {
      "cell_type": "code",
      "source": [
        "def f2(r1):\n",
        "    V0 = 200\n",
        "    print(ValorFuturo(100,t0,r1))\n",
        "    print(ValorFuturo(100,t0,r0))\n",
        "    print(V0)\n",
        "    return None"
      ],
      "outputs": [],
      "execution_count": null,
      "metadata": {
        "collapsed": true,
        "jupyter": {
          "source_hidden": false,
          "outputs_hidden": false
        },
        "nteract": {
          "transient": {
            "deleting": false
          }
        }
      }
    },
    {
      "cell_type": "code",
      "source": [
        "def parteEnteraL1(z):\n",
        "    return abs(z.imag)+abs(z.real)"
      ],
      "outputs": [],
      "execution_count": null,
      "metadata": {
        "collapsed": true,
        "jupyter": {
          "source_hidden": false,
          "outputs_hidden": false
        },
        "nteract": {
          "transient": {
            "deleting": false
          }
        }
      }
    },
    {
      "cell_type": "code",
      "source": [
        "def PC1(z):\n",
        "    print(parteEnteraL1(z[0]), parteEnteraL1(z[1]),\n",
        "          parteEnteraL1(z[2]))\n",
        "    print(int(abs(z[-3])),int(abs(z[-2])),int(abs(z[-1])))\n",
        "    return None"
      ],
      "outputs": [],
      "execution_count": null,
      "metadata": {
        "collapsed": true,
        "jupyter": {
          "source_hidden": false,
          "outputs_hidden": false
        },
        "nteract": {
          "transient": {
            "deleting": false
          }
        }
      }
    },
    {
      "cell_type": "code",
      "source": [
        "from matplotlib import pyplot as plt\n",
        "plt.rcParams['font.family'] = 'serif'\n",
        "plt.rcParams['figure.figsize'] = (10.0, 8.0)\n",
        "plt.rcParams['font.size'] = 18"
      ],
      "outputs": [],
      "execution_count": null,
      "metadata": {
        "collapsed": true,
        "jupyter": {
          "source_hidden": false,
          "outputs_hidden": false
        },
        "nteract": {
          "transient": {
            "deleting": false
          }
        }
      }
    },
    {
      "cell_type": "code",
      "source": [
        "figura1 = plt.figure()\n",
        "print(figura1)"
      ],
      "outputs": [],
      "execution_count": null,
      "metadata": {
        "collapsed": true,
        "jupyter": {
          "source_hidden": false,
          "outputs_hidden": false
        },
        "nteract": {
          "transient": {
            "deleting": false
          }
        }
      }
    },
    {
      "cell_type": "code",
      "source": [
        "figura2 = plt.figure(figsize=(6, 4), facecolor='white')\n",
        "print(figura2)\n"
      ],
      "outputs": [],
      "execution_count": null,
      "metadata": {
        "collapsed": true,
        "jupyter": {
          "source_hidden": false,
          "outputs_hidden": false
        },
        "nteract": {
          "transient": {
            "deleting": false
          }
        }
      }
    },
    {
      "cell_type": "code",
      "source": [
        "x1 = [0,1,2,3,4,5]\n",
        "x2 = [0.2, 0.8, 1.6, 2.5, 3.6, 4.8]\n",
        "y1 = [10, 20, 25, 30, 25, 20]\n",
        "y2 = [5, 15, 25, 25, 28,30]\n",
        "figura3 = plt.figure()\n",
        "ax = figura3.add_subplot(111)\n",
        "ax.plot(x1, y1 , color='gray', linewidth=3, linestyle='dashed')\n",
        "ax.scatter(x2, y2, color='black', marker='*')\n",
        "ax.set_xlim(-0.5, 5.5)\n",
        "plt.show()"
      ],
      "outputs": [],
      "execution_count": null,
      "metadata": {
        "collapsed": true,
        "jupyter": {
          "source_hidden": false,
          "outputs_hidden": false
        },
        "nteract": {
          "transient": {
            "deleting": false
          }
        }
      }
    },
    {
      "cell_type": "code",
      "source": [
        "plt.plot(x1, y1, color='gray', linewidth=3, linestyle='dashed')\n",
        "plt.scatter(x2, y2, color='black', marker='*')\n",
        "plt.xlim(-0.5, 5.5)\n",
        "plt.show()"
      ],
      "outputs": [],
      "execution_count": null,
      "metadata": {
        "collapsed": true,
        "jupyter": {
          "source_hidden": false,
          "outputs_hidden": false
        },
        "nteract": {
          "transient": {
            "deleting": false
          }
        }
      }
    },
    {
      "cell_type": "code",
      "source": [
        "Edad = [0,1,2,3,4,5,6]\n",
        "Fecundidad = [0,0,0,0,0.08,0.28,0.42]\n",
        "Supervivencia = [0.657,0.93,0.93,0.93,0.935,0.935,0]\n",
        "FocaGris = plt.figure()\n",
        "ax = FocaGris.add_subplot(111)\n",
        "ax.plot(Edad, Fecundidad, marker='+', markersize=12, lw=2,\n",
        "        color = 'black', linestyle = 'dashed', mfc='black',\n",
        "        mec='black', label='Fecundidad')\n",
        "ax.plot(Edad, Supervivencia, marker='.', markersize=12, lw=2,\n",
        "        color = 'gray', linestyle = 'dotted', mfc='gray',\n",
        "        mec='gray',label ='Supervivencia')\n",
        "ax.set_ylim([-.1,1])\n",
        "ax.set_xlabel('Edad')\n",
        "ax.set_ylabel('Tasa')\n",
        "# Adiciona la legenda en el centro abajo\n",
        "ax.legend(loc='upper center',\n",
        "          bbox_to_anchor=(0.5, -.15), shadow=True, ncol=2)\n"
      ],
      "outputs": [],
      "execution_count": null,
      "metadata": {
        "collapsed": true,
        "jupyter": {
          "source_hidden": false,
          "outputs_hidden": false
        },
        "nteract": {
          "transient": {
            "deleting": false
          }
        }
      }
    },
    {
      "cell_type": "code",
      "source": [
        "from matplotlib import style         # Importar `style`\n",
        "style.use(\"seaborn-white\")           # Escoger estilo\n",
        "plt.plot(Edad, Fecundidad, 'k+:', label='Fecundidad' )\n",
        "plt.plot(Edad, Supervivencia, 'k+--', label ='Supervivencia')\n",
        "plt.xlabel('Edad')\n",
        "plt.ylabel('Tasa')\n",
        "plt.ylim([-.1,1])\n",
        "plt.legend(loc='upper center',\n",
        "          bbox_to_anchor=(0.5, -.15), shadow=True, ncol=2)"
      ],
      "outputs": [],
      "execution_count": null,
      "metadata": {
        "collapsed": true,
        "jupyter": {
          "source_hidden": false,
          "outputs_hidden": false
        },
        "nteract": {
          "transient": {
            "deleting": false
          }
        }
      }
    },
    {
      "cell_type": "code",
      "source": [
        "Pais = ['E.E.U.U.', 'Italia', 'China','España','Alemania',\n",
        "        'Francia','Iran', 'G.B.','Suiza','Holanda']\n",
        "Casos = [123780,92472,81439,73235,58247,37575,35408,17089,\n",
        "         14076,9762]\n",
        "Recuperados = [3238,12384,75448,12285,8481,5700,11679,135,1595,3]\n",
        "\n",
        "from matplotlib import style         # Importar `style`\n",
        "style.use(\"fivethirtyeight\")         # Escoger estilo\n",
        "COVID = plt.figure(figsize=(6, 8))   # Nueva figura, tamaño 6X8\n",
        "# Ajustar espacio entre subfiguras\n",
        "COVID.subplots_adjust(hspace=0.4, wspace=0.4)\n",
        "ax1 = COVID.add_subplot(211)         # Adicionar un subfigura\n",
        "ax1.bar(Pais,Casos, color=\"gray\")    # Adicionar barras\n",
        "ax1.set_ylabel('Frecuencia')         # Adicionar etiqueta eje Y\n",
        "ax1.tick_params(axis='x', labelrotation=45)"
      ],
      "outputs": [],
      "execution_count": null,
      "metadata": {
        "collapsed": true,
        "jupyter": {
          "source_hidden": false,
          "outputs_hidden": false
        },
        "nteract": {
          "transient": {
            "deleting": false
          }
        }
      }
    },
    {
      "cell_type": "code",
      "source": [
        "posiciones = [1,2,3,4,5,6,7,8,9,10]\n",
        "posiciones2 = [1.45,2.45,3.45,4.45,5.45,6.45,7.45,8.45,9.45,10.45]\n",
        "\n",
        "style.use(\"seaborn-dark-palette\")\n",
        "ax2 = COVID.add_subplot(212)\n",
        "ax2.bar(posiciones, Casos, 0.45, color =\"dimgray\",\\\n",
        "        label=\"Casos positivos\")\n",
        "ax2.bar(posiciones2, Recuperados,0.45, color=\"darkgray\",\\\n",
        "        label=\"Recuperados\")\n",
        "ax2.set_xticks(posiciones2)\n",
        "ax2.set_xticklabels(Pais)\n",
        "ax2.set_xlabel('País')\n",
        "ax2.set_ylabel('Frecuencia')\n",
        "ax2.legend()\n",
        "ax2.tick_params(axis='x', labelrotation=45)\n"
      ],
      "outputs": [],
      "execution_count": null,
      "metadata": {
        "collapsed": true,
        "jupyter": {
          "source_hidden": false,
          "outputs_hidden": false
        },
        "nteract": {
          "transient": {
            "deleting": false
          }
        }
      }
    },
    {
      "cell_type": "code",
      "source": [
        "plt.style.available"
      ],
      "outputs": [],
      "execution_count": null,
      "metadata": {
        "collapsed": true,
        "jupyter": {
          "source_hidden": false,
          "outputs_hidden": false
        },
        "nteract": {
          "transient": {
            "deleting": false
          }
        }
      }
    },
    {
      "cell_type": "code",
      "source": [
        "import math\n",
        "from matplotlib import pyplot as plt\n",
        "from matplotlib import style\n",
        "\n",
        "def PC1(z):\n",
        "    print(int(Norma(z[0][0],z[1][0])),\n",
        "          int(Norma(z[0][1],z[1][1])),\n",
        "          int(Norma(z[0][2],z[1][2])))\n",
        "    print(g((z[0][-3],z[1][-3])),g((z[0][-2],z[1][-2])),\n",
        "          g((z[0][-1],z[1][-1])))\n",
        "    style.use(\"ggplot\")\n",
        "    plt.scatter(z[0],z[1],color=\"black\")\n",
        "    plt.xlabel(\"X\")\n",
        "    plt.ylabel(\"Y\")\n",
        "    plt.show()"
      ],
      "outputs": [],
      "execution_count": null,
      "metadata": {
        "collapsed": true,
        "jupyter": {
          "source_hidden": false,
          "outputs_hidden": false
        },
        "nteract": {
          "transient": {
            "deleting": false
          }
        }
      }
    },
    {
      "cell_type": "code",
      "source": [
        "a = [(2,1,4,1.5,2,4,3,1,5,1.34,2.2,0.2),\n",
        "     (3,1,7,3.4,7,-2,3,2.3,4.5,3.41,-3.2,-.5)]\n",
        "PC1(a)"
      ],
      "outputs": [],
      "execution_count": null,
      "metadata": {
        "collapsed": true,
        "jupyter": {
          "source_hidden": false,
          "outputs_hidden": false
        },
        "nteract": {
          "transient": {
            "deleting": false
          }
        }
      }
    },
    {
      "cell_type": "code",
      "source": [
        "PC1([(1,2,3),(1,3)])\n",
        "PC1([(1,2),(1,3)])\n",
        "PC1([(1,2),(1,3),(2,3)])\n",
        "PC1([(1,2,4,5),(1,3,3)])"
      ],
      "outputs": [],
      "execution_count": null,
      "metadata": {
        "collapsed": true,
        "jupyter": {
          "source_hidden": false,
          "outputs_hidden": false
        },
        "nteract": {
          "transient": {
            "deleting": false
          }
        }
      }
    },
    {
      "cell_type": "code",
      "source": [
        "import math\n",
        "from matplotlib import pyplot as plt\n",
        "from matplotlib import style\n",
        "\n",
        "def PC1(z):\n",
        "    if (len(z) != 2) or (len(z[1]) < 3) or (len(z[0]) < 3):\n",
        "        print(\"Se necesita una lista con dos elementos y que\\\n",
        "                cada una de las listas tenga más de 3 elementos\")\n",
        "    else:\n",
        "        print(int(Norma(z[0][0],z[1][0])),\n",
        "              int(Norma(z[0][1],z[1][1])),\n",
        "              int(Norma(z[0][2],z[1][2])))\n",
        "        print(g((z[0][-3],z[1][-3])),g((z[0][-2],z[1][-2])),\n",
        "              g((z[0][-1],z[1][-1])))\n",
        "        if (len(z[1]) == len(z[0])):\n",
        "            style.use(\"ggplot\")\n",
        "            plt.scatter(z[0],z[1],color=\"black\")\n",
        "            plt.xlabel(\"X\")\n",
        "            plt.ylabel(\"Y\")\n",
        "            plt.show()\n",
        "        else:\n",
        "            print(\"Tuplas de distinta longitud, no se pueden\\\n",
        "                   graficar los puntos\")\n",
        "    return None"
      ],
      "outputs": [],
      "execution_count": null,
      "metadata": {
        "collapsed": true,
        "jupyter": {
          "source_hidden": false,
          "outputs_hidden": false
        },
        "nteract": {
          "transient": {
            "deleting": false
          }
        }
      }
    }
  ],
  "metadata": {
    "kernel_info": {
      "name": "python3"
    },
    "language_info": {
      "name": "python",
      "version": "3.8.5",
      "mimetype": "text/x-python",
      "codemirror_mode": {
        "name": "ipython",
        "version": 3
      },
      "pygments_lexer": "ipython3",
      "nbconvert_exporter": "python",
      "file_extension": ".py"
    },
    "kernelspec": {
      "argv": [
        "/opt/anaconda3/bin/python3",
        "-m",
        "ipykernel_launcher",
        "-f",
        "{connection_file}"
      ],
      "display_name": "Python 3",
      "language": "python",
      "name": "python3"
    },
    "nteract": {
      "version": "0.28.0"
    }
  },
  "nbformat": 4,
  "nbformat_minor": 0
}