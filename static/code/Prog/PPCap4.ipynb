{
  "cells": [
    {
      "cell_type": "markdown",
      "source": [
        "# Capítulo 4"
      ],
      "metadata": {
        "nteract": {
          "transient": {
            "deleting": false
          }
        }
      }
    },
    {
      "cell_type": "code",
      "source": [
        "# Ajuste de gráficas\n",
        "\n",
        "import matplotlib as mpl\n",
        "import matplotlib.pyplot as plt\n",
        "\n",
        "plt.rcParams['font.family'] = 'serif'\n",
        "plt.rcParams['figure.figsize'] = (8.0, 8.0)\n",
        "plt.rcParams['font.size'] = 18\n",
        "mpl.rcParams['mathtext.fontset'] = 'cm'\n",
        "mpl.rcParams['mathtext.rm'] = 'serif'\n",
        "plt.rcParams['lines.markersize']=10\n"
      ],
      "outputs": [],
      "execution_count": null,
      "metadata": {
        "collapsed": true,
        "jupyter": {
          "source_hidden": false,
          "outputs_hidden": false
        },
        "nteract": {
          "transient": {
            "deleting": false
          }
        },
        "execution": {
          "iopub.status.busy": "2020-09-14T22:45:34.779Z",
          "iopub.execute_input": "2020-09-14T22:45:34.826Z",
          "iopub.status.idle": "2020-09-14T22:45:34.886Z",
          "shell.execute_reply": "2020-09-14T22:45:34.923Z"
        }
      }
    },
    {
      "cell_type": "markdown",
      "source": [
        "## Arreglos Numpy"
      ],
      "metadata": {
        "nteract": {
          "transient": {
            "deleting": false
          }
        }
      }
    },
    {
      "cell_type": "code",
      "source": [
        "import numpy as np\n",
        "numeros_1al8 = range(1,9)\n",
        "enteros8bytes = np.array(numeros_1al8)\n",
        "enteros4bytes = np.array(numeros_1al8,dtype='int32')\n",
        "enteros2bytes = np.array(numeros_1al8,dtype='int16')\n",
        "enteros1byte  = np.array(numeros_1al8,dtype='int8')\n",
        "MatrizEnteros8bytes = np.array([numeros_1al8,numeros_1al8,\n",
        "                                numeros_1al8])\n"
      ],
      "outputs": [],
      "execution_count": null,
      "metadata": {
        "collapsed": true,
        "jupyter": {
          "source_hidden": false,
          "outputs_hidden": false
        },
        "nteract": {
          "transient": {
            "deleting": false
          }
        },
        "execution": {
          "iopub.status.busy": "2020-09-14T22:45:40.170Z",
          "iopub.execute_input": "2020-09-14T22:45:40.214Z",
          "iopub.status.idle": "2020-09-14T22:45:40.280Z",
          "shell.execute_reply": "2020-09-14T22:45:40.318Z"
        }
      }
    },
    {
      "cell_type": "code",
      "source": [
        "complejos8bytes = np.array(numeros_1al8, dtype='complex64')\n",
        "complejos16bytes = np.array(numeros_1al8, dtype='complex128')\n",
        "complejos32bytes = np.array(numeros_1al8, dtype='complex256')"
      ],
      "outputs": [],
      "execution_count": null,
      "metadata": {
        "collapsed": true,
        "jupyter": {
          "source_hidden": false,
          "outputs_hidden": false
        },
        "nteract": {
          "transient": {
            "deleting": false
          }
        }
      }
    },
    {
      "cell_type": "code",
      "source": [
        "enteros8bytes = np.array(enteros8bytes, dtype='float64')\n",
        "enteros8bytes.astype('float64')\n"
      ],
      "outputs": [],
      "execution_count": null,
      "metadata": {
        "collapsed": true,
        "jupyter": {
          "source_hidden": false,
          "outputs_hidden": false
        },
        "nteract": {
          "transient": {
            "deleting": false
          }
        }
      }
    },
    {
      "cell_type": "code",
      "source": [
        "enteros8bytes.shape\n",
        "MatrizEnteros8bytes.shape\n",
        "np.array(np.pi).shape\n",
        "np.array([np.pi]).shape"
      ],
      "outputs": [],
      "execution_count": null,
      "metadata": {
        "collapsed": true,
        "jupyter": {
          "source_hidden": false,
          "outputs_hidden": false
        },
        "nteract": {
          "transient": {
            "deleting": false
          }
        }
      }
    },
    {
      "cell_type": "code",
      "source": [
        "enteros8bytes.reshape(8,1)\n",
        "enteros8bytes.reshape(2,4)\n",
        "enteros8bytes.reshape(4,2)\n",
        "enteros8bytes.reshape(2,2,2)"
      ],
      "outputs": [],
      "execution_count": null,
      "metadata": {
        "collapsed": true,
        "jupyter": {
          "source_hidden": false,
          "outputs_hidden": false
        },
        "nteract": {
          "transient": {
            "deleting": false
          }
        }
      }
    },
    {
      "cell_type": "code",
      "source": [
        "enteros8bytes.reshape((4,2),order='F')"
      ],
      "outputs": [],
      "execution_count": null,
      "metadata": {
        "collapsed": true,
        "jupyter": {
          "source_hidden": false,
          "outputs_hidden": false
        },
        "nteract": {
          "transient": {
            "deleting": false
          }
        }
      }
    },
    {
      "cell_type": "markdown",
      "source": [
        "### Ejemplo 4.1"
      ],
      "metadata": {
        "nteract": {
          "transient": {
            "deleting": false
          }
        }
      }
    },
    {
      "cell_type": "code",
      "source": [
        "P = np.ones((7,7)) + np.diag(np.arange(10,71,10))\n",
        "\n",
        "P = [[ 1 for j in range(7)] for i in range(7)]\n",
        "for i in range(7):\n",
        "    P[i][i] = (i+1)*10 +1\n",
        "    \n",
        "P"
      ],
      "outputs": [],
      "execution_count": null,
      "metadata": {
        "collapsed": true,
        "jupyter": {
          "source_hidden": false,
          "outputs_hidden": false
        },
        "nteract": {
          "transient": {
            "deleting": false
          }
        },
        "execution": {
          "iopub.status.busy": "2020-09-14T21:46:29.043Z",
          "iopub.execute_input": "2020-09-14T21:46:29.052Z",
          "iopub.status.idle": "2020-09-14T21:46:29.066Z",
          "shell.execute_reply": "2020-09-14T21:46:29.075Z"
        }
      }
    },
    {
      "cell_type": "markdown",
      "source": [
        "### Ejemplo 4.2"
      ],
      "metadata": {
        "nteract": {
          "transient": {
            "deleting": false
          }
        }
      }
    },
    {
      "cell_type": "code",
      "source": [
        "import matplotlib.pyplot as plt\n",
        "\n",
        "def Vsm(m):\n",
        "    return 1001.38-4.86*m+34.69*m**2\n",
        "\n",
        "def Vcs(n):\n",
        "    return 1003.0+16.4*n+2.1*n**(3/2)+0.003*n**(5/2)\n",
        "\n",
        "def Vsp(m):\n",
        "    return 17.963-0.1094*m**(3/2)-0.0002*m**2\n",
        "\n",
        "x1 = np.linspace(0.0, 0.6)\n",
        "ysm = Vsm(x1)\n",
        "x2 = np.linspace(0.0, 0.5)\n",
        "ycs = Vcs(x2)\n",
        "\n",
        "\n",
        "f, (ax1, ax2) = plt.subplots(1, 2)\n",
        "ax1.plot(x1, ysm, 'o-',color='black')\n",
        "ax1.set_ylabel(r'Volumen molar del agua $cm^3$')\n",
        "ax1.set_xlabel(r'Sulfato de magnesio (mol kg$^{-1})$')\n",
        "ax1.set_ylim(1001,1012)\n",
        "ax2.plot(x2, ycs, '-',color='black')\n",
        "ax2.set_xlabel(r'Cloruro de sodio (mol kg$^{-1})$')\n",
        "ax2.set_ylim(1001,1012)\n"
      ],
      "outputs": [],
      "execution_count": null,
      "metadata": {
        "collapsed": true,
        "jupyter": {
          "source_hidden": false,
          "outputs_hidden": false
        },
        "nteract": {
          "transient": {
            "deleting": false
          }
        },
        "execution": {
          "iopub.status.busy": "2020-09-14T21:57:40.554Z",
          "iopub.execute_input": "2020-09-14T21:57:40.569Z",
          "iopub.status.idle": "2020-09-14T21:57:41.062Z",
          "shell.execute_reply": "2020-09-14T21:57:41.082Z"
        }
      }
    },
    {
      "cell_type": "markdown",
      "source": [
        "### Ejemplo 4.3"
      ],
      "metadata": {
        "nteract": {
          "transient": {
            "deleting": false
          }
        }
      }
    },
    {
      "cell_type": "code",
      "source": [
        "np.arange(-2*np.pi,-2*np.pi+26*.5,.5)"
      ],
      "outputs": [],
      "execution_count": null,
      "metadata": {
        "collapsed": true,
        "jupyter": {
          "source_hidden": false,
          "outputs_hidden": false
        },
        "nteract": {
          "transient": {
            "deleting": false
          }
        },
        "execution": {
          "iopub.status.busy": "2020-09-14T21:51:23.656Z",
          "iopub.execute_input": "2020-09-14T21:51:23.665Z",
          "iopub.status.idle": "2020-09-14T21:51:23.689Z",
          "shell.execute_reply": "2020-09-14T21:51:23.701Z"
        }
      }
    },
    {
      "cell_type": "code",
      "source": [
        "import matplotlib.pyplot as plt\n",
        "\n",
        "# Partición del eje X en intervalos de longitud .5\n",
        "puntosEnX = np.arange(-2*np.pi,2*np.pi,.5)\n",
        "# Partición del eje Y en 10 intervalos de igual longitud\n",
        "puntosEnY = np.linspace(0,4*np.pi,11)\n",
        "# Malla\n",
        "xs, ys = np.meshgrid(puntosEnX,puntosEnY)\n",
        "# Cálculo de la función sen(x)+cos(x)\n",
        "f_eval = np.sin(xs) + np.cos(ys)\n",
        "fig = plt.figure(figsize=(10,10))\n",
        "# Contornos de la función\n",
        "plt.contourf(puntosEnX,puntosEnY,f_eval,cmap='gray')\n",
        "plt.colorbar()\n"
      ],
      "outputs": [],
      "execution_count": null,
      "metadata": {
        "collapsed": true,
        "jupyter": {
          "source_hidden": false,
          "outputs_hidden": false
        },
        "nteract": {
          "transient": {
            "deleting": false
          }
        },
        "execution": {
          "iopub.status.busy": "2020-09-14T21:57:46.456Z",
          "iopub.execute_input": "2020-09-14T21:57:46.467Z",
          "iopub.status.idle": "2020-09-14T21:57:46.811Z",
          "shell.execute_reply": "2020-09-14T21:57:46.828Z"
        }
      }
    },
    {
      "cell_type": "markdown",
      "source": [
        "### Ejemplo 4.4"
      ],
      "metadata": {
        "nteract": {
          "transient": {
            "deleting": false
          }
        }
      }
    },
    {
      "cell_type": "code",
      "source": [
        "import matplotlib.pyplot as plt\n",
        "np.random.seed(0)\n",
        "plt.scatter(np.random.rand(100,1),np.random.rand(100,1), c='k')\n",
        "plt.xlabel(r'$X$')\n",
        "plt.ylabel(r'$Y$')"
      ],
      "outputs": [],
      "execution_count": null,
      "metadata": {
        "collapsed": true,
        "jupyter": {
          "source_hidden": false,
          "outputs_hidden": false
        },
        "nteract": {
          "transient": {
            "deleting": false
          }
        },
        "execution": {
          "iopub.status.busy": "2020-09-14T21:57:52.761Z",
          "iopub.execute_input": "2020-09-14T21:57:52.773Z",
          "iopub.status.idle": "2020-09-14T21:57:53.000Z",
          "shell.execute_reply": "2020-09-14T21:57:53.026Z"
        }
      }
    },
    {
      "cell_type": "markdown",
      "source": [
        "### Ejemplo 4.5"
      ],
      "metadata": {
        "nteract": {
          "transient": {
            "deleting": false
          }
        }
      }
    },
    {
      "cell_type": "code",
      "source": [
        "DistC  = np.fromfunction( lambda i,j: abs(i-j), (5,5),dtype=int)"
      ],
      "outputs": [],
      "execution_count": null,
      "metadata": {
        "collapsed": true,
        "jupyter": {
          "source_hidden": false,
          "outputs_hidden": false
        },
        "nteract": {
          "transient": {
            "deleting": false
          }
        },
        "execution": {
          "iopub.status.busy": "2020-09-14T21:59:12.450Z",
          "iopub.execute_input": "2020-09-14T21:59:12.463Z",
          "iopub.status.idle": "2020-09-14T21:59:12.491Z",
          "shell.execute_reply": "2020-09-14T21:59:12.513Z"
        }
      }
    },
    {
      "cell_type": "markdown",
      "source": [
        "## Problemas centrales"
      ],
      "metadata": {
        "nteract": {
          "transient": {
            "deleting": false
          }
        }
      }
    },
    {
      "cell_type": "markdown",
      "source": [
        "### Juego de la vida"
      ],
      "metadata": {
        "nteract": {
          "transient": {
            "deleting": false
          }
        }
      }
    },
    {
      "cell_type": "code",
      "source": [
        "def JuegoVidaV0(B):\n",
        "    n, m = np.array(B).shape\n",
        "    Bt = np.zeros((n,m))\n",
        "    for i in range(1, n-1):\n",
        "        for j in range(1,m-1):\n",
        "            vecinas = (B[i-1,j-1] + B[i,j-1] + B[i+1,j-1]+\\\n",
        "                       B[i-1,j]   +            B[i+1,j]  +\\\n",
        "                       B[i-1,j+1] + B[i,j+1]+ B[i+1,j+1])\n",
        "            if (B[i,j]==0) & (vecinas == 3):\n",
        "                Bt[i,j]= 1\n",
        "            elif (B[i,j]==1) & ((vecinas == 3)|(vecinas == 2)):\n",
        "                Bt[i,j] = 1\n",
        "    return(Bt)"
      ],
      "outputs": [],
      "execution_count": null,
      "metadata": {
        "collapsed": true,
        "jupyter": {
          "source_hidden": false,
          "outputs_hidden": false
        },
        "nteract": {
          "transient": {
            "deleting": false
          }
        }
      }
    },
    {
      "cell_type": "markdown",
      "source": [
        "### Vecino más cercano"
      ],
      "metadata": {
        "nteract": {
          "transient": {
            "deleting": false
          }
        }
      }
    },
    {
      "cell_type": "code",
      "source": [
        "import math\n",
        "def VMC0(X):\n",
        "    if type(X) !=np.ndarray:\n",
        "        X = np.array(X)\n",
        "    n, p = X.shape\n",
        "    D = np.zeros((n,n))\n",
        "    for i in range(n):\n",
        "        for j in range(n):\n",
        "            if i != j:\n",
        "                D[i,j] = math.sqrt(sum([(x-y)**2\\\n",
        "                for x,y in zip(X[i,],X[j,])]))\n",
        "            else:\n",
        "                D[i,i] = np.inf\n",
        "    return D"
      ],
      "outputs": [],
      "execution_count": null,
      "metadata": {
        "collapsed": true,
        "jupyter": {
          "source_hidden": false,
          "outputs_hidden": false
        },
        "nteract": {
          "transient": {
            "deleting": false
          }
        }
      }
    },
    {
      "cell_type": "markdown",
      "source": [
        "## Eliminación de ciclos `for`\n",
        "\n",
        "### Funciones universales\n"
      ],
      "metadata": {
        "nteract": {
          "transient": {
            "deleting": false
          }
        }
      }
    },
    {
      "cell_type": "code",
      "source": [
        "temperaturasF = np.random.uniform(20,90,(100000,1))\n",
        "temperaturasC = [(x-32)/1.8 for x in temperaturasF]\n",
        "\n",
        "temperaturasCN = (temperaturasF-32)/1.8"
      ],
      "outputs": [],
      "execution_count": null,
      "metadata": {
        "collapsed": true,
        "jupyter": {
          "source_hidden": false,
          "outputs_hidden": false
        },
        "nteract": {
          "transient": {
            "deleting": false
          }
        },
        "execution": {
          "iopub.status.busy": "2020-09-14T22:05:06.042Z",
          "iopub.execute_input": "2020-09-14T22:05:06.059Z",
          "iopub.status.idle": "2020-09-14T22:05:06.681Z",
          "shell.execute_reply": "2020-09-14T22:05:06.700Z"
        }
      }
    },
    {
      "cell_type": "code",
      "source": [
        "%timeit [(x-32)/1.8 for x in temperaturasF]"
      ],
      "outputs": [],
      "execution_count": null,
      "metadata": {
        "collapsed": true,
        "jupyter": {
          "source_hidden": false,
          "outputs_hidden": false
        },
        "nteract": {
          "transient": {
            "deleting": false
          }
        },
        "execution": {
          "iopub.status.busy": "2020-09-14T22:05:10.275Z",
          "iopub.execute_input": "2020-09-14T22:05:10.295Z",
          "iopub.status.idle": "2020-09-14T22:05:15.232Z",
          "shell.execute_reply": "2020-09-14T22:05:15.257Z"
        }
      }
    },
    {
      "cell_type": "code",
      "source": [
        "%timeit (temperaturasF-32)/1.8"
      ],
      "outputs": [],
      "execution_count": null,
      "metadata": {
        "collapsed": true,
        "jupyter": {
          "source_hidden": false,
          "outputs_hidden": false
        },
        "nteract": {
          "transient": {
            "deleting": false
          }
        },
        "execution": {
          "iopub.status.busy": "2020-09-14T22:05:18.375Z",
          "iopub.execute_input": "2020-09-14T22:05:18.392Z",
          "iopub.status.idle": "2020-09-14T22:05:23.755Z",
          "shell.execute_reply": "2020-09-14T22:05:23.779Z"
        }
      }
    },
    {
      "cell_type": "markdown",
      "source": [
        "### Ejemplo 4.7"
      ],
      "metadata": {
        "nteract": {
          "transient": {
            "deleting": false
          }
        }
      }
    },
    {
      "cell_type": "code",
      "source": [
        "import math\n",
        "np.random.seed(0)\n",
        "n = 100000\n",
        "# Coordenadas cartesianas\n",
        "X = np.random.random((n,1))\n",
        "Y = np.random.random((n,1))"
      ],
      "outputs": [],
      "execution_count": null,
      "metadata": {
        "collapsed": true,
        "jupyter": {
          "source_hidden": false,
          "outputs_hidden": false
        },
        "nteract": {
          "transient": {
            "deleting": false
          }
        }
      }
    },
    {
      "cell_type": "code",
      "source": [
        "r = [math.sqrt(i**2+j**2) for i,j in zip(X,Y)]\n",
        "theta = [math.atan2(i,j) for i,j in zip(X,Y)]"
      ],
      "outputs": [],
      "execution_count": null,
      "metadata": {
        "collapsed": true,
        "jupyter": {
          "source_hidden": false,
          "outputs_hidden": false
        },
        "nteract": {
          "transient": {
            "deleting": false
          }
        }
      }
    },
    {
      "cell_type": "code",
      "source": [
        "rN = np.sqrt(X**2+Y**2)\n",
        "thetaN = np.arctan2(Y,X)\n"
      ],
      "outputs": [],
      "execution_count": null,
      "metadata": {
        "collapsed": true,
        "jupyter": {
          "source_hidden": false,
          "outputs_hidden": false
        },
        "nteract": {
          "transient": {
            "deleting": false
          }
        }
      }
    },
    {
      "cell_type": "code",
      "source": [
        "plt.subplot(1, 2, 1)\n",
        "plt.hist(rN)\n",
        "plt.subplot(1, 2, 2)\n",
        "plt.hist(thetaN)"
      ],
      "outputs": [],
      "execution_count": null,
      "metadata": {
        "collapsed": true,
        "jupyter": {
          "source_hidden": false,
          "outputs_hidden": false
        },
        "nteract": {
          "transient": {
            "deleting": false
          }
        }
      }
    },
    {
      "cell_type": "code",
      "source": [
        "%timeit [math.sqrt(i**2+j**2) for i,j in zip(X,Y)]"
      ],
      "outputs": [],
      "execution_count": null,
      "metadata": {
        "collapsed": true,
        "jupyter": {
          "source_hidden": false,
          "outputs_hidden": false
        },
        "nteract": {
          "transient": {
            "deleting": false
          }
        }
      }
    },
    {
      "cell_type": "code",
      "source": [
        "%timeit np.sqrt(X**2+Y**2)"
      ],
      "outputs": [],
      "execution_count": null,
      "metadata": {
        "collapsed": true,
        "jupyter": {
          "source_hidden": false,
          "outputs_hidden": false
        },
        "nteract": {
          "transient": {
            "deleting": false
          }
        }
      }
    },
    {
      "cell_type": "markdown",
      "source": [
        "## Agregaciones"
      ],
      "metadata": {
        "nteract": {
          "transient": {
            "deleting": false
          }
        }
      }
    },
    {
      "cell_type": "code",
      "source": [
        "%timeit min(temperaturasF)"
      ],
      "outputs": [],
      "execution_count": null,
      "metadata": {
        "collapsed": true,
        "jupyter": {
          "source_hidden": false,
          "outputs_hidden": false
        },
        "nteract": {
          "transient": {
            "deleting": false
          }
        }
      }
    },
    {
      "cell_type": "code",
      "source": [
        "%timeit np.min(temperaturasF)"
      ],
      "outputs": [],
      "execution_count": null,
      "metadata": {
        "collapsed": true,
        "jupyter": {
          "source_hidden": false,
          "outputs_hidden": false
        },
        "nteract": {
          "transient": {
            "deleting": false
          }
        }
      }
    },
    {
      "cell_type": "markdown",
      "source": [
        "### Ejemplo 4.8"
      ],
      "metadata": {
        "nteract": {
          "transient": {
            "deleting": false
          }
        }
      }
    },
    {
      "cell_type": "code",
      "source": [
        "X0 = 2*np.random.rand(100000,2)-1\n",
        "piEstimado = 4*np.mean( (X0**2).sum(axis=1) < 1)"
      ],
      "outputs": [],
      "execution_count": null,
      "metadata": {
        "collapsed": true,
        "jupyter": {
          "source_hidden": false,
          "outputs_hidden": false
        },
        "nteract": {
          "transient": {
            "deleting": false
          }
        }
      }
    },
    {
      "cell_type": "markdown",
      "source": [
        "### Ejemplo 4.9"
      ],
      "metadata": {
        "nteract": {
          "transient": {
            "deleting": false
          }
        }
      }
    },
    {
      "cell_type": "code",
      "source": [
        "c = (1/np.arange(1,101)).sum()\n",
        "p_i = 1/(c*np.arange(1,101))"
      ],
      "outputs": [],
      "execution_count": null,
      "metadata": {
        "collapsed": true,
        "jupyter": {
          "source_hidden": false,
          "outputs_hidden": false
        },
        "nteract": {
          "transient": {
            "deleting": false
          }
        }
      }
    },
    {
      "cell_type": "code",
      "source": [
        "def NumeroHill(p,q):\n",
        "    return ((p**q).sum())**(1/(1-q))"
      ],
      "outputs": [],
      "execution_count": null,
      "metadata": {
        "collapsed": true,
        "jupyter": {
          "source_hidden": false,
          "outputs_hidden": false
        },
        "nteract": {
          "transient": {
            "deleting": false
          }
        }
      }
    },
    {
      "cell_type": "code",
      "source": [
        "def NumeroHill_1(p):\n",
        "    return np.exp(-((p*np.log(p)).sum()))"
      ],
      "outputs": [],
      "execution_count": null,
      "metadata": {
        "collapsed": true,
        "jupyter": {
          "source_hidden": false,
          "outputs_hidden": false
        },
        "nteract": {
          "transient": {
            "deleting": false
          }
        }
      }
    },
    {
      "cell_type": "code",
      "source": [
        "qs = np.linspace(0, 3, 301)\n",
        "Dq = np.zeros(len(qs))\n",
        "Dq[qs != 1] = NumeroHill(p_i, qs[qs != 1])    # Produce un error"
      ],
      "outputs": [],
      "execution_count": null,
      "metadata": {
        "collapsed": true,
        "jupyter": {
          "source_hidden": false,
          "outputs_hidden": false
        },
        "nteract": {
          "transient": {
            "deleting": false
          }
        }
      }
    },
    {
      "cell_type": "code",
      "source": [
        "a = np.random.uniform(0,100,(100,200))\n",
        "a. mean()\n",
        "a.mean(axis=0)       # promedio por columnas\n",
        "a.mean(axis=1)       # promedio por filas"
      ],
      "outputs": [],
      "execution_count": null,
      "metadata": {
        "collapsed": true,
        "jupyter": {
          "source_hidden": false,
          "outputs_hidden": false
        },
        "nteract": {
          "transient": {
            "deleting": false
          }
        }
      }
    },
    {
      "cell_type": "code",
      "source": [
        "### Broadcasting"
      ],
      "outputs": [],
      "execution_count": null,
      "metadata": {
        "collapsed": true,
        "jupyter": {
          "source_hidden": false,
          "outputs_hidden": false
        },
        "nteract": {
          "transient": {
            "deleting": false
          }
        }
      }
    },
    {
      "cell_type": "code",
      "source": [
        "a = np.array([1,2,3,4])\n",
        "b = np.fromfunction(lambda i,j: i*10+j+1,(3,4))\n",
        "c = np.array(-1)\n",
        "d = np.fromfunction(lambda i,j: (-i*10),(3,1))"
      ],
      "outputs": [],
      "execution_count": null,
      "metadata": {
        "collapsed": true,
        "jupyter": {
          "source_hidden": false,
          "outputs_hidden": false
        },
        "nteract": {
          "transient": {
            "deleting": false
          }
        }
      }
    },
    {
      "cell_type": "code",
      "source": [
        "a**b\n",
        "a - c\n",
        "a + d\n",
        "b*d"
      ],
      "outputs": [],
      "execution_count": null,
      "metadata": {
        "collapsed": true,
        "jupyter": {
          "source_hidden": false,
          "outputs_hidden": false
        },
        "nteract": {
          "transient": {
            "deleting": false
          }
        }
      }
    },
    {
      "cell_type": "code",
      "source": [
        "d = np.fromfunction(lambda i,j: (-j*10),(1,3))"
      ],
      "outputs": [],
      "execution_count": null,
      "metadata": {
        "collapsed": true,
        "jupyter": {
          "source_hidden": false,
          "outputs_hidden": false
        },
        "nteract": {
          "transient": {
            "deleting": false
          }
        }
      }
    },
    {
      "cell_type": "markdown",
      "source": [
        "### Ejemplo 4.10"
      ],
      "metadata": {
        "nteract": {
          "transient": {
            "deleting": false
          }
        }
      }
    },
    {
      "cell_type": "code",
      "source": [
        "X = np.random.uniform(0,100,(10,2))\n",
        "X_Estandarizada =  (X - X.mean(axis=0))/X.std(axis=0)"
      ],
      "outputs": [],
      "execution_count": null,
      "metadata": {
        "collapsed": true,
        "jupyter": {
          "source_hidden": false,
          "outputs_hidden": false
        },
        "nteract": {
          "transient": {
            "deleting": false
          }
        }
      }
    },
    {
      "cell_type": "code",
      "source": [
        "XBroad, XMediasBroad = np.broadcast_arrays(X,X.mean(axis=0))"
      ],
      "outputs": [],
      "execution_count": null,
      "metadata": {
        "collapsed": true,
        "jupyter": {
          "source_hidden": false,
          "outputs_hidden": false
        },
        "nteract": {
          "transient": {
            "deleting": false
          }
        }
      }
    },
    {
      "cell_type": "markdown",
      "source": [
        "### Ejemplo 4.11"
      ],
      "metadata": {
        "nteract": {
          "transient": {
            "deleting": false
          }
        }
      }
    },
    {
      "cell_type": "code",
      "source": [
        "X0 = np.random.rand(10,2)\n",
        "Y  = np.array([-1,1])\n",
        "Z = X0 + Y[:,np.newaxis, np.newaxis]"
      ],
      "outputs": [],
      "execution_count": null,
      "metadata": {
        "collapsed": true,
        "jupyter": {
          "source_hidden": false,
          "outputs_hidden": false
        },
        "nteract": {
          "transient": {
            "deleting": false
          }
        }
      }
    },
    {
      "cell_type": "code",
      "source": [
        "X0Broad, YBroad = np.broadcast_arrays(X0,\\\n",
        "                       Y[:,np.newaxis, np.newaxis])\n",
        "X0Broad.strides\n",
        "YBroad.strides\n"
      ],
      "outputs": [],
      "execution_count": null,
      "metadata": {
        "collapsed": true,
        "jupyter": {
          "source_hidden": false,
          "outputs_hidden": false
        },
        "nteract": {
          "transient": {
            "deleting": false
          }
        }
      }
    },
    {
      "cell_type": "markdown",
      "source": [
        "### Indexación"
      ],
      "metadata": {
        "nteract": {
          "transient": {
            "deleting": false
          }
        }
      }
    },
    {
      "cell_type": "code",
      "source": [
        "a = np.array([2, 3.5, -2, -4.5, 4, 5, -3.5, 17] )\n",
        "mascara = [True, False, False, True, True, False, False, True]\n",
        "a[mascara]"
      ],
      "outputs": [],
      "execution_count": null,
      "metadata": {
        "collapsed": true,
        "jupyter": {
          "source_hidden": false,
          "outputs_hidden": false
        },
        "nteract": {
          "transient": {
            "deleting": false
          }
        }
      }
    },
    {
      "cell_type": "code",
      "source": [
        "a[a > 0]\n",
        "a[a**2 < 16]"
      ],
      "outputs": [],
      "execution_count": null,
      "metadata": {
        "collapsed": true,
        "jupyter": {
          "source_hidden": false,
          "outputs_hidden": false
        },
        "nteract": {
          "transient": {
            "deleting": false
          }
        }
      }
    },
    {
      "cell_type": "markdown",
      "source": [
        "### Ejemplo 4.12"
      ],
      "metadata": {
        "nteract": {
          "transient": {
            "deleting": false
          }
        }
      }
    },
    {
      "cell_type": "code",
      "source": [
        "a[ abs(a - np.mean(a)) > 2*np.std(a) ] = np.median(a)"
      ],
      "outputs": [],
      "execution_count": null,
      "metadata": {
        "collapsed": true,
        "jupyter": {
          "source_hidden": false,
          "outputs_hidden": false
        },
        "nteract": {
          "transient": {
            "deleting": false
          }
        }
      }
    },
    {
      "cell_type": "markdown",
      "source": [
        "### Ejemplo 4.13"
      ],
      "metadata": {
        "nteract": {
          "transient": {
            "deleting": false
          }
        }
      }
    },
    {
      "cell_type": "code",
      "source": [
        "P = np.zeros((7,7))\n",
        "P[1:-1,1:-1] =  1\n",
        "P[2:-2,2:-2] =  2\n",
        "P[3:-3,3:-3] =  3\n"
      ],
      "outputs": [],
      "execution_count": null,
      "metadata": {
        "collapsed": true,
        "jupyter": {
          "source_hidden": false,
          "outputs_hidden": false
        },
        "nteract": {
          "transient": {
            "deleting": false
          }
        }
      }
    },
    {
      "cell_type": "code",
      "source": [
        "def matrizPiramide(n=3):\n",
        "    P = np.zeros((2*n+1,2*n+1),dtype=\"int\")\n",
        "    for i in range(1,n+1):\n",
        "        P[i:-i,i:-i] = i\n",
        "    return(P)"
      ],
      "outputs": [],
      "execution_count": null,
      "metadata": {
        "collapsed": true,
        "jupyter": {
          "source_hidden": false,
          "outputs_hidden": false
        },
        "nteract": {
          "transient": {
            "deleting": false
          }
        }
      }
    },
    {
      "cell_type": "code",
      "source": [
        "a = np.random.randint(1,10,(5,5))\n",
        "a[ range(5), range(4,-1,-1)]"
      ],
      "outputs": [],
      "execution_count": null,
      "metadata": {
        "collapsed": true,
        "jupyter": {
          "source_hidden": false,
          "outputs_hidden": false
        },
        "nteract": {
          "transient": {
            "deleting": false
          }
        }
      }
    },
    {
      "cell_type": "markdown",
      "source": [
        "### Ejemplo 4.14"
      ],
      "metadata": {
        "nteract": {
          "transient": {
            "deleting": false
          }
        }
      }
    },
    {
      "cell_type": "code",
      "source": [
        "P[P> 1-epsilon ] = 1-epsilon\n",
        "P[P<epsilon] = epsilon"
      ],
      "outputs": [],
      "execution_count": null,
      "metadata": {
        "collapsed": true,
        "jupyter": {
          "source_hidden": false,
          "outputs_hidden": false
        },
        "nteract": {
          "transient": {
            "deleting": false
          }
        }
      }
    },
    {
      "cell_type": "code",
      "source": [
        "sumaXfila = P.sum(axis=1)\n",
        "sumaXfila.shape"
      ],
      "outputs": [],
      "execution_count": null,
      "metadata": {
        "collapsed": true,
        "jupyter": {
          "source_hidden": false,
          "outputs_hidden": false
        },
        "nteract": {
          "transient": {
            "deleting": false
          }
        }
      }
    },
    {
      "cell_type": "code",
      "source": [
        "sumaXfilas[:, np.newaxis]"
      ],
      "outputs": [],
      "execution_count": null,
      "metadata": {
        "collapsed": true,
        "jupyter": {
          "source_hidden": false,
          "outputs_hidden": false
        },
        "nteract": {
          "transient": {
            "deleting": false
          }
        }
      }
    },
    {
      "cell_type": "code",
      "source": [
        "def probTotalAcotada(P, epsilon):\n",
        "    P[ P > 1-epsilon ] = 1-epsilon\n",
        "    P[ P < epsilon ] = epsilon\n",
        "    sumaXfila = P.sum(axis=1)\n",
        "    P = P / sumaXfila[:, np.newaxis]\n",
        "    return P"
      ],
      "outputs": [],
      "execution_count": null,
      "metadata": {
        "collapsed": true,
        "jupyter": {
          "source_hidden": false,
          "outputs_hidden": false
        },
        "nteract": {
          "transient": {
            "deleting": false
          }
        }
      }
    },
    {
      "cell_type": "markdown",
      "source": [
        "### Ejemplo 4.15"
      ],
      "metadata": {
        "nteract": {
          "transient": {
            "deleting": false
          }
        }
      }
    },
    {
      "cell_type": "code",
      "source": [
        "def NumeroHillv2(p,qs=np.linspace(0,3,301)):\n",
        "    sumaPq = (p[:,np.newaxis]**qs[np.newaxis,:]).sum(axis=0)\n",
        "    numerosHill = np.full(len(qs), NumeroHill_1(p))\n",
        "    numerosHill[qs != 1] = sumaPq[qs!=1]**(1/(1-qs[qs != 1]))\n",
        "    return numerosHill"
      ],
      "outputs": [],
      "execution_count": null,
      "metadata": {
        "collapsed": true,
        "jupyter": {
          "source_hidden": false,
          "outputs_hidden": false
        },
        "nteract": {
          "transient": {
            "deleting": false
          }
        }
      }
    },
    {
      "cell_type": "markdown",
      "source": [
        "### Ejemplo 4.16: Conjunto de Mandelbrot"
      ],
      "metadata": {
        "nteract": {
          "transient": {
            "deleting": false
          }
        }
      }
    },
    {
      "cell_type": "code",
      "source": [
        "orbitas = np.zeros((4,31))\n",
        "ValoresC = np.array([.2,-1.38,.3,-1.9])\n",
        "\n",
        "def fc(z,c):\n",
        "    return z**2 + c\n",
        "\n",
        "for i in range(1,31):\n",
        "    orbitas[:,i] = fc(orbitas[:,i-1],ValoresC)\n",
        "\n",
        "for i in range(4):\n",
        "    plt.subplot(2, 2, i+1)\n",
        "    plt.plot(range(31), orbitas[i,], 'ko-')\n",
        "    plt.xlabel('Iteración')\n",
        "    plt.ylim(-3,3)\n",
        "    plt.text(18,-2.5,r'$c=$'+str(ValoresC[i])+r'$+0i$')\n"
      ],
      "outputs": [],
      "execution_count": null,
      "metadata": {
        "collapsed": true,
        "jupyter": {
          "source_hidden": false,
          "outputs_hidden": false
        },
        "nteract": {
          "transient": {
            "deleting": false
          }
        },
        "execution": {
          "iopub.status.busy": "2020-09-14T22:34:32.446Z",
          "iopub.execute_input": "2020-09-14T22:34:32.496Z",
          "iopub.status.idle": "2020-09-14T22:34:33.556Z",
          "shell.execute_reply": "2020-09-14T22:34:33.639Z"
        }
      }
    },
    {
      "cell_type": "code",
      "source": [
        "def mandelbrot(npixels = 500, iteracionesMax = 20):\n",
        "    # Crea una malla de tamaño npixels X npixels\n",
        "    # en los intervalos [-2,1] y [-1.5,1.5]\n",
        "    x, y = np.meshgrid(np.linspace(-2, 1, npixels),\n",
        "                       np.linspace(-1.5, 1.5, npixels))\n",
        "    c = x + 1j * y\n",
        "    z = c.copy()\n",
        "    m = np.zeros((npixels, npixels))\n",
        "    for k in range(iteracionesMax):\n",
        "        # Índices de los puntos en la malla tal\n",
        "        # que el módulo de z_k  es menor que 10\n",
        "        indices = np.abs(z) <= 10\n",
        "        # Siguiente puntos en la órbita\n",
        "        z[indices] = z[indices] ** 2 + c[indices]\n",
        "        m[indices] = k\n",
        "    return m\n"
      ],
      "outputs": [],
      "execution_count": null,
      "metadata": {
        "collapsed": true,
        "jupyter": {
          "source_hidden": false,
          "outputs_hidden": false
        },
        "nteract": {
          "transient": {
            "deleting": false
          }
        },
        "execution": {
          "iopub.status.busy": "2020-09-14T22:34:47.693Z",
          "iopub.execute_input": "2020-09-14T22:34:47.734Z",
          "iopub.status.idle": "2020-09-14T22:34:47.793Z",
          "shell.execute_reply": "2020-09-14T22:34:47.828Z"
        }
      }
    },
    {
      "cell_type": "code",
      "source": [
        "M = mandelbrot(iteracionesMax=200)"
      ],
      "outputs": [],
      "execution_count": null,
      "metadata": {
        "collapsed": true,
        "jupyter": {
          "source_hidden": false,
          "outputs_hidden": false
        },
        "nteract": {
          "transient": {
            "deleting": false
          }
        },
        "execution": {
          "iopub.status.busy": "2020-09-14T22:34:49.941Z",
          "iopub.execute_input": "2020-09-14T22:34:49.983Z",
          "iopub.status.idle": "2020-09-14T22:34:50.795Z",
          "shell.execute_reply": "2020-09-14T22:34:50.831Z"
        }
      }
    },
    {
      "cell_type": "code",
      "source": [
        "fig, ax = plt.subplots(1, 1, figsize=(10, 10))\n",
        "ax.imshow(200-M, cmap=plt.cm.gray)\n",
        "ax.set_axis_off()"
      ],
      "outputs": [],
      "execution_count": null,
      "metadata": {
        "collapsed": true,
        "jupyter": {
          "source_hidden": false,
          "outputs_hidden": false
        },
        "nteract": {
          "transient": {
            "deleting": false
          }
        },
        "execution": {
          "iopub.status.busy": "2020-09-14T22:34:52.065Z",
          "iopub.execute_input": "2020-09-14T22:34:52.107Z",
          "iopub.status.idle": "2020-09-14T22:34:52.310Z",
          "shell.execute_reply": "2020-09-14T22:34:52.360Z"
        }
      }
    },
    {
      "cell_type": "code",
      "source": [
        "fig, ax = plt.subplots(1, 1, figsize=(10, 10))\n",
        "ax.imshow(np.log(M), cmap=plt.cm.gray)\n",
        "ax.set_axis_off()"
      ],
      "outputs": [],
      "execution_count": null,
      "metadata": {
        "collapsed": true,
        "jupyter": {
          "source_hidden": false,
          "outputs_hidden": false
        },
        "nteract": {
          "transient": {
            "deleting": false
          }
        },
        "execution": {
          "iopub.status.busy": "2020-09-14T22:34:56.129Z",
          "iopub.execute_input": "2020-09-14T22:34:56.174Z",
          "iopub.status.idle": "2020-09-14T22:34:56.370Z",
          "shell.execute_reply": "2020-09-14T22:34:56.421Z"
        }
      }
    },
    {
      "cell_type": "code",
      "source": [
        "fig, ax = plt.subplots(1, 1, figsize=(10, 10))\n",
        "ax.imshow(np.log(M), cmap=plt.cm.hot)\n",
        "ax.set_axis_off()\n"
      ],
      "outputs": [],
      "execution_count": null,
      "metadata": {
        "collapsed": true,
        "jupyter": {
          "source_hidden": false,
          "outputs_hidden": false
        },
        "nteract": {
          "transient": {
            "deleting": false
          }
        },
        "execution": {
          "iopub.status.busy": "2020-09-14T22:34:58.964Z",
          "iopub.execute_input": "2020-09-14T22:34:58.998Z",
          "iopub.status.idle": "2020-09-14T22:34:59.210Z",
          "shell.execute_reply": "2020-09-14T22:34:59.249Z"
        }
      }
    },
    {
      "cell_type": "markdown",
      "source": [
        "### Ejemplo 4.17: Regla 30 y 90"
      ],
      "metadata": {
        "nteract": {
          "transient": {
            "deleting": false
          }
        }
      }
    },
    {
      "cell_type": "code",
      "source": [
        "identificador = 4*estado[:-2] + 2*estado[1:-1] + estado[2:]"
      ],
      "outputs": [],
      "execution_count": null,
      "metadata": {
        "collapsed": true,
        "jupyter": {
          "source_hidden": false,
          "outputs_hidden": false
        },
        "nteract": {
          "transient": {
            "deleting": false
          }
        }
      }
    },
    {
      "cell_type": "code",
      "source": [
        "regla = np.array([0,1,1,1,1,0,0,0])\n",
        "estado = regla[identificador]"
      ],
      "outputs": [],
      "execution_count": null,
      "metadata": {
        "collapsed": true,
        "jupyter": {
          "source_hidden": false,
          "outputs_hidden": false
        },
        "nteract": {
          "transient": {
            "deleting": false
          }
        }
      }
    },
    {
      "cell_type": "code",
      "source": [
        "def WolframRegla(numero=30, iteraciones=30):\n",
        "    nCA = 60                 # Ancho de la matriz de salida\n",
        "    if nCA < iteraciones:\n",
        "        nCA = 2*iteraciones  # Una mejor visualización\n",
        "    # obtención de la regla\n",
        "    regla = list(map(int,list(format(numero,'010b'))))\n",
        "    regla.reverse()\n",
        "    regla = np.array(regla)\n",
        "    # inicialización matriz de salida\n",
        "    salida = np.zeros((iteraciones+1,nCA),dtype='int8')\n",
        "    salida[0,nCA//2] = 1\n",
        "    # ciclo con el número de iteraciones deseadas\n",
        "    for i in range(iteraciones):\n",
        "        salida[i+1,1:-1] = regla[salida[i,:-2]*4+\\\n",
        "                                 salida[i,1:-1]*2+salida[i,2:]]\n",
        "    return salida\n",
        "  "
      ],
      "outputs": [],
      "execution_count": null,
      "metadata": {
        "collapsed": true,
        "jupyter": {
          "source_hidden": false,
          "outputs_hidden": false
        },
        "nteract": {
          "transient": {
            "deleting": false
          }
        },
        "execution": {
          "iopub.status.busy": "2020-09-14T22:46:24.459Z",
          "iopub.execute_input": "2020-09-14T22:46:24.502Z",
          "iopub.status.idle": "2020-09-14T22:46:24.561Z",
          "shell.execute_reply": "2020-09-14T22:46:24.599Z"
        }
      }
    },
    {
      "cell_type": "code",
      "source": [
        "plt.imshow(1-WolframRegla(30), cmap=plt.cm.gray)"
      ],
      "outputs": [],
      "execution_count": null,
      "metadata": {
        "collapsed": true,
        "jupyter": {
          "source_hidden": false,
          "outputs_hidden": false
        },
        "nteract": {
          "transient": {
            "deleting": false
          }
        },
        "execution": {
          "iopub.status.busy": "2020-09-14T22:48:55.265Z",
          "iopub.execute_input": "2020-09-14T22:48:55.312Z",
          "iopub.status.idle": "2020-09-14T22:48:55.491Z",
          "shell.execute_reply": "2020-09-14T22:48:55.558Z"
        }
      }
    },
    {
      "cell_type": "code",
      "source": [
        "plt.imshow(1-WolframRegla(90), cmap=plt.cm.gray)"
      ],
      "outputs": [],
      "execution_count": null,
      "metadata": {
        "collapsed": true,
        "jupyter": {
          "source_hidden": false,
          "outputs_hidden": false
        },
        "nteract": {
          "transient": {
            "deleting": false
          }
        },
        "execution": {
          "iopub.status.busy": "2020-09-14T22:49:11.961Z",
          "iopub.execute_input": "2020-09-14T22:49:12.003Z",
          "iopub.status.idle": "2020-09-14T22:49:12.233Z",
          "shell.execute_reply": "2020-09-14T22:49:12.273Z"
        }
      }
    },
    {
      "cell_type": "markdown",
      "source": [
        "### Juego de la vida"
      ],
      "metadata": {
        "nteract": {
          "transient": {
            "deleting": false
          }
        }
      }
    },
    {
      "cell_type": "code",
      "source": [
        "def NuevaGeneracion(Actual):\n",
        "    # Cálculo de vecinos\n",
        "    V = (Actual[0:-2,0:-2]+Actual[0:-2,1:-1]+Actual[0:-2,2:]+\n",
        "         Actual[1:-1,0:-2]+                  Actual[1:-1,2:]+\n",
        "         Actual[2:  ,0:-2]+Actual[2:  ,1:-1]+Actual[2:  ,2:])\n",
        "    # Reglas\n",
        "    # Tres vecinos y celda vacía\n",
        "    nacimientos = (Actual[1:-1,1:-1]==0) &  (V==3)\n",
        "    # Dos o tres vecinos y célula viva\n",
        "    sobreviven = ((V==2) | (V==3)) & (Actual[1:-1,1:-1]==1)\n",
        "    # Nuevos estados. Por defecto célula muerta\n",
        "    Actual.fill(0)\n",
        "    # Asigna el valor 1 a las celdas donde hubo nacimientos o\n",
        "    # donde la célula sobrevivió\n",
        "    Actual[1:-1,1:-1][nacimientos | sobreviven] = 1\n",
        "    return Actual"
      ],
      "outputs": [],
      "execution_count": null,
      "metadata": {
        "collapsed": true,
        "jupyter": {
          "source_hidden": false,
          "outputs_hidden": false
        },
        "nteract": {
          "transient": {
            "deleting": false
          }
        },
        "execution": {
          "iopub.status.busy": "2020-09-14T22:51:34.553Z",
          "iopub.execute_input": "2020-09-14T22:51:34.595Z",
          "iopub.status.idle": "2020-09-14T22:51:34.657Z",
          "shell.execute_reply": "2020-09-14T22:51:34.698Z"
        }
      }
    },
    {
      "cell_type": "code",
      "source": [
        "pulsar = np.zeros((17,17),dtype='int8')\n",
        "filasVivas = [2,4,5,6,7,9,10,11,12,14]\n",
        "columnasVivas = [[4,5,6,10,11,12],\n",
        "                 [2,7,9,14],\n",
        "                 [2,7,9,14],\n",
        "                 [2,7,9,14],\n",
        "                 [4,5,6,10,11,12],\n",
        "                 [4,5,6,10,11,12],\n",
        "                 [2,7,9,14],\n",
        "                 [2,7,9,14],\n",
        "                 [2,7,9,14],\n",
        "                 [4,5,6,10,11,12]]\n",
        "for i in range(len(filasVivas)):\n",
        "    pulsar[filasVivas[i],columnasVivas[i]] = 1\n"
      ],
      "outputs": [],
      "execution_count": null,
      "metadata": {
        "collapsed": true,
        "jupyter": {
          "source_hidden": false,
          "outputs_hidden": false
        },
        "nteract": {
          "transient": {
            "deleting": false
          }
        },
        "execution": {
          "iopub.status.busy": "2020-09-14T22:52:54.961Z",
          "iopub.execute_input": "2020-09-14T22:52:55.003Z",
          "iopub.status.idle": "2020-09-14T22:52:55.065Z",
          "shell.execute_reply": "2020-09-14T22:52:55.102Z"
        }
      }
    },
    {
      "cell_type": "code",
      "source": [
        "plt.imshow(1-pulsar, cmap=plt.cm.gray)"
      ],
      "outputs": [],
      "execution_count": null,
      "metadata": {
        "collapsed": true,
        "jupyter": {
          "source_hidden": false,
          "outputs_hidden": false
        },
        "nteract": {
          "transient": {
            "deleting": false
          }
        },
        "execution": {
          "iopub.status.busy": "2020-09-14T22:53:08.444Z",
          "iopub.execute_input": "2020-09-14T22:53:08.484Z",
          "iopub.status.idle": "2020-09-14T22:53:08.746Z",
          "shell.execute_reply": "2020-09-14T22:53:08.810Z"
        }
      }
    },
    {
      "cell_type": "code",
      "source": [
        "plt.imshow(1-NuevaGeneracion(pulsar), cmap=plt.cm.gray)"
      ],
      "outputs": [],
      "execution_count": null,
      "metadata": {
        "collapsed": true,
        "jupyter": {
          "source_hidden": false,
          "outputs_hidden": false
        },
        "nteract": {
          "transient": {
            "deleting": false
          }
        },
        "execution": {
          "iopub.status.busy": "2020-09-14T22:53:52.176Z",
          "iopub.execute_input": "2020-09-14T22:53:52.237Z",
          "iopub.status.idle": "2020-09-14T22:53:52.389Z",
          "shell.execute_reply": "2020-09-14T22:53:52.430Z"
        }
      }
    },
    {
      "cell_type": "code",
      "source": [
        "glider = np.zeros((12,12),dtype='int8')\n",
        "glider[1:4,3] = 1\n",
        "glider[2,1] = 1\n",
        "glider[3,2] = 1"
      ],
      "outputs": [],
      "execution_count": null,
      "metadata": {
        "collapsed": true,
        "jupyter": {
          "source_hidden": false,
          "outputs_hidden": false
        },
        "nteract": {
          "transient": {
            "deleting": false
          }
        },
        "execution": {
          "iopub.status.busy": "2020-09-14T22:54:19.703Z",
          "iopub.execute_input": "2020-09-14T22:54:19.739Z",
          "iopub.status.idle": "2020-09-14T22:54:19.802Z",
          "shell.execute_reply": "2020-09-14T22:54:19.845Z"
        }
      }
    },
    {
      "cell_type": "code",
      "source": [
        "plt.imshow(1-glider, cmap=plt.cm.gray)"
      ],
      "outputs": [],
      "execution_count": null,
      "metadata": {
        "collapsed": true,
        "jupyter": {
          "source_hidden": false,
          "outputs_hidden": false
        },
        "nteract": {
          "transient": {
            "deleting": false
          }
        },
        "execution": {
          "iopub.status.busy": "2020-09-14T22:54:21.280Z",
          "iopub.execute_input": "2020-09-14T22:54:21.329Z",
          "iopub.status.idle": "2020-09-14T22:54:21.555Z",
          "shell.execute_reply": "2020-09-14T22:54:21.615Z"
        }
      }
    },
    {
      "cell_type": "code",
      "source": [
        "plt.imshow(1-NuevaGeneracion(glider), cmap=plt.cm.gray)"
      ],
      "outputs": [],
      "execution_count": null,
      "metadata": {
        "collapsed": true,
        "jupyter": {
          "source_hidden": false,
          "outputs_hidden": false
        },
        "nteract": {
          "transient": {
            "deleting": false
          }
        },
        "execution": {
          "iopub.status.busy": "2020-09-14T22:54:40.413Z",
          "iopub.execute_input": "2020-09-14T22:54:40.460Z",
          "iopub.status.idle": "2020-09-14T22:54:40.691Z",
          "shell.execute_reply": "2020-09-14T22:54:40.763Z"
        }
      }
    },
    {
      "cell_type": "markdown",
      "source": [
        "### Leopardo"
      ],
      "metadata": {
        "nteract": {
          "transient": {
            "deleting": false
          }
        }
      }
    },
    {
      "cell_type": "code",
      "source": [
        "def bordes(M,k):\n",
        "    tam = M.shape[0]\n",
        "    vTam = tam + k\n",
        "    V = np.zeros((tam+2*k,tam+2*k),dtype='int8')\n",
        "    V[k:vTam,k:vTam] = M\n",
        "    # Bordes izquierdo y derecho\n",
        "    V[k:vTam,0:k] = M[:,-k:]\n",
        "    V[k:vTam,-k:] = M[:,:k]\n",
        "    # Bordes superior e inferior\n",
        "    V[0:k,k:vTam] = M[-k:,:]\n",
        "    V[-k:,k:vTam] = M[:k,:]\n",
        "    # Esquinas\n",
        "    V[:k,:k]   = M[-k:,-k:]\n",
        "    V[-k:,-k:] = M[:k,:k]\n",
        "    V[-k:,:k]  = M[:k,-k:]\n",
        "    V[:k,-k:]  = M[-k:,:k]\n",
        "    return V\n",
        "\n",
        "def conteoAct(M):\n",
        "    V = (M[0:-2,0:-2]+M[0:-2,1:-1]+M[0:-2,2:]+\n",
        "         M[1:-1,0:-2]+M[1:-1,1:-1]+M[1:-1,2:]+\n",
        "         M[2:  ,0:-2]+M[2:  ,1:-1]+M[2:  ,2:])\n",
        "    return(V)\n",
        "\n",
        "def conteoInh(M, k):\n",
        "    m = M.shape[0]\n",
        "    n = m - 2*k\n",
        "    V = np.zeros((n,n))\n",
        "    for i in range(k,(m-k)):\n",
        "        for j in range(k,(m-k)):\n",
        "            V[i-k,j-k] = np.sum(M[(i-k):(i+k+1),(j-k):(j+k+1)])\n",
        "    return V\n",
        "\n",
        "def leopardo(P, inh = 6, wa = 1, wi= 0.1):\n",
        "    k1 = inh-1\n",
        "    Ve = bordes(P, inh)\n",
        "    I = conteoInh(Ve,inh)\n",
        "    A = conteoAct(Ve[k1:-k1,k1:-k1])\n",
        "    Pnueva = np.zeros(P.shape)\n",
        "    Pnueva[ (wa*A >  wi*I)]=1\n",
        "    return Pnueva\n"
      ],
      "outputs": [],
      "execution_count": null,
      "metadata": {
        "collapsed": true,
        "jupyter": {
          "source_hidden": false,
          "outputs_hidden": false
        },
        "nteract": {
          "transient": {
            "deleting": false
          }
        },
        "execution": {
          "iopub.status.busy": "2020-09-14T23:03:05.099Z",
          "iopub.execute_input": "2020-09-14T23:03:05.140Z",
          "iopub.status.idle": "2020-09-14T23:03:05.208Z",
          "shell.execute_reply": "2020-09-14T23:03:05.267Z"
        }
      }
    },
    {
      "cell_type": "code",
      "source": [
        "P0 = np.random.randint(0,2,(100,100))\n",
        "P1 = leopardo(P0,5)\n",
        "P2 = leopardo(P1,5)\n",
        "P99 = P2.copy()\n",
        "for i in range(97):\n",
        "    P99 = leopardo(P99,5)"
      ],
      "outputs": [],
      "execution_count": null,
      "metadata": {
        "collapsed": true,
        "jupyter": {
          "source_hidden": false,
          "outputs_hidden": false
        },
        "nteract": {
          "transient": {
            "deleting": false
          }
        },
        "execution": {
          "iopub.status.busy": "2020-09-14T23:18:16.408Z",
          "iopub.execute_input": "2020-09-14T23:18:16.452Z",
          "iopub.status.idle": "2020-09-14T23:18:32.525Z",
          "shell.execute_reply": "2020-09-14T23:18:32.573Z"
        }
      }
    },
    {
      "cell_type": "code",
      "source": [
        "fig, ax = plt.subplots(2, 2, figsize=(20, 20))\n",
        "ax[0,0].imshow(1-P0, plt.cm.copper)\n",
        "ax[0,0].set_axis_off()\n",
        "ax[0,1].imshow(1-P1, plt.cm.copper)\n",
        "ax[0,1].set_axis_off()\n",
        "ax[1,0].imshow(1-P2, plt.cm.copper)\n",
        "ax[1,0].set_axis_off()\n",
        "ax[1,1].imshow(1-P99, plt.cm.copper)\n",
        "ax[1,1].set_axis_off()\n",
        "  \n"
      ],
      "outputs": [],
      "execution_count": null,
      "metadata": {
        "collapsed": true,
        "jupyter": {
          "source_hidden": false,
          "outputs_hidden": false
        },
        "nteract": {
          "transient": {
            "deleting": false
          }
        },
        "execution": {
          "iopub.status.busy": "2020-09-14T23:23:12.981Z",
          "iopub.execute_input": "2020-09-14T23:23:13.026Z",
          "iopub.status.idle": "2020-09-14T23:23:13.647Z",
          "shell.execute_reply": "2020-09-14T23:23:13.717Z"
        }
      }
    },
    {
      "cell_type": "markdown",
      "source": [
        "### Vecino más cercano"
      ],
      "metadata": {
        "nteract": {
          "transient": {
            "deleting": false
          }
        }
      }
    },
    {
      "cell_type": "code",
      "source": [
        "def distEuclidiana(X):\n",
        "    n, p = X.shape\n",
        "    diferencias = X.reshape(n,1,p) - X\n",
        "    distancias =  (diferencias**2).sum(axis=2)\n",
        "    np.fill_diagonal(distancias, np.Inf)\n",
        "    return distancias"
      ],
      "outputs": [],
      "execution_count": null,
      "metadata": {
        "collapsed": true,
        "jupyter": {
          "source_hidden": false,
          "outputs_hidden": false
        },
        "nteract": {
          "transient": {
            "deleting": false
          }
        }
      }
    },
    {
      "cell_type": "code",
      "source": [
        "def VMC(X):\n",
        "    distancias = distEuclidiana(X)\n",
        "    k = np.argmin(distancias,0)\n",
        "    return X[k,:]"
      ],
      "outputs": [],
      "execution_count": null,
      "metadata": {
        "collapsed": true,
        "jupyter": {
          "source_hidden": false,
          "outputs_hidden": false
        },
        "nteract": {
          "transient": {
            "deleting": false
          }
        }
      }
    },
    {
      "cell_type": "code",
      "source": [
        "from matplotlib.collections import LineCollection\n",
        "\n",
        "# Arreglo con 200 puntos aleatorios en R^2\n",
        "X = np.random.random((200,2))\n",
        "# Vecinos más cercanos\n",
        "vecinos = VMC(X)\n",
        "# Coordenadas de los puntos y su vecino más cercano\n",
        "coordenadas = np.zeros((200,2,2))\n",
        "coordenadas[:,0,:] = X\n",
        "coordenadas[:,1,:] = vecinos\n",
        "lineas = LineCollection(coordenadas)\n",
        "fig, ax = plt.subplots(1,1,figsize = (10, 10))\n",
        "ax.scatter(X[:,0], X[:,1], c = 'black')\n",
        "ax.add_artist(lineas)"
      ],
      "outputs": [],
      "execution_count": null,
      "metadata": {
        "collapsed": true,
        "jupyter": {
          "source_hidden": false,
          "outputs_hidden": false
        },
        "nteract": {
          "transient": {
            "deleting": false
          }
        }
      }
    },
    {
      "cell_type": "markdown",
      "source": [
        "### Normalización cuantílica"
      ],
      "metadata": {
        "nteract": {
          "transient": {
            "deleting": false
          }
        }
      }
    },
    {
      "cell_type": "code",
      "source": [
        "ys = np.mean(np.sort(X,axis=0),axis=1)"
      ],
      "outputs": [],
      "execution_count": null,
      "metadata": {
        "collapsed": true,
        "jupyter": {
          "source_hidden": false,
          "outputs_hidden": false
        },
        "nteract": {
          "transient": {
            "deleting": false
          }
        }
      }
    },
    {
      "cell_type": "code",
      "source": [
        "def rangos(x):\n",
        "    n = len(x)\n",
        "    orden =  x.argsort()\n",
        "    rango = np.arange(n,dtype='int')\n",
        "    rango[orden] = np.arange(n)\n",
        "    return rango\n",
        "\n",
        "\n",
        "def normCuantilica0(X):\n",
        "    r = np.apply_along_axis(rangos,0,X)\n",
        "    ys = np.mean(np.sort(X,axis=0),axis=1)\n",
        "    z = ys[r]\n",
        "    return z\n"
      ],
      "outputs": [],
      "execution_count": null,
      "metadata": {
        "collapsed": true,
        "jupyter": {
          "source_hidden": false,
          "outputs_hidden": false
        },
        "nteract": {
          "transient": {
            "deleting": false
          }
        }
      }
    },
    {
      "cell_type": "code",
      "source": [
        "X0 = np.array([[1, 6, 4, 3], [2, 5, 7, 5],\n",
        "               [3, 4, 1, 5],[4, 3, 6, 4],\n",
        "               [5, 2, 2, 5],[6, 1, 8, 8]])\n",
        "normCuantilica0(X0)"
      ],
      "outputs": [],
      "execution_count": null,
      "metadata": {
        "collapsed": true,
        "jupyter": {
          "source_hidden": false,
          "outputs_hidden": false
        },
        "nteract": {
          "transient": {
            "deleting": false
          }
        }
      }
    },
    {
      "cell_type": "code",
      "source": [
        "def empatesM(x):\n",
        "    u = np.unique(x)\n",
        "    return len(u)<len(x)\n",
        "\n",
        "\n",
        "def empates(x):\n",
        "    u, pos,conteos = np.unique(x,return_inverse=True,\n",
        "                               return_counts=True)\n",
        "    return pos, conteos\n",
        "\n",
        "\n",
        "def normCuantilica(X):\n",
        "    r  = np.apply_along_axis(rangos,0,X)\n",
        "    ys = np.mean(np.sort(X,axis=0),axis=1)\n",
        "    z = ys[r]\n",
        "    colEmpates = np.apply_along_axis(empatesM,0,X)\n",
        "    if sum(colEmpates) > 0:\n",
        "        for i in np.arange(len(colEmpates))[colEmpates]:\n",
        "            posEmp, conEmp = empates(X[:,i])\n",
        "            ysEmp = np.bincount(posEmp, z[:,i])/conEmp\n",
        "            z[:,i] = ysEmp[posEmp]\n",
        "    return z\n",
        "normCuantilica(X0)"
      ],
      "outputs": [],
      "execution_count": null,
      "metadata": {
        "collapsed": true,
        "jupyter": {
          "source_hidden": false,
          "outputs_hidden": false
        },
        "nteract": {
          "transient": {
            "deleting": false
          }
        }
      }
    },
    {
      "cell_type": "code",
      "source": [
        "X = -np.log(np.random.random((200,2)))\n",
        "Z = normCuantilica(X)"
      ],
      "outputs": [],
      "execution_count": null,
      "metadata": {
        "collapsed": true,
        "jupyter": {
          "source_hidden": false,
          "outputs_hidden": false
        },
        "nteract": {
          "transient": {
            "deleting": false
          }
        }
      }
    },
    {
      "cell_type": "markdown",
      "source": [
        "## Álgebra lineal"
      ],
      "metadata": {
        "nteract": {
          "transient": {
            "deleting": false
          }
        }
      }
    },
    {
      "cell_type": "code",
      "source": [
        "from numpy import linalg as nl\n",
        "A = np.array([[0.9,0.3,0.1],[0.1,0.5,0.2],[0.0,0.2,0.7]])\n",
        "L = np.fromfunction(lambda x,y: 2+ 3*x - 2*y,(3,2))\n",
        "R = np.random.randint(-10,11,(3,3))\n",
        "b = np.array([30.0,25.0,10.0])\n",
        "D = np.array([[4, 5],[-2, 5]])\n",
        "E = np.eye(3, k= -1)"
      ],
      "outputs": [],
      "execution_count": null,
      "metadata": {
        "collapsed": true,
        "jupyter": {
          "source_hidden": false,
          "outputs_hidden": false
        },
        "nteract": {
          "transient": {
            "deleting": false
          }
        }
      }
    },
    {
      "cell_type": "code",
      "source": [
        "5*A\n",
        "A*R"
      ],
      "outputs": [],
      "execution_count": null,
      "metadata": {
        "collapsed": true,
        "jupyter": {
          "source_hidden": false,
          "outputs_hidden": false
        },
        "nteract": {
          "transient": {
            "deleting": false
          }
        }
      }
    },
    {
      "cell_type": "code",
      "source": [
        "AR = A.dot(R) # o\n",
        "AR = A@R\n",
        "Ab = A.dot(b)  # o\n",
        "Ab = A@b"
      ],
      "outputs": [],
      "execution_count": null,
      "metadata": {
        "collapsed": true,
        "jupyter": {
          "source_hidden": false,
          "outputs_hidden": false
        },
        "nteract": {
          "transient": {
            "deleting": false
          }
        }
      }
    },
    {
      "cell_type": "code",
      "source": [
        "M = 3*A@A - A@R.T - 4*E\n",
        "M@M@M"
      ],
      "outputs": [],
      "execution_count": null,
      "metadata": {
        "collapsed": true,
        "jupyter": {
          "source_hidden": false,
          "outputs_hidden": false
        },
        "nteract": {
          "transient": {
            "deleting": false
          }
        }
      }
    },
    {
      "cell_type": "code",
      "source": [
        "nl.matrix_power(M,3)"
      ],
      "outputs": [],
      "execution_count": null,
      "metadata": {
        "collapsed": true,
        "jupyter": {
          "source_hidden": false,
          "outputs_hidden": false
        },
        "nteract": {
          "transient": {
            "deleting": false
          }
        }
      }
    },
    {
      "cell_type": "markdown",
      "source": [
        "### Ejemplo 4.18"
      ],
      "metadata": {
        "nteract": {
          "transient": {
            "deleting": false
          }
        }
      }
    },
    {
      "cell_type": "code",
      "source": [
        "R  = np.array([[1,-1,1],[0,10,25],[20,10,0]])\n",
        "V  = np.array([0,90,80])\n",
        "nl.solve(R,V)"
      ],
      "outputs": [],
      "execution_count": null,
      "metadata": {
        "collapsed": true,
        "jupyter": {
          "source_hidden": false,
          "outputs_hidden": false
        },
        "nteract": {
          "transient": {
            "deleting": false
          }
        }
      }
    },
    {
      "cell_type": "code",
      "source": [
        "nl.inv(R)@V"
      ],
      "outputs": [],
      "execution_count": null,
      "metadata": {
        "collapsed": true,
        "jupyter": {
          "source_hidden": false,
          "outputs_hidden": false
        },
        "nteract": {
          "transient": {
            "deleting": false
          }
        }
      }
    },
    {
      "cell_type": "markdown",
      "source": [
        "### Ejemplo 4.19"
      ],
      "metadata": {
        "nteract": {
          "transient": {
            "deleting": false
          }
        }
      }
    },
    {
      "cell_type": "code",
      "source": [
        "A = [[2,1,-1],[5, 0, 2], [3,-1, 6]]\n",
        "Lambda = Symbol('lambda')\n",
        "Asimb  = Matrix(A)\n",
        "PolCarac = (Asimb - Lambda*np.eye(3)).det().expand()"
      ],
      "outputs": [],
      "execution_count": null,
      "metadata": {
        "collapsed": true,
        "jupyter": {
          "source_hidden": false,
          "outputs_hidden": false
        },
        "nteract": {
          "transient": {
            "deleting": false
          }
        }
      }
    },
    {
      "cell_type": "code",
      "source": [
        "Anum = np.array(A)\n",
        "-nl.matrix_power(Anum,3)+8*nl.matrix_power(Anum,2)-\\\n",
        "                         12*Anum-15*np.eye(3)"
      ],
      "outputs": [],
      "execution_count": null,
      "metadata": {
        "collapsed": true,
        "jupyter": {
          "source_hidden": false,
          "outputs_hidden": false
        },
        "nteract": {
          "transient": {
            "deleting": false
          }
        }
      }
    },
    {
      "cell_type": "markdown",
      "source": [
        "### Ejemplo 4.20"
      ],
      "metadata": {
        "nteract": {
          "transient": {
            "deleting": false
          }
        }
      }
    },
    {
      "cell_type": "code",
      "source": [
        "val, vec = nl.eig(MatrixCom([-42,-43,28,18,-10,1]))"
      ],
      "outputs": [],
      "execution_count": null,
      "metadata": {
        "collapsed": true,
        "jupyter": {
          "source_hidden": false,
          "outputs_hidden": false
        },
        "nteract": {
          "transient": {
            "deleting": false
          }
        }
      }
    },
    {
      "cell_type": "markdown",
      "source": [
        "### Ejemplo 4.21"
      ],
      "metadata": {
        "nteract": {
          "transient": {
            "deleting": false
          }
        }
      }
    },
    {
      "cell_type": "code",
      "source": [
        "p0 = np.array([200,100,100,100,200,200,100]).reshape(7,1)\n",
        "LeslieFocas = np.zeros((6,6))\n",
        "LeslieFocas = np.diag(Supervivencia[:-1],k=-1)\n",
        "LeslieFocas[0,] = Fecundidad\n",
        "p3 = nl.matrix_power(LeslieFocas,3)@p0\n",
        "sum(p3)"
      ],
      "outputs": [],
      "execution_count": null,
      "metadata": {
        "collapsed": true,
        "jupyter": {
          "source_hidden": false,
          "outputs_hidden": false
        },
        "nteract": {
          "transient": {
            "deleting": false
          }
        }
      }
    },
    {
      "cell_type": "code",
      "source": [
        "val_prop, vec_prop = nl.eig(LeslieFocas)\n",
        "abs(val_prop)"
      ],
      "outputs": [],
      "execution_count": null,
      "metadata": {
        "collapsed": true,
        "jupyter": {
          "source_hidden": false,
          "outputs_hidden": false
        },
        "nteract": {
          "transient": {
            "deleting": false
          }
        }
      }
    },
    {
      "cell_type": "markdown",
      "source": [
        "## Polinomios"
      ],
      "metadata": {
        "nteract": {
          "transient": {
            "deleting": false
          }
        }
      }
    },
    {
      "cell_type": "code",
      "source": [
        "Pol = np.polynomial.Polynomial\n",
        "p_gr = Pol([1,1,-1])\n",
        "p2 = Pol.fromroots([-1 + 1j, -1-1j, 3])"
      ],
      "outputs": [],
      "execution_count": null,
      "metadata": {
        "collapsed": true,
        "jupyter": {
          "source_hidden": false,
          "outputs_hidden": false
        },
        "nteract": {
          "transient": {
            "deleting": false
          }
        }
      }
    },
    {
      "cell_type": "code",
      "source": [
        "p_gr.roots()\n",
        "p2.roots()"
      ],
      "outputs": [],
      "execution_count": null,
      "metadata": {
        "collapsed": true,
        "jupyter": {
          "source_hidden": false,
          "outputs_hidden": false
        },
        "nteract": {
          "transient": {
            "deleting": false
          }
        }
      }
    },
    {
      "cell_type": "markdown",
      "source": [
        "### Ejemplo 4.22"
      ],
      "metadata": {
        "nteract": {
          "transient": {
            "deleting": false
          }
        }
      }
    },
    {
      "cell_type": "code",
      "source": [
        "from sympy import *\n",
        "h, z, R = symbols('h z R')\n",
        "integrate(pi*(R**2-z**2), (z, -R, -R+h)).simplify()"
      ],
      "outputs": [],
      "execution_count": null,
      "metadata": {
        "collapsed": true,
        "jupyter": {
          "source_hidden": false,
          "outputs_hidden": false
        },
        "nteract": {
          "transient": {
            "deleting": false
          }
        }
      }
    },
    {
      "cell_type": "code",
      "source": [
        "R, F  = 200, 200\n",
        "V0 = 4/3*np.pi*R**3\n",
        "T  = V0/F\n",
        "h  = np.zeros(200)\n",
        "tiempo = np.linspace(0, T, 200)\n",
        "Coeficientes = [0, 0, 200*np.pi, -np.pi/3]\n",
        "for i, t in enumerate(tiempo):\n",
        "    Coeficientes[0] = F*t - V0\n",
        "    p = Pol(Coeficientes)\n",
        "    raices = p.roots()\n",
        "    h[i] = raices[ (0 <= raices) & (raices <= 2*R) ][0]"
      ],
      "outputs": [],
      "execution_count": null,
      "metadata": {
        "collapsed": true,
        "jupyter": {
          "source_hidden": false,
          "outputs_hidden": false
        },
        "nteract": {
          "transient": {
            "deleting": false
          }
        }
      }
    },
    {
      "cell_type": "code",
      "source": [
        "plt.plot(tiempo/60, h, 'k-')\n",
        "plt.xlabel('Tiempo (h)')\n",
        "plt.ylabel('Altura del combustible en el tanque (cm)')"
      ],
      "outputs": [],
      "execution_count": null,
      "metadata": {
        "collapsed": true,
        "jupyter": {
          "source_hidden": false,
          "outputs_hidden": false
        },
        "nteract": {
          "transient": {
            "deleting": false
          }
        }
      }
    },
    {
      "cell_type": "markdown",
      "source": [
        "### Ejemplo 4.23"
      ],
      "metadata": {
        "nteract": {
          "transient": {
            "deleting": false
          }
        }
      }
    },
    {
      "cell_type": "code",
      "source": [
        "R = 0.08206         # L atm /(mol K)\n",
        "a = 4.225/1.01325   # L^3 atm/ (mol^2)\n",
        "b = 0.03707         # L/mol\n",
        "T1 = 298            # K\n",
        "P1 = 1              # atm\n",
        "coeficientes1 = [-a*b, a, -(P1*b+R*T1), P1]\n",
        "Pol(coeficientes1).roots()\n",
        "T2 = 500            # K\n",
        "P2 = 120            # atm\n",
        "coeficientes2 = [-a*b, a, -(P2*b+R*T2), P2]\n",
        "Pol(coeficientes2).roots()"
      ],
      "outputs": [],
      "execution_count": null,
      "metadata": {
        "collapsed": true,
        "jupyter": {
          "source_hidden": false,
          "outputs_hidden": false
        },
        "nteract": {
          "transient": {
            "deleting": false
          }
        }
      }
    },
    {
      "cell_type": "code",
      "source": [
        "def WaalsVM(T, P, a = 4.225/1.01325, b = 0.03713):\n",
        "    R = 0.08206           # L atm / (mol K)\n",
        "    Tc = 8*a/(27*b*R)     # K\n",
        "    Pc = a/(27*b**2)      # atm\n",
        "    coeficientes = [-a*b, a, -(P*b + R*T), P]\n",
        "    z = Pol(coeficientes).roots()\n",
        "    return z, Tc, Pc"
      ],
      "outputs": [],
      "execution_count": null,
      "metadata": {
        "collapsed": true,
        "jupyter": {
          "source_hidden": false,
          "outputs_hidden": false
        },
        "nteract": {
          "transient": {
            "deleting": false
          }
        }
      }
    },
    {
      "cell_type": "code",
      "source": [
        "def isoterma(V,T = 405, a = 4.225/1.01325, b = 0.03707):\n",
        "    R = 0.08206       # L atm /(mol K)\n",
        "    P = (R*T)/(V-b) - a/V**2\n",
        "    return P"
      ],
      "outputs": [],
      "execution_count": null,
      "metadata": {
        "collapsed": true,
        "jupyter": {
          "source_hidden": false,
          "outputs_hidden": false
        },
        "nteract": {
          "transient": {
            "deleting": false
          }
        }
      }
    }
  ],
  "metadata": {
    "kernel_info": {
      "name": "python3"
    },
    "language_info": {
      "name": "python",
      "version": "3.7.3",
      "mimetype": "text/x-python",
      "codemirror_mode": {
        "name": "ipython",
        "version": 3
      },
      "pygments_lexer": "ipython3",
      "nbconvert_exporter": "python",
      "file_extension": ".py"
    },
    "kernelspec": {
      "argv": [
        "/Users/alexrojas/anaconda3/bin/python",
        "-m",
        "ipykernel_launcher",
        "-f",
        "{connection_file}"
      ],
      "display_name": "Python 3",
      "language": "python",
      "name": "python3"
    },
    "nteract": {
      "version": "0.28.0"
    }
  },
  "nbformat": 4,
  "nbformat_minor": 0
}