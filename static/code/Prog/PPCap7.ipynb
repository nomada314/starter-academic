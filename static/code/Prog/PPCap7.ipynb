{
  "cells": [
    {
      "cell_type": "markdown",
      "source": [
        "# Otras librerías de interés"
      ],
      "metadata": {
        "nteract": {
          "transient": {
            "deleting": false
          }
        }
      }
    },
    {
      "cell_type": "code",
      "source": [
        "import numpy as np\n",
        "import matplotlib.pyplot as plt\n",
        "import seanorn as sns\n",
        "from skimage import io\n",
        "from matplotlib.collections import LineCollection\n",
        "from PIL import Image\n",
        "from astropy.modeling import models, fitting\n",
        "from astropy.modeling.models import custom_model\n",
        "from astropy.modeling import Fittable1DModel, Parameter\n",
        "\n",
        "paginaD = 'https://alexrojas.netlify.com/Data/Prog/'\n",
        "\n"
      ],
      "outputs": [],
      "execution_count": null,
      "metadata": {
        "collapsed": true,
        "jupyter": {
          "source_hidden": false,
          "outputs_hidden": false
        },
        "nteract": {
          "transient": {
            "deleting": false
          }
        }
      }
    },
    {
      "cell_type": "markdown",
      "source": [
        "## Librería `biopython`"
      ],
      "metadata": {
        "nteract": {
          "transient": {
            "deleting": false
          }
        }
      }
    },
    {
      "cell_type": "code",
      "source": [
        "from Bio import SeqIO\n",
        "from Bio.Seq import Seq"
      ],
      "outputs": [],
      "execution_count": null,
      "metadata": {
        "collapsed": true,
        "jupyter": {
          "source_hidden": false,
          "outputs_hidden": false
        },
        "nteract": {
          "transient": {
            "deleting": false
          }
        }
      }
    },
    {
      "cell_type": "code",
      "source": [
        "archivo = 'SARS-CoV2Col.fasta'\n",
        "SARSCoV2 = list(SeqIO.parse(paginaD+archivo, \"fasta\"))"
      ],
      "outputs": [],
      "execution_count": null,
      "metadata": {
        "collapsed": true,
        "jupyter": {
          "source_hidden": false,
          "outputs_hidden": false
        },
        "nteract": {
          "transient": {
            "deleting": false
          }
        }
      }
    },
    {
      "cell_type": "code",
      "source": [
        "SARSCoV2[0].id\n",
        "SARSCoV2[0].seq"
      ],
      "outputs": [],
      "execution_count": null,
      "metadata": {
        "collapsed": true,
        "jupyter": {
          "source_hidden": false,
          "outputs_hidden": false
        },
        "nteract": {
          "transient": {
            "deleting": false
          }
        }
      }
    },
    {
      "cell_type": "code",
      "source": [
        "from Bio.Alphabet import IUPAC\n",
        "SARSCoV2 = list(SeqIO.parse(paginaD+archivo, \"fasta\",\\\n",
        "                            IUPAC.ambiguous_dna))"
      ],
      "outputs": [],
      "execution_count": null,
      "metadata": {
        "collapsed": true,
        "jupyter": {
          "source_hidden": false,
          "outputs_hidden": false
        },
        "nteract": {
          "transient": {
            "deleting": false
          }
        }
      }
    },
    {
      "cell_type": "code",
      "source": [
        "archivo = 'SARS-CoV2Ant.gb'\n",
        "SARSCoV2Ant = list(SeqIO.parse(paginaD+archivo, \"genbank\"))[0]"
      ],
      "outputs": [],
      "execution_count": null,
      "metadata": {
        "collapsed": true,
        "jupyter": {
          "source_hidden": false,
          "outputs_hidden": false
        },
        "nteract": {
          "transient": {
            "deleting": false
          }
        }
      }
    },
    {
      "cell_type": "code",
      "source": [
        "SARSCoV2Ant.id\n",
        "SARSCoV2Ant.description\n",
        "print(SARSCoV2Ant.features[2])"
      ],
      "outputs": [],
      "execution_count": null,
      "metadata": {
        "collapsed": true,
        "jupyter": {
          "source_hidden": false,
          "outputs_hidden": false
        },
        "nteract": {
          "transient": {
            "deleting": false
          }
        }
      }
    },
    {
      "cell_type": "code",
      "source": [
        "SARSCoV2Ant_ARN = (SARSCoV2[1].seq[211:13429]).transcribe()\n",
        "SARSCoV2Ant_Prot = (SARSCoV2[1].seq[211:13429]).translate()"
      ],
      "outputs": [],
      "execution_count": null,
      "metadata": {
        "collapsed": true,
        "jupyter": {
          "source_hidden": false,
          "outputs_hidden": false
        },
        "nteract": {
          "transient": {
            "deleting": false
          }
        }
      }
    },
    {
      "cell_type": "code",
      "source": [
        "SARSCoV2Ant_QIS30052_2 = SARSCoV2Ant.features[2].\\\n",
        "                       extract(SARSCoV2Ant.seq)"
      ],
      "outputs": [],
      "execution_count": null,
      "metadata": {
        "collapsed": true,
        "jupyter": {
          "source_hidden": false,
          "outputs_hidden": false
        },
        "nteract": {
          "transient": {
            "deleting": false
          }
        }
      }
    },
    {
      "cell_type": "code",
      "source": [
        "SARSCoV2Ant_ARN.transcribe()  # Produce un error\n",
        "SARSCoV2Ant_ARN.translate()\n",
        "SARSCoV2Ant_ARN.back_transcribe()"
      ],
      "outputs": [],
      "execution_count": null,
      "metadata": {
        "collapsed": true,
        "jupyter": {
          "source_hidden": false,
          "outputs_hidden": false
        },
        "nteract": {
          "transient": {
            "deleting": false
          }
        }
      }
    },
    {
      "cell_type": "code",
      "source": [
        "SARSCoV2Ant_QIS30052_2.complement()\n",
        "SARSCoV2Ant_QIS30052_2.reverse_complement()"
      ],
      "outputs": [],
      "execution_count": null,
      "metadata": {
        "collapsed": true,
        "jupyter": {
          "source_hidden": false,
          "outputs_hidden": false
        },
        "nteract": {
          "transient": {
            "deleting": false
          }
        }
      }
    },
    {
      "cell_type": "markdown",
      "source": [
        "## Acceso al repositorio `Entrez`"
      ],
      "metadata": {
        "nteract": {
          "transient": {
            "deleting": false
          }
        }
      }
    },
    {
      "cell_type": "code",
      "source": [
        "from Bio import Entrez\n",
        "Entrez.email = \"usuario@ejemplo.com\"\n",
        "busqueda = Entrez.esearch(db=\"nucleotide\",\\\n",
        "                      term=\"sickle cell AND human NOT chromosome\",\n",
        "                      retmax =100)\n",
        "resultados = Entrez.read(busqueda)"
      ],
      "outputs": [],
      "execution_count": null,
      "metadata": {
        "collapsed": true,
        "jupyter": {
          "source_hidden": false,
          "outputs_hidden": false
        },
        "nteract": {
          "transient": {
            "deleting": false
          }
        }
      }
    },
    {
      "cell_type": "code",
      "source": [
        "busqueda = Entrez.efetch(db=\"nucleotide\", id=resultados['IdList'],\n",
        "                       retmax=\"100\", rettype=\"fasta\",\n",
        "                       retmode=\"xml\")\n",
        "resultados = Entrez.read(busqueda)"
      ],
      "outputs": [],
      "execution_count": null,
      "metadata": {
        "collapsed": true,
        "jupyter": {
          "source_hidden": false,
          "outputs_hidden": false
        },
        "nteract": {
          "transient": {
            "deleting": false
          }
        }
      }
    },
    {
      "cell_type": "code",
      "source": [
        "resultados[0]['TSeq_sequence']"
      ],
      "outputs": [],
      "execution_count": null,
      "metadata": {
        "collapsed": true,
        "jupyter": {
          "source_hidden": false,
          "outputs_hidden": false
        },
        "nteract": {
          "transient": {
            "deleting": false
          }
        }
      }
    },
    {
      "cell_type": "code",
      "source": [
        "busqueda = Entrez.efetch(db=\"nucleotide\", id=\"179408\", \\\n",
        "                       rettype=\"fasta\", retmode=\"xml\")\n",
        "HBB_gen = Entrez.read(busqueda)[0]"
      ],
      "outputs": [],
      "execution_count": null,
      "metadata": {
        "collapsed": true,
        "jupyter": {
          "source_hidden": false,
          "outputs_hidden": false
        },
        "nteract": {
          "transient": {
            "deleting": false
          }
        }
      }
    },
    {
      "cell_type": "code",
      "source": [
        "busqueda = Entrez.efetch(db=\"nucleotide\", id=[\"AB026282\",\\\n",
        "            \"AF076044\", \"AF076051\", \"AF076052\",\"AB026277\",\\\n",
        "            \"AB026278\", \"AB066603\", \"AF076089\", \"AF076090\",\\\n",
        "            \"AB026269\", \"AB026271\", \"AB026270\"],\\\n",
        "                       rettype=\"fasta\", retmode=\"xml\")\n",
        "CitocromoB = Entrez.read(busqueda)"
      ],
      "outputs": [],
      "execution_count": null,
      "metadata": {
        "collapsed": true,
        "jupyter": {
          "source_hidden": false,
          "outputs_hidden": false
        },
        "nteract": {
          "transient": {
            "deleting": false
          }
        }
      }
    },
    {
      "cell_type": "code",
      "source": [
        "CitocromoB_sec = [Seq(x['TSeq_sequence'],IUPAC.ambiguous_dna)\\\n",
        "                  for x in CitocromoB]"
      ],
      "outputs": [],
      "execution_count": null,
      "metadata": {
        "collapsed": true,
        "jupyter": {
          "source_hidden": false,
          "outputs_hidden": false
        },
        "nteract": {
          "transient": {
            "deleting": false
          }
        }
      }
    },
    {
      "cell_type": "code",
      "source": [
        "CitocromoB_sec = []\n",
        "for x in CitocromoB:\n",
        "    CitocromoB_sec.append(Seq(x['TSeq_sequence'],\\\n",
        "                          IUPAC.ambiguous_dna))"
      ],
      "outputs": [],
      "execution_count": null,
      "metadata": {
        "collapsed": true,
        "jupyter": {
          "source_hidden": false,
          "outputs_hidden": false
        },
        "nteract": {
          "transient": {
            "deleting": false
          }
        }
      }
    },
    {
      "cell_type": "code",
      "source": [
        "from Bio.SeqUtils import GC\n",
        "CitocromoB_GC = [GC(x) for x in CitocromoB_sec]"
      ],
      "outputs": [],
      "execution_count": null,
      "metadata": {
        "collapsed": true,
        "jupyter": {
          "source_hidden": false,
          "outputs_hidden": false
        },
        "nteract": {
          "transient": {
            "deleting": false
          }
        }
      }
    },
    {
      "cell_type": "code",
      "source": [
        "from Bio.SeqUtils.ProtParam import ProteinAnalysis\n",
        "CitocromoB_trad = [str(x.translate(to_stop=True)) \\\n",
        "                                     for x in CitocromoB_sec]\n",
        "CitocromoB_analizada = [ProteinAnalysis(x) for x in\\\n",
        "                                             CitocromoB_trad]\n",
        "CitocromoB_pesoM = [x.molecular_weight() for x in \\\n",
        "                                        CitocromoB_analizada]"
      ],
      "outputs": [],
      "execution_count": null,
      "metadata": {
        "collapsed": true,
        "jupyter": {
          "source_hidden": false,
          "outputs_hidden": false
        },
        "nteract": {
          "transient": {
            "deleting": false
          }
        }
      }
    },
    {
      "cell_type": "code",
      "source": [
        "pinguinos = pd.read_csv(paginaD+'pinguinos.csv', index_col=[0])\n",
        "pinguinos.columns=[\"Masa\"]\n",
        "pinguinos['GC'] = CitocromoB_GC\n",
        "pinguinos['pm'] = CitocromoB_pesoM\n",
        "# Crea la variable género\n",
        "pinguinos['Genero'] = [x.split()[0] for x in pinguinos.index]"
      ],
      "outputs": [],
      "execution_count": null,
      "metadata": {
        "collapsed": true,
        "jupyter": {
          "source_hidden": false,
          "outputs_hidden": false
        },
        "nteract": {
          "transient": {
            "deleting": false
          }
        }
      }
    },
    {
      "cell_type": "code",
      "source": [
        "ax = sns.scatterplot('GC','pm',hue=\"Genero\",data=pinguinos,\\\n",
        "                style = \"Genero\", s=250,\\\n",
        "                palette = sns.color_palette(\"cubehelix\", 5))\n",
        "ax.set(xlabel = \"Contenido GC\", ylabel = \"Peso molecular\")"
      ],
      "outputs": [],
      "execution_count": null,
      "metadata": {
        "collapsed": true,
        "jupyter": {
          "source_hidden": false,
          "outputs_hidden": false
        },
        "nteract": {
          "transient": {
            "deleting": false
          }
        }
      }
    },
    {
      "cell_type": "markdown",
      "source": [
        "## Visualización de secuencias"
      ],
      "metadata": {
        "nteract": {
          "transient": {
            "deleting": false
          }
        }
      }
    },
    {
      "cell_type": "code",
      "source": [
        "def traduccion(sec):\n",
        "    cod = {\"T\":\"00\",\"C\":\"01\",\"A\":\"10\",\"G\":\"11\", \"N\":\"\"}\n",
        "    y = (np.array([int(x)-.5 for x in \\\n",
        "         sec.translate(str.maketrans(cod))])).cumsum()\n",
        "    return y"
      ],
      "outputs": [],
      "execution_count": null,
      "metadata": {
        "collapsed": true,
        "jupyter": {
          "source_hidden": false,
          "outputs_hidden": false
        },
        "nteract": {
          "transient": {
            "deleting": false
          }
        }
      }
    },
    {
      "cell_type": "code",
      "source": [
        "SARS = list(SeqIO.parse(paginaD+'SARS.fasta', \"fasta\",\\\n",
        "                        IUPAC.ambiguous_dna))\n",
        "Mur = list(SeqIO.parse(paginaD+'Murcielago.fasta', \"fasta\",\\\n",
        "                        IUPAC.ambiguous_dna))\n",
        "SARStodas = SARS+SARSCoV2+Mur"
      ],
      "outputs": [],
      "execution_count": null,
      "metadata": {
        "collapsed": true,
        "jupyter": {
          "source_hidden": false,
          "outputs_hidden": false
        },
        "nteract": {
          "transient": {
            "deleting": false
          }
        }
      }
    },
    {
      "cell_type": "code",
      "source": [
        "St = [traduccion(str(x.seq)) for x in SARStodas]\n",
        "long = [len(x) for x in St]\n",
        "XYvis = pd.DataFrame({\"x\":[x for subl in [np.arange(.5,l/2+.5,.5)\\\n",
        "                      for l in long] for x in subl],\\\n",
        "              \"y\": [x for subl in St for x in subl],\\\n",
        "              \"Secuencia\": np.repeat(np.arange(1,6), long)} )\n",
        "ax = sns.lineplot('x','y', data=XYvis, hue='Secuencia',\n",
        "                   markers=True, estimator=None,\n",
        "                   palette = sns.color_palette(\"cubehelix\", 5))\n",
        "ax.set(xlabel='Posición (PB)',ylabel='')\n",
        "plt.legend(loc='upper right')"
      ],
      "outputs": [],
      "execution_count": null,
      "metadata": {
        "collapsed": true,
        "jupyter": {
          "source_hidden": false,
          "outputs_hidden": false
        },
        "nteract": {
          "transient": {
            "deleting": false
          }
        }
      }
    },
    {
      "cell_type": "code",
      "source": [
        "with open(\"SARSCoV.fasta\", \"w\") as salida:\n",
        "    SeqIO.write(SARStodas, salida, \"fasta\")"
      ],
      "outputs": [],
      "execution_count": null,
      "metadata": {
        "collapsed": true,
        "jupyter": {
          "source_hidden": false,
          "outputs_hidden": false
        },
        "nteract": {
          "transient": {
            "deleting": false
          }
        }
      }
    },
    {
      "cell_type": "code",
      "source": [
        "from Bio import Phylo\n",
        "archivo = 'arbol.dnd'\n",
        "arbolSARSCoV = Phylo.read(paginaD + archivo, 'newick')\n",
        "fig, ax = plt.subplots(1,1,figsize=(6,6))\n",
        "ax.set(xlabel='Longitud rama')\n",
        "plt.axis('off')\n",
        "Phylo.draw(arbolSARSCoV, axes=ax)"
      ],
      "outputs": [],
      "execution_count": null,
      "metadata": {
        "collapsed": true,
        "jupyter": {
          "source_hidden": false,
          "outputs_hidden": false
        },
        "nteract": {
          "transient": {
            "deleting": false
          }
        }
      }
    },
    {
      "cell_type": "markdown",
      "source": [
        "## Librería `astropy`"
      ],
      "metadata": {
        "nteract": {
          "transient": {
            "deleting": false
          }
        }
      }
    },
    {
      "cell_type": "markdown",
      "source": [
        "## Archivos con formato `FITS`"
      ],
      "metadata": {
        "nteract": {
          "transient": {
            "deleting": false
          }
        }
      }
    },
    {
      "cell_type": "code",
      "source": [
        "from astropy.io import fits\n",
        "pag0 = 'https://fermi.gsfc.nasa.gov/ssc/data/p6v11/analysis/'\n",
        "pag1 = 'software/aux/gll_iem_v02_P6_V11_DIFFUSE.fit'\n",
        "ListaHDU = fits.open(pag0+pag1)\n",
        "ListaHDU.info()"
      ],
      "outputs": [],
      "execution_count": null,
      "metadata": {
        "collapsed": true,
        "jupyter": {
          "source_hidden": false,
          "outputs_hidden": false
        },
        "nteract": {
          "transient": {
            "deleting": false
          }
        }
      }
    },
    {
      "cell_type": "code",
      "source": [
        "Unidad0 = ListaHDU[0]\n",
        "Unidad0.header\n"
      ],
      "outputs": [],
      "execution_count": null,
      "metadata": {
        "collapsed": true,
        "jupyter": {
          "source_hidden": false,
          "outputs_hidden": false
        },
        "nteract": {
          "transient": {
            "deleting": false
          }
        }
      }
    },
    {
      "cell_type": "code",
      "source": [
        "Unidad0.header['INSTRUME']"
      ],
      "outputs": [],
      "execution_count": null,
      "metadata": {
        "collapsed": true,
        "jupyter": {
          "source_hidden": false,
          "outputs_hidden": false
        },
        "nteract": {
          "transient": {
            "deleting": false
          }
        }
      }
    },
    {
      "cell_type": "code",
      "source": [
        "Unidad0.header['CTYPE1']\n",
        "Unidad0.header['CTYPE2']\n",
        "Unidad0.header['CTYPE3']\n"
      ],
      "outputs": [],
      "execution_count": null,
      "metadata": {
        "collapsed": true,
        "jupyter": {
          "source_hidden": false,
          "outputs_hidden": false
        },
        "nteract": {
          "transient": {
            "deleting": false
          }
        }
      }
    },
    {
      "cell_type": "code",
      "source": [
        "import matplotlib.pyplot as plt\n",
        "f = plt.figure()\n",
        "ax = f.add_subplot(1, 1, 1)\n",
        "ax.imshow(np.log(Unidad0.data[0,:,:]),\\\n",
        "          extent=[-180., 180., -90., 90.], cmap='gray',\n",
        "          origin='lower')\n",
        "ax.set_xlim(180., -180.)\n",
        "ax.set_ylim(-90., 90.)\n",
        "ax.set_xlabel('Longitud galáctica')\n",
        "ax.set_ylabel('Latitud  galáctica')\n",
        "ListaHDU.close()"
      ],
      "outputs": [],
      "execution_count": null,
      "metadata": {
        "collapsed": true,
        "jupyter": {
          "source_hidden": false,
          "outputs_hidden": false
        },
        "nteract": {
          "transient": {
            "deleting": false
          }
        }
      }
    },
    {
      "cell_type": "code",
      "source": [
        "pag0  = 'https://fermi.gsfc.nasa.gov/ssc/data/access/lat/'\n",
        "pag1  = '8yr_catalog/gll_psc_v21.fit'\n",
        "datos_fuentes = fits.getdata(pag0+pag1,1)"
      ],
      "outputs": [],
      "execution_count": null,
      "metadata": {
        "collapsed": true,
        "jupyter": {
          "source_hidden": false,
          "outputs_hidden": false
        },
        "nteract": {
          "transient": {
            "deleting": false
          }
        }
      }
    },
    {
      "cell_type": "code",
      "source": [
        "info = fits.getheader(pag0+pag1,1)"
      ],
      "outputs": [],
      "execution_count": null,
      "metadata": {
        "collapsed": true,
        "jupyter": {
          "source_hidden": false,
          "outputs_hidden": false
        },
        "nteract": {
          "transient": {
            "deleting": false
          }
        }
      }
    },
    {
      "cell_type": "code",
      "source": [
        "from astropy.table import Table\n",
        "fuentes = Table(datos_fuentes)"
      ],
      "outputs": [],
      "execution_count": null,
      "metadata": {
        "collapsed": true,
        "jupyter": {
          "source_hidden": false,
          "outputs_hidden": false
        },
        "nteract": {
          "transient": {
            "deleting": false
          }
        }
      }
    },
    {
      "cell_type": "code",
      "source": [
        "lon = fuentes['GLON']\n",
        "lat = fuentes['GLAT']"
      ],
      "outputs": [],
      "execution_count": null,
      "metadata": {
        "collapsed": true,
        "jupyter": {
          "source_hidden": false,
          "outputs_hidden": false
        },
        "nteract": {
          "transient": {
            "deleting": false
          }
        }
      }
    },
    {
      "cell_type": "code",
      "source": [
        "lon[lon > 180] -= 360\n",
        "f = plt.figure()\n",
        "ax = f.add_subplot(1, 1, 1)\n",
        "ax.imshow(np.log(Unidad0.data[0,:,:]),\\\n",
        "          extent=[-180., 180., -90., 90.],\\\n",
        "          cmap='gray', origin='lower')\n",
        "ax.scatter(lon, lat, s=10, edgecolor='none', facecolor='white',\\\n",
        "           alpha=0.5)\n",
        "ax.set_xlim(180., -180.)\n",
        "ax.set_ylim(-90., 90.)\n",
        "ax.set_xlabel('Longitud galáctica')\n",
        "ax.set_ylabel('Latitud  galáctica')"
      ],
      "outputs": [],
      "execution_count": null,
      "metadata": {
        "collapsed": true,
        "jupyter": {
          "source_hidden": false,
          "outputs_hidden": false
        },
        "nteract": {
          "transient": {
            "deleting": false
          }
        }
      }
    },
    {
      "cell_type": "code",
      "source": [
        "from astropy import units as u\n",
        "from astropy.coordinates import SkyCoord\n",
        "centroHCG92 = SkyCoord(338.98954167*u.deg, 33.96*u.deg)"
      ],
      "outputs": [],
      "execution_count": null,
      "metadata": {
        "collapsed": true,
        "jupyter": {
          "source_hidden": false,
          "outputs_hidden": false
        },
        "nteract": {
          "transient": {
            "deleting": false
          }
        }
      }
    },
    {
      "cell_type": "code",
      "source": [
        "import urllib\n",
        "escala = 10*u.arcmin\n",
        "corte ='http://skyservice.pha.jhu.edu/DR14/ImgCutout/getjpeg.aspx'\n",
        "busqueda = urllib.parse.urlencode(dict(ra=centroHCG92.ra.deg,\n",
        "                          dec=centroHCG92.dec.deg,\n",
        "                          width=1024, height=1024,\n",
        "                          scale=escala.to(u.arcsec).value/1024))\n",
        "pag = corte + '?' + busqueda\n",
        "urllib.request.urlretrieve(pag, 'HCG_92.jpg')"
      ],
      "outputs": [],
      "execution_count": null,
      "metadata": {
        "collapsed": true,
        "jupyter": {
          "source_hidden": false,
          "outputs_hidden": false
        },
        "nteract": {
          "transient": {
            "deleting": false
          }
        }
      }
    },
    {
      "cell_type": "code",
      "source": [
        "HCG92 = Image.open('HCG_92.jpg')"
      ],
      "outputs": [],
      "execution_count": null,
      "metadata": {
        "collapsed": true,
        "jupyter": {
          "source_hidden": false,
          "outputs_hidden": false
        },
        "nteract": {
          "transient": {
            "deleting": false
          }
        }
      }
    },
    {
      "cell_type": "code",
      "source": [
        "ro, ve, az = HCG92.split()\n",
        "tam_x, tam_y = HCG92.size\n",
        "ro_pix = (np.array(ro.getdata())).reshape(tam_y, tam_x)\n",
        "ve_pix = (np.array(ve.getdata())).reshape(tam_y, tam_x)\n",
        "az_pix = (np.array(az.getdata())).reshape(tam_y, tam_x)"
      ],
      "outputs": [],
      "execution_count": null,
      "metadata": {
        "collapsed": true,
        "jupyter": {
          "source_hidden": false,
          "outputs_hidden": false
        },
        "nteract": {
          "transient": {
            "deleting": false
          }
        }
      }
    },
    {
      "cell_type": "code",
      "source": [
        "# Encabezados:\n",
        "encab = fits.Header()\n",
        "r_enc = fits.Header()\n",
        "v_enc = fits.Header()\n",
        "a_enc = fits.Header()"
      ],
      "outputs": [],
      "execution_count": null,
      "metadata": {
        "collapsed": true,
        "jupyter": {
          "source_hidden": false,
          "outputs_hidden": false
        },
        "nteract": {
          "transient": {
            "deleting": false
          }
        }
      }
    },
    {
      "cell_type": "code",
      "source": [
        "# Encabezado primario\n",
        "encab['Proyecto'] = 'Grupo de galaxias HGC92'\n",
        "encab['GLon'] ='338.98954167'\n",
        "encab['GLat'] ='33.96'"
      ],
      "outputs": [],
      "execution_count": null,
      "metadata": {
        "collapsed": true,
        "jupyter": {
          "source_hidden": false,
          "outputs_hidden": false
        },
        "nteract": {
          "transient": {
            "deleting": false
          }
        }
      }
    },
    {
      "cell_type": "code",
      "source": [
        "# Encabezado banda roja\n",
        "r_enc['Titulo'] = 'Banda r HCG92'\n",
        "r_enc['Observ'] = 'Estudiante R'\n",
        "r_enc['Fecha'] = '12-11-20'\n",
        "r_enc['Hora'] = '23:56'\n",
        "r_enc['Laborat'] = 'Lab1'\n",
        "r_enc['Grupo'] = 'GABH1'"
      ],
      "outputs": [],
      "execution_count": null,
      "metadata": {
        "collapsed": true,
        "jupyter": {
          "source_hidden": false,
          "outputs_hidden": false
        },
        "nteract": {
          "transient": {
            "deleting": false
          }
        }
      }
    },
    {
      "cell_type": "code",
      "source": [
        "# Encabezado banda verde\n",
        "v_enc['Titulo'] = 'Banda g HCG92'\n",
        "v_enc['Observ'] = 'Estudiante V'\n",
        "v_enc['Fecha'] = '18-11-20'\n",
        "v_enc['Hora'] = '00:50'\n",
        "v_enc['Grupo'] = 'GABH2'"
      ],
      "outputs": [],
      "execution_count": null,
      "metadata": {
        "collapsed": true,
        "jupyter": {
          "source_hidden": false,
          "outputs_hidden": false
        },
        "nteract": {
          "transient": {
            "deleting": false
          }
        }
      }
    },
    {
      "cell_type": "code",
      "source": [
        "# Encabezado banda azul\n",
        "a_enc['Titulo'] = 'Banda b HCG92'\n",
        "a_enc['Observ'] = 'Estudiante A'\n",
        "a_enc['Fecha'] = '25-12-20'\n",
        "a_enc['Hora'] = '02:50'\n",
        "a_enc['Grupo'] = 'GABH3'"
      ],
      "outputs": [],
      "execution_count": null,
      "metadata": {
        "collapsed": true,
        "jupyter": {
          "source_hidden": false,
          "outputs_hidden": false
        },
        "nteract": {
          "transient": {
            "deleting": false
          }
        }
      }
    },
    {
      "cell_type": "code",
      "source": [
        "Lista_HDUS = fits.HDUList()\n",
        "Lista_HDUS.append(fits.PrimaryHDU(header=encab))\n",
        "Lista_HDUS.append(fits.ImageHDU(ro_pix, header=r_enc,\\\n",
        "                  name=\"Banda Roja\"))\n",
        "Lista_HDUS.append(fits.ImageHDU(ve_pix, header=r_enc,\\\n",
        "                  name=\"Banda Verde\"))\n",
        "Lista_HDUS.append(fits.ImageHDU(az_pix, header=r_enc,\\\n",
        "                  name=\"Banda Azul\"))"
      ],
      "outputs": [],
      "execution_count": null,
      "metadata": {
        "collapsed": true,
        "jupyter": {
          "source_hidden": false,
          "outputs_hidden": false
        },
        "nteract": {
          "transient": {
            "deleting": false
          }
        }
      }
    },
    {
      "cell_type": "code",
      "source": [
        "Lista_HDUS.writeto('HGC92bandas.fits')\n",
        "Lista_HDUS.close()"
      ],
      "outputs": [],
      "execution_count": null,
      "metadata": {
        "collapsed": true,
        "jupyter": {
          "source_hidden": false,
          "outputs_hidden": false
        },
        "nteract": {
          "transient": {
            "deleting": false
          }
        }
      }
    },
    {
      "cell_type": "code",
      "source": [
        "from skimage import io\n",
        "HCG92g = io.imread('HCG_92.jpg',as_gray=True)\n",
        "f, ax  = plt.subplots(2, 2)\n",
        "ax[0,0].imshow(HCG92g, cmap='gray')\n",
        "ax[0,1].imshow(ro_pix, cmap='gray_r')\n",
        "ax[1,0].imshow(ve_pix, cmap='gray_r')\n",
        "ax[1,1].imshow(az_pix, cmap='gray_r')\n",
        "ax[0,0].axis('off')\n",
        "ax[0,1].axis('off')\n",
        "ax[1,0].axis('off')\n",
        "ax[1,1].axis('off')"
      ],
      "outputs": [],
      "execution_count": null,
      "metadata": {
        "collapsed": true,
        "jupyter": {
          "source_hidden": false,
          "outputs_hidden": false
        },
        "nteract": {
          "transient": {
            "deleting": false
          }
        }
      }
    },
    {
      "cell_type": "markdown",
      "source": [
        "## Unidades y coordenadas"
      ],
      "metadata": {
        "nteract": {
          "transient": {
            "deleting": false
          }
        }
      }
    },
    {
      "cell_type": "code",
      "source": [
        "from astropy.constants import G\n",
        "from astropy import units as u\n",
        "F = (G*(1*u.M_sun)*1407*u.imperial.pound)/\\\n",
        "    (141600000*u.imperial.mile)**2\n"
      ],
      "outputs": [],
      "execution_count": null,
      "metadata": {
        "collapsed": true,
        "jupyter": {
          "source_hidden": false,
          "outputs_hidden": false
        },
        "nteract": {
          "transient": {
            "deleting": false
          }
        }
      }
    },
    {
      "cell_type": "code",
      "source": [
        "F.to(u.N)"
      ],
      "outputs": [],
      "execution_count": null,
      "metadata": {
        "collapsed": true,
        "jupyter": {
          "source_hidden": false,
          "outputs_hidden": false
        },
        "nteract": {
          "transient": {
            "deleting": false
          }
        }
      }
    },
    {
      "cell_type": "code",
      "source": [
        "def FuerzaGravV0(peso,dist):\n",
        "    from astropy.constants import G\n",
        "    return (G*u.M_sun*peso)/dist**2\n"
      ],
      "outputs": [],
      "execution_count": null,
      "metadata": {
        "collapsed": true,
        "jupyter": {
          "source_hidden": false,
          "outputs_hidden": false
        },
        "nteract": {
          "transient": {
            "deleting": false
          }
        }
      }
    },
    {
      "cell_type": "code",
      "source": [
        "@u.quantity_input(peso = u.kg, dist = u.AU)\n",
        "def FuerzaGrav(peso,dist):\n",
        "    from astropy.constants import G\n",
        "    return ((G*u.M_sun*peso)/dist**2).to(u.N)"
      ],
      "outputs": [],
      "execution_count": null,
      "metadata": {
        "collapsed": true,
        "jupyter": {
          "source_hidden": false,
          "outputs_hidden": false
        },
        "nteract": {
          "transient": {
            "deleting": false
          }
        }
      }
    },
    {
      "cell_type": "code",
      "source": [
        "FuerzaGrav(1407*u.imperial.pound,141600000*u.imperial.mile)"
      ],
      "outputs": [],
      "execution_count": null,
      "metadata": {
        "collapsed": true,
        "jupyter": {
          "source_hidden": false,
          "outputs_hidden": false
        },
        "nteract": {
          "transient": {
            "deleting": false
          }
        }
      }
    },
    {
      "cell_type": "code",
      "source": [
        "@u.quantity_input(T = u.K)\n",
        "def LeyPlanck(T, nu = 299792.458):\n",
        "    from astropy.constants import c, k_B, h\n",
        "    x = u.Quantity(nu, u.Hz, dtype=np.float64)\n",
        "    bt = (2*h*x**3)/((c**2)*np.expm1(h*x/(k_B*T)))/u.sr\n",
        "    unidades = u.erg / (u.cm ** 2 * u.s * u.Hz * u.sr)\n",
        "    return bt.to(unidades)"
      ],
      "outputs": [],
      "execution_count": null,
      "metadata": {
        "collapsed": true,
        "jupyter": {
          "source_hidden": false,
          "outputs_hidden": false
        },
        "nteract": {
          "transient": {
            "deleting": false
          }
        }
      }
    },
    {
      "cell_type": "code",
      "source": [
        "from astropy.modeling import models\n",
        "CN = models.BlackBody(temperature=7000*u.K)\n",
        "CN(750000)"
      ],
      "outputs": [],
      "execution_count": null,
      "metadata": {
        "collapsed": true,
        "jupyter": {
          "source_hidden": false,
          "outputs_hidden": false
        },
        "nteract": {
          "transient": {
            "deleting": false
          }
        }
      }
    },
    {
      "cell_type": "code",
      "source": [
        "from astropy.coordinates import Angle\n",
        "ra = Angle(np.array(Zwicky['ra'])*u.degree)\n",
        "ra = ra.wrap_at(180*u.degree)\n",
        "dec = Angle(np.array(Zwicky['dec'])*u.degree)"
      ],
      "outputs": [],
      "execution_count": null,
      "metadata": {
        "collapsed": true,
        "jupyter": {
          "source_hidden": false,
          "outputs_hidden": false
        },
        "nteract": {
          "transient": {
            "deleting": false
          }
        }
      }
    },
    {
      "cell_type": "code",
      "source": [
        "fig = plt.figure()\n",
        "ax = fig.add_subplot(111, projection=\"aitoff\")\n",
        "ax.scatter(ra.radian, dec.radian, s=4, alpha=.7, marker='.',\\\n",
        "           zorder=-1, color='k')\n",
        "ax.grid(True)"
      ],
      "outputs": [],
      "execution_count": null,
      "metadata": {
        "collapsed": true,
        "jupyter": {
          "source_hidden": false,
          "outputs_hidden": false
        },
        "nteract": {
          "transient": {
            "deleting": false
          }
        }
      }
    },
    {
      "cell_type": "code",
      "source": [
        "pag0 = 'https://heasarc.gsfc.nasa.gov/docs/rosat/survey/sxrb/'\n",
        "ROSAT = fits.open(pag0+'rass_m.fits')"
      ],
      "outputs": [],
      "execution_count": null,
      "metadata": {
        "collapsed": true,
        "jupyter": {
          "source_hidden": false,
          "outputs_hidden": false
        },
        "nteract": {
          "transient": {
            "deleting": false
          }
        }
      }
    },
    {
      "cell_type": "code",
      "source": [
        "enc_ROSAT = fits.getheader(pag0+'rass_m.fits')\n",
        "enc_ROSAT['HISTORY'][37:43]"
      ],
      "outputs": [],
      "execution_count": null,
      "metadata": {
        "collapsed": true,
        "jupyter": {
          "source_hidden": false,
          "outputs_hidden": false
        },
        "nteract": {
          "transient": {
            "deleting": false
          }
        }
      }
    },
    {
      "cell_type": "code",
      "source": [
        "imag_ROSAT = ROSAT[0].data\n",
        "fig = plt.figure()\n",
        "ax = fig.add_subplot(111)\n",
        "ax.imshow(imag_ROSAT, cmap='gray', origin='lower', vmin=0,\\\n",
        "          vmax=500.)\n",
        "ax.set_xticklabels('')\n",
        "ax.set_yticklabels('')"
      ],
      "outputs": [],
      "execution_count": null,
      "metadata": {
        "collapsed": true,
        "jupyter": {
          "source_hidden": false,
          "outputs_hidden": false
        },
        "nteract": {
          "transient": {
            "deleting": false
          }
        }
      }
    },
    {
      "cell_type": "code",
      "source": [
        "HCG92_coord = coord.SkyCoord.from_name('HCG 92')"
      ],
      "outputs": [],
      "execution_count": null,
      "metadata": {
        "collapsed": true,
        "jupyter": {
          "source_hidden": false,
          "outputs_hidden": false
        },
        "nteract": {
          "transient": {
            "deleting": false
          }
        }
      }
    },
    {
      "cell_type": "code",
      "source": [
        "HCG92_coord.transform_to('galactic')"
      ],
      "outputs": [],
      "execution_count": null,
      "metadata": {
        "collapsed": true,
        "jupyter": {
          "source_hidden": false,
          "outputs_hidden": false
        },
        "nteract": {
          "transient": {
            "deleting": false
          }
        }
      }
    },
    {
      "cell_type": "code",
      "source": [
        "HCG92_coord.ra\n",
        "HCG92_coord.ra.to(u.hourangle)\n",
        "HCG92_coord.ra.to(u.radian)\n",
        "HCG92_coord.ra.hour, HCG92_coord.ra.deg, HCG92_coord.ra.rad\n",
        "HCG92_coord.to_string('hmsdms', sep=':', precision=1)"
      ],
      "outputs": [],
      "execution_count": null,
      "metadata": {
        "collapsed": true,
        "jupyter": {
          "source_hidden": false,
          "outputs_hidden": false
        },
        "nteract": {
          "transient": {
            "deleting": false
          }
        }
      }
    },
    {
      "cell_type": "markdown",
      "source": [
        "## Tablas de datos"
      ],
      "metadata": {
        "nteract": {
          "transient": {
            "deleting": false
          }
        }
      }
    },
    {
      "cell_type": "code",
      "source": [
        "t0 = Table()\n",
        "t0['nombres'] = ['G1', 'G2', 'G3', 'G4']\n",
        "t0['Lum'] = [2.2, 2.4, 0.6, 0.8]\n"
      ],
      "outputs": [],
      "execution_count": null,
      "metadata": {
        "collapsed": true,
        "jupyter": {
          "source_hidden": false,
          "outputs_hidden": false
        },
        "nteract": {
          "transient": {
            "deleting": false
          }
        }
      }
    },
    {
      "cell_type": "code",
      "source": [
        "t0.columns\n",
        "t0.dtype\n",
        "t0['Lum']\n",
        "t0['Lum'][3]\n",
        "t0[0:2]\n",
        "t0[t0['Lum']>2]\n"
      ],
      "outputs": [],
      "execution_count": null,
      "metadata": {
        "collapsed": true,
        "jupyter": {
          "source_hidden": false,
          "outputs_hidden": false
        },
        "nteract": {
          "transient": {
            "deleting": false
          }
        }
      }
    },
    {
      "cell_type": "code",
      "source": [
        "t0[0]\n",
        "t0[1]['Lum']\n"
      ],
      "outputs": [],
      "execution_count": null,
      "metadata": {
        "collapsed": true,
        "jupyter": {
          "source_hidden": false,
          "outputs_hidden": false
        },
        "nteract": {
          "transient": {
            "deleting": false
          }
        }
      }
    },
    {
      "cell_type": "code",
      "source": [
        "t0.add_row(('G5', 3.08))\n",
        "t0['InvLum'] = 1/t0['Lum']\n",
        "t0['Eliminar'] = t0['InvLum']  + t0['Lum']\n",
        "t0['Eliminar2'] = np.log(t0['Eliminar'])\n",
        "t0['Eliminar3'] = t0['Eliminar']/2"
      ],
      "outputs": [],
      "execution_count": null,
      "metadata": {
        "collapsed": true,
        "jupyter": {
          "source_hidden": false,
          "outputs_hidden": false
        },
        "nteract": {
          "transient": {
            "deleting": false
          }
        }
      }
    },
    {
      "cell_type": "code",
      "source": [
        "t0.insert_row(3,('G6', 2, .05, 2.05,np.log(2), 1.025))"
      ],
      "outputs": [],
      "execution_count": null,
      "metadata": {
        "collapsed": true,
        "jupyter": {
          "source_hidden": false,
          "outputs_hidden": false
        },
        "nteract": {
          "transient": {
            "deleting": false
          }
        }
      }
    },
    {
      "cell_type": "code",
      "source": [
        "t0.remove_column('Eliminar')\n",
        "t0.remove_columns(['Eliminar2','Eliminar3'])\n"
      ],
      "outputs": [],
      "execution_count": null,
      "metadata": {
        "collapsed": true,
        "jupyter": {
          "source_hidden": false,
          "outputs_hidden": false
        },
        "nteract": {
          "transient": {
            "deleting": false
          }
        }
      }
    },
    {
      "cell_type": "code",
      "source": [
        "t0['InvLum'].format = '%.2f'\n",
        "t0['Lum'].format = '%.2f'\n"
      ],
      "outputs": [],
      "execution_count": null,
      "metadata": {
        "collapsed": true,
        "jupyter": {
          "source_hidden": false,
          "outputs_hidden": false
        },
        "nteract": {
          "transient": {
            "deleting": false
          }
        }
      }
    },
    {
      "cell_type": "code",
      "source": [
        "t0['veloc'] = [2,3,4.5,3.4,6,1.0]* u.m/u.s\n",
        "t0['dist'] = [2.3,4.5,5,1.3,1.2,2.4]* u.m\n"
      ],
      "outputs": [],
      "execution_count": null,
      "metadata": {
        "collapsed": true,
        "jupyter": {
          "source_hidden": false,
          "outputs_hidden": false
        },
        "nteract": {
          "transient": {
            "deleting": false
          }
        }
      }
    },
    {
      "cell_type": "code",
      "source": [
        "t0['Lum'].unit = 'W'"
      ],
      "outputs": [],
      "execution_count": null,
      "metadata": {
        "collapsed": true,
        "jupyter": {
          "source_hidden": false,
          "outputs_hidden": false
        },
        "nteract": {
          "transient": {
            "deleting": false
          }
        }
      }
    },
    {
      "cell_type": "code",
      "source": [
        "SS_unid = Table.from_pandas(SS)\n",
        "col_unidades = SS.columns.drop(['Objeto',\\\n",
        "              'Orbital Eccentricity','Ring System?',\\\n",
        "               'Global Magnetic Field?', 'Number of Moons'])\n",
        "unidades = ['kg', 'km', 'kg/m**3', 'm/s**2', 'km/s', 'hour',\n",
        "            'hour', 'km', 'km', 'km', 'day', 'km/s', 'degree',\n",
        "            'degree', 'deg_C', 'Ba']\n",
        "for i,j in enumerate(col_unidades):\n",
        "    SS_unid[j].unit = unidades[i]"
      ],
      "outputs": [],
      "execution_count": null,
      "metadata": {
        "collapsed": true,
        "jupyter": {
          "source_hidden": false,
          "outputs_hidden": false
        },
        "nteract": {
          "transient": {
            "deleting": false
          }
        }
      }
    },
    {
      "cell_type": "code",
      "source": [
        "from astroquery.sdss import SDSS\n",
        "coorden = SkyCoord(18.23171046,0.98136156, unit=u.degree)\n",
        "bus_var = ['ra', 'dec', 'psfMag_g', 'psfMagErr_g', 'psfMag_r',\n",
        "            'psfMagErr_r','psfMag_i', 'psfMagErr_i','psfMag_z',\n",
        "            'psfMagErr_z']\n",
        "busqueda = SDSS.query_crossid(coorden, photoobj_fields=bus_var)"
      ],
      "outputs": [],
      "execution_count": null,
      "metadata": {
        "collapsed": true,
        "jupyter": {
          "source_hidden": false,
          "outputs_hidden": false
        },
        "nteract": {
          "transient": {
            "deleting": false
          }
        }
      }
    },
    {
      "cell_type": "code",
      "source": [
        "Objetos = Table.read(paginaD+'FGal.tbl', format='ascii.ipac')\n",
        "coorden = SkyCoord(Objetos['ra'], Objetos['dec'], unit=u.degree)\n",
        "busqueda= SDSS.query_crossid(coorden,obj_names=Objetos['nombre'])"
      ],
      "outputs": [],
      "execution_count": null,
      "metadata": {
        "collapsed": true,
        "jupyter": {
          "source_hidden": false,
          "outputs_hidden": false
        },
        "nteract": {
          "transient": {
            "deleting": false
          }
        }
      }
    },
    {
      "cell_type": "code",
      "source": [
        "from astropy.table import join\n",
        "busqueda.rename_column('obj_id', 'nombre')\n",
        "resultado= join(Objetos,busqueda, keys='nombre',join_type='left')"
      ],
      "outputs": [],
      "execution_count": null,
      "metadata": {
        "collapsed": true,
        "jupyter": {
          "source_hidden": false,
          "outputs_hidden": false
        },
        "nteract": {
          "transient": {
            "deleting": false
          }
        }
      }
    },
    {
      "cell_type": "code",
      "source": [
        "resultado['gz'] = resultado['psfMag_g']-resultado['psfMag_z']\n",
        "resultado[['nombre', 'gz','J']]"
      ],
      "outputs": [],
      "execution_count": null,
      "metadata": {
        "collapsed": true,
        "jupyter": {
          "source_hidden": false,
          "outputs_hidden": false
        },
        "nteract": {
          "transient": {
            "deleting": false
          }
        }
      }
    },
    {
      "cell_type": "code",
      "source": [
        "UGC10214_coord = SkyCoord.from_name('UGC 10214')\n",
        "UGC10214_2mass = Table.read('UGC10214.tbl', format='ascii.ipac')\n"
      ],
      "outputs": [],
      "execution_count": null,
      "metadata": {
        "collapsed": true,
        "jupyter": {
          "source_hidden": false,
          "outputs_hidden": false
        },
        "nteract": {
          "transient": {
            "deleting": false
          }
        }
      }
    },
    {
      "cell_type": "code",
      "source": [
        "from astroquery.sdss import SDSS\n",
        "UGC10214_sdss = SDSS.query_region(coordinates=UGC10214_coord,\\\n",
        "                         radius=20*u.arcmin,\\\n",
        "                         photoobj_fields=['ra','dec','u','g',\\\n",
        "                                          'r','i','z'])\n"
      ],
      "outputs": [],
      "execution_count": null,
      "metadata": {
        "collapsed": true,
        "jupyter": {
          "source_hidden": false,
          "outputs_hidden": false
        },
        "nteract": {
          "transient": {
            "deleting": false
          }
        }
      }
    },
    {
      "cell_type": "code",
      "source": [
        "UGC10214_sdss = SDSS.query_region(coordinates=UGC10214_coord,\\\n",
        "                         radius=40*u.arcmin,\\\n",
        "                         photoobj_fields=['ra','dec','u','g',\\\n",
        "                                          'r','i','z'])"
      ],
      "outputs": [],
      "execution_count": null,
      "metadata": {
        "collapsed": true,
        "jupyter": {
          "source_hidden": false,
          "outputs_hidden": false
        },
        "nteract": {
          "transient": {
            "deleting": false
          }
        }
      }
    },
    {
      "cell_type": "code",
      "source": [
        "separacion =  UGC10214_coord.separation(C_sdss)\n",
        "mascara = C_sdss[separacion.to_value() < (1/3)]\n",
        "fig, ax = plt.subplots(1,1,figsize = (10, 10))\n",
        "ax.scatter(mascara.ra, mascara.dec, color='gray',\\\n",
        "           marker='.', label='SDSS',alpha=.7)\n",
        "ax.scatter(C_2mass.ra, C_2mass.dec, color='k', marker=\"*\",\n",
        "           label='2MASS')\n",
        "ax.set_xlabel(r'Ascención recta, $\\alpha$ (grados)')\n",
        "ax.set_ylabel(r'Declinación, $\\delta$ (grados)')\n",
        "ax.legend(loc='lower right')"
      ],
      "outputs": [],
      "execution_count": null,
      "metadata": {
        "collapsed": true,
        "jupyter": {
          "source_hidden": false,
          "outputs_hidden": false
        },
        "nteract": {
          "transient": {
            "deleting": false
          }
        }
      }
    },
    {
      "cell_type": "code",
      "source": [
        "C_sdss = SkyCoord(UGC10214_sdss['ra']*u.deg,\\\n",
        "                  UGC10214_sdss['dec']*u.deg)\n",
        "C_2mass = SkyCoord(UGC10214_2mass['ra'],\\\n",
        "                 UGC10214_2mass['dec'])\n",
        "empates = C_2mass.match_to_catalog_sky(C_sdss)"
      ],
      "outputs": [],
      "execution_count": null,
      "metadata": {
        "collapsed": true,
        "jupyter": {
          "source_hidden": false,
          "outputs_hidden": false
        },
        "nteract": {
          "transient": {
            "deleting": false
          }
        }
      }
    },
    {
      "cell_type": "code",
      "source": [
        "id = empates[0][empates[1].arcsec <= 1.0]\n",
        "r_Mag = UGC10214_sdss['r'][id]\n",
        "rH_color = r_Mag-(UGC10214_2mass['h_m'])[empates[1].arcsec<= 1.0]\n",
        "gr_color = UGC10214_sdss['g'][id] - r_Mag\n",
        "positivos = (r_Mag > 0)&(rH_color>0)&(gr_color>0)\n",
        "plt.scatter(rH_color[positivos], gr_color[positivos], color='k')\n",
        "plt.xlabel('r-H')\n",
        "plt.ylabel('g-r')"
      ],
      "outputs": [],
      "execution_count": null,
      "metadata": {
        "collapsed": true,
        "jupyter": {
          "source_hidden": false,
          "outputs_hidden": false
        },
        "nteract": {
          "transient": {
            "deleting": false
          }
        }
      }
    },
    {
      "cell_type": "code",
      "source": [
        "i = 1\n",
        "espectros = []\n",
        "fibras = []\n",
        "while i < 641:\n",
        "    try:\n",
        "        espectros.append(SDSS.get_spectra(plate=266,\\\n",
        "                    fiberID=i, mjd=51630)[0])\n",
        "        fibras.append(i)\n",
        "        i +=1\n",
        "    except:\n",
        "        i +=1"
      ],
      "outputs": [],
      "execution_count": null,
      "metadata": {
        "collapsed": true,
        "jupyter": {
          "source_hidden": false,
          "outputs_hidden": false
        },
        "nteract": {
          "transient": {
            "deleting": false
          }
        }
      }
    },
    {
      "cell_type": "code",
      "source": [
        "flujo = [ (x[1].data['flux']) for x in espectros]"
      ],
      "outputs": [],
      "execution_count": null,
      "metadata": {
        "collapsed": true,
        "jupyter": {
          "source_hidden": false,
          "outputs_hidden": false
        },
        "nteract": {
          "transient": {
            "deleting": false
          }
        }
      }
    },
    {
      "cell_type": "code",
      "source": [
        "lam = [10**(x[1].data['loglam']) for x in espectros]"
      ],
      "outputs": [],
      "execution_count": null,
      "metadata": {
        "collapsed": true,
        "jupyter": {
          "source_hidden": false,
          "outputs_hidden": false
        },
        "nteract": {
          "transient": {
            "deleting": false
          }
        }
      }
    },
    {
      "cell_type": "code",
      "source": [
        "import statsmodels.api as sm\n",
        "lowess = sm.nonparametric.lowess\n",
        "m = 6563\n",
        "modelo = models.Gaussian1D(40, m, 100)\n",
        "modelo.mean.max = m + 200\n",
        "modelo.mean.min = m - 200\n",
        "metodo = fitting.LevMarLSQFitter()"
      ],
      "outputs": [],
      "execution_count": null,
      "metadata": {
        "collapsed": true,
        "jupyter": {
          "source_hidden": false,
          "outputs_hidden": false
        },
        "nteract": {
          "transient": {
            "deleting": false
          }
        }
      }
    },
    {
      "cell_type": "code",
      "source": [
        "mG = [lowess(f,l,frac=1/5) for f,l in zip(flujo,lam)]\n",
        "ajuste = [metodo(modelo,z[:,0],f-z[:,1])\\\n",
        "                           for f,z in zip(flujo, mG)]"
      ],
      "outputs": [],
      "execution_count": null,
      "metadata": {
        "collapsed": true,
        "jupyter": {
          "source_hidden": false,
          "outputs_hidden": false
        },
        "nteract": {
          "transient": {
            "deleting": false
          }
        }
      }
    },
    {
      "cell_type": "code",
      "source": [
        "import pandas as pd\n",
        "import seaborn as sns\n",
        "param_ModGauss = pd.DataFrame([x.parameters for x in ajuste])\n",
        "param_ModGauss.columns = ['A', 'mu', 'sd']\n",
        "param_ModGauss['Pico'] = (np.abs(param_ModGauss['A'])< 100)&\\\n",
        "                     (np.abs(param_ModGauss['A'])> 5)&\\\n",
        "                     (param_ModGauss['sd']> 1)&\\\n",
        "                     (param_ModGauss['sd']< 100)\n",
        "f, ax = plt.subplots(figsize=(7, 7))\n",
        "ax.set_xlim(-55,55)\n",
        "ax.set_ylim(0.1,50)\n",
        "ax.set(xlabel=\"Amplitud\", ylabel=\"Desviación estándar\")\n",
        "for i in range(param_ModGauss.shape[0]):\n",
        "    if param_ModGauss['Pico'][i]:\n",
        "        ax.annotate(xy=(param_ModGauss['A'][i]-2,\\\n",
        "                        param_ModGauss['sd'][i]+1),\\\n",
        "                        s=str(fibras[i]), fontsize=14)\n",
        "sns.scatterplot('A', 'sd', style='Pico',data=param_ModGauss,\\\n",
        "                ax = ax, color='k', legend=False)"
      ],
      "outputs": [],
      "execution_count": null,
      "metadata": {
        "collapsed": true,
        "jupyter": {
          "source_hidden": false,
          "outputs_hidden": false
        },
        "nteract": {
          "transient": {
            "deleting": false
          }
        }
      }
    }
  ],
  "metadata": {
    "kernel_info": {
      "name": "python3"
    },
    "language_info": {
      "name": "python3"
    },
    "kernelspec": {
      "argv": [
        "/opt/anaconda3/bin/python3",
        "-m",
        "ipykernel_launcher",
        "-f",
        "{connection_file}"
      ],
      "display_name": "Python 3",
      "language": "python",
      "name": "python3"
    },
    "nteract": {
      "version": "0.28.0"
    }
  },
  "nbformat": 4,
  "nbformat_minor": 0
}