{
  "cells": [
    {
      "cell_type": "markdown",
      "source": [
        "# Ciclos"
      ],
      "metadata": {
        "nteract": {
          "transient": {
            "deleting": false
          }
        }
      }
    },
    {
      "cell_type": "code",
      "source": [
        "import math\n",
        "def signo(x):\n",
        "    return x and (1-2*(x<0))"
      ],
      "outputs": [],
      "execution_count": null,
      "metadata": {
        "collapsed": true,
        "jupyter": {
          "source_hidden": false,
          "outputs_hidden": false
        },
        "nteract": {
          "transient": {
            "deleting": false
          }
        },
        "execution": {
          "iopub.status.busy": "2021-06-17T20:34:29.471Z",
          "iopub.execute_input": "2021-06-17T20:34:29.484Z",
          "iopub.status.idle": "2021-06-17T20:34:29.506Z",
          "shell.execute_reply": "2021-06-17T20:34:29.520Z"
        }
      }
    },
    {
      "cell_type": "markdown",
      "source": [
        "## Problemas Centrales"
      ],
      "metadata": {
        "nteract": {
          "transient": {
            "deleting": false
          }
        }
      }
    },
    {
      "cell_type": "code",
      "source": [
        "A = [[4. , 3.8, 4. , 4.2, 4. , 3.8, 3.9, 4.1, 4.1],\n",
        "     [4.4, 4.1, 3.8, 3.9, 4.1, 4.1, 4. , 4.1, 4.2],\n",
        "     [4.4, 4.6, 4.2, 3.8, 3.9, 4.1, 4. , 4.2, 4.5],\n",
        "     [4.1, 4.3, 4.4, 4.1, 3.8, 3.9, 4.1, 4.1, 4.5],\n",
        "     [4.1, 4.2, 4.2, 4.2, 4.1, 4.1, 4.3, 4.4, 4.6],\n",
        "     [4.3, 4.4, 4.3, 4.3, 4.2, 4.1, 4.1, 4.5, 4.9],\n",
        "     [4.4, 4.2, 4.1, 4.1, 3.8, 3.7, 4. , 4.3, 5.2],\n",
        "     [4.5, 4.7, 4.5, 4.2, 4.2, 3.8, 4. , 4.5, 5.1],\n",
        "     [4.3, 4.4, 4.5, 4.5, 4.4, 4.2, 4. , 4.5, 5.3]]"
      ],
      "outputs": [],
      "execution_count": null,
      "metadata": {
        "collapsed": true,
        "jupyter": {
          "source_hidden": false,
          "outputs_hidden": false
        },
        "nteract": {
          "transient": {
            "deleting": false
          }
        },
        "execution": {
          "iopub.status.busy": "2021-06-17T20:30:15.896Z",
          "iopub.execute_input": "2021-06-17T20:30:15.910Z",
          "iopub.status.idle": "2021-06-17T20:30:15.928Z",
          "shell.execute_reply": "2021-06-17T20:30:15.939Z"
        }
      }
    },
    {
      "cell_type": "code",
      "source": [
        "import matplotlib.pyplot as plt\n",
        "plt.imshow(A, cmap=plt.cm.gray)\n",
        "plt.axis('off')"
      ],
      "outputs": [],
      "execution_count": null,
      "metadata": {
        "collapsed": true,
        "jupyter": {
          "source_hidden": false,
          "outputs_hidden": false
        },
        "nteract": {
          "transient": {
            "deleting": false
          }
        },
        "execution": {
          "iopub.status.busy": "2021-06-17T20:30:17.417Z",
          "iopub.execute_input": "2021-06-17T20:30:17.432Z",
          "iopub.status.idle": "2021-06-17T20:30:18.215Z",
          "shell.execute_reply": "2021-06-17T20:30:18.230Z"
        }
      }
    },
    {
      "cell_type": "markdown",
      "source": [
        "## Ciclos *for*"
      ],
      "metadata": {
        "nteract": {
          "transient": {
            "deleting": false
          }
        }
      }
    },
    {
      "cell_type": "code",
      "source": [
        "secuenciaADN = \"ACCTTTGTTAACCACACTAG\"\n",
        "frecuencia = [0,0,0,0]      # inicialización de la lista de\n",
        "                            # frecuencias\n",
        "for i in secuenciaADN:      # se itera sobre la secuencia de ADN\n",
        "    if i == \"A\":            # determinar el tipo de nucleótido\n",
        "        frecuencia[0] += 1\n",
        "    elif i == \"C\":\n",
        "       frecuencia[1] += 1\n",
        "    elif i == \"G\":\n",
        "       frecuencia[2] += 1\n",
        "    else:\n",
        "       frecuencia[3] += 1\n",
        "print(frecuencia)"
      ],
      "outputs": [],
      "execution_count": null,
      "metadata": {
        "collapsed": true,
        "jupyter": {
          "source_hidden": false,
          "outputs_hidden": false
        },
        "nteract": {
          "transient": {
            "deleting": false
          }
        },
        "execution": {
          "iopub.status.busy": "2021-06-17T20:30:28.711Z",
          "iopub.execute_input": "2021-06-17T20:30:28.727Z",
          "iopub.status.idle": "2021-06-17T20:30:28.764Z",
          "shell.execute_reply": "2021-06-17T20:30:28.777Z"
        }
      }
    },
    {
      "cell_type": "code",
      "source": [
        "def ConteoNucleotidos(S, nucleotidos = 'ACGT'):\n",
        "    Frecuencias = []\n",
        "    S = S.upper()\n",
        "    for n in nucleotidos.upper():\n",
        "        Frecuencias.append(S.count(n))\n",
        "    return Frecuencias\n",
        "\n",
        "ConteoNucleotidos(secuenciaADN)"
      ],
      "outputs": [],
      "execution_count": null,
      "metadata": {
        "collapsed": true,
        "jupyter": {
          "source_hidden": false,
          "outputs_hidden": false
        },
        "nteract": {
          "transient": {
            "deleting": false
          }
        },
        "execution": {
          "iopub.status.busy": "2021-06-17T20:30:34.019Z",
          "iopub.execute_input": "2021-06-17T20:30:34.033Z",
          "iopub.status.idle": "2021-06-17T20:30:34.060Z",
          "shell.execute_reply": "2021-06-17T20:30:34.074Z"
        }
      }
    },
    {
      "cell_type": "code",
      "source": [
        "def ConteoNucleotidosL(S, nucleotidos = 'ACGT'):\n",
        "    S = S.upper()\n",
        "    Frecuencias = {}\n",
        "    for n in nucleotidos.upper():\n",
        "        Frecuencias[n] = S.count(n)\n",
        "    return Frecuencias\n",
        "\n",
        "ConteoNucleotidosL(secuenciaADN)"
      ],
      "outputs": [],
      "execution_count": null,
      "metadata": {
        "collapsed": true,
        "jupyter": {
          "source_hidden": false,
          "outputs_hidden": false
        },
        "nteract": {
          "transient": {
            "deleting": false
          }
        },
        "execution": {
          "iopub.status.busy": "2021-06-17T20:30:36.218Z",
          "iopub.execute_input": "2021-06-17T20:30:36.231Z",
          "iopub.status.idle": "2021-06-17T20:30:36.262Z",
          "shell.execute_reply": "2021-06-17T20:30:36.275Z"
        }
      }
    },
    {
      "cell_type": "code",
      "source": [
        "def multiplicacionListas(lista1,lista2):\n",
        "    l = []\n",
        "    suma = 0\n",
        "    if len(lista1)==len(lista2):\n",
        "        for i in range(len(lista1)):\n",
        "            l.append(lista1[i]*lista2[i])\n",
        "            suma += l[i]\n",
        "        print(\"La suma del producto de los elementos es\", suma)\n",
        "    else:\n",
        "        print(\"Listas con distintas longitudes\")\n",
        "    return l"
      ],
      "outputs": [],
      "execution_count": null,
      "metadata": {
        "collapsed": true,
        "jupyter": {
          "source_hidden": false,
          "outputs_hidden": false
        },
        "nteract": {
          "transient": {
            "deleting": false
          }
        },
        "execution": {
          "iopub.status.busy": "2021-06-17T20:30:38.104Z",
          "iopub.execute_input": "2021-06-17T20:30:38.116Z",
          "iopub.status.idle": "2021-06-17T20:30:38.136Z",
          "shell.execute_reply": "2021-06-17T20:30:38.146Z"
        }
      }
    },
    {
      "cell_type": "code",
      "source": [
        "def promedioMatriz(matrizOriginal):\n",
        "    n = len(matrizOriginal)         # número de filas\n",
        "    m = len(matrizOriginal[0])      # número de columnas\n",
        "    suma = 0                        # inicialización de la suma\n",
        "    for i in range(n):\n",
        "        for j in range(m):\n",
        "            suma += matrizOriginal[i][j] # suma sobre todo los\n",
        "                                         # elementos de la lista\n",
        "    return suma/(n*m)"
      ],
      "outputs": [],
      "execution_count": null,
      "metadata": {
        "collapsed": true,
        "jupyter": {
          "source_hidden": false,
          "outputs_hidden": false
        },
        "nteract": {
          "transient": {
            "deleting": false
          }
        },
        "execution": {
          "iopub.status.busy": "2021-06-17T20:30:41.730Z",
          "iopub.execute_input": "2021-06-17T20:30:41.744Z",
          "iopub.status.idle": "2021-06-17T20:30:41.760Z",
          "shell.execute_reply": "2021-06-17T20:30:41.770Z"
        }
      }
    },
    {
      "cell_type": "code",
      "source": [
        "listaInicial = [2,3.5,-2,-4.5, 4, 5, -3.5,7]\n",
        "listaRaizCuadrada = [ math.sqrt(abs(i)) for i in listaInicial]"
      ],
      "outputs": [],
      "execution_count": null,
      "metadata": {
        "collapsed": true,
        "jupyter": {
          "source_hidden": false,
          "outputs_hidden": false
        },
        "nteract": {
          "transient": {
            "deleting": false
          }
        },
        "execution": {
          "iopub.status.busy": "2021-06-17T20:31:08.904Z",
          "iopub.execute_input": "2021-06-17T20:31:08.918Z",
          "iopub.status.idle": "2021-06-17T20:31:08.938Z",
          "shell.execute_reply": "2021-06-17T20:31:08.949Z"
        }
      }
    },
    {
      "cell_type": "code",
      "source": [
        "lRaizCuadradaPos = [ math.sqrt(i) for i in listaInicial if i > 0]"
      ],
      "outputs": [],
      "execution_count": null,
      "metadata": {
        "collapsed": true,
        "jupyter": {
          "source_hidden": false,
          "outputs_hidden": false
        },
        "nteract": {
          "transient": {
            "deleting": false
          }
        },
        "execution": {
          "iopub.status.busy": "2021-06-17T20:31:10.707Z",
          "iopub.execute_input": "2021-06-17T20:31:10.718Z",
          "iopub.status.idle": "2021-06-17T20:31:10.736Z",
          "shell.execute_reply": "2021-06-17T20:31:10.747Z"
        }
      }
    },
    {
      "cell_type": "code",
      "source": [
        "lista1 = [3,2,4,7,5]\n",
        "lista2 = [9,3,4,6,1]\n",
        "multiplicacion = [i*j for i,j in zip(lista1,lista2)]"
      ],
      "outputs": [],
      "execution_count": null,
      "metadata": {
        "collapsed": true,
        "jupyter": {
          "source_hidden": false,
          "outputs_hidden": false
        },
        "nteract": {
          "transient": {
            "deleting": false
          }
        },
        "execution": {
          "iopub.status.busy": "2021-06-17T20:31:12.778Z",
          "iopub.execute_input": "2021-06-17T20:31:12.789Z",
          "iopub.status.idle": "2021-06-17T20:31:12.810Z",
          "shell.execute_reply": "2021-06-17T20:31:12.822Z"
        }
      }
    },
    {
      "cell_type": "code",
      "source": [
        "def multiplicacionListas(lista1,lista2):\n",
        "    if len(lista1)==len(lista2):\n",
        "        l = [i*j for i,j in zip(lista1,lista2)]\n",
        "        print(\"La suma del producto de los elementos es\", sum(l))\n",
        "    else:\n",
        "        print(\"Listas con distintas longitudes\")\n",
        "        l = None\n",
        "    return l\n"
      ],
      "outputs": [],
      "execution_count": null,
      "metadata": {
        "collapsed": true,
        "jupyter": {
          "source_hidden": false,
          "outputs_hidden": false
        },
        "nteract": {
          "transient": {
            "deleting": false
          }
        },
        "execution": {
          "iopub.status.busy": "2021-06-17T20:31:14.416Z",
          "iopub.execute_input": "2021-06-17T20:31:14.511Z",
          "iopub.status.idle": "2021-06-17T20:31:14.527Z",
          "shell.execute_reply": "2021-06-17T20:31:14.537Z"
        }
      }
    },
    {
      "cell_type": "code",
      "source": [
        "[ [ j*i for i in lista1 ] for j in range(1,8)]"
      ],
      "outputs": [],
      "execution_count": null,
      "metadata": {
        "collapsed": true,
        "jupyter": {
          "source_hidden": false,
          "outputs_hidden": false
        },
        "nteract": {
          "transient": {
            "deleting": false
          }
        },
        "execution": {
          "iopub.status.busy": "2021-06-17T20:31:16.551Z",
          "iopub.execute_input": "2021-06-17T20:31:16.561Z",
          "iopub.status.idle": "2021-06-17T20:31:16.585Z",
          "shell.execute_reply": "2021-06-17T20:31:16.597Z"
        }
      }
    },
    {
      "cell_type": "code",
      "source": [
        "promedioA = promedioMatriz(A)\n",
        "B = [[promedioA for i in range(len(A)+2)] \\\n",
        "      for j in range(len(A[0])+2)]\n",
        "for i in range(len(A)):\n",
        "   for j in range(len(A[0])):\n",
        "      B[i+1][j+1] = A[i][j]\n"
      ],
      "outputs": [],
      "execution_count": null,
      "metadata": {
        "collapsed": true,
        "jupyter": {
          "source_hidden": false,
          "outputs_hidden": false
        },
        "nteract": {
          "transient": {
            "deleting": false
          }
        },
        "execution": {
          "iopub.status.busy": "2021-06-17T20:31:19.650Z",
          "iopub.execute_input": "2021-06-17T20:31:19.661Z",
          "iopub.status.idle": "2021-06-17T20:31:19.681Z",
          "shell.execute_reply": "2021-06-17T20:31:19.693Z"
        }
      }
    },
    {
      "cell_type": "code",
      "source": [
        "def imagenBorrosa(matOrig):\n",
        "    n = len(matOrig)\n",
        "    m = len(matOrig[0])\n",
        "    promedio = promedioMatriz(matOrig)\n",
        "    # Inicialización de las matrices B y C\n",
        "    B = [[promedio for j in range(m+2)] for i in range(n+2)]\n",
        "    C = [[matOrig[i][j] for j in range(m)] for i in range(n)]\n",
        "    for i in range(n):            # Creación matriz aumentada\n",
        "        for j in range(m):\n",
        "            B[i+1][j+1] = matOrig[i][j]\n",
        "    for i in range(n):            # Cálculo del filtro\n",
        "        for j in range(m):\n",
        "            Bij = [[B[k][l] for k in range(i,i+3)] \\\n",
        "                    for l in range(j,j+3)]\n",
        "            C[i][j] = promedioMatriz(Bij)\n",
        "    return(C)"
      ],
      "outputs": [],
      "execution_count": null,
      "metadata": {
        "collapsed": true,
        "jupyter": {
          "source_hidden": false,
          "outputs_hidden": false
        },
        "nteract": {
          "transient": {
            "deleting": false
          }
        },
        "execution": {
          "iopub.status.busy": "2021-06-17T20:31:21.840Z",
          "iopub.execute_input": "2021-06-17T20:31:21.851Z",
          "iopub.status.idle": "2021-06-17T20:31:21.871Z",
          "shell.execute_reply": "2021-06-17T20:31:21.884Z"
        }
      }
    },
    {
      "cell_type": "code",
      "source": [
        "plt.imshow(imagenBorrosa(A), cmap=plt.cm.gray)\n",
        "plt.axis('off')\n"
      ],
      "outputs": [],
      "execution_count": null,
      "metadata": {
        "collapsed": true,
        "jupyter": {
          "source_hidden": false,
          "outputs_hidden": false
        },
        "nteract": {
          "transient": {
            "deleting": false
          }
        },
        "execution": {
          "iopub.status.busy": "2021-06-17T20:31:23.758Z",
          "iopub.execute_input": "2021-06-17T20:31:23.769Z",
          "iopub.status.idle": "2021-06-17T20:31:23.800Z",
          "shell.execute_reply": "2021-06-17T20:31:23.834Z"
        }
      }
    },
    {
      "cell_type": "code",
      "source": [
        "def contenidoGC(S, W = 64, salto =32):\n",
        "    rhos = []\n",
        "    for k in range(0, len(S), salto):\n",
        "        conteos = ConteoNucleotidos(S[k:(k+W)])\n",
        "        cg = conteos[1]+conteos[2]\n",
        "        rhos.append(cg/(conteos[0]+conteos[3]+cg))\n",
        "    return rhos"
      ],
      "outputs": [],
      "execution_count": null,
      "metadata": {
        "collapsed": true,
        "jupyter": {
          "source_hidden": false,
          "outputs_hidden": false
        },
        "nteract": {
          "transient": {
            "deleting": false
          }
        },
        "execution": {
          "iopub.status.busy": "2021-06-17T20:31:29.941Z",
          "iopub.execute_input": "2021-06-17T20:31:29.954Z",
          "iopub.status.idle": "2021-06-17T20:31:29.974Z",
          "shell.execute_reply": "2021-06-17T20:31:29.984Z"
        }
      }
    },
    {
      "cell_type": "code",
      "source": [
        "conSeq1 = contenidoGC('TTGACCGATGACCCCGGTTCAGGCTTCACCACAGT',8,4)"
      ],
      "outputs": [],
      "execution_count": null,
      "metadata": {
        "collapsed": true,
        "jupyter": {
          "source_hidden": false,
          "outputs_hidden": false
        },
        "nteract": {
          "transient": {
            "deleting": false
          }
        },
        "execution": {
          "iopub.status.busy": "2021-06-17T20:31:31.399Z",
          "iopub.execute_input": "2021-06-17T20:31:31.412Z",
          "iopub.status.idle": "2021-06-17T20:31:31.431Z",
          "shell.execute_reply": "2021-06-17T20:31:31.443Z"
        }
      }
    },
    {
      "cell_type": "code",
      "source": [
        "import collections\n",
        "def ConteoNucleotidosC(S, nucleotidos = 'ACGT'):\n",
        "    Frecuencias = collections.Counter(S)\n",
        "    Fsel= {n:Frecuencias[n] for n in Frecuencias.keys()\\\n",
        "    & nucleotidos}\n",
        "    return Fsel"
      ],
      "outputs": [],
      "execution_count": null,
      "metadata": {
        "collapsed": true,
        "jupyter": {
          "source_hidden": false,
          "outputs_hidden": false
        },
        "nteract": {
          "transient": {
            "deleting": false
          }
        },
        "execution": {
          "iopub.status.busy": "2021-06-17T20:31:33.144Z",
          "iopub.execute_input": "2021-06-17T20:31:33.154Z",
          "iopub.status.idle": "2021-06-17T20:31:33.171Z",
          "shell.execute_reply": "2021-06-17T20:31:33.181Z"
        }
      }
    },
    {
      "cell_type": "code",
      "source": [
        "def contenidoGC2(S, W= 64, salto=32):\n",
        "    return [sum(ConteoNucleotidosC(S[k:(k+W)],'CG').values())\\\n",
        "            /len(S[k:(k+W)]) for k in range(0,len(S),salto)]"
      ],
      "outputs": [],
      "execution_count": null,
      "metadata": {
        "collapsed": true,
        "jupyter": {
          "source_hidden": false,
          "outputs_hidden": false
        },
        "nteract": {
          "transient": {
            "deleting": false
          }
        },
        "execution": {
          "iopub.status.busy": "2021-06-17T20:31:35.226Z",
          "iopub.execute_input": "2021-06-17T20:31:35.237Z",
          "iopub.status.idle": "2021-06-17T20:31:35.255Z",
          "shell.execute_reply": "2021-06-17T20:31:35.265Z"
        }
      }
    },
    {
      "cell_type": "code",
      "source": [
        "conSeq2=contenidoGC2('TTGACCGATGACCCCGGTTCAGGCTTCACCACAGT',8,4)"
      ],
      "outputs": [],
      "execution_count": null,
      "metadata": {
        "collapsed": true,
        "jupyter": {
          "source_hidden": false,
          "outputs_hidden": false
        },
        "nteract": {
          "transient": {
            "deleting": false
          }
        },
        "execution": {
          "iopub.status.busy": "2021-06-17T20:31:36.920Z",
          "iopub.execute_input": "2021-06-17T20:31:36.931Z",
          "iopub.status.idle": "2021-06-17T20:31:36.947Z",
          "shell.execute_reply": "2021-06-17T20:31:36.957Z"
        }
      }
    },
    {
      "cell_type": "code",
      "source": [
        "import os\n",
        "import urllib\n",
        "def lecturaGen(archivo):\n",
        "    if not os.path.isfile(archivo):\n",
        "        paginaD = 'https://alexrojas.netlify.app/Data/Prog/'\n",
        "        direccion = paginaD+archivo\n",
        "        with urllib.request.urlopen(direccion) as respuestaURL:\n",
        "            lineas = respuestaURL.readlines()\n",
        "    else:\n",
        "        with open(archivo) as archivoLocal:\n",
        "            lineas = archivoLocal.readlines()\n",
        "    gen = ''.join([l.strip().decode(\"utf-8\") for l in lineas])\n",
        "    return gen\n",
        "LCT = lecturaGen('LCT.txt')\n"
      ],
      "outputs": [],
      "execution_count": null,
      "metadata": {
        "collapsed": true,
        "jupyter": {
          "source_hidden": false,
          "outputs_hidden": false
        },
        "nteract": {
          "transient": {
            "deleting": false
          }
        },
        "execution": {
          "iopub.status.busy": "2021-06-17T20:32:45.940Z",
          "iopub.execute_input": "2021-06-17T20:32:45.956Z",
          "iopub.status.idle": "2021-06-17T20:32:47.079Z",
          "shell.execute_reply": "2021-06-17T20:32:47.093Z"
        }
      }
    },
    {
      "cell_type": "code",
      "source": [
        "LCT_GC = contenidoGC2(LCT, 1000,500)"
      ],
      "outputs": [],
      "execution_count": null,
      "metadata": {
        "collapsed": true,
        "jupyter": {
          "source_hidden": false,
          "outputs_hidden": false
        },
        "nteract": {
          "transient": {
            "deleting": false
          }
        },
        "execution": {
          "iopub.status.busy": "2021-06-17T20:32:49.627Z",
          "iopub.execute_input": "2021-06-17T20:32:49.641Z",
          "iopub.status.idle": "2021-06-17T20:32:49.658Z",
          "shell.execute_reply": "2021-06-17T20:32:49.669Z"
        }
      }
    },
    {
      "cell_type": "markdown",
      "source": [
        "## Ciclos *while*"
      ],
      "metadata": {
        "nteract": {
          "transient": {
            "deleting": false
          }
        }
      }
    },
    {
      "cell_type": "code",
      "source": [
        "for i in range(210):\n",
        "    if (107*i)%210 == 1:\n",
        "        k = i\n",
        "print(k)"
      ],
      "outputs": [],
      "execution_count": null,
      "metadata": {
        "collapsed": true,
        "jupyter": {
          "source_hidden": false,
          "outputs_hidden": false
        },
        "nteract": {
          "transient": {
            "deleting": false
          }
        },
        "execution": {
          "iopub.status.busy": "2021-06-17T20:32:54.745Z",
          "iopub.execute_input": "2021-06-17T20:32:54.757Z",
          "iopub.status.idle": "2021-06-17T20:32:54.864Z",
          "shell.execute_reply": "2021-06-17T20:32:54.876Z"
        }
      }
    },
    {
      "cell_type": "code",
      "source": [
        "k = 0\n",
        "while  (107*k)%210 != 1:\n",
        "    k += 1\n",
        "print(k)\n"
      ],
      "outputs": [],
      "execution_count": null,
      "metadata": {
        "collapsed": true,
        "jupyter": {
          "source_hidden": false,
          "outputs_hidden": false
        },
        "nteract": {
          "transient": {
            "deleting": false
          }
        },
        "execution": {
          "iopub.status.busy": "2021-06-17T20:32:56.666Z",
          "iopub.execute_input": "2021-06-17T20:32:56.678Z",
          "iopub.status.idle": "2021-06-17T20:32:56.701Z",
          "shell.execute_reply": "2021-06-17T20:32:56.712Z"
        }
      }
    },
    {
      "cell_type": "code",
      "source": [
        "def mcd0(a,b):\n",
        "    minAB = min(a,b)\n",
        "    maxComDiv = 1\n",
        "    for x in range(2,minAB+1):\n",
        "        if b%x == 0 and a%x == 0:\n",
        "            maxComDiv = x\n",
        "    return(maxComDiv)\n"
      ],
      "outputs": [],
      "execution_count": null,
      "metadata": {
        "collapsed": true,
        "jupyter": {
          "source_hidden": false,
          "outputs_hidden": false
        },
        "nteract": {
          "transient": {
            "deleting": false
          }
        },
        "execution": {
          "iopub.status.busy": "2021-06-17T20:32:58.545Z",
          "iopub.execute_input": "2021-06-17T20:32:58.556Z",
          "iopub.status.idle": "2021-06-17T20:32:58.574Z",
          "shell.execute_reply": "2021-06-17T20:32:58.584Z"
        }
      }
    },
    {
      "cell_type": "code",
      "source": [
        "def mcd1(a,b):\n",
        "    res = a%b\n",
        "    while res>0:\n",
        "        a = b\n",
        "        b = res\n",
        "        res = a%b\n",
        "    return(b)\n"
      ],
      "outputs": [],
      "execution_count": null,
      "metadata": {
        "collapsed": true,
        "jupyter": {
          "source_hidden": false,
          "outputs_hidden": false
        },
        "nteract": {
          "transient": {
            "deleting": false
          }
        },
        "execution": {
          "iopub.status.busy": "2021-06-17T20:33:00.678Z",
          "iopub.execute_input": "2021-06-17T20:33:00.690Z",
          "iopub.status.idle": "2021-06-17T20:33:00.710Z",
          "shell.execute_reply": "2021-06-17T20:33:00.721Z"
        }
      }
    },
    {
      "cell_type": "code",
      "source": [
        "def mcd2(a,b):\n",
        "    while b:\n",
        "        a, b  = b, a%b\n",
        "    return(a)"
      ],
      "outputs": [],
      "execution_count": null,
      "metadata": {
        "collapsed": true,
        "jupyter": {
          "source_hidden": false,
          "outputs_hidden": false
        },
        "nteract": {
          "transient": {
            "deleting": false
          }
        },
        "execution": {
          "iopub.status.busy": "2021-06-17T20:33:23.295Z",
          "iopub.execute_input": "2021-06-17T20:33:23.307Z",
          "iopub.status.idle": "2021-06-17T20:33:23.325Z",
          "shell.execute_reply": "2021-06-17T20:33:23.336Z"
        }
      }
    },
    {
      "cell_type": "code",
      "source": [
        "def BusquedaRaiz(f,l,u, h=0.001):\n",
        "    r = l\n",
        "    fr = f(r)\n",
        "    s = r+h\n",
        "    fs = f(s)\n",
        "    while signo(fr) == signo(fs):\n",
        "        if r > u:\n",
        "            return None\n",
        "        r = s\n",
        "        fr = fs\n",
        "        s = r + h\n",
        "        fs = f(s)\n",
        "    else:\n",
        "        return r,s\n"
      ],
      "outputs": [],
      "execution_count": null,
      "metadata": {
        "collapsed": true,
        "jupyter": {
          "source_hidden": false,
          "outputs_hidden": false
        },
        "nteract": {
          "transient": {
            "deleting": false
          }
        },
        "execution": {
          "iopub.status.busy": "2021-06-17T20:33:25.549Z",
          "iopub.execute_input": "2021-06-17T20:33:25.564Z",
          "iopub.status.idle": "2021-06-17T20:33:25.584Z",
          "shell.execute_reply": "2021-06-17T20:33:25.596Z"
        }
      }
    },
    {
      "cell_type": "code",
      "source": [
        "interesMensual = lambda r: (1+r)**(-60)+40*r-1\n",
        "lTasa, uTasa = BusquedaRaiz(interesMensual,0.001,0.02)\n"
      ],
      "outputs": [],
      "execution_count": null,
      "metadata": {
        "collapsed": true,
        "jupyter": {
          "source_hidden": false,
          "outputs_hidden": false
        },
        "nteract": {
          "transient": {
            "deleting": false
          }
        },
        "execution": {
          "iopub.status.busy": "2021-06-17T20:34:37.644Z",
          "iopub.execute_input": "2021-06-17T20:34:37.656Z",
          "iopub.status.idle": "2021-06-17T20:34:37.675Z",
          "shell.execute_reply": "2021-06-17T20:34:37.688Z"
        }
      }
    },
    {
      "cell_type": "code",
      "source": [
        "def metodoNewton(f, df, r0, epsilon=1e-4):\n",
        "    delta = abs(0-f(r0))\n",
        "    while delta > epsilon:\n",
        "        dfr0 = df(r0)\n",
        "        if dfr0 == 0:\n",
        "            print(\"Derivada igual a cero. Método falla\")\n",
        "        else:\n",
        "            r0 = r0 - f(r0)/df(r0)\n",
        "        delta = abs(0-f(r0))\n",
        "    return r0\n"
      ],
      "outputs": [],
      "execution_count": null,
      "metadata": {
        "collapsed": true,
        "jupyter": {
          "source_hidden": false,
          "outputs_hidden": false
        },
        "nteract": {
          "transient": {
            "deleting": false
          }
        },
        "execution": {
          "iopub.status.busy": "2021-06-17T20:34:41.361Z",
          "iopub.execute_input": "2021-06-17T20:34:41.375Z",
          "iopub.status.idle": "2021-06-17T20:34:41.393Z",
          "shell.execute_reply": "2021-06-17T20:34:41.404Z"
        }
      }
    },
    {
      "cell_type": "code",
      "source": [
        "d_interesMensual = lambda r: 40 - 60/(1+r)**61"
      ],
      "outputs": [],
      "execution_count": null,
      "metadata": {
        "collapsed": true,
        "jupyter": {
          "source_hidden": false,
          "outputs_hidden": false
        },
        "nteract": {
          "transient": {
            "deleting": false
          }
        },
        "execution": {
          "iopub.status.busy": "2021-06-17T20:36:25.604Z",
          "iopub.execute_input": "2021-06-17T20:36:25.618Z",
          "iopub.status.idle": "2021-06-17T20:36:25.642Z",
          "shell.execute_reply": "2021-06-17T20:36:25.654Z"
        }
      }
    },
    {
      "cell_type": "code",
      "source": [
        "rSolucion = metodoNewton(interesMensual, d_interesMensual,\n",
        "                         0.014, 1e-5)\n"
      ],
      "outputs": [],
      "execution_count": null,
      "metadata": {
        "collapsed": true,
        "jupyter": {
          "source_hidden": false,
          "outputs_hidden": false
        },
        "nteract": {
          "transient": {
            "deleting": false
          }
        },
        "execution": {
          "iopub.status.busy": "2021-06-17T20:36:32.179Z",
          "iopub.execute_input": "2021-06-17T20:36:32.191Z",
          "iopub.status.idle": "2021-06-17T20:36:32.208Z",
          "shell.execute_reply": "2021-06-17T20:36:32.220Z"
        }
      }
    },
    {
      "cell_type": "code",
      "source": [
        "print(interesMensual(rSolucion))"
      ],
      "outputs": [],
      "execution_count": null,
      "metadata": {
        "collapsed": true,
        "jupyter": {
          "source_hidden": false,
          "outputs_hidden": false
        },
        "nteract": {
          "transient": {
            "deleting": false
          }
        },
        "execution": {
          "iopub.status.busy": "2021-06-17T20:36:34.679Z",
          "iopub.execute_input": "2021-06-17T20:36:34.691Z",
          "iopub.status.idle": "2021-06-17T20:36:34.715Z",
          "shell.execute_reply": "2021-06-17T20:36:34.728Z"
        }
      }
    }
  ],
  "metadata": {
    "kernel_info": {
      "name": "python3"
    },
    "language_info": {
      "name": "python",
      "version": "3.8.5",
      "mimetype": "text/x-python",
      "codemirror_mode": {
        "name": "ipython",
        "version": 3
      },
      "pygments_lexer": "ipython3",
      "nbconvert_exporter": "python",
      "file_extension": ".py"
    },
    "kernelspec": {
      "argv": [
        "/opt/anaconda3/bin/python3",
        "-m",
        "ipykernel_launcher",
        "-f",
        "{connection_file}"
      ],
      "display_name": "Python 3",
      "language": "python",
      "name": "python3"
    },
    "nteract": {
      "version": "0.28.0"
    }
  },
  "nbformat": 4,
  "nbformat_minor": 0
}