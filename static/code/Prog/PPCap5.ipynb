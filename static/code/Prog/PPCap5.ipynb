{
  "cells": [
    {
      "cell_type": "markdown",
      "source": [
        "# Manipulación y visualización de datos"
      ],
      "metadata": {
        "nteract": {
          "transient": {
            "deleting": false
          }
        }
      }
    },
    {
      "cell_type": "code",
      "source": [
        "import math\n",
        "import matplotlib.pyplot as plt\n",
        "paginaD = 'https://alexrojas.netlify.com/Data/Prog/'\n",
        "  "
      ],
      "outputs": [],
      "execution_count": null,
      "metadata": {
        "collapsed": true,
        "jupyter": {
          "source_hidden": false,
          "outputs_hidden": false
        },
        "nteract": {
          "transient": {
            "deleting": false
          }
        }
      }
    },
    {
      "cell_type": "markdown",
      "source": [
        "## Objetos `pandas`"
      ],
      "metadata": {
        "nteract": {
          "transient": {
            "deleting": false
          }
        }
      }
    },
    {
      "cell_type": "code",
      "source": [
        "import pandas as pd\n",
        "import numpy as np\n",
        "CantidadesCompra = pd.Series([6,6,12,12,12,12,24,10,10,4,12,12,\n",
        "                              12,12],\n",
        "                              [\"22809\",\"84347\", \"84945\",\"22242\",\n",
        "                              \"22244\", \"22243\", \"47421\", \"20712\",\n",
        "                              \"20713\",\"22837\", \"22969\", \"22973\",\n",
        "                              \"84569B\", \"22549\"])"
      ],
      "outputs": [],
      "execution_count": null,
      "metadata": {
        "collapsed": true,
        "jupyter": {
          "source_hidden": false,
          "outputs_hidden": false
        },
        "nteract": {
          "transient": {
            "deleting": false
          }
        }
      }
    },
    {
      "cell_type": "code",
      "source": [
        "CantidadesCompra.values\n"
      ],
      "outputs": [],
      "execution_count": null,
      "metadata": {
        "collapsed": true,
        "jupyter": {
          "source_hidden": false,
          "outputs_hidden": false
        },
        "nteract": {
          "transient": {
            "deleting": false
          }
        }
      }
    },
    {
      "cell_type": "code",
      "source": [
        "CantidadesCompra.index"
      ],
      "outputs": [],
      "execution_count": null,
      "metadata": {
        "collapsed": true,
        "jupyter": {
          "source_hidden": false,
          "outputs_hidden": false
        },
        "nteract": {
          "transient": {
            "deleting": false
          }
        }
      }
    },
    {
      "cell_type": "code",
      "source": [
        "CantidadesCompra['22837']"
      ],
      "outputs": [],
      "execution_count": null,
      "metadata": {
        "collapsed": true,
        "jupyter": {
          "source_hidden": false,
          "outputs_hidden": false
        },
        "nteract": {
          "transient": {
            "deleting": false
          }
        }
      }
    },
    {
      "cell_type": "code",
      "source": [
        "CantidadesCompra['22242':'22243']"
      ],
      "outputs": [],
      "execution_count": null,
      "metadata": {
        "collapsed": true,
        "jupyter": {
          "source_hidden": false,
          "outputs_hidden": false
        },
        "nteract": {
          "transient": {
            "deleting": false
          }
        }
      }
    },
    {
      "cell_type": "code",
      "source": [
        "CantidadesCompra[['22242','22244','22243']]"
      ],
      "outputs": [],
      "execution_count": null,
      "metadata": {
        "collapsed": true,
        "jupyter": {
          "source_hidden": false,
          "outputs_hidden": false
        },
        "nteract": {
          "transient": {
            "deleting": false
          }
        }
      }
    },
    {
      "cell_type": "code",
      "source": [
        "CantidadesCompra[9]"
      ],
      "outputs": [],
      "execution_count": null,
      "metadata": {
        "collapsed": true,
        "jupyter": {
          "source_hidden": false,
          "outputs_hidden": false
        },
        "nteract": {
          "transient": {
            "deleting": false
          }
        }
      }
    },
    {
      "cell_type": "code",
      "source": [
        "CantidadesCompra[3:6]"
      ],
      "outputs": [],
      "execution_count": null,
      "metadata": {
        "collapsed": true,
        "jupyter": {
          "source_hidden": false,
          "outputs_hidden": false
        },
        "nteract": {
          "transient": {
            "deleting": false
          }
        }
      }
    },
    {
      "cell_type": "markdown",
      "source": [
        "### Ejemplo 5.2"
      ],
      "metadata": {
        "nteract": {
          "transient": {
            "deleting": false
          }
        }
      }
    },
    {
      "cell_type": "code",
      "source": [
        "glucosa = pd.Series([6.1, 6.5, 6.7, 5.0, 4.9, 6.1, 4.9, 6.6,\n",
        "                     4.1, 6.9, 5.6, 8.1, 6.3, 6.9, 10.9, 5.2,\n",
        "                     7.1, 4.9, 5.5, 5.6, 7.1, 5.9, 6.6, 4.1,\n",
        "                     5.9, 7.6, 5.1, 5.0])"
      ],
      "outputs": [],
      "execution_count": null,
      "metadata": {
        "collapsed": true,
        "jupyter": {
          "source_hidden": false,
          "outputs_hidden": false
        },
        "nteract": {
          "transient": {
            "deleting": false
          }
        }
      }
    },
    {
      "cell_type": "code",
      "source": [
        "diaYhora = pd.date_range('2020-10-01 06:00:00', periods = 28,\n",
        "freq = '8H')\n",
        "glucosa.index = diaYhora"
      ],
      "outputs": [],
      "execution_count": null,
      "metadata": {
        "collapsed": true,
        "jupyter": {
          "source_hidden": false,
          "outputs_hidden": false
        },
        "nteract": {
          "transient": {
            "deleting": false
          }
        }
      }
    },
    {
      "cell_type": "markdown",
      "source": [
        "### Ejemplo 5.3"
      ],
      "metadata": {
        "nteract": {
          "transient": {
            "deleting": false
          }
        }
      }
    },
    {
      "cell_type": "code",
      "source": [
        "BWexp = pd.DataFrame({'Ei':range(0,201,25),\n",
        "                      'fobs':[10.6, 16.0, 45.0, 83.5, 52.8, 19.9,\n",
        "                             10.8, 8.25, 4.7],\n",
        "                     'Error':[ 9.34, 17.9, 41.5, 85.5, 51.5, 21.5,\n",
        "                               10.8, 6.29, 4.14]})"
      ],
      "outputs": [],
      "execution_count": null,
      "metadata": {
        "collapsed": true,
        "jupyter": {
          "source_hidden": false,
          "outputs_hidden": false
        },
        "nteract": {
          "transient": {
            "deleting": false
          }
        }
      }
    },
    {
      "cell_type": "code",
      "source": [
        "BWexp1 = pd.DataFrame([[0, 10.6, 9.34], [25, 16.0, 17.9],\n",
        "                       [50, 45.0, 41.5], [75,83.5,85.5],\n",
        "                       [100, 52.8, 51.5], [125, 19.9,21.5],\n",
        "                       [150, 10.8, 10.8], [175, 8.25, 6.29],\n",
        "                       [200, 4.7, 4.14]],\n",
        "                       columns=[\"Ei\",\"fobs\",\"Error\"])"
      ],
      "outputs": [],
      "execution_count": null,
      "metadata": {
        "collapsed": true,
        "jupyter": {
          "source_hidden": false,
          "outputs_hidden": false
        },
        "nteract": {
          "transient": {
            "deleting": false
          }
        }
      }
    },
    {
      "cell_type": "markdown",
      "source": [
        "### Ejemplo 5.4"
      ],
      "metadata": {
        "nteract": {
          "transient": {
            "deleting": false
          }
        }
      }
    },
    {
      "cell_type": "code",
      "source": [
        "Audaz = pd.read_csv(paginaD+'Gasparini.csv')"
      ],
      "outputs": [],
      "execution_count": null,
      "metadata": {
        "collapsed": true,
        "jupyter": {
          "source_hidden": false,
          "outputs_hidden": false
        },
        "nteract": {
          "transient": {
            "deleting": false
          }
        }
      }
    },
    {
      "cell_type": "markdown",
      "source": [
        "### Ejemplo 5.5"
      ],
      "metadata": {
        "nteract": {
          "transient": {
            "deleting": false
          }
        }
      }
    },
    {
      "cell_type": "code",
      "source": [
        "archivo = 'FWF.dat'\n",
        "FWF = pd.read_fwf(paginaD+archivo,\n",
        "                names=['Item','Nombre','Inferior','Superior'],\n",
        "                colspecs=[(0,13),(14,24),(25,29),(30,34)])"
      ],
      "outputs": [],
      "execution_count": null,
      "metadata": {
        "collapsed": true,
        "jupyter": {
          "source_hidden": false,
          "outputs_hidden": false
        },
        "nteract": {
          "transient": {
            "deleting": false
          }
        }
      }
    },
    {
      "cell_type": "markdown",
      "source": [
        "### Ejemplo 5.6"
      ],
      "metadata": {
        "nteract": {
          "transient": {
            "deleting": false
          }
        }
      }
    },
    {
      "cell_type": "code",
      "source": [
        "ws0 = pd.read_table('http://lib.stat.cmu.edu/datasets/wseries',\n",
        "                  skiprows=34, nrows=23, sep='\\t\\s\\s|\\s\\s',\n",
        "                  header=None)\n"
      ],
      "outputs": [],
      "execution_count": null,
      "metadata": {
        "collapsed": true,
        "jupyter": {
          "source_hidden": false,
          "outputs_hidden": false
        },
        "nteract": {
          "transient": {
            "deleting": false
          }
        }
      }
    },
    {
      "cell_type": "markdown",
      "source": [
        "### Ejemplo 5.7"
      ],
      "metadata": {
        "nteract": {
          "transient": {
            "deleting": false
          }
        }
      }
    },
    {
      "cell_type": "code",
      "source": [
        "pulsar = pd.read_fwf(paginaD+'pulsar.txt', header=None,\\\n",
        "                     na_values ='*', skiprows=5,\\\n",
        "                     names=['Nombre','R','D','P','Dist'],\\\n",
        "                         colspecs=[(6,19),(31,48),(51,69),\\\n",
        "                         (72,95),(111,118)])\n",
        "pulsar = pulsar.dropna(how='all')"
      ],
      "outputs": [],
      "execution_count": null,
      "metadata": {
        "collapsed": true,
        "jupyter": {
          "source_hidden": false,
          "outputs_hidden": false
        },
        "nteract": {
          "transient": {
            "deleting": false
          }
        }
      }
    },
    {
      "cell_type": "markdown",
      "source": [
        "### Ejemplo 5.8"
      ],
      "metadata": {
        "nteract": {
          "transient": {
            "deleting": false
          }
        }
      }
    },
    {
      "cell_type": "code",
      "source": [
        "wiki = 'https://en.wikipedia.org/wiki/'\n",
        "sa  = 'COVID-19_pandemic_in_South_America'\n",
        "Covid = pd.read_html(wiki+sa,match='Country/Territory')[0]"
      ],
      "outputs": [],
      "execution_count": null,
      "metadata": {
        "collapsed": true,
        "jupyter": {
          "source_hidden": false,
          "outputs_hidden": false
        },
        "nteract": {
          "transient": {
            "deleting": false
          }
        }
      }
    },
    {
      "cell_type": "code",
      "source": [
        "Audaz.info()\n",
        "Audaz.sample(5)\n",
        "Audaz.head(5)"
      ],
      "outputs": [],
      "execution_count": null,
      "metadata": {
        "collapsed": true,
        "jupyter": {
          "source_hidden": false,
          "outputs_hidden": false
        },
        "nteract": {
          "transient": {
            "deleting": false
          }
        }
      }
    },
    {
      "cell_type": "code",
      "source": [
        "Audaz = pd.read_csv(paginaD+'Gasparini.csv', usecols=range(3,8),\\\n",
        "                    names = ['id', 'coraje', 'exploracion',\\\n",
        "                             'conteo', 'velocidad'],header = 0)"
      ],
      "outputs": [],
      "execution_count": null,
      "metadata": {
        "collapsed": true,
        "jupyter": {
          "source_hidden": false,
          "outputs_hidden": false
        },
        "nteract": {
          "transient": {
            "deleting": false
          }
        }
      }
    },
    {
      "cell_type": "markdown",
      "source": [
        "### Ejemplo 5.9"
      ],
      "metadata": {
        "nteract": {
          "transient": {
            "deleting": false
          }
        }
      }
    },
    {
      "cell_type": "code",
      "source": [
        "import seaborn as sns\n",
        "planets = sns.load_dataset('planets')\n",
        "planets.info()"
      ],
      "outputs": [],
      "execution_count": null,
      "metadata": {
        "collapsed": true,
        "jupyter": {
          "source_hidden": false,
          "outputs_hidden": false
        },
        "nteract": {
          "transient": {
            "deleting": false
          }
        }
      }
    },
    {
      "cell_type": "markdown",
      "source": [
        "## Estadísticas descriptivas"
      ],
      "metadata": {
        "nteract": {
          "transient": {
            "deleting": false
          }
        }
      }
    },
    {
      "cell_type": "code",
      "source": [
        "glucosa.min(), glucosa.median(), glucosa.mean(), glucosa.max()\n",
        "glucosa.std()\n",
        "glucosa.quantile([.2,.4,.6,.8])"
      ],
      "outputs": [],
      "execution_count": null,
      "metadata": {
        "collapsed": true,
        "jupyter": {
          "source_hidden": false,
          "outputs_hidden": false
        },
        "nteract": {
          "transient": {
            "deleting": false
          }
        }
      }
    },
    {
      "cell_type": "code",
      "source": [
        "glucosa.describe()"
      ],
      "outputs": [],
      "execution_count": null,
      "metadata": {
        "collapsed": true,
        "jupyter": {
          "source_hidden": false,
          "outputs_hidden": false
        },
        "nteract": {
          "transient": {
            "deleting": false
          }
        }
      }
    },
    {
      "cell_type": "code",
      "source": [
        "fig = plt.figure(figsize=(12, 12))\n",
        "fig.subplots_adjust(hspace=0.4, wspace=0.4)\n",
        "ax1 = fig.add_subplot(211)\n",
        "ax1.set_ylabel('Glucosa (mmol/L)',fontsize=14)\n",
        "ax2 = fig.add_subplot(234)\n",
        "ax2.set_ylabel('Glucosa (mmol/L)',fontsize=14)\n",
        "ax3 = fig.add_subplot(235)\n",
        "ax4 = fig.add_subplot(236)\n",
        "glucosa.plot(ax=ax1, kind='line', title='Serie de tiempo',\n",
        "             x_compat=True)\n",
        "glucosa.plot(ax=ax2, kind='box', title='Diagrama de caja')\n",
        "glucosa.plot(ax=ax3, kind='hist', title='Histograma')\n",
        "glucosa.plot(ax=ax4, kind='kde', title='Densidad estimada')\n"
      ],
      "outputs": [],
      "execution_count": null,
      "metadata": {
        "collapsed": true,
        "jupyter": {
          "source_hidden": false,
          "outputs_hidden": false
        },
        "nteract": {
          "transient": {
            "deleting": false
          }
        }
      }
    },
    {
      "cell_type": "code",
      "source": [
        "planets.describe()"
      ],
      "outputs": [],
      "execution_count": null,
      "metadata": {
        "collapsed": true,
        "jupyter": {
          "source_hidden": false,
          "outputs_hidden": false
        },
        "nteract": {
          "transient": {
            "deleting": false
          }
        }
      }
    },
    {
      "cell_type": "code",
      "source": [
        "planets.dropna().describe()"
      ],
      "outputs": [],
      "execution_count": null,
      "metadata": {
        "collapsed": true,
        "jupyter": {
          "source_hidden": false,
          "outputs_hidden": false
        },
        "nteract": {
          "transient": {
            "deleting": false
          }
        }
      }
    },
    {
      "cell_type": "code",
      "source": [
        "planetasNoFaltantes = planets.dropna()\n",
        "planetasNoFaltantes.describe()"
      ],
      "outputs": [],
      "execution_count": null,
      "metadata": {
        "collapsed": true,
        "jupyter": {
          "source_hidden": false,
          "outputs_hidden": false
        },
        "nteract": {
          "transient": {
            "deleting": false
          }
        }
      }
    },
    {
      "cell_type": "code",
      "source": [
        "import seaborn as sns\n",
        "sns.distplot(Audaz['velocidad'], color=\"gray\")"
      ],
      "outputs": [],
      "execution_count": null,
      "metadata": {
        "collapsed": true,
        "jupyter": {
          "source_hidden": false,
          "outputs_hidden": false
        },
        "nteract": {
          "transient": {
            "deleting": false
          }
        }
      }
    },
    {
      "cell_type": "markdown",
      "source": [
        "### Ejemplo 5.10"
      ],
      "metadata": {
        "nteract": {
          "transient": {
            "deleting": false
          }
        }
      }
    },
    {
      "cell_type": "code",
      "source": [
        "# Tiempo promedio entre pulsos\n",
        "pulsar['P'].mean()\n",
        "# Púlsar con mayor tiempo entre pulsos\n",
        "pulsar.iloc[pulsar['P'].argmax(),0]\n",
        "pulsar['P'].max()\n",
        "# Púlsar con menor tiempo entre pulsos\n",
        "pulsar.iloc[pulsar['P'].argmin(),0]\n",
        "pulsar['P'].min()"
      ],
      "outputs": [],
      "execution_count": null,
      "metadata": {
        "collapsed": true,
        "jupyter": {
          "source_hidden": false,
          "outputs_hidden": false
        },
        "nteract": {
          "transient": {
            "deleting": false
          }
        }
      }
    },
    {
      "cell_type": "markdown",
      "source": [
        "## Selección y filtración"
      ],
      "metadata": {
        "nteract": {
          "transient": {
            "deleting": false
          }
        }
      }
    },
    {
      "cell_type": "code",
      "source": [
        "Covid.columns\n",
        "Covid.index"
      ],
      "outputs": [],
      "execution_count": null,
      "metadata": {
        "collapsed": true,
        "jupyter": {
          "source_hidden": false,
          "outputs_hidden": false
        },
        "nteract": {
          "transient": {
            "deleting": false
          }
        }
      }
    },
    {
      "cell_type": "code",
      "source": [
        "Covid.columns = ['Pais', 'Confirmados', 'Muertes',\\\n",
        "                 'Recuperados','Ref']"
      ],
      "outputs": [],
      "execution_count": null,
      "metadata": {
        "collapsed": true,
        "jupyter": {
          "source_hidden": false,
          "outputs_hidden": false
        },
        "nteract": {
          "transient": {
            "deleting": false
          }
        }
      }
    },
    {
      "cell_type": "code",
      "source": [
        "Covid.columns = ['Pais', 'Confirmados', 'Muertes',\\\n",
        "                 'Recuperados', 'Pobl', 'Ref']"
      ],
      "outputs": [],
      "execution_count": null,
      "metadata": {
        "collapsed": true,
        "jupyter": {
          "source_hidden": false,
          "outputs_hidden": false
        },
        "nteract": {
          "transient": {
            "deleting": false
          }
        }
      }
    },
    {
      "cell_type": "code",
      "source": [
        "Covid[['Confirmados','Muertes']]"
      ],
      "outputs": [],
      "execution_count": null,
      "metadata": {
        "collapsed": true,
        "jupyter": {
          "source_hidden": false,
          "outputs_hidden": false
        },
        "nteract": {
          "transient": {
            "deleting": false
          }
        }
      }
    },
    {
      "cell_type": "code",
      "source": [
        "Covid['Confirmados']\n"
      ],
      "outputs": [],
      "execution_count": null,
      "metadata": {
        "collapsed": true,
        "jupyter": {
          "source_hidden": false,
          "outputs_hidden": false
        },
        "nteract": {
          "transient": {
            "deleting": false
          }
        }
      }
    },
    {
      "cell_type": "code",
      "source": [
        "Covid.Confirmados"
      ],
      "outputs": [],
      "execution_count": null,
      "metadata": {
        "collapsed": true,
        "jupyter": {
          "source_hidden": false,
          "outputs_hidden": false
        },
        "nteract": {
          "transient": {
            "deleting": false
          }
        }
      }
    },
    {
      "cell_type": "code",
      "source": [
        "Covid.iloc[5:-5]"
      ],
      "outputs": [],
      "execution_count": null,
      "metadata": {
        "collapsed": true,
        "jupyter": {
          "source_hidden": false,
          "outputs_hidden": false
        },
        "nteract": {
          "transient": {
            "deleting": false
          }
        }
      }
    },
    {
      "cell_type": "code",
      "source": [
        "Covid[5:-5]"
      ],
      "outputs": [],
      "execution_count": null,
      "metadata": {
        "collapsed": true,
        "jupyter": {
          "source_hidden": false,
          "outputs_hidden": false
        },
        "nteract": {
          "transient": {
            "deleting": false
          }
        }
      }
    },
    {
      "cell_type": "code",
      "source": [
        "Covid[Covid['Recuperados'] <30]"
      ],
      "outputs": [],
      "execution_count": null,
      "metadata": {
        "collapsed": true,
        "jupyter": {
          "source_hidden": false,
          "outputs_hidden": false
        },
        "nteract": {
          "transient": {
            "deleting": false
          }
        }
      }
    },
    {
      "cell_type": "code",
      "source": [
        "Covid.iloc[5:-5,2:4]"
      ],
      "outputs": [],
      "execution_count": null,
      "metadata": {
        "collapsed": true,
        "jupyter": {
          "source_hidden": false,
          "outputs_hidden": false
        },
        "nteract": {
          "transient": {
            "deleting": false
          }
        }
      }
    },
    {
      "cell_type": "code",
      "source": [
        "Covid = Covid.set_index('Pais')"
      ],
      "outputs": [],
      "execution_count": null,
      "metadata": {
        "collapsed": true,
        "jupyter": {
          "source_hidden": false,
          "outputs_hidden": false
        },
        "nteract": {
          "transient": {
            "deleting": false
          }
        }
      }
    },
    {
      "cell_type": "code",
      "source": [
        "Covid.iloc[5:-5,1:3]"
      ],
      "outputs": [],
      "execution_count": null,
      "metadata": {
        "collapsed": true,
        "jupyter": {
          "source_hidden": false,
          "outputs_hidden": false
        },
        "nteract": {
          "transient": {
            "deleting": false
          }
        }
      }
    },
    {
      "cell_type": "code",
      "source": [
        "Covid.loc[:'Colombia','Muertes']"
      ],
      "outputs": [],
      "execution_count": null,
      "metadata": {
        "collapsed": true,
        "jupyter": {
          "source_hidden": false,
          "outputs_hidden": false
        },
        "nteract": {
          "transient": {
            "deleting": false
          }
        }
      }
    },
    {
      "cell_type": "code",
      "source": [
        "Covid.sort_values(by=['Muertes'],\n",
        "                 ascending=False).loc[:'Colombia',\\\n",
        "                 'Recuperados']"
      ],
      "outputs": [],
      "execution_count": null,
      "metadata": {
        "collapsed": true,
        "jupyter": {
          "source_hidden": false,
          "outputs_hidden": false
        },
        "nteract": {
          "transient": {
            "deleting": false
          }
        }
      }
    },
    {
      "cell_type": "code",
      "source": [
        "Covid.sort_values(by=['Muertes']).loc['Colombia':,'Recuperados']"
      ],
      "outputs": [],
      "execution_count": null,
      "metadata": {
        "collapsed": true,
        "jupyter": {
          "source_hidden": false,
          "outputs_hidden": false
        },
        "nteract": {
          "transient": {
            "deleting": false
          }
        }
      }
    },
    {
      "cell_type": "code",
      "source": [
        "Covid.sort_index()"
      ],
      "outputs": [],
      "execution_count": null,
      "metadata": {
        "collapsed": true,
        "jupyter": {
          "source_hidden": false,
          "outputs_hidden": false
        },
        "nteract": {
          "transient": {
            "deleting": false
          }
        }
      }
    },
    {
      "cell_type": "code",
      "source": [
        "Covid.sort_index().sort_index(axis=1)"
      ],
      "outputs": [],
      "execution_count": null,
      "metadata": {
        "collapsed": true,
        "jupyter": {
          "source_hidden": false,
          "outputs_hidden": false
        },
        "nteract": {
          "transient": {
            "deleting": false
          }
        }
      }
    },
    {
      "cell_type": "code",
      "source": [
        "NumeroRecuperadosCol = Covid.loc['Colombia','Recuperados']\n",
        "Covid.loc[Covid['Recuperados'] >= NumeroRecuperadosCol,:]"
      ],
      "outputs": [],
      "execution_count": null,
      "metadata": {
        "collapsed": true,
        "jupyter": {
          "source_hidden": false,
          "outputs_hidden": false
        },
        "nteract": {
          "transient": {
            "deleting": false
          }
        }
      }
    },
    {
      "cell_type": "markdown",
      "source": [
        "## Operaciones en conjuntos de datos"
      ],
      "metadata": {
        "nteract": {
          "transient": {
            "deleting": false
          }
        }
      }
    },
    {
      "cell_type": "code",
      "source": [
        "Covid500 = Covid.loc[Covid.Confirmados>500,['Confirmados',\\\n",
        "                     'Muertes']]\n",
        "Covid500['TasaFat'] = round(100*Covid500['Muertes']/\\\n",
        "                            Covid500['Confirmados'],2)"
      ],
      "outputs": [],
      "execution_count": null,
      "metadata": {
        "collapsed": true,
        "jupyter": {
          "source_hidden": false,
          "outputs_hidden": false
        },
        "nteract": {
          "transient": {
            "deleting": false
          }
        }
      }
    },
    {
      "cell_type": "code",
      "source": [
        "TFtotal = Covid500.loc['Total','TasaFat']\n",
        "Covid500['Tasa Fatalidad'] = Covid500['TasaFat'].apply(lambda x:\\\n",
        "                            'Mayor' if x > TFtotal  else 'Menor')\n",
        "f, ax = plt.subplots(figsize=(10, 10))\n",
        "ax.set_xlim(100,800000)\n",
        "ax.set_ylim(10,50000)\n",
        "ax.set(xscale=\"log\", yscale=\"log\")\n",
        "ax = sns.scatterplot(x='Confirmados', y='Muertes',\\\n",
        "                     hue='Tasa Fatalidad', s=200,\\\n",
        "                     style = 'Tasa Fatalidad',\\\n",
        "                     data=Covid500.drop('Total'))\n",
        "ax.legend(loc='upper left',frameon=False, markerscale=2)\n",
        "\n",
        "for i in Covid500.index[:-1]:\n",
        "    ax.annotate(i,(Covid500.loc[i,'Confirmados'],\\\n",
        "    Covid500.loc[i,'Muertes']))\n",
        "ax.set_xlabel('Casos confirmados')\n",
        "ax.set_ylabel('Muertes')\n",
        "ax.plot([100, 800000], [TFtotal, 8000*TFtotal], 'k:')"
      ],
      "outputs": [],
      "execution_count": null,
      "metadata": {
        "collapsed": true,
        "jupyter": {
          "source_hidden": false,
          "outputs_hidden": false
        },
        "nteract": {
          "transient": {
            "deleting": false
          }
        }
      }
    },
    {
      "cell_type": "markdown",
      "source": [
        "### Ejemplo 5.11"
      ],
      "metadata": {
        "nteract": {
          "transient": {
            "deleting": false
          }
        }
      }
    },
    {
      "cell_type": "code",
      "source": [
        "exonH = pd.read_csv(paginaD+'exon_table.txt')\n",
        "exonH['longitud'] = exonH['exon_chrom_end']-\\\n",
        "                    exonH['exon_chrom_start']+1\n",
        "exonHTotal = exonH.groupby('transcript_name')['longitud'].sum()\n"
      ],
      "outputs": [],
      "execution_count": null,
      "metadata": {
        "collapsed": true,
        "jupyter": {
          "source_hidden": false,
          "outputs_hidden": false
        },
        "nteract": {
          "transient": {
            "deleting": false
          }
        }
      }
    },
    {
      "cell_type": "code",
      "source": [
        "np.log10(exonH['longitud'].describe())\n",
        "particion = 10 ** np.arange(0.3,5,0.1)\n",
        "f, (ax1, ax2) = plt.subplots(2, 1)\n",
        "ax1.hist(data=exonH,x='longitud',bins = particion,range=(0.3,5))\n",
        "ax1.set_xscale('log')\n",
        "ax2.hist(exonHTotal,bins = particion,range=(0.3,5))\n",
        "ax2.set_xscale('log')\n",
        "ax2.set_xlabel('Longitud')"
      ],
      "outputs": [],
      "execution_count": null,
      "metadata": {
        "collapsed": true,
        "jupyter": {
          "source_hidden": false,
          "outputs_hidden": false
        },
        "nteract": {
          "transient": {
            "deleting": false
          }
        }
      }
    },
    {
      "cell_type": "markdown",
      "source": [
        "### Ejemplo 5.12"
      ],
      "metadata": {
        "nteract": {
          "transient": {
            "deleting": false
          }
        }
      }
    },
    {
      "cell_type": "code",
      "source": [
        "Audaz['IBold'] = 1/Audaz['coraje']\n",
        "AudazM = Audaz.groupby('id')[['IBold','conteo',\\\n",
        "                       'exploracion']].mean()\n",
        "AudazM['Audacia'] = 300 - AudazM['IBold']\n",
        "f = sns.jointplot(x=\"conteo\", y=\"Audacia\", kind=\"reg\",\\\n",
        "                   data=AudazM,xlim=(0, 8), ylim=(-5, 300),\\\n",
        "                   marginal_kws=dict(bins=15,kde=False),\\\n",
        "                   joint_kws=dict(ci=None), color='k')\n",
        "f.ax_joint.set_xlabel(r'Número de espermatozoides ($10^6$)')\n"
      ],
      "outputs": [],
      "execution_count": null,
      "metadata": {
        "collapsed": true,
        "jupyter": {
          "source_hidden": false,
          "outputs_hidden": false
        },
        "nteract": {
          "transient": {
            "deleting": false
          }
        }
      }
    },
    {
      "cell_type": "code",
      "source": [
        "AudazM['AudCat'] = pd.cut(AudazM['Audacia'], [-1,10,50,200,300],\n",
        "                          labels=[\"Nula\",\"Baja\",\"Media\",\"Alta\"])\n",
        "AudazM['EspCat'] = pd.cut(AudazM['conteo'],[0,3,8],\n",
        "                          labels=[\"Bajo\",\"Alto\"])\n"
      ],
      "outputs": [],
      "execution_count": null,
      "metadata": {
        "collapsed": true,
        "jupyter": {
          "source_hidden": false,
          "outputs_hidden": false
        },
        "nteract": {
          "transient": {
            "deleting": false
          }
        }
      }
    },
    {
      "cell_type": "code",
      "source": [
        "AudazM.groupby(['AudCat', 'EspCat'])['exploracion'].mean()"
      ],
      "outputs": [],
      "execution_count": null,
      "metadata": {
        "collapsed": true,
        "jupyter": {
          "source_hidden": false,
          "outputs_hidden": false
        },
        "nteract": {
          "transient": {
            "deleting": false
          }
        }
      }
    },
    {
      "cell_type": "code",
      "source": [
        "AudazM.groupby(['AudCat','EspCat'])['exploracion'].mean().\\\n",
        "               unstack()"
      ],
      "outputs": [],
      "execution_count": null,
      "metadata": {
        "collapsed": true,
        "jupyter": {
          "source_hidden": false,
          "outputs_hidden": false
        },
        "nteract": {
          "transient": {
            "deleting": false
          }
        }
      }
    },
    {
      "cell_type": "code",
      "source": [
        "AudazM.pivot_table('exploracion',index='AudCat',\n",
        "                   columns='EspCat')\n"
      ],
      "outputs": [],
      "execution_count": null,
      "metadata": {
        "collapsed": true,
        "jupyter": {
          "source_hidden": false,
          "outputs_hidden": false
        },
        "nteract": {
          "transient": {
            "deleting": false
          }
        }
      }
    },
    {
      "cell_type": "code",
      "source": [
        "AudazMe = pd.melt(AudazM, id_vars= [\"EspCat\",\"AudCat\"],\n",
        "                  value_vars=[\"exploracion\"])\n"
      ],
      "outputs": [],
      "execution_count": null,
      "metadata": {
        "collapsed": true,
        "jupyter": {
          "source_hidden": false,
          "outputs_hidden": false
        },
        "nteract": {
          "transient": {
            "deleting": false
          }
        }
      }
    },
    {
      "cell_type": "code",
      "source": [
        "AudazMe.sort_values(['AudCat','EspCat','value'])"
      ],
      "outputs": [],
      "execution_count": null,
      "metadata": {
        "collapsed": true,
        "jupyter": {
          "source_hidden": false,
          "outputs_hidden": false
        },
        "nteract": {
          "transient": {
            "deleting": false
          }
        }
      }
    },
    {
      "cell_type": "code",
      "source": [
        "# Definición de colores amigables para personas daltónicas y\n",
        "# que al imprimir a blanco y negro mantiene la escala\n",
        "colores = sns.color_palette(\"cubehelix\", 16)\n",
        "f, ax = plt.subplots()\n",
        "sns.despine(left=True)\n",
        "sns.stripplot(x=\"value\", y=\"AudCat\", hue=\"EspCat\",\n",
        "              data=AudazMe, dodge=True, alpha=.8,\n",
        "              palette= [colores[0], colores[7]])\n",
        "sns.pointplot(x=\"value\", y=\"AudCat\", hue=\"EspCat\",\n",
        "              data=AudazMe, dodge=0.5, join=True,\n",
        "              palette=[colores[10], colores[13]],\n",
        "              markers=\"d\", ci = 'sd',\n",
        "              linestyles=['dotted','dashed'])\n",
        "ax.set(xlabel='Exploración (s)', ylabel='Audacia')\n",
        "objLeyenda, etiquetas = ax.get_legend_handles_labels()\n",
        "ax.legend(objLeyenda[0:2], etiquetas[0:2], title=\"Nivel Esperma\",\n",
        "          loc=\"center right\")\n"
      ],
      "outputs": [],
      "execution_count": null,
      "metadata": {
        "collapsed": true,
        "jupyter": {
          "source_hidden": false,
          "outputs_hidden": false
        },
        "nteract": {
          "transient": {
            "deleting": false
          }
        }
      }
    },
    {
      "cell_type": "markdown",
      "source": [
        "## Indexación Jerárquica"
      ],
      "metadata": {
        "nteract": {
          "transient": {
            "deleting": false
          }
        }
      }
    },
    {
      "cell_type": "code",
      "source": [
        "exonH = pd.read_csv(paginaD+'exon_table.txt', index_col=[0,1,2])"
      ],
      "outputs": [],
      "execution_count": null,
      "metadata": {
        "collapsed": true,
        "jupyter": {
          "source_hidden": false,
          "outputs_hidden": false
        },
        "nteract": {
          "transient": {
            "deleting": false
          }
        }
      }
    },
    {
      "cell_type": "code",
      "source": [
        "exonH = exonH.set_index(['transcript_name', 'exon_id',\\\n",
        "                        'exon_rank'])\n"
      ],
      "outputs": [],
      "execution_count": null,
      "metadata": {
        "collapsed": true,
        "jupyter": {
          "source_hidden": false,
          "outputs_hidden": false
        },
        "nteract": {
          "transient": {
            "deleting": false
          }
        }
      }
    },
    {
      "cell_type": "code",
      "source": [
        "exonH.loc[('TSPAN6-001')]"
      ],
      "outputs": [],
      "execution_count": null,
      "metadata": {
        "collapsed": true,
        "jupyter": {
          "source_hidden": false,
          "outputs_hidden": false
        },
        "nteract": {
          "transient": {
            "deleting": false
          }
        }
      }
    },
    {
      "cell_type": "code",
      "source": [
        "exonH.loc[('TSPAN6-001','ENSE00001855382')]\n",
        "exonH.loc[('TSPAN6-001','ENSE00001855382',1)]"
      ],
      "outputs": [],
      "execution_count": null,
      "metadata": {
        "collapsed": true,
        "jupyter": {
          "source_hidden": false,
          "outputs_hidden": false
        },
        "nteract": {
          "transient": {
            "deleting": false
          }
        }
      }
    },
    {
      "cell_type": "code",
      "source": [
        "exonH = exonH.set_index(['transcript_name', 'exon_id',\\\n",
        "                         'exon_rank']).sort_index()\n"
      ],
      "outputs": [],
      "execution_count": null,
      "metadata": {
        "collapsed": true,
        "jupyter": {
          "source_hidden": false,
          "outputs_hidden": false
        },
        "nteract": {
          "transient": {
            "deleting": false
          }
        }
      }
    },
    {
      "cell_type": "code",
      "source": [
        "exonH.loc[(\"A1BG-001\"):(\"A1CF-002\")]"
      ],
      "outputs": [],
      "execution_count": null,
      "metadata": {
        "collapsed": true,
        "jupyter": {
          "source_hidden": false,
          "outputs_hidden": false
        },
        "nteract": {
          "transient": {
            "deleting": false
          }
        }
      }
    },
    {
      "cell_type": "code",
      "source": [
        "exonH.loc[(\"A1BG-001\",\"ENSE00003509215\"):\\\n",
        "          (\"A1CF-002\",\"ENSE00001142847\")]\n"
      ],
      "outputs": [],
      "execution_count": null,
      "metadata": {
        "collapsed": true,
        "jupyter": {
          "source_hidden": false,
          "outputs_hidden": false
        },
        "nteract": {
          "transient": {
            "deleting": false
          }
        }
      }
    },
    {
      "cell_type": "code",
      "source": [
        "exonH.loc[[(\"A1BG-001\",\"ENSE00003509215\",5),\\\n",
        "           (\"A1CF-002\",\"ENSE00001142847\",10)]]\n",
        "exonH.loc[([\"A1BG-001\",\"A1CF-002\"],\\\n",
        "           [\"ENSE00003509215\",\"ENSE00001142847\"],\\\n",
        "           [5,10])]"
      ],
      "outputs": [],
      "execution_count": null,
      "metadata": {
        "collapsed": true,
        "jupyter": {
          "source_hidden": false,
          "outputs_hidden": false
        },
        "nteract": {
          "transient": {
            "deleting": false
          }
        }
      }
    },
    {
      "cell_type": "code",
      "source": [
        "pd.MultiIndex.from_product([[\"A1BG-001\",\"A1CF-002\"],\\\n",
        "                           [\"ENSE00003509215\",\"ENSE00001142847\"],\\\n",
        "                           [5,10]])"
      ],
      "outputs": [],
      "execution_count": null,
      "metadata": {
        "collapsed": true,
        "jupyter": {
          "source_hidden": false,
          "outputs_hidden": false
        },
        "nteract": {
          "transient": {
            "deleting": false
          }
        }
      }
    },
    {
      "cell_type": "code",
      "source": [
        "ConFict = pd.DataFrame({'V1':[1,2,3,4,5,6,7,8,9,10,11,12],\n",
        "                       'V2':[101,102,103,104,105,106,107,\n",
        "                             108,109,110,11,12]},\n",
        "                       index=pd.MultiIndex.from_product([\n",
        "                           ['a','b'],\n",
        "                           ['x','y','z' ],\n",
        "                           ['A','B']]\n",
        "                       ))"
      ],
      "outputs": [],
      "execution_count": null,
      "metadata": {
        "collapsed": true,
        "jupyter": {
          "source_hidden": false,
          "outputs_hidden": false
        },
        "nteract": {
          "transient": {
            "deleting": false
          }
        }
      }
    },
    {
      "cell_type": "code",
      "source": [
        "ConFict.loc[[('a','x','A'),('b','z','B')]]"
      ],
      "outputs": [],
      "execution_count": null,
      "metadata": {
        "collapsed": true,
        "jupyter": {
          "source_hidden": false,
          "outputs_hidden": false
        },
        "nteract": {
          "transient": {
            "deleting": false
          }
        }
      }
    },
    {
      "cell_type": "code",
      "source": [
        "ConFict.loc[(['a','b'],['x'],['A','B'])]"
      ],
      "outputs": [],
      "execution_count": null,
      "metadata": {
        "collapsed": true,
        "jupyter": {
          "source_hidden": false,
          "outputs_hidden": false
        },
        "nteract": {
          "transient": {
            "deleting": false
          }
        }
      }
    },
    {
      "cell_type": "markdown",
      "source": [
        "## Ensamblaje de datos"
      ],
      "metadata": {
        "nteract": {
          "transient": {
            "deleting": false
          }
        }
      }
    },
    {
      "cell_type": "code",
      "source": [
        "transH = pd.read_csv(paginaD+\"transcript_table.txt\",\\\n",
        "                   index_col=[0]).sort_index()"
      ],
      "outputs": [],
      "execution_count": null,
      "metadata": {
        "collapsed": true,
        "jupyter": {
          "source_hidden": false,
          "outputs_hidden": false
        },
        "nteract": {
          "transient": {
            "deleting": false
          }
        }
      }
    },
    {
      "cell_type": "code",
      "source": [
        "exonH.shape[0]\n"
      ],
      "outputs": [],
      "execution_count": null,
      "metadata": {
        "collapsed": true,
        "jupyter": {
          "source_hidden": false,
          "outputs_hidden": false
        },
        "nteract": {
          "transient": {
            "deleting": false
          }
        }
      }
    },
    {
      "cell_type": "code",
      "source": [
        "transH.shape[0]\n"
      ],
      "outputs": [],
      "execution_count": null,
      "metadata": {
        "collapsed": true,
        "jupyter": {
          "source_hidden": false,
          "outputs_hidden": false
        },
        "nteract": {
          "transient": {
            "deleting": false
          }
        }
      }
    },
    {
      "cell_type": "markdown",
      "source": [
        "### Ejemplo 5.14"
      ],
      "metadata": {
        "nteract": {
          "transient": {
            "deleting": false
          }
        }
      }
    },
    {
      "cell_type": "code",
      "source": [
        "ws1 = [pd.read_table('http://lib.stat.cmu.edu/datasets/wseries',\\\n",
        "                     skiprows=34, nrows=23-2*(k==3),\n",
        "                     sep='\\t\\s\\s|\\s\\s',\\\n",
        "                     header=None, usecols=range(2*k,2*k+2),\\\n",
        "                     names = ['Año','serie'])\\\n",
        "                     for k in range(4)]\n"
      ],
      "outputs": [],
      "execution_count": null,
      "metadata": {
        "collapsed": true,
        "jupyter": {
          "source_hidden": false,
          "outputs_hidden": false
        },
        "nteract": {
          "transient": {
            "deleting": false
          }
        }
      }
    },
    {
      "cell_type": "code",
      "source": [
        "ws = pd.concat(ws1, ignore_index=True)"
      ],
      "outputs": [],
      "execution_count": null,
      "metadata": {
        "collapsed": true,
        "jupyter": {
          "source_hidden": false,
          "outputs_hidden": false
        },
        "nteract": {
          "transient": {
            "deleting": false
          }
        }
      }
    },
    {
      "cell_type": "code",
      "source": [
        "ws3 = pd.concat(ws1, keys=['a','b','c','d'])"
      ],
      "outputs": [],
      "execution_count": null,
      "metadata": {
        "collapsed": true,
        "jupyter": {
          "source_hidden": false,
          "outputs_hidden": false
        },
        "nteract": {
          "transient": {
            "deleting": false
          }
        }
      }
    },
    {
      "cell_type": "markdown",
      "source": [
        "### Ejemplo 5.15"
      ],
      "metadata": {
        "nteract": {
          "transient": {
            "deleting": false
          }
        }
      }
    },
    {
      "cell_type": "code",
      "source": [
        "pobOCDE = pd.read_csv(paginaD+'PobTotal.csv',\\\n",
        "                      usecols = [0,5,6], index_col=[0])\n",
        "codigos = pd.read_csv(paginaD+'codigos.csv', usecols=[0,2],\\\n",
        "                      index_col=[1])"
      ],
      "outputs": [],
      "execution_count": null,
      "metadata": {
        "collapsed": true,
        "jupyter": {
          "source_hidden": false,
          "outputs_hidden": false
        },
        "nteract": {
          "transient": {
            "deleting": false
          }
        }
      }
    },
    {
      "cell_type": "code",
      "source": [
        "# Renombrar columnas\n",
        "codigos.columns=['Pais']\n",
        "pobOCDE.columns=['Year', 'Poblacion']\n",
        "# Renombrar índices\n",
        "codigos.index.names=['A3']\n",
        "pobOCDE.index.names=['A3']\n",
        "# Seleccionar población para el año 2018\n",
        "pobOCDE = pobOCDE[pobOCDE['Year']==2018]\n",
        "# Crear conjunto de datos con población y nombre completo del\n",
        "# país\n",
        "pobOCDEc = pd.concat([codigos,pobOCDE], join='inner', axis=1)\n",
        "# Cambiar índice de tres letras por nombre completo\n",
        "pobOCDEc = pobOCDEc.reset_index().set_index('Pais')\n",
        "# Concatenación información de SARS-CoV2 y población\n",
        "CovidPob = pd.concat([Covid,pobOCDEc], join='inner', axis=1)\n",
        "CovidPob['ReportadosPer'] = CovidPob['Confirmados']/\\\n",
        "                            CovidPob['Poblacion']"
      ],
      "outputs": [],
      "execution_count": null,
      "metadata": {
        "collapsed": true,
        "jupyter": {
          "source_hidden": false,
          "outputs_hidden": false
        },
        "nteract": {
          "transient": {
            "deleting": false
          }
        }
      }
    },
    {
      "cell_type": "code",
      "source": [
        "productos = pd.read_csv(paginaD+'productos.csv')\n",
        "factura = pd.read_csv(paginaD+'factura.csv')\n",
        "ventas = pd.read_csv(paginaD+'ventas.csv')\n",
        "# Revisar devolulaciones\n",
        "factura['Cancelacion'] = factura['NFactura'].apply(lambda x:\\\n",
        "                                      0 if x[0]=='C' else 1)"
      ],
      "outputs": [],
      "execution_count": null,
      "metadata": {
        "collapsed": true,
        "jupyter": {
          "source_hidden": false,
          "outputs_hidden": false
        },
        "nteract": {
          "transient": {
            "deleting": false
          }
        }
      }
    },
    {
      "cell_type": "code",
      "source": [
        "VentasT = ventas.merge(productos, how='left', on=['IDProducto',\n",
        "                       'Fecha'])"
      ],
      "outputs": [],
      "execution_count": null,
      "metadata": {
        "collapsed": true,
        "jupyter": {
          "source_hidden": false,
          "outputs_hidden": false
        },
        "nteract": {
          "transient": {
            "deleting": false
          }
        }
      }
    },
    {
      "cell_type": "code",
      "source": [
        "VentasT['Total'] = VentasT['Cantidad']*VentasT['Precio']\n",
        "TotalFact = VentasT.groupby(['NFactura'])['Total'].sum()"
      ],
      "outputs": [],
      "execution_count": null,
      "metadata": {
        "collapsed": true,
        "jupyter": {
          "source_hidden": false,
          "outputs_hidden": false
        },
        "nteract": {
          "transient": {
            "deleting": false
          }
        }
      }
    },
    {
      "cell_type": "code",
      "source": [
        "factura = factura.merge(TotalFact.to_frame(),\\\n",
        "                        left_on='NFactura',\\\n",
        "                        right_index=True)"
      ],
      "outputs": [],
      "execution_count": null,
      "metadata": {
        "collapsed": true,
        "jupyter": {
          "source_hidden": false,
          "outputs_hidden": false
        },
        "nteract": {
          "transient": {
            "deleting": false
          }
        }
      }
    },
    {
      "cell_type": "code",
      "source": [
        "FM = factura.groupby('Cliente')[['Total','Cancelacion']].sum()\n"
      ],
      "outputs": [],
      "execution_count": null,
      "metadata": {
        "collapsed": true,
        "jupyter": {
          "source_hidden": false,
          "outputs_hidden": false
        },
        "nteract": {
          "transient": {
            "deleting": false
          }
        }
      }
    },
    {
      "cell_type": "code",
      "source": [
        "FM = FM[FM['Cancelacion']>0]\n"
      ],
      "outputs": [],
      "execution_count": null,
      "metadata": {
        "collapsed": true,
        "jupyter": {
          "source_hidden": false,
          "outputs_hidden": false
        },
        "nteract": {
          "transient": {
            "deleting": false
          }
        }
      }
    },
    {
      "cell_type": "code",
      "source": [
        "R = np.max((factura['Fecha'])) - \\\n",
        "                     factura.groupby('Cliente')['Fecha'].max()"
      ],
      "outputs": [],
      "execution_count": null,
      "metadata": {
        "collapsed": true,
        "jupyter": {
          "source_hidden": false,
          "outputs_hidden": false
        },
        "nteract": {
          "transient": {
            "deleting": false
          }
        }
      }
    },
    {
      "cell_type": "code",
      "source": [
        "factura['FechaCor'] = factura['Fecha']*factura['Cancelacion']\n",
        "R = np.max((factura['FechaCor'])) - \\\n",
        "                     factura.groupby('Cliente')['FechaCor'].max()"
      ],
      "outputs": [],
      "execution_count": null,
      "metadata": {
        "collapsed": true,
        "jupyter": {
          "source_hidden": false,
          "outputs_hidden": false
        },
        "nteract": {
          "transient": {
            "deleting": false
          }
        }
      }
    },
    {
      "cell_type": "code",
      "source": [
        "RFM = (R.to_frame()).merge(FM, how ='right', left_index=True, \\\n",
        "                           right_index=True)\n",
        "RFM.columns=[\"Reciente\", \"Valor Monetario\", \"Frecuencia\"]\n"
      ],
      "outputs": [],
      "execution_count": null,
      "metadata": {
        "collapsed": true,
        "jupyter": {
          "source_hidden": false,
          "outputs_hidden": false
        },
        "nteract": {
          "transient": {
            "deleting": false
          }
        }
      }
    },
    {
      "cell_type": "code",
      "source": [
        "# Particionar variables y guardar las categorias como\n",
        "# valores enteros\n",
        "RFM['Rc'] = pd.qcut(RFM.iloc[:,0],4, labels=range(1,5)).\\\n",
        "            astype(int)\n",
        "RFM['Mc'] = pd.qcut(RFM.iloc[:,1],4, labels=range(1,5)).\\\n",
        "            astype(int)\n",
        "RFM['Fc'] = pd.qcut(RFM.iloc[:,2],2, labels=range(2,5,2)).\\\n",
        "            astype(int)"
      ],
      "outputs": [],
      "execution_count": null,
      "metadata": {
        "collapsed": true,
        "jupyter": {
          "source_hidden": false,
          "outputs_hidden": false
        },
        "nteract": {
          "transient": {
            "deleting": false
          }
        }
      }
    },
    {
      "cell_type": "code",
      "source": [
        "# Categoriza los individuos en 5 grupos\n",
        "RFM['Grupo'] = pd.cut(RFM['Rc']+RFM['Mc']+RFM['Fc'],\\\n",
        "                      [3,5.5,7.5,9.5,11.5,13],\\\n",
        "                      labels=range(1,6))"
      ],
      "outputs": [],
      "execution_count": null,
      "metadata": {
        "collapsed": true,
        "jupyter": {
          "source_hidden": false,
          "outputs_hidden": false
        },
        "nteract": {
          "transient": {
            "deleting": false
          }
        }
      }
    },
    {
      "cell_type": "markdown",
      "source": [
        "### Ejemplo 5.16"
      ],
      "metadata": {
        "nteract": {
          "transient": {
            "deleting": false
          }
        }
      }
    },
    {
      "cell_type": "code",
      "source": [
        "exonHTotal= (exonHTotal.to_frame()).merge(transH, \\\n",
        "                    left_index=True, right_index=True,\\\n",
        "                    how = 'inner')\n"
      ],
      "outputs": [],
      "execution_count": null,
      "metadata": {
        "collapsed": true,
        "jupyter": {
          "source_hidden": false,
          "outputs_hidden": false
        },
        "nteract": {
          "transient": {
            "deleting": false
          }
        }
      }
    },
    {
      "cell_type": "code",
      "source": [
        "sum(exonHTotal['longitud']!=exonHTotal['transcript_length'])"
      ],
      "outputs": [],
      "execution_count": null,
      "metadata": {
        "collapsed": true,
        "jupyter": {
          "source_hidden": false,
          "outputs_hidden": false
        },
        "nteract": {
          "transient": {
            "deleting": false
          }
        }
      }
    },
    {
      "cell_type": "code",
      "source": [
        "expresionH = pd.read_csv(paginaD+'expression_timeseries.txt',\\\n",
        "                         sep=\"\\t\", usecols = range(1,7),\n",
        "                         index_col=[0])\n"
      ],
      "outputs": [],
      "execution_count": null,
      "metadata": {
        "collapsed": true,
        "jupyter": {
          "source_hidden": false,
          "outputs_hidden": false
        },
        "nteract": {
          "transient": {
            "deleting": false
          }
        }
      }
    },
    {
      "cell_type": "code",
      "source": [
        "expresionH.head()"
      ],
      "outputs": [],
      "execution_count": null,
      "metadata": {
        "collapsed": true,
        "jupyter": {
          "source_hidden": false,
          "outputs_hidden": false
        },
        "nteract": {
          "transient": {
            "deleting": false
          }
        }
      }
    },
    {
      "cell_type": "code",
      "source": [
        "expresionH.tail()"
      ],
      "outputs": [],
      "execution_count": null,
      "metadata": {
        "collapsed": true,
        "jupyter": {
          "source_hidden": false,
          "outputs_hidden": false
        },
        "nteract": {
          "transient": {
            "deleting": false
          }
        }
      }
    },
    {
      "cell_type": "code",
      "source": [
        "expresionH = pd.read_csv(paginaD+'expression_timeseries.txt',\\\n",
        "                         sep=\"\\t\", usecols = range(1,7))\n",
        "expresionH = expresionH.dropna(subset=['0h','0.5h','3h', '6h',\\\n",
        "                                       '12h']).ffill()\n",
        "expresionH = expresionH.set_index('Gene Symbol').sort_index()"
      ],
      "outputs": [],
      "execution_count": null,
      "metadata": {
        "collapsed": true,
        "jupyter": {
          "source_hidden": false,
          "outputs_hidden": false
        },
        "nteract": {
          "transient": {
            "deleting": false
          }
        }
      }
    },
    {
      "cell_type": "code",
      "source": [
        "Var_expresionH = expresionH.var(axis=1)\n",
        "order_Var_expresionH = np.argsort(Var_expresionH)[-100:]"
      ],
      "outputs": [],
      "execution_count": null,
      "metadata": {
        "collapsed": true,
        "jupyter": {
          "source_hidden": false,
          "outputs_hidden": false
        },
        "nteract": {
          "transient": {
            "deleting": false
          }
        }
      }
    },
    {
      "cell_type": "code",
      "source": [
        "Cor_Top100 = expresionH.iloc[order_Var_expresionH,].T.corr()"
      ],
      "outputs": [],
      "execution_count": null,
      "metadata": {
        "collapsed": true,
        "jupyter": {
          "source_hidden": false,
          "outputs_hidden": false
        },
        "nteract": {
          "transient": {
            "deleting": false
          }
        }
      }
    }
  ],
  "metadata": {
    "kernel_info": {
      "name": "python3"
    },
    "language_info": {
      "name": "python3"
    },
    "kernelspec": {
      "argv": [
        "/opt/anaconda3/bin/python3",
        "-m",
        "ipykernel_launcher",
        "-f",
        "{connection_file}"
      ],
      "display_name": "Python 3",
      "language": "python",
      "name": "python3"
    },
    "nteract": {
      "version": "0.28.0"
    }
  },
  "nbformat": 4,
  "nbformat_minor": 0
}