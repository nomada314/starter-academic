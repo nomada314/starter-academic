{
 "cells": [
  {
   "cell_type": "markdown",
   "id": "f98ece0e-3333-4c82-8f7b-3b197257c8f3",
   "metadata": {},
   "source": [
    "### Gráficas para varias variables - Continuación\n",
    "\n",
    "#### Una variable cuantitativa vs. dos variables categóricas"
   ]
  },
  {
   "cell_type": "code",
   "execution_count": null,
   "id": "c938f80d-d20e-4bf2-8bb1-2623decec0e7",
   "metadata": {},
   "outputs": [],
   "source": [
    "import matplotlib.pyplot as plt \n",
    "import seaborn as sns\n",
    "\n",
    "# Cargando la base de datos tip de la librería seaborn\n",
    "tips = sns.load_dataset(\"tips\")\n",
    "tips.head()"
   ]
  },
  {
   "cell_type": "code",
   "execution_count": null,
   "id": "06487511-201a-49c3-bb0a-dcb3d3a58953",
   "metadata": {},
   "outputs": [],
   "source": [
    "# Dividir la base de datos tips por las categorías de la variable 'day'\n",
    "dias = tips.groupby('day')\n",
    "jueves = dias.get_group('Thur')\n",
    "viernes = dias.get_group('Fri')\n",
    "sabado = dias.get_group('Sat')\n",
    "domingo = dias.get_group('Sun')"
   ]
  },
  {
   "cell_type": "code",
   "execution_count": null,
   "id": "e1d9931c",
   "metadata": {},
   "outputs": [],
   "source": [
    "# Describir a los fumadores y no fumadores del día jueves\n",
    "juevesf = jueves.groupby('smoker')\n",
    "juevesf['total_bill'].describe()"
   ]
  },
  {
   "cell_type": "code",
   "execution_count": null,
   "id": "848b552e-bd95-4f2d-a0df-619e908be31c",
   "metadata": {},
   "outputs": [],
   "source": [
    "# Describir a los fumadores y no fumadores del día viernes\n",
    "viernesf=viernes.groupby('smoker')\n",
    "viernesf['total_bill'].describe()"
   ]
  },
  {
   "cell_type": "code",
   "execution_count": null,
   "id": "b6623e78-f9ae-4603-84a7-7c977fd0f844",
   "metadata": {},
   "outputs": [],
   "source": [
    "# Describir a los fumadores y no fumadores del día sábado\n",
    "sabadof=sabado.groupby('smoker')\n",
    "sabadof['total_bill'].describe()"
   ]
  },
  {
   "cell_type": "code",
   "execution_count": null,
   "id": "b01d0afd-dd7b-4c92-aa81-59d2540a5778",
   "metadata": {},
   "outputs": [],
   "source": [
    "# Describir a los fumadores y no fumadores del día domingo\n",
    "domingof=domingo.groupby('smoker')\n",
    "domingof['total_bill'].describe()"
   ]
  },
  {
   "cell_type": "code",
   "execution_count": null,
   "id": "5551f8a6-4f40-4d44-8b3f-818ba7279e37",
   "metadata": {},
   "outputs": [],
   "source": [
    "# Histogramas de una variable cuantitativa por las categorías de dos variables categóricas \n",
    "# Tomado de: https://seaborn.pydata.org/examples/faceted_histogram.html\n",
    "\n",
    "sns.set_theme(style=\"dark\")\n",
    "\n",
    "# Ignore las advertencias\n",
    "import warnings\n",
    "warnings.filterwarnings('ignore')\n",
    "\n",
    "sns.displot(\n",
    "    tips, x=\"total_bill\", col=\"day\", row=\"smoker\",\n",
    "    binwidth=3, height=3, facet_kws=dict(margin_titles=True),\n",
    ")\n",
    "plt.show()"
   ]
  },
  {
   "cell_type": "code",
   "execution_count": null,
   "id": "5764fee9-ef72-4bc9-a607-bd94e3352bcb",
   "metadata": {},
   "outputs": [],
   "source": [
    "# Diagramas de violín de una variable cuantitativa por las categorías de dos variables categóricas \n",
    "# Tomado de: https://seaborn.pydata.org/examples/grouped_violinplots.html\n",
    "\n",
    "sns.violinplot(data=tips, x=\"day\", y=\"total_bill\", hue=\"smoker\",\n",
    "               split=True, inner=\"quart\", fill=False,\n",
    "               palette={\"Yes\": \"g\", \"No\": \".35\"})\n",
    "plt.xlabel(\"Día\")\n",
    "plt.ylabel(\"Total de la cuenta\")\n",
    "plt.title(\"Diagramas de violín del total de la cuenta por día para fumadores y no fumadores\")\n",
    "plt.show()"
   ]
  },
  {
   "cell_type": "code",
   "execution_count": null,
   "id": "5eb43c51-ec3c-4e6f-9a55-0c392e47064b",
   "metadata": {},
   "outputs": [],
   "source": [
    "# Taller\n",
    "# Para la base de datos tips\n",
    "# Obtenga las estadísticas descriptivas de la propina por las variables categóricas sexo y tiempo\n",
    "# Obtenga los histogramas de la propina por las categorías de sexo y tiempo\n",
    "# Obtenga los diagramas de violín de la propina por las categorías de sexo y tiempo"
   ]
  },
  {
   "cell_type": "code",
   "execution_count": null,
   "id": "65d69786-c601-413a-be86-2c68f10d7731",
   "metadata": {},
   "outputs": [],
   "source": [
    "# Diagrama de dispersión con histogramas de las distribución marginal de cada variable\n",
    "# Tomado de: https://seaborn.pydata.org/examples/hexbin_marginals.html\n",
    "\n",
    "sns.set_theme(style=\"ticks\")\n",
    "sns.jointplot(x=\"total_bill\", y=\"tip\", data=tips, kind=\"hex\", color=\"#4CB391\")\n",
    "\n",
    "plt.xlabel(\"Total de la cuenta\")\n",
    "plt.ylabel(\"Propina\")\n",
    "plt.show()"
   ]
  },
  {
   "cell_type": "code",
   "execution_count": null,
   "id": "d89198c0-40bb-4d0c-9f87-4a81a7406d27",
   "metadata": {},
   "outputs": [],
   "source": [
    "sns.jointplot(x=\"total_bill\", y=\"tip\", data=tips, kind=\"hex\", color=\"#4CB391\")"
   ]
  },
  {
   "cell_type": "code",
   "execution_count": null,
   "id": "5610e8db-95ff-44ec-b074-83b19c3f1afc",
   "metadata": {},
   "outputs": [],
   "source": [
    "# Diagrama de dispersión con puntos de diferentes tamaños y colores para representar características de las variables\n",
    "# Tomado de: https://seaborn.pydata.org/examples/scatter_bubbles.html\n",
    "sns.set_theme(style=\"white\")\n",
    "\n",
    "# Cargar el conjunto de datos mpg\n",
    "mpg = sns.load_dataset(\"mpg\")\n",
    "mpg.info()"
   ]
  },
  {
   "cell_type": "code",
   "execution_count": null,
   "id": "df410517-5401-402c-a98d-fd2b37241af7",
   "metadata": {},
   "outputs": [],
   "source": [
    "mpg.describe()"
   ]
  },
  {
   "cell_type": "code",
   "execution_count": null,
   "id": "adcd9861-bf5c-4545-9ea7-507ce42354a6",
   "metadata": {},
   "outputs": [],
   "source": [
    "# Graficar potencia (horsepower) vs. millas por galón (mpg) con diferentes colores para el pais de origen y diferentes tamaños para el peso\n",
    "sns.relplot(x=\"horsepower\", y=\"mpg\", hue=\"origin\", size=\"weight\",\n",
    "            sizes=(40, 400), alpha=.5, palette=\"muted\",\n",
    "            height=6, data=mpg)\n",
    "plt.xlabel(\"Potencia\")\n",
    "plt.ylabel(\"MPG\")\n",
    "plt.title(\"Diagrama de dispersión de la potencia vs. el rendimiento de combustible de vehículos\")\n",
    "plt.show()"
   ]
  },
  {
   "cell_type": "code",
   "execution_count": null,
   "id": "6ba823f7-c670-41e4-94af-c4f1bff6d33f",
   "metadata": {},
   "outputs": [],
   "source": [
    "# Taller\n",
    "# Para la base de datos mpg:\n",
    "# 1. Diagrama de dispersión con histogramas de las distribución marginal de cada variable del peso vs. rendimiento del combustible \n",
    "# 2. Grafique diagrama de dispersión para el año del modelo de vehículo vs. la aceleración \n",
    "#    con diferentes colores para el número de cilindros y diferentes tamaños para el desplazamiento"
   ]
  }
 ],
 "metadata": {
  "kernelspec": {
   "display_name": "Python 3 (ipykernel)",
   "language": "python",
   "name": "python3"
  },
  "language_info": {
   "codemirror_mode": {
    "name": "ipython",
    "version": 3
   },
   "file_extension": ".py",
   "mimetype": "text/x-python",
   "name": "python",
   "nbconvert_exporter": "python",
   "pygments_lexer": "ipython3",
   "version": "3.9.19"
  }
 },
 "nbformat": 4,
 "nbformat_minor": 5
}
