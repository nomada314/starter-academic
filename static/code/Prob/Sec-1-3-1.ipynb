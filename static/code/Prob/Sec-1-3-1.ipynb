{
 "cells": [
  {
   "cell_type": "markdown",
   "id": "01714a2e",
   "metadata": {},
   "source": [
    "### Lectura de datos "
   ]
  },
  {
   "cell_type": "code",
   "execution_count": 2,
   "metadata": {},
   "outputs": [],
   "source": [
    "import pandas as pd"
   ]
  },
  {
   "cell_type": "code",
   "execution_count": 1,
   "id": "ef766798",
   "metadata": {},
   "outputs": [],
   "source": [
    "direccionPagina = 'https://alexrojas.netlify.app/Data/Bio/'"
   ]
  },
  {
   "cell_type": "code",
   "execution_count": 48,
   "id": "46a8dc6b",
   "metadata": {},
   "outputs": [],
   "source": [
    "##direccionPagina = '/Users/ar/Documents/Books/z/hbio/Datos/'"
   ]
  },
  {
   "cell_type": "code",
   "execution_count": 49,
   "id": "5e661b66",
   "metadata": {},
   "outputs": [
    {
     "data": {
      "text/plain": [
       "'/Users/ar/Documents/Books/z/hbio/Datos/Peckoltia2015.xls'"
      ]
     },
     "execution_count": 49,
     "metadata": {},
     "output_type": "execute_result"
    }
   ],
   "source": [
    "direccionPagina+'Peckoltia2015.xls'"
   ]
  },
  {
   "cell_type": "code",
   "execution_count": 50,
   "id": "0f23e182",
   "metadata": {},
   "outputs": [],
   "source": [
    "Peckoltia = pd.read_excel(direccionPagina+'Peckoltia2015.xls')"
   ]
  },
  {
   "cell_type": "markdown",
   "id": "32002e10",
   "metadata": {},
   "source": [
    "Código p.19"
   ]
  },
  {
   "cell_type": "code",
   "execution_count": null,
   "id": "060e4985",
   "metadata": {},
   "outputs": [],
   "source": [
    "Peckoltia.columns"
   ]
  },
  {
   "cell_type": "code",
   "execution_count": null,
   "id": "df05e237",
   "metadata": {},
   "outputs": [],
   "source": [
    "Peckoltia.head()"
   ]
  },
  {
   "cell_type": "code",
   "execution_count": null,
   "id": "03d807df",
   "metadata": {},
   "outputs": [],
   "source": [
    "Peckoltia.tail()"
   ]
  },
  {
   "cell_type": "markdown",
   "id": "c2c7d147",
   "metadata": {},
   "source": [
    "Código pág. 20"
   ]
  },
  {
   "cell_type": "code",
   "execution_count": 52,
   "id": "b539684a",
   "metadata": {},
   "outputs": [],
   "source": [
    "Peckoltia_1 = Peckoltia[['Dentary tooth cup L.','Premax. tooth cup L.','Predorsal L. 2','Head L. 2','Thorax L. 2']]"
   ]
  },
  {
   "cell_type": "markdown",
   "id": "66e2636a",
   "metadata": {},
   "source": [
    "También se puede utilizar `filter()`"
   ]
  },
  {
   "cell_type": "code",
   "execution_count": null,
   "id": "f4558b99",
   "metadata": {},
   "outputs": [],
   "source": [
    "Peckoltia.filter(items=['Dentary tooth cup L.','Premax. tooth cup L.','Predorsal L. 2','Head L. 2','Thorax L. 2'])"
   ]
  },
  {
   "cell_type": "markdown",
   "id": "8a079c9e",
   "metadata": {},
   "source": [
    "Código pág. 21"
   ]
  },
  {
   "cell_type": "code",
   "execution_count": 54,
   "id": "b88e8391",
   "metadata": {},
   "outputs": [],
   "source": [
    "Peckoltia_1 = Peckoltia_1.rename(columns={\"Dentary tooth cup L.\":\"DCopa\",\n",
    "                                          \"Premax. tooth cup L.\":\"PCopa\",\n",
    "                                          \"Thorax L. 2\":\"Torax\",\n",
    "                                          \"Predorsal L. 2\":\"Predorsal\",\n",
    "                                          \"Head L. 2\":\"Cabeza\"})"
   ]
  },
  {
   "cell_type": "code",
   "execution_count": null,
   "id": "50d2b786",
   "metadata": {},
   "outputs": [],
   "source": [
    "Peckoltia_1.columns"
   ]
  },
  {
   "cell_type": "code",
   "execution_count": null,
   "id": "84b307cf",
   "metadata": {},
   "outputs": [],
   "source": [
    "Peckoltia_1.head()"
   ]
  },
  {
   "cell_type": "code",
   "execution_count": 56,
   "id": "7ce5b02d",
   "metadata": {},
   "outputs": [],
   "source": [
    "Peckoltia_1 = Peckoltia_1.rename(columns={\"Predorsal\": \"PDorsal\"})"
   ]
  },
  {
   "cell_type": "code",
   "execution_count": 61,
   "id": "beb333e9",
   "metadata": {},
   "outputs": [],
   "source": [
    "Peck_Mouth = Peckoltia.loc[:, Peckoltia.columns.str.startswith('Mouth')]"
   ]
  },
  {
   "cell_type": "markdown",
   "id": "b4e3ced4",
   "metadata": {},
   "source": [
    "Código pág 22"
   ]
  },
  {
   "cell_type": "code",
   "execution_count": 32,
   "id": "dc03a585",
   "metadata": {},
   "outputs": [],
   "source": [
    "Peckoltia_2 = Peckoltia.loc[:,'Predorsal L. 2':'SL 2']"
   ]
  },
  {
   "cell_type": "code",
   "execution_count": 157,
   "id": "2b780cf1",
   "metadata": {},
   "outputs": [],
   "source": [
    "Peckoltia_3 = Peckoltia_1.loc[ Peckoltia_1.PDorsal < 42 ]"
   ]
  },
  {
   "cell_type": "code",
   "execution_count": 70,
   "id": "f5622a1b",
   "metadata": {},
   "outputs": [],
   "source": [
    "Peck_Mouth2 = Peck_Mouth.loc[Peck_Mouth['Mouth L.'] > Peck_Mouth['Mouth L.'].mean()]"
   ]
  },
  {
   "cell_type": "markdown",
   "id": "999bbc40",
   "metadata": {},
   "source": [
    "Código pág 23"
   ]
  },
  {
   "cell_type": "code",
   "execution_count": 73,
   "id": "7190c714",
   "metadata": {},
   "outputs": [],
   "source": [
    "Peckoltia_4 = Peckoltia_2.loc[(Peckoltia_2['Head L. 2'] > 46) | (Peckoltia_2['Head L. 2'] < 29) ]"
   ]
  },
  {
   "cell_type": "code",
   "execution_count": 99,
   "id": "fad29187",
   "metadata": {},
   "outputs": [],
   "source": [
    "Herradura = pd.read_fwf(direccionPagina+'Cangrejos.dat',\n",
    "                        colspecs=[(0,6),(7,11),(12,15),(16,25),(26,32),(33,39),(40,46)])"
   ]
  },
  {
   "cell_type": "code",
   "execution_count": null,
   "id": "21e2a343",
   "metadata": {},
   "outputs": [],
   "source": [
    "Herradura.iloc[10:20,:]"
   ]
  },
  {
   "cell_type": "code",
   "execution_count": null,
   "id": "126d8c94",
   "metadata": {},
   "outputs": [],
   "source": [
    "Herradura.iloc[Herradura['sat'].idxmax(),:]"
   ]
  },
  {
   "cell_type": "code",
   "execution_count": null,
   "id": "3faaf77f",
   "metadata": {},
   "outputs": [],
   "source": [
    "Herradura.iloc[Herradura['weight'].idxmin(),:]"
   ]
  },
  {
   "cell_type": "markdown",
   "id": "91436d1f",
   "metadata": {},
   "source": [
    "Código pág 24"
   ]
  },
  {
   "cell_type": "code",
   "execution_count": 158,
   "id": "40d5fcfa",
   "metadata": {},
   "outputs": [],
   "source": [
    "Peckoltia_3 = Peckoltia_3.reset_index()\n",
    "Peckoltia_3 = Peckoltia_3.drop('index',axis=1)"
   ]
  },
  {
   "cell_type": "code",
   "execution_count": 160,
   "id": "8ea449f3",
   "metadata": {},
   "outputs": [],
   "source": [
    "Peckoltia_3['Diferencia'] = Peckoltia_3['DCopa'] - Peckoltia_3['PCopa']"
   ]
  },
  {
   "cell_type": "code",
   "execution_count": 163,
   "id": "268f7c3b",
   "metadata": {},
   "outputs": [],
   "source": [
    "Peck_Mouth2 = Peck_Mouth2.reset_index()\n",
    "Peck_Mouth2 = Peck_Mouth2.drop('index',axis=1)"
   ]
  },
  {
   "cell_type": "code",
   "execution_count": 164,
   "id": "7300ea32",
   "metadata": {},
   "outputs": [],
   "source": [
    "Peck_Mouth2['Area'] = Peck_Mouth2['Mouth L.']*Peck_Mouth2['Mouth W.']"
   ]
  },
  {
   "cell_type": "code",
   "execution_count": null,
   "id": "a3b5322e",
   "metadata": {},
   "outputs": [],
   "source": [
    "Peckoltia_4 = Peckoltia_4.reset_index()\n",
    "Peckoltia_4 = Peckoltia_4.drop('index',axis=1)"
   ]
  },
  {
   "cell_type": "code",
   "execution_count": null,
   "id": "b4e604cd",
   "metadata": {},
   "outputs": [],
   "source": []
  },
  {
   "cell_type": "code",
   "execution_count": 169,
   "id": "f34233f0",
   "metadata": {},
   "outputs": [],
   "source": [
    "HerraduraOrd = Herradura.sort_values(['sat','weight'],ascending=[False,True])"
   ]
  },
  {
   "cell_type": "markdown",
   "id": "72ca2030",
   "metadata": {},
   "source": [
    "Código pág 25"
   ]
  },
  {
   "cell_type": "code",
   "execution_count": 234,
   "id": "c023a404",
   "metadata": {},
   "outputs": [],
   "source": [
    "Pecko_Final = Peckoltia[['Head L.', 'Head-dorsal L.','Head-eye L.', 'Thorax L.','Abdominal L.','Snout L.']]"
   ]
  },
  {
   "cell_type": "code",
   "execution_count": null,
   "id": "f5de28f8",
   "metadata": {},
   "outputs": [],
   "source": [
    "Pecko_Final['Grupo'] = (Peckoltia['Thorax L.'] > Peckoltia['Thorax L.'].median())*1 +  (Peckoltia['Abdominal L.'] > Peckoltia['Abdominal L.'].median())*1 - 1"
   ]
  },
  {
   "cell_type": "code",
   "execution_count": 236,
   "id": "bad3995f",
   "metadata": {},
   "outputs": [],
   "source": [
    "Pecko_Final = Pecko_Final[ Pecko_Final['Snout L.'] > Pecko_Final['Snout L.'].quantile(.25) ].drop(['Snout L.','Thorax L.','Abdominal L.'], axis=1).rename(columns={\"Head L.\":\"Cabeza\", \n",
    "                                                                                                                                                                   \"Head-dorsal L.\":\"CabezaDorzo\",\n",
    "                                                                                                                                                                   \"Head-eye L.\":\"CabezaOjo\"})"
   ]
  }
 ],
 "metadata": {
  "kernelspec": {
   "display_name": "base",
   "language": "python",
   "name": "python3"
  },
  "language_info": {
   "codemirror_mode": {
    "name": "ipython",
    "version": 3
   },
   "file_extension": ".py",
   "mimetype": "text/x-python",
   "name": "python",
   "nbconvert_exporter": "python",
   "pygments_lexer": "ipython3",
   "version": "3.9.19"
  }
 },
 "nbformat": 4,
 "nbformat_minor": 5
}
