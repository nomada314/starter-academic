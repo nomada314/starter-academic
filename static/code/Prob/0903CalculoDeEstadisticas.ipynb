{
 "cells": [
  {
   "cell_type": "markdown",
   "id": "d380f370-d275-420b-90e0-83aab08182c6",
   "metadata": {},
   "source": [
    "### Cálculo de Estadísticas Descriptivas Variables Cuantitativas:\n",
    "\n",
    "* Medidas de orden o posición:\n",
    "    - Resumen de los cinco números: Mínimo, Primer cuartil, Segundo cuartil o mediana, Tercer cuartil, Máximo (Mín, Q1, Q2, Q3, Máx)\n",
    "    - Deciles\n",
    "    - Percentiles"
   ]
  },
  {
   "cell_type": "code",
   "execution_count": null,
   "id": "7af2357a-5def-4c2c-a076-8cae69de8614",
   "metadata": {
    "scrolled": true
   },
   "outputs": [],
   "source": [
    "import pandas as pd\n",
    "direccionPagina = 'https://alexrojas.netlify.app/Data/Bio/'\n",
    "\n",
    "# Lectura de la base de datos\n",
    "Herradura = pd.read_fwf(direccionPagina+'Cangrejos.dat')\n",
    "\n",
    "# Resumen de los cinco números\n",
    "# Para la variable peso\n",
    "Herradura['weight'].quantile((0,0.25,0.5,0.75,1))"
   ]
  },
  {
   "cell_type": "code",
   "execution_count": null,
   "id": "8500325f-984e-4a89-805e-2522bd36a05f",
   "metadata": {},
   "outputs": [],
   "source": [
    "# Otra forma de especificar la secuencia de cuartiles: (0,0.25,0.5,0.75,1)\n",
    "import numpy as np\n",
    "np.arange(0, 1.01, 0.25)"
   ]
  },
  {
   "cell_type": "code",
   "execution_count": null,
   "id": "cbba7763-2d64-4690-8272-65fd64399d91",
   "metadata": {},
   "outputs": [],
   "source": [
    "# Resumen de los cinco números\n",
    "# Para todas las variables en Herradura\n",
    "Herradura.quantile(np.arange(0, 1.01, 0.25))"
   ]
  },
  {
   "cell_type": "code",
   "execution_count": null,
   "id": "3cc25576-f001-47a4-8673-ac49444526e4",
   "metadata": {},
   "outputs": [],
   "source": [
    "# Deciles\n",
    "# Secuencia para los deciles\n",
    "np.arange(0, 1.01, 0.1)"
   ]
  },
  {
   "cell_type": "code",
   "execution_count": null,
   "id": "68f3b7f8-0381-43e2-98af-318600a8d2ad",
   "metadata": {},
   "outputs": [],
   "source": [
    "# Deciles\n",
    "# Para la variable peso\n",
    "Herradura['weight'].quantile(np.arange(0, 1.01, 0.1))"
   ]
  },
  {
   "cell_type": "code",
   "execution_count": null,
   "id": "70c134bf-e02e-4c2d-bb2e-af6118cd4dcd",
   "metadata": {},
   "outputs": [],
   "source": [
    "# Percentiles\n",
    "# Secuencia para los percentiles\n",
    "np.arange(0, 1.01, 0.01)"
   ]
  },
  {
   "cell_type": "code",
   "execution_count": null,
   "id": "a8966f6e-6c15-41ba-a880-82db5633303a",
   "metadata": {},
   "outputs": [],
   "source": [
    "# Percentiles\n",
    "# Para la variable peso\n",
    "Herradura['weight'].quantile(np.arange(0, 1.01, 0.01))"
   ]
  },
  {
   "cell_type": "code",
   "execution_count": null,
   "id": "4b796498-7cbc-4ac0-a496-a69fe75b2e64",
   "metadata": {},
   "outputs": [],
   "source": [
    "# Taller\n",
    "# Obtenga e interprete el resumen de los cinco números para la variable width\n",
    "# Obtenga los deciles para la variable width, interprete el cuarto decil\n",
    "# Obtenga los percentiles para la variable width, interprete el percentil 65"
   ]
  },
  {
   "cell_type": "markdown",
   "id": "878c9cc7-e09b-4578-8032-95bfda3d49a7",
   "metadata": {},
   "source": [
    "### Cálculo de Estadísticas Descriptivas Variables Cuantitativas:\n",
    "\n",
    "* Medidas de centro o localización:\n",
    "    - Media aritmética: promedio de las observaciones de una variable cuantitativa \n",
    "    - Mediana: valor en el centro de las observaciones ordenadas del mínimo al máximo"
   ]
  },
  {
   "cell_type": "code",
   "execution_count": null,
   "id": "0bf90d65-163e-49a8-a125-eb6af876bf19",
   "metadata": {},
   "outputs": [],
   "source": [
    "# Media\n",
    "# Para la variable peso\n",
    "Herradura['weight'].mean()"
   ]
  },
  {
   "cell_type": "code",
   "execution_count": null,
   "id": "1a7952e4-5ac8-4dcb-acb6-0b742d4f23f6",
   "metadata": {},
   "outputs": [],
   "source": [
    "# Mediana o segundo cuartil (Q2)\n",
    "# Para la variable peso\n",
    "Herradura['weight'].median()"
   ]
  },
  {
   "cell_type": "code",
   "execution_count": null,
   "id": "8b77859a-b4a8-4790-9eb5-0d377d9df532",
   "metadata": {},
   "outputs": [],
   "source": [
    "# Taller\n",
    "# Obtenga e interprete la media de la variable width"
   ]
  },
  {
   "cell_type": "markdown",
   "id": "5c5b61d2-d03e-4714-9959-d13798c4dce3",
   "metadata": {},
   "source": [
    "### Cálculo de Estadísticas Descriptivas Variables Cuantitativas:\n",
    "\n",
    "* Medidas de variabilidad o dispersión:\n",
    "    - Varianza\n",
    "    - Desviación estándar\n",
    "    - Rango intercuartílico (Q3 - Q1)\n",
    "    - Rango (Máx -  Mín)         "
   ]
  },
  {
   "cell_type": "code",
   "execution_count": null,
   "id": "b9a63548-3ab5-4009-a734-6398a3d57717",
   "metadata": {},
   "outputs": [],
   "source": [
    "# Varianza (en unidades cuadradas)\n",
    "# Para la variable peso\n",
    "Herradura['weight'].var()"
   ]
  },
  {
   "cell_type": "code",
   "execution_count": null,
   "id": "d28ac2a4-539c-4c37-abc2-ec7a2e35c757",
   "metadata": {},
   "outputs": [],
   "source": [
    "# Desviación estándar (en las mismas unidades en las que se mide la variable a la cual se le está calculando la desviación estándar)\n",
    "# Para la variable peso\n",
    "Herradura['weight'].std()"
   ]
  },
  {
   "cell_type": "code",
   "execution_count": null,
   "id": "dc42b76c-cd6c-4bcf-a783-3ef4dbad7c02",
   "metadata": {},
   "outputs": [],
   "source": [
    "# La desviación estándar es la raíz cuadrada de la varianza\n",
    "np.sqrt(0.33295809712326924)"
   ]
  },
  {
   "cell_type": "code",
   "execution_count": null,
   "id": "62ce52c5-afb8-4e8a-aed0-8ffaa8dd6869",
   "metadata": {},
   "outputs": [],
   "source": [
    "# Rango intercuartílico\n",
    "Herradura['weight'].quantile(.75)-Herradura['weight'].quantile(.25)"
   ]
  },
  {
   "cell_type": "code",
   "execution_count": null,
   "id": "97894ddd-fb89-4a10-a695-00da74181bfb",
   "metadata": {},
   "outputs": [],
   "source": [
    "# Rango\n",
    "Herradura['weight'].max()-Herradura['weight'].min()"
   ]
  },
  {
   "cell_type": "code",
   "execution_count": null,
   "id": "e9829115-3596-4129-8d86-254607505634",
   "metadata": {},
   "outputs": [],
   "source": [
    "# Taller\n",
    "# Obtenga la desviación estándar, el rango intercuartílico y el rango de la variable width"
   ]
  }
 ],
 "metadata": {
  "kernelspec": {
   "display_name": "Python 3 (ipykernel)",
   "language": "python",
   "name": "python3"
  },
  "language_info": {
   "codemirror_mode": {
    "name": "ipython",
    "version": 3
   },
   "file_extension": ".py",
   "mimetype": "text/x-python",
   "name": "python",
   "nbconvert_exporter": "python",
   "pygments_lexer": "ipython3",
   "version": "3.9.19"
  }
 },
 "nbformat": 4,
 "nbformat_minor": 5
}
