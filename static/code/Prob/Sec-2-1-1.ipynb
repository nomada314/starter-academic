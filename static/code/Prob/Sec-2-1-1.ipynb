{
 "cells": [
  {
   "cell_type": "markdown",
   "id": "2739da9f-59f5-45ec-993c-ffcf6f3a6799",
   "metadata": {},
   "source": [
    "# Análisis Exploratorio de Datos \n",
    "(EDA: Exploratory Data Analysis)\n",
    "\n",
    "Objetivos del EDA son: \n",
    "* detectar errores de digitación o de manipulación de datos;\n",
    "* identificar observaciones anómalas;\n",
    "* descubrir estructuras subyacentes y revelar tendencias o patrones; y\n",
    "* desarrollar modelos estadísticos y chequear supuestos.\n",
    "\n",
    "Podemos explorar los datos de diferentes maneras. Los dos métodos principales de exploración son: \n",
    "* el cálculo de estadísticas descriptivas (buscan caracterizar la distribución de los datos),\n",
    "* y la generación de gráficas, (buscan revelar formas o patrones en los datos).\n",
    "\n",
    "Dentro de las gráficas más usadas están: diagramas de caja, histogramas y diagramas de dispersión.\n",
    "\n",
    "Es importante que nuestras gráficas sean efectivas y sigan los siguientes principios básicos: \n",
    "1. muestren los datos, \n",
    "1. representen magnitudes honestamente, \n",
    "1. muestren elementos gráficos claramente y minimicen confusión, y \n",
    "1. faciliten ver los patrones subyacentes en los datos."
   ]
  },
  {
   "cell_type": "markdown",
   "id": "c6ca736f-e61b-4d69-8e45-aa1f51d07891",
   "metadata": {},
   "source": [
    "## Gráficas"
   ]
  },
  {
   "cell_type": "markdown",
   "id": "2500d7a9-7431-43d8-96c7-048af6df6079",
   "metadata": {},
   "source": [
    "### Gráficas para una variable\n",
    "\n",
    "* Para variables categóricas: diagrama de barras\n",
    "* Para variables cuantitativas: el histograma, el diagrama de caja y bigotes"
   ]
  },
  {
   "cell_type": "markdown",
   "id": "252b773c-473f-4350-bd3a-fd796b56ea15",
   "metadata": {},
   "source": [
    "#### Diagrama de barras\n",
    "\n",
    "Ilustra la distribución de frecuencias de una variable categórica y tiene las siguientes características: \n",
    "* la base es el cero;\n",
    "* el espacio entre las barras enfatiza la altura; y\n",
    "* el orden de las categorías es usualmente determinado por su frecuencia, a menos que la variable categórica sea ordinal (Ejemplo Máximo Nivel de Educación Alcanzado, con categorías: analfabeta, primaria, secundaria, técnico, profesional, posgrado. Al graficar el diagrama de barras, las barras deben aparecer en este orden, pues hay un orden implícito de las categorías)."
   ]
  },
  {
   "cell_type": "code",
   "execution_count": null,
   "id": "bc4c8143-4092-4ddc-a00e-b07091338df9",
   "metadata": {},
   "outputs": [],
   "source": [
    "import numpy as np\n",
    "import matplotlib.pyplot as plt \n",
    "\n",
    "# Creando el conjunto de datos\n",
    "datos = {'Analfabeta':6, 'Primaria':15, 'Secundaria':137, 'Técnico':98, 'Profesional':89, 'Posgrado':24}\n",
    "nivel = list(datos.keys())\n",
    "frec = list(datos.values())\n",
    " \n",
    "fig = plt.figure(figsize = (10, 5))\n",
    "\n",
    "# Creando el diagrama de barras \n",
    "plt.bar(nivel, frec, color ='royalblue', width = 0.4)\n",
    "\n",
    "plt.xlabel(\"Máximo nivel de educación alcanzado\")\n",
    "plt.ylabel(\"Frecuencia\")\n",
    "plt.title(\"Distribución del máximo nivel de educación alcanzado de los empleados de una empresa\")\n",
    "plt.show()"
   ]
  },
  {
   "cell_type": "code",
   "execution_count": 3,
   "id": "922203b4",
   "metadata": {},
   "outputs": [],
   "source": [
    "# Importando la base de datos Herradura\n",
    "import pandas as pd\n",
    "direccionPagina = 'https://alexrojas.netlify.app/Data/Bio/'\n",
    "\n",
    "# Lectura de la base de datos\n",
    "Herradura = pd.read_fwf(direccionPagina+'Cangrejos.dat')"
   ]
  },
  {
   "cell_type": "code",
   "execution_count": null,
   "id": "e4256cb7-d647-42b0-9127-b99297a89216",
   "metadata": {},
   "outputs": [],
   "source": [
    "# Taller\n",
    "# Con la distribución de frecuencias de la variable 'y' de la base de datos Herradura, construya el diagrama de barras de dicha variable.\n",
    "# Escriba las etiquetas apropiadas para los ejes horizontal y vertical, y el título del diagrama de barras.\n",
    "# Identifique la moda de su variable."
   ]
  },
  {
   "cell_type": "markdown",
   "id": "491a1e97-d20e-416e-846e-e3158468ce52",
   "metadata": {},
   "source": [
    "#### Histograma\n",
    "\n",
    "Ilustra la distribución de una variable cuantitativa. Con un histograma podemos: \n",
    "* visualizar la forma de la distribución de los datos cuantitativos;\n",
    "* obtener una idea del centro de los datos, su dispersión e\n",
    "* identificar valores anómalos.\n",
    "\n",
    "Para construir un histograma:  \n",
    "* se divide el rango observado de la variable en intervalos consecutivos de igual longitud, y\n",
    "* se usan barras para presentar la frecuencia de observaciones en cada intervalo."
   ]
  },
  {
   "cell_type": "code",
   "execution_count": null,
   "id": "d1c47535",
   "metadata": {},
   "outputs": [],
   "source": [
    "Herradura['weight'].hist()\n",
    "plt.xlabel(\"Peso\")\n",
    "plt.ylabel(\"Frecuencia\")\n",
    "plt.title(\"Distribución del peso de cangrejos herradura\")\n",
    "plt.show()"
   ]
  },
  {
   "cell_type": "code",
   "execution_count": null,
   "id": "f41c0b12-2943-47f2-b7bc-0afc1e2dd7b6",
   "metadata": {},
   "outputs": [],
   "source": [
    "# Taller\n",
    "# Cuál es la forma de la distribución?\n",
    "# Observando el histograma, ubique la media y la mediana.\n",
    "# En qué intervalo está la moda? Ubique el extremo inferior y superior de dicho intervalo.\n",
    "# Hay valores anómalos?"
   ]
  },
  {
   "cell_type": "code",
   "execution_count": null,
   "id": "3af4609c-6188-43d3-9874-cd6184872647",
   "metadata": {},
   "outputs": [],
   "source": [
    "# Forma alterna de obtener el histograma\n",
    "Herradura.plot(y = 'weight',kind = 'hist')"
   ]
  },
  {
   "cell_type": "code",
   "execution_count": null,
   "id": "0344ca5b-c3f0-474b-b02e-b848a21793e6",
   "metadata": {},
   "outputs": [],
   "source": [
    "# Taller\n",
    "# Adicione etiquetas de los ejes horizontal y vertical, y el título de este histograma."
   ]
  },
  {
   "cell_type": "code",
   "execution_count": null,
   "id": "d2464b76-d6ea-4b83-b3c5-0325dafb9214",
   "metadata": {},
   "outputs": [],
   "source": [
    "Herradura['width'].hist()\n",
    "# Taller\n",
    "# Adicione etiquetas de los ejes horizontal y vertical, y el título de este histograma.\n",
    "# Cuál es la forma de la distribución?\n",
    "# Observando el histograma, ubique la media y la mediana.\n",
    "# En qué intervalo está la moda? Ubique el extremo inferior y superior de dicho intervalo.\n",
    "# Hay valores anómalos?"
   ]
  },
  {
   "cell_type": "markdown",
   "id": "8103d6d0-776e-4fb8-91de-1dfdf3f66f34",
   "metadata": {},
   "source": [
    "#### Diagrama de caja y bigotes\n",
    "\n",
    "También ilustra la distribución de una variable cuantitativa, representando gráficamente el resumen de los cinco números: Mín, Q1, Q2, Q3, Máx.\n",
    "\n",
    "Identifica observaciones anómalas usando una cota inferior y una cota superior:\n",
    "* Cota inferior: Q1 - 1.5(Q3-Q1)\n",
    "* Cota superior: Q3 + 1.5(Q3-Q1)\n",
    "\n",
    "Cualquier dato por debajo de la cota inferior o cualquier dato por encima de la cota superior es identificado como anómalo o inusual."
   ]
  },
  {
   "cell_type": "code",
   "execution_count": null,
   "id": "e89c5c80-f860-49ac-a071-47396fb05fe8",
   "metadata": {},
   "outputs": [],
   "source": [
    "Herradura.plot(y = 'weight',kind = 'box')\n",
    "plt.ylabel(\"Peso\")\n",
    "plt.title(\"Diagrama de caja del peso de cangrejos herradura\")\n",
    "plt.show()"
   ]
  },
  {
   "cell_type": "code",
   "execution_count": null,
   "id": "909bdf97-733d-424d-b72f-0b859e0f6034",
   "metadata": {},
   "outputs": [],
   "source": [
    "# Taller\n",
    "# Cuál es la forma de la distribución?\n",
    "# Observando el diagrama de caja, ubique el resumen de los cinco números.\n",
    "# Hay valores anómalos por debajo de la cota inferior?\n",
    "# Hay valores anómalos por encima de la cota superior?"
   ]
  },
  {
   "cell_type": "code",
   "execution_count": null,
   "id": "272c0393-3819-4989-b0c0-6dccd0db97d3",
   "metadata": {},
   "outputs": [],
   "source": [
    "# Taller\n",
    "# Obtenga el diagrama de caja de la variable width.\n",
    "# Adicione etiqueta del ejes vertical y el título.\n",
    "# Cuál es la forma de la distribución?\n",
    "# Observando el diagrama de caja, ubique el resumen de los cinco números.\n",
    "# Hay valores anómalos por debajo de la cota inferior?\n",
    "# Hay valores anómalos por encima de la cota superior?"
   ]
  },
  {
   "cell_type": "markdown",
   "id": "cba70fec-e329-415d-b68c-04c81d58d206",
   "metadata": {},
   "source": [
    "### Gráficas para varias variables"
   ]
  },
  {
   "cell_type": "markdown",
   "id": "26ad2b35-b311-4ad5-9826-9bdc97807f7a",
   "metadata": {},
   "source": [
    "#### Dos variables categóricas: Diagramas de barras agrupadas "
   ]
  },
  {
   "cell_type": "code",
   "execution_count": null,
   "id": "7f31c6e8-ee9d-435c-b592-51698c0a009f",
   "metadata": {},
   "outputs": [],
   "source": [
    "# Creación de la base de dato bd con las frecuencias de las variables \n",
    "# Nivel infección de los peces y Depredación por aves\n",
    "Si = [1,10,37] # Depredación por aves presente\n",
    "No = [49,35,9] # Depredación por aves ausente\n",
    "n=['Sin', 'Ligera', 'Alta'] # Nivel de infección de los peces\n",
    "bd = pd.DataFrame({'Sí': Si,'No': No}, index=n)\n",
    "bd"
   ]
  },
  {
   "cell_type": "code",
   "execution_count": null,
   "id": "5dbb4bf5-606a-4a06-bae8-bf12793e3403",
   "metadata": {},
   "outputs": [],
   "source": [
    "# Diagrama de barras agrupadas\n",
    "bd.plot.bar(rot=0)\n",
    "plt.xlabel(\"Nivel de infección de los peces\")\n",
    "plt.ylabel(\"Frecuencia\")\n",
    "plt.title(\"Distribución de la depredación por aves por nivel de infección\")\n",
    "plt.show()"
   ]
  },
  {
   "cell_type": "code",
   "execution_count": null,
   "id": "093ae2a5-f237-4255-b64a-7a2c287130a4",
   "metadata": {},
   "outputs": [],
   "source": [
    "# Taller\n",
    "# Cuál es la moda cuando la depredación por aves está presente?\n",
    "# Cuál es la moda cuando no hay depredación por aves?"
   ]
  },
  {
   "cell_type": "code",
   "execution_count": null,
   "id": "96350192-757f-47b2-9ae6-de4c1326cbd4",
   "metadata": {},
   "outputs": [],
   "source": [
    "# Diagrama de barras agrupadas para dos variables en la base de datos Herradura\n",
    "\n",
    "import seaborn as sns\n",
    "sns.countplot(data=Herradura, x='y', hue='color')\n",
    "plt.xlabel(\"y\")\n",
    "plt.ylabel(\"Frecuencia\")\n",
    "plt.title(\"Distribución de color por cada categoría de y\")\n",
    "plt.show()"
   ]
  },
  {
   "cell_type": "markdown",
   "id": "c52ede3a-cb45-4d21-9339-5171b0a945d1",
   "metadata": {},
   "source": [
    "#### Una variable cuantitativa vs. una variable categórica: Diagramas de cajas lado a lado"
   ]
  },
  {
   "cell_type": "code",
   "execution_count": null,
   "id": "7d35deed-bac4-47b7-ad17-559f998185d5",
   "metadata": {},
   "outputs": [],
   "source": [
    "Herradura.plot.box(column=\"weight\", by='y')\n",
    "plt.xlabel(\"Y\")\n",
    "plt.ylabel(\"Peso\")\n",
    "plt.title(\"Diagramas de caja del peso de cangrejos herradura por la variable Y\")\n",
    "plt.show()"
   ]
  },
  {
   "cell_type": "code",
   "execution_count": null,
   "id": "b97a0e60-c8d8-405e-8713-4e13dcdbb5ae",
   "metadata": {},
   "outputs": [],
   "source": [
    "# Taller\n",
    "# De los grupos de la variable Y, cuál tiene mayor centro?\n",
    "# Según el rango intercuartílico, cuál grupo tiene mayor variabilidad?\n",
    "# Hay observaciones anómalas en ambos grupos?"
   ]
  },
  {
   "cell_type": "code",
   "execution_count": 13,
   "id": "32895122-a1ee-4f8d-8f3b-4843b83dd767",
   "metadata": {},
   "outputs": [
    {
     "name": "stdout",
     "output_type": "stream",
     "text": [
      "<class 'pandas.core.frame.DataFrame'>\n",
      "RangeIndex: 244 entries, 0 to 243\n",
      "Data columns (total 7 columns):\n",
      " #   Column      Non-Null Count  Dtype   \n",
      "---  ------      --------------  -----   \n",
      " 0   total_bill  244 non-null    float64 \n",
      " 1   tip         244 non-null    float64 \n",
      " 2   sex         244 non-null    category\n",
      " 3   smoker      244 non-null    category\n",
      " 4   day         244 non-null    category\n",
      " 5   time        244 non-null    category\n",
      " 6   size        244 non-null    int64   \n",
      "dtypes: category(4), float64(2), int64(1)\n",
      "memory usage: 7.4 KB\n"
     ]
    }
   ],
   "source": [
    "# Usando la librería seaborn\n",
    "# Tomado de: https://seaborn.pydata.org/examples/grouped_boxplot.html\n",
    "\n",
    "import seaborn as sns\n",
    "sns.set_theme(style=\"ticks\", palette=\"pastel\")\n",
    "\n",
    "# Load the example tips dataset\n",
    "tips = sns.load_dataset(\"tips\")\n",
    "tips.info()"
   ]
  },
  {
   "cell_type": "code",
   "execution_count": null,
   "id": "e71f542a-fc3d-4814-86f4-d7cce10ae096",
   "metadata": {},
   "outputs": [],
   "source": [
    "# Draw a nested boxplot to show bills by day and time\n",
    "sns.boxplot(x=\"day\", y=\"total_bill\",\n",
    "            hue=\"smoker\", palette=[\"m\", \"g\"],\n",
    "            data=tips)\n",
    "sns.despine(offset=10, trim=True)\n",
    "plt.xlabel(\"Día\")\n",
    "plt.ylabel(\"Total de la cuenta\")\n",
    "plt.title(\"Distribución del total de cuenta pagado por clientes de un restaurante  desde el jueves hasta el domingo\")\n",
    "plt.show()"
   ]
  },
  {
   "cell_type": "code",
   "execution_count": null,
   "id": "0c7e906b-ab20-40c3-9251-94d3116753d1",
   "metadata": {},
   "outputs": [],
   "source": [
    "# Taller\n",
    "# Usando la mediana como medida para describir el centro de la distribución, \n",
    "# * cuál día es mayor el total de la cuenta para quienes no fuman?\n",
    "# * cuál día es mayor el total de la cuenta para quienes fuman?\n",
    "# Usando el rango como medida para describir la variabilidad de la distribución, \n",
    "# * cuándo se observa la mayor dispersión (día y grupo)?\n",
    "# * cuándo se observa la menor dispersión (día y grupo)?"
   ]
  },
  {
   "cell_type": "code",
   "execution_count": null,
   "id": "4527abcf-cb0a-4391-9147-42797ff19523",
   "metadata": {},
   "outputs": [],
   "source": [
    "# Taller\n",
    "# Obtenga los diagramas de caja lado a lado de la variable 'width' por la variable 'color'\n",
    "# De los grupos de la variable 'color', cuál tiene mayor centro?\n",
    "# Según el rango intercuartílico, cuál grupo tiene mayor variabilidad?\n",
    "# Hay observaciones anómalas en todos los grupos?"
   ]
  },
  {
   "cell_type": "markdown",
   "id": "9d79da70-1783-495b-bae7-799e025edca3",
   "metadata": {},
   "source": [
    "#### Dos variables cuantitativas: Diagrama de dispersión"
   ]
  },
  {
   "cell_type": "code",
   "execution_count": null,
   "id": "c06c1ff0-bfa1-4e7e-8997-df4722bfbda7",
   "metadata": {},
   "outputs": [],
   "source": [
    "Herradura.plot(x = 'weight',y='width',kind = 'scatter')\n",
    "plt.xlabel(\"Peso\")\n",
    "plt.ylabel(\"Ancho\")\n",
    "plt.title(\"Diagrama de dispersión del peso y ancho de cangrejos herradura\")\n",
    "plt.show()"
   ]
  },
  {
   "cell_type": "code",
   "execution_count": null,
   "id": "6858c827-adc3-49ea-b18b-728301563cec",
   "metadata": {},
   "outputs": [],
   "source": [
    "# Taller\n",
    "# Podría describirse la relación entre estas dos variable con un patrón lineal?\n",
    "# Hay observaciones inusuales?"
   ]
  },
  {
   "cell_type": "code",
   "execution_count": null,
   "id": "793ecf17-4f5e-457f-bf13-e31c92e36ba5",
   "metadata": {},
   "outputs": [],
   "source": [
    "# Usando la la librería seaborn\n",
    "# Otra forma de obtener un diagrama de dispersión con histogramas de las distribución marginal de cada variable, \n",
    "# y la recta de regresión lineal simple\n",
    "# Nuevamente usando la base de datos tip de la librería seaborn cargada en un ejemplo anterior\n",
    "# Tomado de: https://seaborn.pydata.org/examples/regression_marginals.html\n",
    "\n",
    "sns.set_theme(style=\"darkgrid\")\n",
    "g = sns.jointplot(x=\"total_bill\", y=\"tip\", data=tips,\n",
    "                  kind=\"reg\", truncate=False,\n",
    "                  xlim=(0, 60), ylim=(0, 12),\n",
    "                  color=\"m\", height=7)\n",
    "plt.xlabel(\"Total de la cuenta\")\n",
    "plt.ylabel(\"Propina\")\n",
    "plt.show()"
   ]
  },
  {
   "cell_type": "code",
   "execution_count": null,
   "id": "d20a013f-558c-4a8e-8797-dfc609f90d67",
   "metadata": {},
   "outputs": [],
   "source": [
    "# Taller\n",
    "# Obtenga el diagrama de dispersión para el peso y ancho de cangrejos herradura usando la librería seaborn"
   ]
  }
 ],
 "metadata": {
  "kernelspec": {
   "display_name": "Python 3 (ipykernel)",
   "language": "python",
   "name": "python3"
  },
  "language_info": {
   "codemirror_mode": {
    "name": "ipython",
    "version": 3
   },
   "file_extension": ".py",
   "mimetype": "text/x-python",
   "name": "python",
   "nbconvert_exporter": "python",
   "pygments_lexer": "ipython3",
   "version": "3.9.19"
  }
 },
 "nbformat": 4,
 "nbformat_minor": 5
}
